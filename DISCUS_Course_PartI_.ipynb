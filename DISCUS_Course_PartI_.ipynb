{
 "cells": [
  {
   "cell_type": "code",
   "execution_count": 6,
   "metadata": {},
   "outputs": [],
   "source": [
    "from IPython.display import display, Math, Latex\n",
    "import pystan\n",
    "import matplotlib.pyplot as plt\n",
    "import numpy as np"
   ]
  },
  {
   "cell_type": "markdown",
   "metadata": {},
   "source": [
    "![](./assets/DJlogo_alpha.png?raw=true)<!-- .element height=\"80%\" width=\"80%\" -->\n",
    "\n",
    "<http://www.DataJavelin.com>\n",
    "## Dr Peter Hurley"
   ]
  },
  {
   "cell_type": "markdown",
   "metadata": {},
   "source": [
    "<h1> What is Probability? </h1>\n",
    "<br >"
   ]
  },
  {
   "cell_type": "markdown",
   "metadata": {},
   "source": [
    "<h2> Idea: Probability is the Long Run Expected Number of Occurances of an Event </h2>  \n",
    "<br />\n",
    "<br />\n",
    "   \n",
    "<p> When you roll a fair dice once it will come up with only one answer, but after doing this many times each outcome will occur 1/6 of the time. So the probability of an outcome is 1/6. </p>\n",
    "<br />\n",
    "<p> Another way of saying this: The probability of an event A is equal to the number of ways in which A can occur divided by the number of ways in which any event can happen. </p>   \n",
    "<br />  \n",
    "<p> This then helps us answer questions such as, what is the probability of drawing three aces in a row from a shuffled deck of cards? </p> \n",
    "<br />  \n",
    "<p> There are four ways of picking the first ace, out of 52 possible outcomes, three ways of picking the first ace, out of 51 possible outcomes, and two ways of picking the first ace, out of 50 possible outcomes. Therefore:  </p> \n"
   ]
  },
  {
   "cell_type": "markdown",
   "metadata": {},
   "source": [
    "\\begin{equation}\n",
    "P(3\\ Aces) = \\frac{4}{52} * \\frac{3}{51} * \\frac{2}{50} \n",
    "\\end{equation}"
   ]
  },
  {
   "cell_type": "markdown",
   "metadata": {},
   "source": [
    "## ***QUESTION***\n",
    "<p> We can also ask more nuanced questions, such as what is the probability of event A given event B. For example, what is the probability of a card is a King given it is a face card? <p>\n",
    "<br >\n"
   ]
  },
  {
   "cell_type": "markdown",
   "metadata": {},
   "source": [
    "\\begin{equation}\n",
    "P(A\\ |\\ B) =  \\frac{P(A \\cap\tB)}{P(B)}\n",
    "\\end{equation}\n",
    "\n"
   ]
  },
  {
   "cell_type": "code",
   "execution_count": null,
   "metadata": {},
   "outputs": [],
   "source": []
  },
  {
   "cell_type": "markdown",
   "metadata": {},
   "source": [
    "## ***QUESTION***\n",
    "<p> Suppose a family has two children and suppose one of the children is a boy. What is the probability that both children are boys? <p>\n",
    "   "
   ]
  },
  {
   "cell_type": "code",
   "execution_count": null,
   "metadata": {},
   "outputs": [],
   "source": []
  },
  {
   "cell_type": "markdown",
   "metadata": {},
   "source": [
    "## ***QUESTION***\n",
    "\n",
    "The Monte Hall Problem:\n",
    "    \n",
    "Suppose you're on a game show, and you're given the choice of three doors: Behind one door is a car; behind the others, goats. You pick a door, say No. 1, and the host, who knows what's behind the doors, opens another door, say No. 3, which has a goat. He then says to you, \"Do you want to pick door No. 2?\" Is it to your advantage to switch your choice?\n"
   ]
  },
  {
   "cell_type": "code",
   "execution_count": null,
   "metadata": {},
   "outputs": [],
   "source": []
  },
  {
   "cell_type": "markdown",
   "metadata": {},
   "source": [
    "<p> We can manipulate these equations as in other areas of maths as we did above <p>\n",
    "<br >"
   ]
  },
  {
   "cell_type": "markdown",
   "metadata": {},
   "source": [
    "\\begin{equation}\n",
    "P(A\\ |\\ B) =  \\frac{P(A \\cap\tB)}{P(B)}\n",
    "\\end{equation}\n",
    "\n",
    "\\begin{equation}\n",
    "P(A \\cap\tB) = P(A) * P(B | A)\n",
    "\\end{equation}\n",
    "\n",
    "\\begin{equation}\n",
    "P(A \\cap\tB) = P(B) * P(A | B)\n",
    "\\end{equation}\n",
    "\n",
    "\\begin{equation}\n",
    "P(A) * P(B | A) = P(B) * P(A | B)\n",
    "\\end{equation}\n",
    "\n",
    "\\begin{equation}\n",
    "P(B | A) = \\frac{P(B) * P(A | B)}{P(A)}\n",
    "\\end{equation}"
   ]
  },
  {
   "cell_type": "markdown",
   "metadata": {},
   "source": [
    "<p> This last equation is Bayes Theorem, a source of heated debate among statisticians throughout the 20th century. </p>\n",
    "\n",
    "<br >\n",
    "\n",
    "<p> You may wonder what the fuss is as surely everyone accepts the above? </p>\n",
    "\n",
    "<br > \n",
    "\n",
    "<p> The issue comes in when we consider how far we can apply this equation. </p>"
   ]
  },
  {
   "cell_type": "markdown",
   "metadata": {},
   "source": [
    "## Probabilistic models \n",
    "* A model describes data that one could observe from a system\n",
    "* Uses probability theory to express all forms of uncertainty and noise associated with our model\n",
    "* Inverse probability (i.e. Bayes rule) to infer parameters, adapt models, make predictions and learn from data.\n",
    "\n",
    "\n",
    "<br >\n",
    "\n",
    "A good example of how Bayesian probability is more intuitive is to think of a situation such as the probability of rain, given the sky is cloudy, or that there is a sprinkler nearby. We use prior information to decide if it has rained, rather than just looking at the number of times it has rained in past.\n",
    "\n",
    "<br > \n",
    "\n",
    "Alternatively there can also be cases where a frequentist model breaks down. Suppose you are an astronomer looking at Saturn with an old telescope. Combining many measurements of the shape of the planet will not improve your result on resolving the shape. However given a model of how a planet with a ring or without you can test how well each model describes Saturn and infer the correct shape. \n",
    "\n",
    "<br>\n",
    "\n",
    "Other key cases are those in which you can never repeat the experiment, e.g. modelling how the universe grew since the big bang or the diversification of songbirds in the Andes. \n",
    "\n"
   ]
  },
  {
   "cell_type": "markdown",
   "metadata": {},
   "source": [
    "\\begin{equation}\n",
    "P(B | A) = \\frac{P(B) * P(A | B)}{P(A)}\n",
    "\\end{equation}\n",
    "\n",
    "$P(B | A)$ = Posterior\n",
    "\n",
    "$P(B)$ = Prior\n",
    "\n",
    "$P(A | B)$ = Likelihood\n",
    "\n",
    "$P(A)$ = Marginal Likelihood\n",
    "\n",
    "\n",
    "<br> \n",
    "\n",
    "<p> Transparent way of including model prior information <br > \n",
    "Gives full probability distribution\n",
    "</p>\n",
    "<br >\n",
    "\n",
    "<p> As the area under a posterior must equal one the marginal likelihood can be thought of as a normalistion value, and so the equation is often written as: </p>\n",
    "\n",
    "<br >\n",
    "\n",
    "\\begin{equation}\n",
    "P(B | A) \\propto P(B) * P(A | B)\n",
    "\\end{equation}\n",
    "\n",
    "<br >\n",
    "\n",
    "<p> In that case your posterior is your prior state of belief being updated by the new data. </p>\n",
    "\n",
    "<br > \n",
    "\n",
    "P(A) is actually an integral which is often difficult to solve, and must be done numerically,  motivates the need for MCMC type sampling. MCMC-like algorithms will generate points proportionally to the posterior values in each region. A simplistic way of thinking about this is a sampler generates some initial starting parameter values, calculates how well a model with these parameters explains the data and then generates a new set of parameter values nearby. If these new values are an improvement we always accept the new point and move there, otherwise we have a small chance we move there. The exact way in which this works varies by method.\n",
    "\n",
    "\n",
    "\n",
    "<p> So far so good, but there is a lot of debate and discomfort with how you choose an appropriate prior. However disagreements over what prior is used can at least be transparent, and the correct description of the current state of knowledge before new data is an important and necessary part of debate. </p>"
   ]
  },
  {
   "cell_type": "markdown",
   "metadata": {},
   "source": [
    "### Why bother with all this Bayesian probabilistic stuff?\n",
    "* Prior information help us extract more information from data"
   ]
  },
  {
   "cell_type": "markdown",
   "metadata": {},
   "source": [
    "### Prob. model of straight line\n",
    "$\\mathbf{y}=m\\mathbf{x}+c + \\epsilon$\n",
    "\n",
    "likelihood = $p(\\mathbf{y}|m,c,\\mathbf{x}) = \\mathcal{N}(m\\mathbf{x}+c,\\sigma^2)$\n",
    "\n",
    "prior = $p(m,c) = \\mathcal{N}(0,\\Sigma_p)$\n",
    "\n",
    "posterior (after a bit of maths)\n",
    "\n",
    "$p(m,c|\\mathbf{y},\\mathbf{x}) \\propto  \\mathcal{N}(\\sigma^{-2}(\\sigma^{-2}\\mathbf{x}\\mathbf{x}^T + \\Sigma_{p}^{-1})^{-1}\\mathbf{x}\\mathbf{y},$\n",
    "$\\sigma^{-2}\\mathbf{x}\\mathbf{x}^T + \\Sigma_{p}^{-1})$\n",
    "\n",
    "Simple example straight line, error only in y, simple gaussian prior\n",
    "\n",
    "What happens if intercept is positive? gets complicated fast"
   ]
  },
  {
   "cell_type": "markdown",
   "metadata": {},
   "source": [
    "![](./assets/line_1.png?raw=true)\n"
   ]
  },
  {
   "cell_type": "markdown",
   "metadata": {},
   "source": [
    "![](./assets/line_2.png?raw=true)\n"
   ]
  },
  {
   "cell_type": "markdown",
   "metadata": {},
   "source": [
    "Have prior information on intercept\n",
    "\n",
    "$c \\sim \\mathcal{N}(0.3,0.1)$"
   ]
  },
  {
   "cell_type": "markdown",
   "metadata": {},
   "source": [
    "![](./assets/line_3.png?raw=true)\n"
   ]
  },
  {
   "cell_type": "markdown",
   "metadata": {},
   "source": [
    "![](./assets/line_4.png?raw=true)\n",
    "\n"
   ]
  },
  {
   "cell_type": "markdown",
   "metadata": {},
   "source": [
    "\n",
    "* The uncertainty in our inferred model parameters contains information.\n",
    "\n",
    "* We do not want to just know the best answer, we\n",
    "want to know how uncertain we are.\n",
    "\n"
   ]
  },
  {
   "cell_type": "markdown",
   "metadata": {},
   "source": [
    "<img src=\"./assets/max_like.png\" alt=\"Drawing\" style=\"width: 600px;\"/>\n",
    "\n",
    "<img src=\"./assets/max_like_2.png\" alt=\"Drawing\" style=\"width: 600px;\"/>\n",
    "\n",
    "<img src=\"./assets/curved_posterior.png\" alt=\"Drawing\" style=\"width: 600px;\"/>\n",
    "\n",
    "<img src=\"./assets/curved_posterior_probx.png\" alt=\"Drawing\" style=\"width: 600px;\"/>\n",
    "\n",
    "<img src=\"./assets/curved_posterior_proby.png\" alt=\"Drawing\" style=\"width: 600px;\"/>\n",
    "\n"
   ]
  },
  {
   "cell_type": "markdown",
   "metadata": {},
   "source": [
    "### The mode is an inappropriate measure of Probability mass for High D!!!\n",
    "\n",
    "Think about mass $m$ and density $\\rho$"
   ]
  },
  {
   "cell_type": "markdown",
   "metadata": {},
   "source": [
    "$$\n",
    "m=\\int \\rho dV\n",
    "$$\n",
    "\n",
    "Probability works in a similar way:\n",
    "\n",
    "$$\n",
    "\\mathbb{E}_{\\pi}[f]=\\int_{Q}\\pi(q)f(q)dq\n",
    "$$\n",
    "\n",
    "To compute expectations efficiently with MCMC, we want to spend time in areas of the posterior that will contribute most to the expectation.\n",
    "\n",
    "There is a balance between density and volume.. but how does volume change with number of dimensions??"
   ]
  },
  {
   "cell_type": "markdown",
   "metadata": {},
   "source": [
    "### 1D"
   ]
  },
  {
   "cell_type": "code",
   "execution_count": 34,
   "metadata": {},
   "outputs": [
    {
     "name": "stderr",
     "output_type": "stream",
     "text": [
      "/opt/conda/lib/python3.7/site-packages/ipykernel_launcher.py:1: MatplotlibDeprecationWarning: \n",
      "The 'normed' kwarg was deprecated in Matplotlib 2.1 and will be removed in 3.1. Use 'density' instead.\n",
      "  \"\"\"Entry point for launching an IPython kernel.\n"
     ]
    },
    {
     "data": {
      "text/plain": [
       "<matplotlib.lines.Line2D at 0x7fe42b3685d0>"
      ]
     },
     "execution_count": 34,
     "metadata": {},
     "output_type": "execute_result"
    },
    {
     "data": {
      "image/png": "[encoded data removed]",
      "text/plain": [
       "<Figure size 432x288 with 1 Axes>"
      ]
     },
     "metadata": {
      "needs_background": "light"
     },
     "output_type": "display_data"
    }
   ],
   "source": [
    "plt.hist(np.random.normal(0,1,50000),bins=np.arange(-4.25,4.25,0.5),normed=True,alpha=0.5);\n",
    "plt.axvline(x=-0.25,c='r')\n",
    "plt.axvline(x=0.25,c='r')\n",
    "\n",
    "plt.axvline(x=1.25,c='g')\n",
    "plt.axvline(x=1.75,c='g')"
   ]
  },
  {
   "cell_type": "markdown",
   "metadata": {},
   "source": [
    "Where is most of the mass?\n",
    "\n",
    "Centre (red): $0.4 \\times 0.5 = 0.2$\n",
    "\n",
    "Edge (green): $0.13 \\times 0.5 = 0.065$"
   ]
  },
  {
   "cell_type": "code",
   "execution_count": 44,
   "metadata": {},
   "outputs": [
    {
     "name": "stderr",
     "output_type": "stream",
     "text": [
      "/opt/conda/lib/python3.7/site-packages/ipykernel_launcher.py:2: MatplotlibDeprecationWarning: The 'normed' parameter of hist2d() has been renamed 'density' since Matplotlib 3.1; support for the old name will be dropped in 3.3.\n",
      "  \n"
     ]
    },
    {
     "data": {
      "text/plain": [
       "<matplotlib.colorbar.Colorbar at 0x7fe4338595d0>"
      ]
     },
     "execution_count": 44,
     "metadata": {},
     "output_type": "execute_result"
    },
    {
     "data": {
      "image/png": "[encoded data removed]",
      "text/plain": [
       "<Figure size 432x288 with 2 Axes>"
      ]
     },
     "metadata": {
      "needs_background": "light"
     },
     "output_type": "display_data"
    }
   ],
   "source": [
    "points=np.random.multivariate_normal([0,0],[[1,0],[0,1]],50000)\n",
    "plt.hist2d(points[:,0],points[:,1],bins=np.arange(-4.25,4.25,0.5),normed=True);\n",
    "plt.colorbar()"
   ]
  },
  {
   "cell_type": "markdown",
   "metadata": {},
   "source": [
    "Where is most of the mass?\n",
    "\n",
    "Centre (red):  $0.15×0.5^2=0.0375$\n",
    "\n",
    "Edge (green):  $\\approx 0.08 \\times 0.5^2 \\times 16=0.32$"
   ]
  },
  {
   "cell_type": "markdown",
   "metadata": {},
   "source": [
    "To identify the regions of parameter space that dominate expectations we should instead consider the product of density and volume. In high dimensions, the volume behaves very differently from the density, resulting in a tension that pushes the important regions of parameter space away from the mode further out towards the tails of the distribution into a region known as the **typical set**. The move to a thin shell with higher dimensions is called the **concentration of measure**.\n",
    "\n",
    "For more info, see this [blog post](https://mc-stan.org/users/documentation/case-studies/curse-dims.html)"
   ]
  },
  {
   "cell_type": "markdown",
   "metadata": {},
   "source": [
    "### Using Uncertianty in decision making means making better decisions\n",
    "\n",
    "* Business consider risk when making decisions\n",
    "* Uncertianty should be considered when making decisions based on predictions\n",
    "\n",
    "See [Blog post on Bayesian Decision making](https://pdh21.github.io/jekyll/update/2019/06/06/FACYNation_BDT.html)\n",
    "\n"
   ]
  },
  {
   "cell_type": "markdown",
   "metadata": {},
   "source": [
    "## Calculating the Posterior\n",
    "* Analytical approximation (often impossible)\n",
    "* Grid approximation (not efficient)\n",
    "* Quadratic approximation (limited)\n",
    "* Markov chain Monte Carlo (intensive)"
   ]
  },
  {
   "cell_type": "markdown",
   "metadata": {},
   "source": [
    "### [Comparing other MCMC techniques](https://chi-feng.github.io/mcmc-demo/app.html?algorithm=NaiveNUTS&target=banana)\n",
    "e.g. \n",
    "* Metropolis Hastings\n",
    "* Gibbs\n",
    "* Standard NUTS\n",
    "* Nested Sampling\n"
   ]
  },
  {
   "cell_type": "markdown",
   "metadata": {},
   "source": [
    "<br >\n",
    "\n",
    "## Probabilistic Programming\n",
    "*Define probability models & solve automatically*\n",
    "\n",
    "<img src=\"./assets/probprog.png\" alt=\"Drawing\" style=\"width: 600px;\"/>\n",
    "\n",
    "[Good blog post on philosophy of Probabilistic Programming](https://www.oreilly.com/content/probabilistic-programming/)"
   ]
  },
  {
   "cell_type": "markdown",
   "metadata": {},
   "source": []
  },
  {
   "cell_type": "markdown",
   "metadata": {},
   "source": [
    "# Stan \n",
    "<img src=\"http://mc-stan.org/images/stan_logo.png\" alt=\"Drawing\" style=\"width: 100px;\"/>\n",
    "\n",
    "\n",
    "* Language for building probabilistic models\n",
    "* Algorithms for fitting probabilistic models\n",
    "* Interfaces for using probabilistic models \n",
    "\n"
   ]
  },
  {
   "cell_type": "markdown",
   "metadata": {},
   "source": [
    "### Other PPLs:\n",
    "* [Tensorflow probability](https://www.tensorflow.org/probability), formally Edward\n",
    "* [PyMC3 (soon PyMC4)](https://docs.pymc.io/)\n",
    "* [Pyro](http://docs.pyro.ai/en/stable/)"
   ]
  },
  {
   "cell_type": "markdown",
   "metadata": {},
   "source": [
    "## Language\n",
    "Specify probabilisitic model: the joint probability distribution function,\n",
    "\n",
    "$$p(\\theta,x)$$\n",
    "\n",
    "* $\\theta$ = parameters\n",
    "* $x$ = data\n",
    "* $p$ = model\n",
    "\n",
    "\n",
    "Stan is a language:\n",
    "* Statically typed, imperative\n",
    "* User can define programs using parameters, data and  $\\log p(\\theta,x)$\n",
    "* Any program can be written as long as $\\log p(\\theta,x)$ is differentiable\n",
    "\n",
    "\n",
    "Statically typed like C, C++. i.e. types declared at compile time rather than run time like Python.\n",
    "\n",
    "Imperative, you tell the compiler what you want to happen, step by step\n",
    "\n"
   ]
  },
  {
   "cell_type": "markdown",
   "metadata": {},
   "source": [
    "## Algorithms\n",
    "* Bayesian Inference: No U-Turn Hamiltonian Monte Carlo,\n",
    "    - $p(\\theta|x)$ approximated with $[\\theta^1,\\theta^2,..\\theta^N]$\n",
    "* Approximate Bayesian Inference: Variational Inference,\n",
    "    - $\\hat{p}(\\theta|x) \\approx q(\\hat{\\phi})$, where $\\phi = argmin_{\\phi} D_{KL}(q(\\theta|\\phi)||p(\\theta,x))$\n",
    "* Optimisation: Max \n",
    "    - $\\hat{\\theta} = argmax_{\\theta} p(\\theta,x)$\n",
    "    \n"
   ]
  },
  {
   "cell_type": "markdown",
   "metadata": {},
   "source": [
    "### The advantages of Stan and HMC"
   ]
  },
  {
   "cell_type": "markdown",
   "metadata": {},
   "source": [
    "* Uses gradient to traverse posterior more efficiently\n",
    "* It knows when there is a problem\n",
    "* Stan automatically tunes the parameters of HMC"
   ]
  },
  {
   "cell_type": "markdown",
   "metadata": {},
   "source": [
    "\n",
    "## Interfaces\n",
    "* CmdStan,PyStan,RStan\n",
    "* C++ API\n",
    "* C++ auto-diff library\n",
    "* Software built with Stan: RStanArm, brms, prophet"
   ]
  },
  {
   "cell_type": "markdown",
   "metadata": {},
   "source": [
    "## Writing a model in Stan\n",
    "* A Stan program is organized into a sequence of named blocks\n"
   ]
  },
  {
   "cell_type": "code",
   "execution_count": null,
   "metadata": {},
   "outputs": [],
   "source": [
    "example_model=\"\"\"functions {\n",
    "// ... function declarations and definitions ...\n",
    "}\n",
    "data {\n",
    "// ... declarations ...\n",
    "}\n",
    "transformed data {\n",
    "// ... declarations ... statements ...\n",
    "}\n",
    "parameters {\n",
    "// ... declarations ...\n",
    "} \n",
    "transformed parameters {\n",
    "// ... declarations ... statements ...}\n",
    "model {\n",
    "// ... declarations ... statements ...\n",
    "}\n",
    "generated quantities {\n",
    "// ... declarations ... statements ...\n",
    "}\n",
    "\"\"\""
   ]
  },
  {
   "cell_type": "markdown",
   "metadata": {},
   "source": [
    "### Other things to note:\n",
    "* Add comments with `\\\\`\n",
    "* Sampling statements with `~`\n",
    "* Can print output with `print()`\n",
    "* `;` at end of each line\n",
    "\n",
    "\n",
    "Documentation for Stan: https://mc-stan.org/docs/2_23/stan-users-guide/index.html\n"
   ]
  },
  {
   "cell_type": "markdown",
   "metadata": {},
   "source": [
    "<p> As an example lets consider a question of if a coin is fair or not. We begin with a flat prior and update it as we flip a coin. <p>\n",
    "\n",
    "\n",
    "\n"
   ]
  },
  {
   "cell_type": "code",
   "execution_count": 14,
   "metadata": {},
   "outputs": [
    {
     "name": "stderr",
     "output_type": "stream",
     "text": [
      "INFO:pystan:COMPILING THE C++ CODE FOR MODEL anon_model_78d0d6b6c8de42c1347d66aa8351d4cc NOW.\n"
     ]
    }
   ],
   "source": [
    "coin_model =\"\"\"// Inferring a Rate\n",
    "data { \n",
    "  int<lower=1> n; \n",
    "  int<lower=0> h;\n",
    "  real<lower=0.0,upper=1.0> mu;\n",
    "  real<lower=0.0,upper=10> sig;\n",
    "} \n",
    "parameters {\n",
    "  real<lower=0,upper=1> theta;\n",
    "} \n",
    "model {\n",
    "  // Prior Distribution for Rate Theta\n",
    "  theta ~ normal(mu, sig);\n",
    "  \n",
    "  // Observed Counts\n",
    "  h ~ binomial(n, theta);\n",
    "}\"\"\"\n",
    "\n",
    "sm=pystan.StanModel(model_code=coin_model)"
   ]
  },
  {
   "cell_type": "code",
   "execution_count": 11,
   "metadata": {},
   "outputs": [],
   "source": [
    "model_data={\n",
    "        'n':100,\n",
    "        'h':50,\n",
    "        'mu':0.5,\n",
    "        'sig':0.5\n",
    "}\n"
   ]
  },
  {
   "cell_type": "code",
   "execution_count": 12,
   "metadata": {},
   "outputs": [],
   "source": [
    "fit=sm.sampling(data=model_data,chains=4,iter=1000,seed=12329)"
   ]
  },
  {
   "cell_type": "code",
   "execution_count": 13,
   "metadata": {},
   "outputs": [
    {
     "name": "stdout",
     "output_type": "stream",
     "text": [
      "Inference for Stan model: anon_model_f5e1c19b675a739c99f9dc1c95646755.\n",
      "4 chains, each with iter=1000; warmup=500; thin=1; \n",
      "post-warmup draws per chain=500, total post-warmup draws=2000.\n",
      "\n",
      "        mean se_mean     sd   2.5%    25%    50%    75%  97.5%  n_eff   Rhat\n",
      "theta   0.53  2.1e-3   0.05   0.43   0.49   0.53   0.56   0.63    553    1.0\n",
      "lp__   -83.6    0.02   0.74 -85.72 -83.76 -83.31 -83.13 -83.08    925    1.0\n",
      "\n",
      "Samples were drawn using NUTS at Tue Jul 28 16:12:53 2020.\n",
      "For each parameter, n_eff is a crude measure of effective sample size,\n",
      "and Rhat is the potential scale reduction factor on split chains (at \n",
      "convergence, Rhat=1).\n"
     ]
    },
    {
     "data": {
      "image/png": "[encoded data removed]",
      "text/plain": [
       "<Figure size 432x288 with 1 Axes>"
      ]
     },
     "metadata": {
      "needs_background": "light"
     },
     "output_type": "display_data"
    },
    {
     "data": {
      "text/plain": [
       "<function matplotlib.pyplot.show(*args, **kw)>"
      ]
     },
     "execution_count": 13,
     "metadata": {},
     "output_type": "execute_result"
    },
    {
     "data": {
      "image/png": "[encoded data removed]",
      "text/plain": [
       "<Figure size 432x288 with 1 Axes>"
      ]
     },
     "metadata": {
      "needs_background": "light"
     },
     "output_type": "display_data"
    }
   ],
   "source": [
    "print(fit)\n",
    "\n",
    "plt.plot(np.arange(0, fit['theta'].size), fit['theta'])\n",
    "plt.xlabel('Sample')\n",
    "plt.ylabel('Theta')\n",
    "plt.show()\n",
    "\n",
    "plt.hist(fit['theta'])\n",
    "plt.xlabel('Theta')\n",
    "plt.ylabel('Number of Samples')\n",
    "plt.show"
   ]
  },
  {
   "cell_type": "code",
   "execution_count": 13,
   "metadata": {},
   "outputs": [
    {
     "name": "stdout",
     "output_type": "stream",
     "text": [
      "Inference for Stan model: anon_model_b8b89c3550faa3c1ec5a2fff83579316.\n",
      "4 chains, each with iter=1000; warmup=500; thin=1; \n",
      "post-warmup draws per chain=500, total post-warmup draws=2000.\n",
      "\n",
      "        mean se_mean     sd   2.5%    25%    50%    75%  97.5%  n_eff   Rhat\n",
      "theta   0.67  4.5e-3   0.13   0.39   0.58   0.67   0.76   0.89    820    1.0\n",
      "lp__   -8.15    0.03   0.73 -10.06  -8.31  -7.88  -7.69  -7.64    528   1.01\n",
      "\n",
      "Samples were drawn using NUTS at Tue Feb 25 10:35:00 2020.\n",
      "For each parameter, n_eff is a crude measure of effective sample size,\n",
      "and Rhat is the potential scale reduction factor on split chains (at \n",
      "convergence, Rhat=1).\n"
     ]
    },
    {
     "data": {
      "text/plain": [
       "<function matplotlib.pyplot.show(*args, **kw)>"
      ]
     },
     "execution_count": 13,
     "metadata": {},
     "output_type": "execute_result"
    },
    {
     "data": {
      "image/png": "[encoded data removed]",
      "text/plain": [
       "<Figure size 432x288 with 1 Axes>"
      ]
     },
     "metadata": {
      "needs_background": "light"
     },
     "output_type": "display_data"
    }
   ],
   "source": [
    "model_data={\n",
    "        'n':10,\n",
    "        'h':7,\n",
    "        'mu':0.5,\n",
    "        'sig':0.5\n",
    "}\n",
    "\n",
    "fit=sm.sampling(data=model_data,chains=4,iter=1000,seed=12329)\n",
    "\n",
    "print(fit)\n",
    "\n",
    "plt.hist(fit['theta'])\n",
    "plt.xlabel('Theta')\n",
    "plt.ylabel('Number of Samples')\n",
    "plt.show"
   ]
  },
  {
   "cell_type": "markdown",
   "metadata": {},
   "source": [
    "### Exercise:\n",
    "Using Python, generate some fake data for a coin tosses (i.e. ten flips) and fit the Stan model to sequential number of tosses and plot the results to see how the posterior changes as a function of the number of tosses."
   ]
  },
  {
   "cell_type": "code",
   "execution_count": null,
   "metadata": {},
   "outputs": [],
   "source": []
  },
  {
   "cell_type": "markdown",
   "metadata": {},
   "source": [
    "### The double coin toss game\n",
    "\n",
    "<p> Sometimes our data may come in a more complex form. For instance imagine if you have a game that involves coin tosses. You flip a coin until you flip a heads and a tails in a row. Your opponent flips a coin until they flip two heads in a row. All the information you have is who won each game. From this you want to understand if one coin was biased or not. </p>\n",
    "\n",
    "<p> As HT and HH in two coin flips are equally likely we may run the code above and see how close our theta value is to 0.5 <p>\n",
    "    \n",
    "<p> After 2,000 flips your opponent has won 747 times but you have won 1,253. </p>\n",
    "    \n",
    "    "
   ]
  },
  {
   "cell_type": "code",
   "execution_count": 8,
   "metadata": {},
   "outputs": [
    {
     "name": "stdout",
     "output_type": "stream",
     "text": [
      "Inference for Stan model: anon_model_b8b89c3550faa3c1ec5a2fff83579316.\n",
      "4 chains, each with iter=1000; warmup=500; thin=1; \n",
      "post-warmup draws per chain=500, total post-warmup draws=2000.\n",
      "\n",
      "        mean se_mean     sd   2.5%    25%    50%    75%  97.5%  n_eff   Rhat\n",
      "theta   0.37  4.1e-4   0.01   0.35   0.37   0.37   0.38   0.39    688   1.01\n",
      "lp__   -1323    0.02   0.71  -1325  -1323  -1323  -1323  -1323    977    1.0\n",
      "\n",
      "Samples were drawn using NUTS at Mon Feb 24 23:20:50 2020.\n",
      "For each parameter, n_eff is a crude measure of effective sample size,\n",
      "and Rhat is the potential scale reduction factor on split chains (at \n",
      "convergence, Rhat=1).\n"
     ]
    },
    {
     "data": {
      "text/plain": [
       "<function matplotlib.pyplot.show(*args, **kw)>"
      ]
     },
     "execution_count": 8,
     "metadata": {},
     "output_type": "execute_result"
    },
    {
     "data": {
      "image/png": "[encoded data removed]",
      "text/plain": [
       "<Figure size 432x288 with 1 Axes>"
      ]
     },
     "metadata": {
      "needs_background": "light"
     },
     "output_type": "display_data"
    }
   ],
   "source": [
    "model_data={\n",
    "        'n':2000,\n",
    "        'h':747,\n",
    "}\n",
    "\n",
    "fit=sm.sampling(data=model_data,chains=4,iter=1000,seed=12329)\n",
    "\n",
    "print(fit)\n",
    "\n",
    "plt.hist(fit['theta'])\n",
    "plt.xlabel('Theta')\n",
    "plt.ylabel('Number of Samples')\n",
    "plt.show"
   ]
  },
  {
   "cell_type": "markdown",
   "metadata": {},
   "source": [
    "<p> So can we conclusively say that our coin was biased? <p>\n",
    "    \n",
    "<p> Once again this is a case where we should have questioned our underlying assumptions, i.e. that both opponents had a 50% chance of winning. In future this will be covered in part by prior predictive checks which should give us intuition on how our model behaves. For now let us first generate data in the way described assuming both players have a fair coin </p>"
   ]
  },
  {
   "cell_type": "code",
   "execution_count": 14,
   "metadata": {},
   "outputs": [
    {
     "name": "stdout",
     "output_type": "stream",
     "text": [
      "752\n",
      "1248\n"
     ]
    }
   ],
   "source": [
    "bob_wins = 0\n",
    "alice_wins = 0\n",
    "\n",
    "for i in range(2000):\n",
    "    bob_seq = np.array([])\n",
    "    alice_seq = np.array([])\n",
    "    bob_poss_win = 0\n",
    "    alice_poss_win = 0\n",
    "    while bob_wins + alice_wins < 2000:\n",
    "        bob_seq = np.append(bob_seq, np.random.randint(2,size=1))\n",
    "        alice_seq = np.append(alice_seq, np.random.randint(2,size=1))\n",
    "        if np.prod((bob_seq.size > 1) and (bob_seq[-2:] == [0,0])):\n",
    "            bob_poss_win = 1\n",
    "        if np.prod((alice_seq.size > 1) and (alice_seq[-2:] == [0,1])):\n",
    "            alice_poss_win = 1\n",
    "        if (bob_poss_win == 1) and (alice_poss_win == 1):\n",
    "            bob_seq = np.array([])\n",
    "            alice_seq = np.array([])\n",
    "            bob_poss_win = 0\n",
    "            alice_poss_win = 0\n",
    "        elif bob_poss_win == 1:\n",
    "            bob_wins += 1 \n",
    "            bob_seq = np.array([])\n",
    "            alice_seq = np.array([])\n",
    "            bob_poss_win = 0\n",
    "        elif alice_poss_win == 1:\n",
    "            alice_wins += 1 \n",
    "            bob_seq = np.array([])\n",
    "            alice_seq = np.array([])\n",
    "            alice_poss_win = 0\n",
    "            \n",
    "print(bob_wins)\n",
    "print(alice_wins)\n"
   ]
  },
  {
   "cell_type": "markdown",
   "metadata": {},
   "source": [
    "<p> Understanding a problem deeply is important when building a model. Misunderstanding a model can lead to misinterpretation. In this case there is a subtle difference, if you need to flip HT and first flip a H you will not win if on the next coin toss you flip another H - but you are still only one flip away. If you need to flip HH and after one H toss flip a T, you are again two flips away from winning. </p>\n",
    "\n"
   ]
  },
  {
   "cell_type": "markdown",
   "metadata": {},
   "source": [
    "## Exercise:\n",
    "Create some fake data by sampling from a normal distribution with a known mean and standard deviation.\n",
    "\n",
    "Build a Stan model that fits that data and estimates the mean and standard deviation."
   ]
  },
  {
   "cell_type": "markdown",
   "metadata": {},
   "source": [
    "* What did you choose as a prior?\n",
    "* How did it affect your posterior?"
   ]
  },
  {
   "cell_type": "markdown",
   "metadata": {},
   "source": [
    "### Exercise:\n",
    "* Create some fake data for a linear regression model (i.e. $y=mx +c$)\n",
    "\n",
    "* Build a Stan model to fit the data\n",
    "\n",
    "* Look at results, compare posterior for slope and intercept"
   ]
  },
  {
   "cell_type": "markdown",
   "metadata": {},
   "source": [
    "### So far:\n",
    "* Introduced Probability theory\n",
    "* Provided motivation as to we want to use for science and machine learning\n",
    "* Stan is a PPL that we can use to build probabilisitic models\n",
    "* Can build some simple Stan models"
   ]
  },
  {
   "cell_type": "code",
   "execution_count": null,
   "metadata": {},
   "outputs": [],
   "source": []
  }
 ],
 "metadata": {
  "kernelspec": {
   "display_name": "Python 3",
   "language": "python",
   "name": "python3"
  },
  "language_info": {
   "codemirror_mode": {
    "name": "ipython",
    "version": 3
   },
   "file_extension": ".py",
   "mimetype": "text/x-python",
   "name": "python",
   "nbconvert_exporter": "python",
   "pygments_lexer": "ipython3",
   "version": "3.7.6"
  }
 },
 "nbformat": 4,
 "nbformat_minor": 2
}
