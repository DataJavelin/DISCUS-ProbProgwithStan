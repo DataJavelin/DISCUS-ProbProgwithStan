{
 "cells": [
  {
   "cell_type": "markdown",
   "metadata": {},
   "source": [
    "![](../assets/DJlogo_alpha.png?raw=true)<!-- .element height=\"80%\" width=\"80%\" -->\n"
   ]
  },
  {
   "cell_type": "markdown",
   "metadata": {},
   "source": [
    "# QR decomposition\n",
    "### Author: Peter Hurley\n",
    "This notebook will cover QR decomposition\n",
    "\n",
    "The covariates in regression models can often have strong correlations and these will propagate themselves in the posterior probability distribution.\n",
    "\n",
    "For example:\n",
    "* Polynomial regression\n",
    "* independent covariates (i.e. conditionally independent given unknown confounders)\n",
    "**Can you think of any examples?** \n",
    "\n",
    "These correlations can be problematic when computing the posterior. QR decomposition is a way of decorrelating the covariates such that the posterior can be accurately estimated. "
   ]
  },
  {
   "cell_type": "markdown",
   "metadata": {},
   "source": [
    "## Example: linear regression"
   ]
  },
  {
   "cell_type": "code",
   "execution_count": 1,
   "metadata": {},
   "outputs": [],
   "source": [
    "import pylab as plt\n",
    "import numpy as np\n",
    "import pystan\n",
    "import seaborn as sns\n",
    "import pandas as pd\n",
    "%matplotlib inline"
   ]
  },
  {
   "cell_type": "code",
   "execution_count": 2,
   "metadata": {},
   "outputs": [],
   "source": [
    "# set seed for numpy\n",
    "np.random.seed(29111986)"
   ]
  },
  {
   "cell_type": "code",
   "execution_count": 3,
   "metadata": {},
   "outputs": [],
   "source": [
    "N=5000\n",
    "x=np.random.normal(10,1,N)"
   ]
  },
  {
   "cell_type": "code",
   "execution_count": 4,
   "metadata": {},
   "outputs": [],
   "source": [
    "X=np.matrix(np.vstack((x,x**2))).T"
   ]
  },
  {
   "cell_type": "code",
   "execution_count": 34,
   "metadata": {},
   "outputs": [
    {
     "data": {
      "text/plain": [
       "(5000, 2)"
      ]
     },
     "execution_count": 34,
     "metadata": {},
     "output_type": "execute_result"
    }
   ],
   "source": [
    "X.shape"
   ]
  },
  {
   "cell_type": "code",
   "execution_count": 8,
   "metadata": {},
   "outputs": [],
   "source": [
    "M=2\n",
    "beta = np.matrix(np.array([2.5, -1])).T\n",
    "alpha = -0.275\n",
    "sigma = 0.8"
   ]
  },
  {
   "cell_type": "code",
   "execution_count": 6,
   "metadata": {},
   "outputs": [],
   "source": [
    "mu=X*beta+alpha\n",
    "y=np.random.normal(mu,sigma)"
   ]
  },
  {
   "cell_type": "markdown",
   "metadata": {},
   "source": [
    "Because the covariate $x$ is restricted to positive values, it is highly correlated with its square,\n",
    "\n"
   ]
  },
  {
   "cell_type": "code",
   "execution_count": 7,
   "metadata": {},
   "outputs": [
    {
     "data": {
      "text/plain": [
       "Text(0, 0.5, '$x^2$')"
      ]
     },
     "execution_count": 7,
     "metadata": {},
     "output_type": "execute_result"
    },
    {
     "data": {
      "image/png": "[encoded data removed]",
      "text/plain": [
       "<Figure size 432x288 with 1 Axes>"
      ]
     },
     "metadata": {
      "needs_background": "light"
     },
     "output_type": "display_data"
    }
   ],
   "source": [
    "plt.plot(X[:,0],X[:,1], 'o')\n",
    "plt.xlabel(r'$x$')\n",
    "plt.ylabel(r'$x^2$')"
   ]
  },
  {
   "cell_type": "markdown",
   "metadata": {},
   "source": [
    "With the data in hand we can attempt to fit a naive linear regression model with Stan, making sure we carry out all the normal diagnostic checks.\n",
    "\n"
   ]
  },
  {
   "cell_type": "code",
   "execution_count": 9,
   "metadata": {},
   "outputs": [],
   "source": [
    "model=\"\"\"data {\n",
    "  int<lower=1> N;\n",
    "  int<lower=1> M;\n",
    "  matrix[M, N] X;\n",
    "  vector[N] y;\n",
    "}\n",
    "\n",
    "parameters {\n",
    "  vector[M] beta;\n",
    "  real alpha;\n",
    "  real<lower=0> sigma;\n",
    "}\n",
    "\n",
    "model {\n",
    "  beta ~ normal(0, 10);\n",
    "  alpha ~ normal(0, 10);\n",
    "  sigma ~ cauchy(0, 10);\n",
    "\n",
    "  y ~ normal(X' * beta + alpha, sigma);\n",
    "}\n",
    "\"\"\""
   ]
  },
  {
   "cell_type": "code",
   "execution_count": 10,
   "metadata": {},
   "outputs": [
    {
     "name": "stderr",
     "output_type": "stream",
     "text": [
      "INFO:pystan:COMPILING THE C++ CODE FOR MODEL anon_model_68f3b2ebd9e5745c50f64e06132c7f89 NOW.\n"
     ]
    }
   ],
   "source": [
    "simp_model=pystan.StanModel(model_code=model)"
   ]
  },
  {
   "cell_type": "code",
   "execution_count": 11,
   "metadata": {},
   "outputs": [],
   "source": [
    "data={\n",
    "    'N':N,\n",
    "    'M':M,\n",
    "    'X':X.T,\n",
    "    'y':y.flatten()\n",
    "}"
   ]
  },
  {
   "cell_type": "code",
   "execution_count": 12,
   "metadata": {},
   "outputs": [
    {
     "name": "stderr",
     "output_type": "stream",
     "text": [
      "WARNING:pystan:154 of 2000 iterations saturated the maximum tree depth of 10 (7.7 %)\n",
      "WARNING:pystan:Run again with max_treedepth larger than 10 to avoid saturation\n"
     ]
    }
   ],
   "source": [
    "fit=simp_model.sampling(data=data,iter=1000,chains=4, seed=29111986)"
   ]
  },
  {
   "cell_type": "code",
   "execution_count": 13,
   "metadata": {},
   "outputs": [
    {
     "data": {
      "text/plain": [
       "Inference for Stan model: anon_model_68f3b2ebd9e5745c50f64e06132c7f89.\n",
       "4 chains, each with iter=1000; warmup=500; thin=1; \n",
       "post-warmup draws per chain=500, total post-warmup draws=2000.\n",
       "\n",
       "          mean se_mean     sd   2.5%    25%    50%    75%  97.5%  n_eff   Rhat\n",
       "beta[1]    2.5    0.01   0.15   2.21    2.4   2.51    2.6   2.82    192   1.02\n",
       "beta[2]   -1.0  5.6e-4 7.8e-3  -1.02   -1.0   -1.0  -0.99  -0.98    194   1.02\n",
       "alpha     -0.4    0.06   0.77  -2.01  -0.88  -0.43   0.08   1.08    191   1.02\n",
       "sigma      0.8  2.5e-4 7.4e-3   0.78   0.79    0.8    0.8   0.81    861    1.0\n",
       "lp__     -1378    0.05   1.27  -1381  -1378  -1377  -1377  -1376    607    1.0\n",
       "\n",
       "Samples were drawn using NUTS at Fri Jul 31 12:44:30 2020.\n",
       "For each parameter, n_eff is a crude measure of effective sample size,\n",
       "and Rhat is the potential scale reduction factor on split chains (at \n",
       "convergence, Rhat=1)."
      ]
     },
     "execution_count": 13,
     "metadata": {},
     "output_type": "execute_result"
    }
   ],
   "source": [
    "fit"
   ]
  },
  {
   "cell_type": "code",
   "execution_count": 14,
   "metadata": {},
   "outputs": [
    {
     "name": "stderr",
     "output_type": "stream",
     "text": [
      "WARNING:pystan:154 of 2000 iterations saturated the maximum tree depth of 10 (7.7 %)\n",
      "WARNING:pystan:Run again with max_treedepth larger than 10 to avoid saturation\n"
     ]
    },
    {
     "data": {
      "text/plain": [
       "{'n_eff': True,\n",
       " 'Rhat': True,\n",
       " 'divergence': True,\n",
       " 'treedepth': False,\n",
       " 'energy': True}"
      ]
     },
     "execution_count": 14,
     "metadata": {},
     "output_type": "execute_result"
    }
   ],
   "source": [
    "pystan.diagnostics.check_hmc_diagnostics(fit)"
   ]
  },
  {
   "cell_type": "markdown",
   "metadata": {},
   "source": [
    "There are some iterations that are saturating the maximum tree depth, indicating there could be a bit of a problem."
   ]
  },
  {
   "cell_type": "code",
   "execution_count": 15,
   "metadata": {},
   "outputs": [],
   "source": [
    "samp_params=fit.get_sampler_params(inc_warmup=False)"
   ]
  },
  {
   "cell_type": "code",
   "execution_count": 16,
   "metadata": {},
   "outputs": [
    {
     "data": {
      "image/png": "[encoded data removed]",
      "text/plain": [
       "<Figure size 432x288 with 1 Axes>"
      ]
     },
     "metadata": {
      "needs_background": "light"
     },
     "output_type": "display_data"
    }
   ],
   "source": [
    "for i in range(0,4):\n",
    "    plt.hist(samp_params[i]['treedepth__'],alpha=0.3)\n",
    "plt.xlabel('Max tree depth');"
   ]
  },
  {
   "cell_type": "code",
   "execution_count": 17,
   "metadata": {},
   "outputs": [
    {
     "name": "stdout",
     "output_type": "stream",
     "text": [
      "Number of gradient evaluations for chain 1 186106.0\n",
      "Number of gradient evaluations for chain 2 147342.0\n",
      "Number of gradient evaluations for chain 3 159764.0\n",
      "Number of gradient evaluations for chain 4 232252.0\n"
     ]
    }
   ],
   "source": [
    "for i in range(0,4):\n",
    "    print('Number of gradient evaluations for chain '+str(i+1),samp_params[i]['n_leapfrog__'].sum())"
   ]
  },
  {
   "cell_type": "markdown",
   "metadata": {},
   "source": [
    "Even a few prematurely terminating trajectories can hinder performance, and may even indicate potential problems with adaptation.\n",
    "\n",
    "To maximize performance and avoid any potential issues we refit with a larger tree depth threshold,"
   ]
  },
  {
   "cell_type": "code",
   "execution_count": 18,
   "metadata": {},
   "outputs": [],
   "source": [
    "fit=simp_model.sampling(data=data,iter=1000,chains=4, control=dict(max_treedepth=15),seed=29111986, verbose=True)"
   ]
  },
  {
   "cell_type": "code",
   "execution_count": 19,
   "metadata": {},
   "outputs": [
    {
     "data": {
      "text/plain": [
       "Inference for Stan model: anon_model_68f3b2ebd9e5745c50f64e06132c7f89.\n",
       "4 chains, each with iter=1000; warmup=500; thin=1; \n",
       "post-warmup draws per chain=500, total post-warmup draws=2000.\n",
       "\n",
       "          mean se_mean     sd   2.5%    25%    50%    75%  97.5%  n_eff   Rhat\n",
       "beta[1]   2.53  7.9e-3   0.16   2.21   2.43   2.54   2.64   2.84    405    1.0\n",
       "beta[2]   -1.0  3.9e-4 7.9e-3  -1.02  -1.01   -1.0   -1.0  -0.98    408    1.0\n",
       "alpha    -0.57    0.04   0.79  -2.12  -1.11  -0.57  -0.06    1.0    405    1.0\n",
       "sigma      0.8  3.0e-4 8.1e-3   0.78   0.79    0.8    0.8   0.82    700    1.0\n",
       "lp__     -1378    0.05   1.32  -1381  -1378  -1377  -1377  -1376    702    1.0\n",
       "\n",
       "Samples were drawn using NUTS at Fri Jul 31 12:55:55 2020.\n",
       "For each parameter, n_eff is a crude measure of effective sample size,\n",
       "and Rhat is the potential scale reduction factor on split chains (at \n",
       "convergence, Rhat=1)."
      ]
     },
     "execution_count": 19,
     "metadata": {},
     "output_type": "execute_result"
    }
   ],
   "source": [
    "fit"
   ]
  },
  {
   "cell_type": "code",
   "execution_count": 20,
   "metadata": {},
   "outputs": [
    {
     "data": {
      "text/plain": [
       "{'n_eff': True,\n",
       " 'Rhat': True,\n",
       " 'divergence': True,\n",
       " 'treedepth': True,\n",
       " 'energy': True}"
      ]
     },
     "execution_count": 20,
     "metadata": {},
     "output_type": "execute_result"
    }
   ],
   "source": [
    "pystan.diagnostics.check_hmc_diagnostics(fit)"
   ]
  },
  {
   "cell_type": "markdown",
   "metadata": {},
   "source": [
    "There is still an issue with the tree depth being maxed and chains behaving erraticly, as can be seen in figure below"
   ]
  },
  {
   "cell_type": "code",
   "execution_count": 21,
   "metadata": {},
   "outputs": [],
   "source": [
    "samp_params=fit.get_sampler_params(inc_warmup=False)"
   ]
  },
  {
   "cell_type": "code",
   "execution_count": 22,
   "metadata": {},
   "outputs": [
    {
     "data": {
      "image/png": "[encoded data removed]",
      "text/plain": [
       "<Figure size 432x288 with 1 Axes>"
      ]
     },
     "metadata": {
      "needs_background": "light"
     },
     "output_type": "display_data"
    }
   ],
   "source": [
    "for i in range(0,4):\n",
    "    plt.hist(samp_params[i]['treedepth__'],alpha=0.3)\n",
    "plt.xlabel('Max tree depth');"
   ]
  },
  {
   "cell_type": "code",
   "execution_count": 23,
   "metadata": {},
   "outputs": [
    {
     "name": "stdout",
     "output_type": "stream",
     "text": [
      "Number of gradient evaluations for chain 1 198662.0\n",
      "Number of gradient evaluations for chain 2 174184.0\n",
      "Number of gradient evaluations for chain 3 159608.0\n",
      "Number of gradient evaluations for chain 4 200862.0\n"
     ]
    }
   ],
   "source": [
    "for i in range(0,4):\n",
    "    print('Number of gradient evaluations for chain '+str(i+1),samp_params[i]['n_leapfrog__'].sum())"
   ]
  },
  {
   "cell_type": "markdown",
   "metadata": {},
   "source": [
    "## The details of QR decomposition"
   ]
  },
  {
   "cell_type": "markdown",
   "metadata": {},
   "source": [
    "The correlation between the covariates ($x$ and $x^2$ in our example) is high and this causes a very tight correlation in the  coefficients in the linear model, which in turn leads to a posterior which is challenging to explore. QR helps elleviate this problem by reducing the correlation between the covariates. It arises in the analytic maximum likelihood and conjugate Bayesian treatment of linear regression, although here it will be applicable regardless of the choice of priors and for any general linear model."
   ]
  },
  {
   "cell_type": "code",
   "execution_count": 24,
   "metadata": {},
   "outputs": [
    {
     "name": "stderr",
     "output_type": "stream",
     "text": [
      "/opt/conda/lib/python3.7/site-packages/seaborn/distributions.py:423: UserWarning: The following kwargs were not used by contour: 'normed'\n",
      "  cset = contour_func(xx, yy, z, n_levels, **kwargs)\n",
      "/opt/conda/lib/python3.7/site-packages/seaborn/distributions.py:423: UserWarning: The following kwargs were not used by contour: 'normed'\n",
      "  cset = contour_func(xx, yy, z, n_levels, **kwargs)\n",
      "/opt/conda/lib/python3.7/site-packages/seaborn/distributions.py:423: UserWarning: The following kwargs were not used by contour: 'normed'\n",
      "  cset = contour_func(xx, yy, z, n_levels, **kwargs)\n"
     ]
    },
    {
     "data": {
      "image/png": "[encoded data removed]",
      "text/plain": [
       "<Figure size 540x540 with 12 Axes>"
      ]
     },
     "metadata": {
      "needs_background": "light"
     },
     "output_type": "display_data"
    }
   ],
   "source": [
    "g=sns.PairGrid(pd.DataFrame(np.hstack((fit['beta'],fit['alpha'].reshape(2000,1))),columns=['Beta_1','Beta_2','alpha']))\n",
    "g.map_lower(sns.kdeplot,shade=True,shade_lowest=False,cmap=\"Reds_d\",alpha=0.3,n_levels=10,normed=True)\n",
    "g.map_diag(plt.hist,color='red',alpha=0.5)\n",
    "for i in range(0,3):\n",
    "    for j in range(1,3):\n",
    "        if (j>i) and (j<2):\n",
    "            g.axes[j,i].axvline(beta[i,0],c='green')\n",
    "            g.axes[j,i].axhline(beta[j,0],c='green')\n",
    "        if j ==2:\n",
    "            g.axes[j,i].axhline(alpha,c='green')\n",
    "            if i < 2:\n",
    "                g.axes[j,i].axvline(beta[i,0],c='green')\n",
    "    if i<2:\n",
    "        g.axes[i,i].axvline(beta[i,0],c='green')\n",
    "    if i==2:\n",
    "        g.axes[i,i].axvline(alpha,c='green')"
   ]
  },
  {
   "cell_type": "markdown",
   "metadata": {},
   "source": [
    "## Maths derivation \n",
    "\n",
    "The principle is to decompose a rectangular $N \\times M$ matrix, A such that:\n",
    "\n",
    "$$\\mathbf{A} = \\mathbf{Q} \\cdot \\mathbf{R} $$\n",
    " * N = number of data points\n",
    " * M = number of covariates\n",
    " * $\\mathbf{Q}$ is $N \\times M$ orthogonal matrix\n",
    " * $\\mathbf{R}$ is an $M \\times M$ upper triangular matrix"
   ]
  },
  {
   "cell_type": "markdown",
   "metadata": {},
   "source": [
    "![](./assets/EngMath_Matrix_QRDecomposition_02.png)"
   ]
  },
  {
   "cell_type": "markdown",
   "metadata": {},
   "source": [
    "Our linear regression model is:\n",
    "    $$ \\mathbf{\\mu} = \\mathbf{X}^{T} \\cdot \\boldsymbol{\\beta} + \\alpha$$\n",
    "    \n",
    "Apply QR decomposition to $ \\mathbf{X}^{T}$ (the matrix which has correlated covariates):\n",
    "$$\\mathbf{\\mu} = \\mathbf{Q} \\cdot \\mathbf{R} \\cdot \\boldsymbol{\\beta} + \\alpha$$\n",
    "$$\\mathbf{\\mu} = \\mathbf{Q} \\cdot (\\mathbf{R} \\cdot \\boldsymbol{\\beta}) + \\alpha$$\n",
    "$$\\mathbf{\\mu} = \\mathbf{Q} \\cdot \\widetilde{\\boldsymbol{\\beta}} + \\alpha$$\n",
    "\n",
    "It is also a good idea to normalise $\\mathbf{Q}$ and $\\mathbf{R}$ so to equalise the scales of the posterior.\n",
    "\n",
    "$$\\mathbf{Q^*}=\\mathbf{Q}\\sqrt{N - 1}$$\n",
    "$$\\mathbf{R^\\ast} = \\frac{1}{\\sqrt{N - 1}} \\mathbf{R}$$\n",
    "We treat $\\widetilde{\\boldsymbol{\\beta}}$ as our parameter in the Stan model. Because $\\mathbf{Q}$ is orthogonal, its covariates are no longer correlated and hence the posterior on $\\widetilde{\\boldsymbol{\\beta}}$ should be less correlated.\n",
    "\n",
    "**Less correlation = Markov chain finds it easier to explore** \n",
    "\n",
    "To can get back our original $\\boldsymbol{\\beta}$:\n",
    "$$\\boldsymbol{\\beta} = \\beta = R^{\\ast^{-1}} \\widetilde{\\boldsymbol{\\beta}}$$"
   ]
  },
  {
   "cell_type": "markdown",
   "metadata": {},
   "source": [
    "### How do we calculate Q and R?\n",
    "Several methods for computing the QR decomposition: \n",
    "* the Gram–Schmidt process\n",
    "* Householder transformations\n",
    "* Givens rotations\n",
    "\n",
    "Well known linear algebra problem, i.e. algorithms are in `numpy`"
   ]
  },
  {
   "cell_type": "code",
   "execution_count": 26,
   "metadata": {},
   "outputs": [],
   "source": [
    "q, r = np.linalg.qr(X)\n",
    "q=q*np.sqrt(X.shape[0]-1)\n",
    "r=r/np.sqrt(X.shape[0]-1)"
   ]
  },
  {
   "cell_type": "code",
   "execution_count": 28,
   "metadata": {},
   "outputs": [
    {
     "data": {
      "image/png": "[encoded data removed]",
      "text/plain": [
       "<Figure size 720x216 with 6 Axes>"
      ]
     },
     "metadata": {
      "needs_background": "light"
     },
     "output_type": "display_data"
    }
   ],
   "source": [
    "fig,axes=plt.subplots(1,3,figsize=(10,3))\n",
    "sns.heatmap(np.log(X),ax=axes[0])\n",
    "axes[0].set_xlabel('K')\n",
    "axes[0].set_ylabel('N')\n",
    "axes[0].set_title('$\\mathbf{X}$')\n",
    "sns.heatmap(q,ax=axes[1])\n",
    "axes[1].set_xlabel('K')\n",
    "axes[1].set_ylabel('N')\n",
    "axes[1].set_title('$\\mathbf{Q}$')\n",
    "sns.heatmap(r,ax=axes[2])\n",
    "axes[2].set_xlabel('K')\n",
    "axes[2].set_ylabel('K')\n",
    "axes[2].set_title('$\\mathbf{R}$')\n",
    "plt.subplots_adjust(wspace=0.5)\n"
   ]
  },
  {
   "cell_type": "code",
   "execution_count": 29,
   "metadata": {},
   "outputs": [
    {
     "data": {
      "text/plain": [
       "Text(0.5, 1.0, '$\\\\mathbf{Q}$')"
      ]
     },
     "execution_count": 29,
     "metadata": {},
     "output_type": "execute_result"
    },
    {
     "data": {
      "image/png": "[encoded data removed]",
      "text/plain": [
       "<Figure size 720x360 with 2 Axes>"
      ]
     },
     "metadata": {
      "needs_background": "light"
     },
     "output_type": "display_data"
    }
   ],
   "source": [
    "fig,axes=plt.subplots(1,2,figsize=(10,5))\n",
    "axes[0].plot(X[:,0],X[:,1],'o')\n",
    "axes[0].set_xlabel('$x$')\n",
    "axes[0].set_ylabel('$x^2$')\n",
    "axes[0].set_title('$\\mathbf{X}$')\n",
    "axes[1].plot(q[:,0],q[:,1],'o')\n",
    "axes[1].set_title('$\\mathbf{Q}$')\n"
   ]
  },
  {
   "cell_type": "code",
   "execution_count": 30,
   "metadata": {},
   "outputs": [
    {
     "name": "stdout",
     "output_type": "stream",
     "text": [
      "$\\rho$ for X = 0.9976131840699471 , $\\rho$ for q = -0.9901937770974361\n"
     ]
    }
   ],
   "source": [
    "print(r'$\\rho$ for X = {} , $\\rho$ for q = {}'.format(np.corrcoef(X.T)[0,1],np.corrcoef(q.T)[0,1]))"
   ]
  },
  {
   "cell_type": "code",
   "execution_count": null,
   "metadata": {},
   "outputs": [],
   "source": []
  },
  {
   "cell_type": "markdown",
   "metadata": {},
   "source": [
    "<h2>Mathematical Derivation</h2>\n",
    "<p>The <em>thin</em> QR decomposition decomposes a rectangular <span class=\"math inline\">\\(N \\times M\\)</span> matrix into <span class=\"math display\">\\[\n",
    "\\mathbf{A} = \\mathbf{Q} \\cdot \\mathbf{R}\n",
    "\\]</span> where <span class=\"math inline\">\\(\\mathbf{Q}\\)</span> is an <span class=\"math inline\">\\(N \\times M\\)</span> orthogonal matrix with <span class=\"math inline\">\\(M\\)</span> non-zero rows and <span class=\"math inline\">\\(N - M\\)</span> rows of vanishing rows, and <span class=\"math inline\">\\(\\mathbf{R}\\)</span> is a <span class=\"math inline\">\\(M \\times M\\)</span> upper-triangular matrix.</p>\n",
    "<p>If we apply the decomposition to the transposed design matrix, <span class=\"math inline\">\\(\\mathbf{X}^{T} = \\mathbf{Q} \\cdot \\mathbf{R}\\)</span>, then we can refactor the linear response as <span class=\"math display\">\\[\n",
    "\\begin{align*}\n",
    "\\boldsymbol{\\mu}\n",
    "&= \\mathbf{X}^{T} \\cdot \\boldsymbol{\\beta} + \\alpha\n",
    "\\\\\n",
    "&= \\mathbf{Q} \\cdot \\mathbf{R} \\cdot \\boldsymbol{\\beta} + \\alpha\n",
    "\\\\\n",
    "&= \\mathbf{Q} \\cdot (\\mathbf{R} \\cdot \\boldsymbol{\\beta}) + \\alpha\n",
    "\\\\\n",
    "&= \\mathbf{Q} \\cdot \\widetilde{\\boldsymbol{\\beta}} + \\alpha.\n",
    "\\\\\n",
    "\\end{align*}\n",
    "\\]</span></p>\n",
    "<p>Because the matrix <span class=\"math inline\">\\(\\mathbf{Q}\\)</span> is orthogonal, its columns are independent and consequently we expect the posterior over the new parameters, <span class=\"math inline\">\\(\\widetilde{\\boldsymbol{\\beta}} = \\mathbf{R} \\cdot \\boldsymbol{\\beta}\\)</span>, to be significantly less correlated. In practice we can also equalize the scales of the posterior by normalizing the <span class=\"math inline\">\\(Q\\)</span> and <span class=\"math inline\">\\(R\\)</span> matrices, <span class=\"math display\">\\[\n",
    "\\begin{align*}\n",
    "\\mathbf{Q} &;\\rightarrow \\mathbf{Q} \\cdot N\n",
    "\\\\\n",
    "\\mathbf{R} &;\\rightarrow \\mathbf{R} \\, / \\, N.\n",
    "\\end{align*}\n",
    "\\]</span></p>\n",
    "<p>We can then readily recover the original slopes as <span class=\"math display\">\\[\n",
    "\\boldsymbol{\\beta} = \\mathbf{R}^{-1} \\cdot \\widetilde{\\boldsymbol{\\beta}}.\n",
    "\\]</span> As <span class=\"math inline\">\\(\\mathbf{R}\\)</span> is upper diagonal we could compute its inverse with only <span class=\"math inline\">\\(\\mathcal{O} (M^{2})\\)</span> operations, but because we need to compute it only once we will use the naive inversion function in Stan here.</p>\n",
    "<p>Because the transformation between <span class=\"math inline\">\\(\\boldsymbol{\\beta}\\)</span> and <span class=\"math inline\">\\(\\widetilde{\\boldsymbol{\\beta}}\\)</span> is <em>linear</em>, the corresponding Jacobian depends only on the data and hence doesn’t affect posterior computations. This means that in Stan we can define the transformed parameters <span class=\"math inline\">\\(\\boldsymbol{\\beta} = \\mathbf{R}^{-1} \\cdot \\widetilde{\\boldsymbol{\\beta}}\\)</span> and apply priors directly to <span class=\"math inline\">\\(\\boldsymbol{\\beta}\\)</span> while ignoring the warning about Jacobians.</p>\n",
    "<p>Interestingly, applying weakly-informative priors to the <span class=\"math inline\">\\(\\widetilde{\\boldsymbol{\\beta}}\\)</span> directly can be interpreted as a form of <em>empirical Bayes</em>, where we use the empirical correlations in the data to guide the choice of prior.</p>\n",
    "</div>"
   ]
  },
  {
   "cell_type": "markdown",
   "metadata": {},
   "source": [
    "## Scaled QR decomposition in Stan"
   ]
  },
  {
   "cell_type": "code",
   "execution_count": 32,
   "metadata": {},
   "outputs": [],
   "source": [
    "qr_model=\"\"\"\n",
    "\n",
    "data {\n",
    "  int<lower=0> N;   // number of data items\n",
    "  int<lower=0> M;   // number of predictors\n",
    "  matrix[M, N] X;   // predictor matrix\n",
    "  vector[N] y;      // outcome vector\n",
    "}\n",
    "transformed data {\n",
    "  matrix[N, M] Q_ast;\n",
    "  matrix[M, M] R_ast;\n",
    "  matrix[M, M] R_ast_inverse;\n",
    "  // thin and scale the QR decomposition\n",
    "  Q_ast = qr_thin_Q(X') * sqrt(N - 1);\n",
    "  R_ast = qr_thin_R(X') / sqrt(N - 1);\n",
    "  R_ast_inverse = inverse(R_ast);\n",
    "}\n",
    "parameters {\n",
    "  real alpha;           // intercept\n",
    "  vector[M] beta_tilde;      // coefficients on Q_ast\n",
    "  real<lower=0> sigma;  // error scale\n",
    "}\n",
    "\n",
    "transformed parameters {\n",
    " vector[M] beta;\n",
    "  beta = R_ast_inverse * beta_tilde; // coefficients on X\n",
    "}\n",
    "model {\n",
    "  beta ~ normal(0, 10);\n",
    "  alpha ~ normal(0, 10);\n",
    "  sigma ~ cauchy(0, 10);\n",
    "  y ~ normal(Q_ast * beta_tilde + alpha, sigma);  // liMelihood\n",
    "}\n",
    "\"\"\""
   ]
  },
  {
   "cell_type": "code",
   "execution_count": 33,
   "metadata": {},
   "outputs": [
    {
     "name": "stderr",
     "output_type": "stream",
     "text": [
      "INFO:pystan:COMPILING THE C++ CODE FOR MODEL anon_model_c639dd6046779e6b2c193820099d40dd NOW.\n"
     ]
    }
   ],
   "source": [
    "qr_model=pystan.StanModel(model_code=qr_model)"
   ]
  },
  {
   "cell_type": "code",
   "execution_count": 36,
   "metadata": {},
   "outputs": [],
   "source": [
    "fit_qr=qr_model.sampling(data=data,chains=4,iter=1000)"
   ]
  },
  {
   "cell_type": "code",
   "execution_count": 37,
   "metadata": {},
   "outputs": [
    {
     "data": {
      "text/plain": [
       "Inference for Stan model: anon_model_c639dd6046779e6b2c193820099d40dd.\n",
       "4 chains, each with iter=1000; warmup=500; thin=1; \n",
       "post-warmup draws per chain=500, total post-warmup draws=2000.\n",
       "\n",
       "                mean se_mean     sd   2.5%    25%    50%     75%  97.5%  n_eff   Rhat\n",
       "alpha          -0.54    0.04   0.81  -2.05  -1.08  -0.58 -6.9e-3   1.08    338   1.01\n",
       "beta_tilde[1]  -77.0    0.04    0.8  -78.6 -77.53 -76.95  -76.46 -75.49    338   1.01\n",
       "beta_tilde[2]  -9.88  4.4e-3   0.08 -10.03  -9.93  -9.88   -9.83  -9.72    328   1.01\n",
       "sigma            0.8  3.3e-4 8.3e-3   0.78   0.79    0.8     0.8   0.82    628   1.01\n",
       "beta[1]         2.53  8.9e-3   0.16    2.2   2.42   2.53    2.63   2.83    331   1.01\n",
       "beta[2]         -1.0  4.4e-4 8.0e-3  -1.02  -1.01   -1.0   -0.99  -0.98    328   1.01\n",
       "lp__           -1378    0.07   1.43  -1381  -1378  -1377   -1377  -1376    468   1.01\n",
       "\n",
       "Samples were drawn using NUTS at Fri Jul 31 13:18:17 2020.\n",
       "For each parameter, n_eff is a crude measure of effective sample size,\n",
       "and Rhat is the potential scale reduction factor on split chains (at \n",
       "convergence, Rhat=1)."
      ]
     },
     "execution_count": 37,
     "metadata": {},
     "output_type": "execute_result"
    }
   ],
   "source": [
    "fit_qr"
   ]
  },
  {
   "cell_type": "markdown",
   "metadata": {},
   "source": [
    "Already we can see that there are more effective samples. Lets check the other diagnostics"
   ]
  },
  {
   "cell_type": "code",
   "execution_count": 38,
   "metadata": {},
   "outputs": [
    {
     "data": {
      "text/plain": [
       "{'n_eff': True,\n",
       " 'Rhat': True,\n",
       " 'divergence': True,\n",
       " 'treedepth': True,\n",
       " 'energy': True}"
      ]
     },
     "execution_count": 38,
     "metadata": {},
     "output_type": "execute_result"
    }
   ],
   "source": [
    "pystan.diagnostics.check_hmc_diagnostics(fit_qr)"
   ]
  },
  {
   "cell_type": "markdown",
   "metadata": {},
   "source": [
    "We are no longer saturating maximum tree depth. Lets check tree depth graph and number of gradient evaluations."
   ]
  },
  {
   "cell_type": "code",
   "execution_count": 39,
   "metadata": {},
   "outputs": [],
   "source": [
    "samp_params=fit_qr.get_sampler_params(inc_warmup=False)"
   ]
  },
  {
   "cell_type": "code",
   "execution_count": 40,
   "metadata": {},
   "outputs": [
    {
     "data": {
      "image/png": "[encoded data removed]",
      "text/plain": [
       "<Figure size 432x288 with 1 Axes>"
      ]
     },
     "metadata": {
      "needs_background": "light"
     },
     "output_type": "display_data"
    }
   ],
   "source": [
    "for i in range(0,4):\n",
    "    plt.hist(samp_params[i]['treedepth__'],alpha=0.3)\n",
    "plt.xlabel('Max tree depth');"
   ]
  },
  {
   "cell_type": "code",
   "execution_count": 41,
   "metadata": {},
   "outputs": [
    {
     "name": "stdout",
     "output_type": "stream",
     "text": [
      "Number of gradient evaluations for chain 1 112042.0\n",
      "Number of gradient evaluations for chain 2 135870.0\n",
      "Number of gradient evaluations for chain 3 98896.0\n",
      "Number of gradient evaluations for chain 4 119850.0\n"
     ]
    }
   ],
   "source": [
    "for i in range(0,4):\n",
    "    print('Number of gradient evaluations for chain '+str(i+1),samp_params[i]['n_leapfrog__'].sum())"
   ]
  },
  {
   "cell_type": "markdown",
   "metadata": {},
   "source": [
    "in the QR decomposition we require only about half the gradient evaluations needed in the naive regression."
   ]
  },
  {
   "cell_type": "code",
   "execution_count": 42,
   "metadata": {},
   "outputs": [
    {
     "name": "stderr",
     "output_type": "stream",
     "text": [
      "/opt/conda/lib/python3.7/site-packages/seaborn/distributions.py:423: UserWarning: The following kwargs were not used by contour: 'normed'\n",
      "  cset = contour_func(xx, yy, z, n_levels, **kwargs)\n",
      "/opt/conda/lib/python3.7/site-packages/seaborn/distributions.py:423: UserWarning: The following kwargs were not used by contour: 'normed'\n",
      "  cset = contour_func(xx, yy, z, n_levels, **kwargs)\n",
      "/opt/conda/lib/python3.7/site-packages/seaborn/distributions.py:423: UserWarning: The following kwargs were not used by contour: 'normed'\n",
      "  cset = contour_func(xx, yy, z, n_levels, **kwargs)\n"
     ]
    },
    {
     "data": {
      "text/plain": [
       "<seaborn.axisgrid.PairGrid at 0x7f1f25627210>"
      ]
     },
     "execution_count": 42,
     "metadata": {},
     "output_type": "execute_result"
    },
    {
     "data": {
      "image/png": "[encoded data removed]",
      "text/plain": [
       "<Figure size 540x540 with 12 Axes>"
      ]
     },
     "metadata": {
      "needs_background": "light"
     },
     "output_type": "display_data"
    }
   ],
   "source": [
    "g=sns.PairGrid(pd.DataFrame(np.hstack((fit_qr['beta_tilde'],fit_qr['alpha'].reshape(2000,1))),columns=['Beta_tilde_1','Beta_tilde_2','alpha']))\n",
    "g.map_lower(sns.kdeplot,shade=True,shade_lowest=False,cmap=\"Reds_d\",alpha=0.3,n_levels=10,normed=True)\n",
    "g.map_diag(plt.hist,color='red',alpha=0.5)\n"
   ]
  },
  {
   "cell_type": "code",
   "execution_count": 43,
   "metadata": {},
   "outputs": [
    {
     "name": "stderr",
     "output_type": "stream",
     "text": [
      "/opt/conda/lib/python3.7/site-packages/seaborn/distributions.py:423: UserWarning: The following kwargs were not used by contour: 'normed'\n",
      "  cset = contour_func(xx, yy, z, n_levels, **kwargs)\n",
      "/opt/conda/lib/python3.7/site-packages/seaborn/distributions.py:423: UserWarning: The following kwargs were not used by contour: 'normed'\n",
      "  cset = contour_func(xx, yy, z, n_levels, **kwargs)\n",
      "/opt/conda/lib/python3.7/site-packages/seaborn/distributions.py:423: UserWarning: The following kwargs were not used by contour: 'normed'\n",
      "  cset = contour_func(xx, yy, z, n_levels, **kwargs)\n"
     ]
    },
    {
     "data": {
      "image/png": "[encoded data removed]",
      "text/plain": [
       "<Figure size 540x540 with 12 Axes>"
      ]
     },
     "metadata": {
      "needs_background": "light"
     },
     "output_type": "display_data"
    }
   ],
   "source": [
    "g=sns.PairGrid(pd.DataFrame(np.hstack((fit_qr['beta'],fit_qr['alpha'].reshape(2000,1))),columns=['Beta_1','Beta_2','alpha']))\n",
    "g.map_lower(sns.kdeplot,shade=True,shade_lowest=False,cmap=\"Reds_d\",alpha=0.3,n_levels=10,normed=True)\n",
    "g.map_diag(plt.hist,color='red',alpha=0.5)\n",
    "for i in range(0,3):\n",
    "    for j in range(1,3):\n",
    "        if (j>i) and (j<2):\n",
    "            g.axes[j,i].axvline(beta[i,0],c='green')\n",
    "            g.axes[j,i].axhline(beta[j,0],c='green')\n",
    "        if j ==2:\n",
    "            g.axes[j,i].axhline(alpha,c='green')\n",
    "            if i < 2:\n",
    "                g.axes[j,i].axvline(beta[i,0],c='green')\n",
    "    if i<2:\n",
    "        g.axes[i,i].axvline(beta[i,0],c='green')\n",
    "    if i==2:\n",
    "        g.axes[i,i].axvline(alpha,c='green')"
   ]
  },
  {
   "cell_type": "markdown",
   "metadata": {},
   "source": [
    "\n",
    "\n",
    "### Centering Covariates\n",
    "\n",
    "$\\widetilde{\\boldsymbol{\\beta}}$ is still quite correlated. We also saw that the covariates were still very correlated with each other when carrying out the qr decomposition with numpy.\n",
    "\n",
    "Fully decorrelating the covariates requires centering (i.e. mean subtract). \n",
    "\n",
    "**NOTE:**\n",
    "If we do this, remember the intercept no longer has the same interpretation and needs to be transformed:\n",
    "$$\\alpha=\\widetilde{\\alpha}-\\overline{\\mathbf{X}^{T}} \\cdot \\boldsymbol{\\beta}$$\n"
   ]
  },
  {
   "cell_type": "code",
   "execution_count": 44,
   "metadata": {},
   "outputs": [],
   "source": [
    "q, r = np.linalg.qr(X-np.mean(X,axis=0))\n",
    "q=q*np.sqrt(X.shape[0]-1)\n",
    "r=r/np.sqrt(X.shape[0]-1)"
   ]
  },
  {
   "cell_type": "code",
   "execution_count": 45,
   "metadata": {},
   "outputs": [
    {
     "data": {
      "image/png": "[encoded data removed]",
      "text/plain": [
       "<Figure size 720x216 with 6 Axes>"
      ]
     },
     "metadata": {
      "needs_background": "light"
     },
     "output_type": "display_data"
    }
   ],
   "source": [
    "fig,axes=plt.subplots(1,3,figsize=(10,3))\n",
    "sns.heatmap(X-np.mean(X,axis=0),ax=axes[0])\n",
    "axes[0].set_xlabel('K')\n",
    "axes[0].set_ylabel('N')\n",
    "axes[0].set_title('$\\mathbf{X}$')\n",
    "sns.heatmap(q,ax=axes[1])\n",
    "axes[1].set_xlabel('K')\n",
    "axes[1].set_ylabel('N')\n",
    "axes[1].set_title('$\\mathbf{Q}$')\n",
    "sns.heatmap(r,ax=axes[2])\n",
    "axes[2].set_xlabel('K')\n",
    "axes[2].set_ylabel('K')\n",
    "axes[2].set_title('$\\mathbf{R}$')\n",
    "plt.subplots_adjust(wspace=0.5)\n"
   ]
  },
  {
   "cell_type": "code",
   "execution_count": 46,
   "metadata": {},
   "outputs": [
    {
     "data": {
      "text/plain": [
       "Text(0.5, 1.0, '$\\\\mathbf{Q}$')"
      ]
     },
     "execution_count": 46,
     "metadata": {},
     "output_type": "execute_result"
    },
    {
     "data": {
      "image/png": "[encoded data removed]",
      "text/plain": [
       "<Figure size 720x360 with 2 Axes>"
      ]
     },
     "metadata": {
      "needs_background": "light"
     },
     "output_type": "display_data"
    }
   ],
   "source": [
    "fig,axes=plt.subplots(1,2,figsize=(10,5))\n",
    "X_sub=X-np.mean(X,axis=0)\n",
    "axes[0].plot(X_sub[:,0],X_sub[:,1],'o')\n",
    "axes[0].set_xlabel('$x$')\n",
    "axes[0].set_ylabel('$x^2$')\n",
    "axes[0].set_title('$\\mathbf{X}$')\n",
    "axes[1].plot(q[:,0],q[:,1],'o')\n",
    "axes[1].set_title('$\\mathbf{Q}$')"
   ]
  },
  {
   "cell_type": "code",
   "execution_count": 47,
   "metadata": {},
   "outputs": [
    {
     "name": "stdout",
     "output_type": "stream",
     "text": [
      "$\\rho$ for X = 0.9976131840699471 , $\\rho$ for q = -2.4163285672978022e-17\n"
     ]
    }
   ],
   "source": [
    "print(r'$\\rho$ for X = {} , $\\rho$ for q = {}'.format(np.corrcoef(X_sub.T)[0,1],np.corrcoef(q.T)[0,1]))"
   ]
  },
  {
   "cell_type": "code",
   "execution_count": 48,
   "metadata": {},
   "outputs": [],
   "source": [
    "qr_cent_model=\"\"\"\n",
    "\n",
    "data {\n",
    "  int<lower=0> N;   // number of data items\n",
    "  int<lower=0> M;   // number of predictors\n",
    "  matrix[M, N] X;   // predictor matrix\n",
    "  vector[N] y;      // outcome vector\n",
    "}\n",
    "transformed data {\n",
    "  matrix[N, M] Q_ast;\n",
    "  matrix[M, M] R_ast;\n",
    "  matrix[M, M] R_ast_inverse;\n",
    "  matrix[M, N] X_centered;\n",
    "\n",
    "  \n",
    "   for (m in 1:M){\n",
    "    X_centered[m] = X[m] - mean(X[m]);\n",
    "    }\n",
    "  // thin and scale the QR decomposition\n",
    "  Q_ast = qr_thin_Q(X_centered') * sqrt(N - 1);\n",
    "  R_ast = qr_thin_R(X_centered') / sqrt(N - 1);\n",
    "  R_ast_inverse = inverse(R_ast);\n",
    "}\n",
    "parameters {\n",
    "  real alpha;           // intercept\n",
    "  vector[M] beta_tilde;      // coefficients on Q_ast\n",
    "  real<lower=0> sigma;  // error scale\n",
    "}\n",
    "\n",
    "transformed parameters {\n",
    " vector[M] beta;\n",
    "  beta = R_ast_inverse * beta_tilde; // coefficients on X\n",
    "}\n",
    "model {\n",
    "  beta ~ normal(0, 10);\n",
    "  alpha ~ normal(0, 10);\n",
    "  sigma ~ cauchy(0, 10);\n",
    "  y ~ normal(Q_ast * beta_tilde + alpha, sigma);  // liMelihood\n",
    "}\n",
    "\"\"\""
   ]
  },
  {
   "cell_type": "code",
   "execution_count": 49,
   "metadata": {},
   "outputs": [
    {
     "name": "stderr",
     "output_type": "stream",
     "text": [
      "INFO:pystan:COMPILING THE C++ CODE FOR MODEL anon_model_eaa219eeb8a1c9f1d836a8a33ac6c7c2 NOW.\n"
     ]
    }
   ],
   "source": [
    "qr_cent_model=pystan.StanModel(model_code=qr_cent_model)"
   ]
  },
  {
   "cell_type": "code",
   "execution_count": 50,
   "metadata": {},
   "outputs": [],
   "source": [
    "fit_qr_cent=qr_cent_model.sampling(data=data,chains=4,iter=1000)"
   ]
  },
  {
   "cell_type": "code",
   "execution_count": 51,
   "metadata": {},
   "outputs": [
    {
     "data": {
      "text/plain": [
       "Inference for Stan model: anon_model_eaa219eeb8a1c9f1d836a8a33ac6c7c2.\n",
       "4 chains, each with iter=1000; warmup=500; thin=1; \n",
       "post-warmup draws per chain=500, total post-warmup draws=2000.\n",
       "\n",
       "                mean se_mean     sd   2.5%    25%    50%    75%  97.5%  n_eff   Rhat\n",
       "alpha         -76.19  2.9e-4   0.01 -76.21 -76.19 -76.19 -76.18 -76.16   1565    1.0\n",
       "beta_tilde[1] -17.34  2.8e-4   0.01 -17.37 -17.35 -17.34 -17.33 -17.32   1680    1.0\n",
       "beta_tilde[2]  -1.37  2.3e-4   0.01   -1.4  -1.38  -1.37  -1.37  -1.35   2653    1.0\n",
       "sigma            0.8  1.6e-4 7.9e-3   0.78   0.79    0.8    0.8   0.81   2342    1.0\n",
       "beta[1]         2.53  3.3e-3   0.17    2.2   2.41   2.53   2.64   2.86   2653    1.0\n",
       "beta[2]         -1.0  1.7e-4 8.5e-3  -1.02  -1.01   -1.0  -0.99  -0.98   2653    1.0\n",
       "lp__           -1407    0.04    1.4  -1410  -1408  -1406  -1406  -1405   1105    1.0\n",
       "\n",
       "Samples were drawn using NUTS at Fri Jul 31 13:25:59 2020.\n",
       "For each parameter, n_eff is a crude measure of effective sample size,\n",
       "and Rhat is the potential scale reduction factor on split chains (at \n",
       "convergence, Rhat=1)."
      ]
     },
     "execution_count": 51,
     "metadata": {},
     "output_type": "execute_result"
    }
   ],
   "source": [
    "fit_qr_cent"
   ]
  },
  {
   "cell_type": "code",
   "execution_count": 137,
   "metadata": {},
   "outputs": [
    {
     "data": {
      "text/plain": [
       "{'n_eff': True,\n",
       " 'Rhat': True,\n",
       " 'divergence': True,\n",
       " 'treedepth': True,\n",
       " 'energy': True}"
      ]
     },
     "execution_count": 137,
     "metadata": {},
     "output_type": "execute_result"
    }
   ],
   "source": [
    "pystan.diagnostics.check_hmc_diagnostics(fit_qr)"
   ]
  },
  {
   "cell_type": "code",
   "execution_count": 138,
   "metadata": {},
   "outputs": [],
   "source": [
    "samp_params=fit_qr_cent.get_sampler_params(inc_warmup=False)"
   ]
  },
  {
   "cell_type": "code",
   "execution_count": 139,
   "metadata": {},
   "outputs": [
    {
     "data": {
      "image/png": "[encoded data removed]",
      "text/plain": [
       "<Figure size 432x288 with 1 Axes>"
      ]
     },
     "metadata": {
      "needs_background": "light"
     },
     "output_type": "display_data"
    }
   ],
   "source": [
    "for i in range(0,4):\n",
    "    plt.hist(samp_params[i]['treedepth__'],alpha=0.3)\n",
    "plt.xlabel('Max tree depth');"
   ]
  },
  {
   "cell_type": "code",
   "execution_count": 140,
   "metadata": {},
   "outputs": [
    {
     "name": "stdout",
     "output_type": "stream",
     "text": [
      "Number of gradient evaluations for chain 1 2856.0\n",
      "Number of gradient evaluations for chain 2 6390.0\n",
      "Number of gradient evaluations for chain 3 2900.0\n",
      "Number of gradient evaluations for chain 4 2814.0\n"
     ]
    }
   ],
   "source": [
    "for i in range(0,4):\n",
    "    print('Number of gradient evaluations for chain '+str(i+1),samp_params[i]['n_leapfrog__'].sum())"
   ]
  },
  {
   "cell_type": "markdown",
   "metadata": {},
   "source": [
    "A quarter of the number of evaluations"
   ]
  },
  {
   "cell_type": "code",
   "execution_count": 141,
   "metadata": {},
   "outputs": [
    {
     "name": "stderr",
     "output_type": "stream",
     "text": [
      "/opt/conda/lib/python3.7/site-packages/seaborn/distributions.py:423: UserWarning: The following kwargs were not used by contour: 'normed'\n",
      "  cset = contour_func(xx, yy, z, n_levels, **kwargs)\n",
      "/opt/conda/lib/python3.7/site-packages/seaborn/distributions.py:423: UserWarning: The following kwargs were not used by contour: 'normed'\n",
      "  cset = contour_func(xx, yy, z, n_levels, **kwargs)\n",
      "/opt/conda/lib/python3.7/site-packages/seaborn/distributions.py:423: UserWarning: The following kwargs were not used by contour: 'normed'\n",
      "  cset = contour_func(xx, yy, z, n_levels, **kwargs)\n",
      "/opt/conda/lib/python3.7/site-packages/seaborn/distributions.py:423: UserWarning: The following kwargs were not used by contour: 'normed'\n",
      "  cset = contour_func(xx, yy, z, n_levels, **kwargs)\n",
      "/opt/conda/lib/python3.7/site-packages/seaborn/distributions.py:423: UserWarning: The following kwargs were not used by contour: 'normed'\n",
      "  cset = contour_func(xx, yy, z, n_levels, **kwargs)\n",
      "/opt/conda/lib/python3.7/site-packages/seaborn/distributions.py:423: UserWarning: The following kwargs were not used by contour: 'normed'\n",
      "  cset = contour_func(xx, yy, z, n_levels, **kwargs)\n"
     ]
    },
    {
     "data": {
      "image/png": "[encoded data removed]",
      "text/plain": [
       "<Figure size 540x540 with 12 Axes>"
      ]
     },
     "metadata": {
      "needs_background": "light"
     },
     "output_type": "display_data"
    }
   ],
   "source": [
    "g=sns.PairGrid(pd.DataFrame(np.hstack((fit['beta'],fit['alpha'].reshape(2000,1))),columns=['Beta_1','Beta_2','alpha']))\n",
    "g.map_lower(sns.kdeplot,shade=True,shade_lowest=False,cmap=\"Reds_d\",alpha=0.3,n_levels=10,normed=True)\n",
    "g.map_diag(plt.hist,color='red',alpha=0.5)\n",
    "alpha_qr_cent=fit_qr_cent['alpha']-fit_qr_cent['beta'][:,0]*np.mean(X[:,0])-fit_qr_cent['beta'][:,1]*np.mean(X[:,1])\n",
    "g.data=pd.DataFrame(np.hstack((fit_qr_cent['beta'],alpha_qr_cent.reshape(2000,1))),columns=['Beta_1','Beta_2','alpha'])\n",
    "g.map_lower(sns.kdeplot,shade=True,shade_lowest=False,cmap=\"Blues_d\",alpha=0.3,n_levels=10,normed=True)\n",
    "g.map_diag(plt.hist,color='blue',alpha=0.5)\n",
    "\n",
    "for i in range(0,3):\n",
    "    for j in range(1,3):\n",
    "        if (j>i) and (j<2):\n",
    "            g.axes[j,i].axvline(beta[i,0],c='green')\n",
    "            g.axes[j,i].axhline(beta[j,0],c='green')\n",
    "        if j ==2:\n",
    "            g.axes[j,i].axhline(alpha,c='green')\n",
    "            if i < 2:\n",
    "                g.axes[j,i].axvline(beta[i,0],c='green')\n",
    "    if i<2:\n",
    "        g.axes[i,i].axvline(beta[i,0],c='green')\n",
    "    if i==2:\n",
    "        g.axes[i,i].axvline(alpha,c='green')\n",
    "    "
   ]
  },
  {
   "cell_type": "markdown",
   "metadata": {},
   "source": [
    "Plotting the posterior for $\\boldsymbol{\\beta}$ and $\\alpha$ for the original fit and our QR centered fit (and truth in green) we can see the fits are identical and recover the truth, but with QR and centering it is far more efficent"
   ]
  },
  {
   "cell_type": "markdown",
   "metadata": {},
   "source": [
    "A good example of why this is working so well is if we look at the posterior for $\\widetilde{\\boldsymbol{\\beta}}$, which shows no correlation."
   ]
  },
  {
   "cell_type": "code",
   "execution_count": 142,
   "metadata": {},
   "outputs": [
    {
     "name": "stderr",
     "output_type": "stream",
     "text": [
      "/opt/conda/lib/python3.7/site-packages/seaborn/distributions.py:423: UserWarning: The following kwargs were not used by contour: 'normed'\n",
      "  cset = contour_func(xx, yy, z, n_levels, **kwargs)\n",
      "/opt/conda/lib/python3.7/site-packages/seaborn/distributions.py:423: UserWarning: The following kwargs were not used by contour: 'normed'\n",
      "  cset = contour_func(xx, yy, z, n_levels, **kwargs)\n",
      "/opt/conda/lib/python3.7/site-packages/seaborn/distributions.py:423: UserWarning: The following kwargs were not used by contour: 'normed'\n",
      "  cset = contour_func(xx, yy, z, n_levels, **kwargs)\n"
     ]
    },
    {
     "data": {
      "text/plain": [
       "<seaborn.axisgrid.PairGrid at 0x7fc1743f2dd0>"
      ]
     },
     "execution_count": 142,
     "metadata": {},
     "output_type": "execute_result"
    },
    {
     "data": {
      "image/png": "[encoded data removed]",
      "text/plain": [
       "<Figure size 540x540 with 12 Axes>"
      ]
     },
     "metadata": {
      "needs_background": "light"
     },
     "output_type": "display_data"
    }
   ],
   "source": [
    "g=sns.PairGrid(pd.DataFrame(np.hstack((fit_qr_cent['beta_tilde'],fit_qr_cent['alpha'].reshape(2000,1))),columns=['beta_tilde_1','beta_tilde_2','alpha']))\n",
    "g.map_lower(sns.kdeplot,shade=True,shade_lowest=False,cmap=\"Reds_d\",alpha=0.3,n_levels=10,normed=True)\n",
    "g.map_diag(plt.hist,color='red',alpha=0.5)"
   ]
  },
  {
   "cell_type": "code",
   "execution_count": null,
   "metadata": {},
   "outputs": [],
   "source": []
  }
 ],
 "metadata": {
  "kernelspec": {
   "display_name": "Python 3",
   "language": "python",
   "name": "python3"
  },
  "language_info": {
   "codemirror_mode": {
    "name": "ipython",
    "version": 3
   },
   "file_extension": ".py",
   "mimetype": "text/x-python",
   "name": "python",
   "nbconvert_exporter": "python",
   "pygments_lexer": "ipython3",
   "version": "3.7.6"
  }
 },
 "nbformat": 4,
 "nbformat_minor": 2
}
