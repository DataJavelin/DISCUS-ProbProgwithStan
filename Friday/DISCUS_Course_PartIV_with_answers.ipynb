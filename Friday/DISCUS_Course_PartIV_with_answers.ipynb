{
 "cells": [
  {
   "cell_type": "code",
   "execution_count": 73,
   "metadata": {},
   "outputs": [],
   "source": [
    "from notebook.services.config import ConfigManager\n",
    "cm = ConfigManager()\n",
    "cm.update('livereveal', {\n",
    "        'width': 1024,\n",
    "        'height': 768,\n",
    "        'scroll': True,\n",
    "})\n",
    "import pandas as pd\n",
    "import pylab as plt\n",
    "import pystan\n",
    "import seaborn as sns\n",
    "import numpy as np\n",
    "from matplotlib.transforms import Transform\n",
    "from matplotlib.ticker import (\n",
    "    AutoLocator, AutoMinorLocator)\n",
    "%matplotlib inline"
   ]
  },
  {
   "cell_type": "markdown",
   "metadata": {},
   "source": [
    "![](../assets/DJlogo_alpha.png?raw=true)<!-- .element height=\"80%\" width=\"80%\" -->\n",
    "\n",
    "<http://www.DataJavelin.com>\n",
    "## Dr Peter Hurley "
   ]
  },
  {
   "cell_type": "markdown",
   "metadata": {},
   "source": [
    "## Understanding what Stan is doing\n",
    "\n",
    "Sampling from the Posterior using Hamiltonian Monte Carlo\n"
   ]
  },
  {
   "cell_type": "markdown",
   "metadata": {},
   "source": [
    "### Hamiltonian physics\n",
    "$$ \n",
    "H = T + V \n",
    "$$\n",
    "* $T = \\frac{p^2}{2m}$ kinetic energy\n",
    "* $V=V(q)$ potential energy\n",
    "* $H$ total energy of system (conserved)\n",
    "Hamiltonian mechanics can be used to describe systems where energy changes from kinetic to potential and back again over time\n"
   ]
  },
  {
   "cell_type": "markdown",
   "metadata": {},
   "source": [
    "### Hamiltonian Monte carlo\n",
    "* Potential energy = Posterior probability distribution\n"
   ]
  },
  {
   "cell_type": "markdown",
   "metadata": {},
   "source": [
    "### [HMC simulation](https://chi-feng.github.io/mcmc-demo/app.html?algorithm=HamiltonianMC&target=banana)\n",
    "* Doesn't get stuck as using gradient\n",
    "* BUT extra variables (momentum and energy) which provide useful diagnostics\n",
    "* Requires:\n",
    "    * gradients: curvature of log posterior (uses autodifferentation)\n",
    "    * 'mass' of particle\n",
    "    * Number of leaps \n",
    "    * Size of individual leaps\n",
    "   \n"
   ]
  },
  {
   "cell_type": "markdown",
   "metadata": {},
   "source": [
    "### What gets tuned\n",
    "* Number of leaps\n",
    "* Size of steps\n",
    "\n",
    "Problem: If you choose badly, you get back close to where you were i.e. inefficient"
   ]
  },
  {
   "cell_type": "markdown",
   "metadata": {},
   "source": [
    "### [NUTS](https://chi-feng.github.io/mcmc-demo/app.html?algorithm=NaiveNUTS&target=banana): No U turn sampler\n",
    "* Warm up phase to work out parameters\n",
    "* Runs both backwards and forwards and estimates where it is turning around\n",
    "* Picks parameters that optimise this behaviour"
   ]
  },
  {
   "cell_type": "markdown",
   "metadata": {},
   "source": [
    "![](./assets/HMC.png)"
   ]
  },
  {
   "cell_type": "markdown",
   "metadata": {},
   "source": [
    "## Other things to think about:\n",
    "* How many chains?\n",
    "* How many iterations?"
   ]
  },
  {
   "cell_type": "markdown",
   "metadata": {},
   "source": [
    "# When things go wrong\n"
   ]
  },
  {
   "cell_type": "markdown",
   "metadata": {},
   "source": [
    "![](../assets/roller-coaster-clipart-black-and-white-1.jpg?raw=true)<!-- .element height=\"80%\" width=\"80%\" -->"
   ]
  },
  {
   "cell_type": "markdown",
   "metadata": {},
   "source": [
    "### Divergent transitions\n",
    "**coming off the roller coaster track**\n",
    "\n",
    "* Energy hasn't been conserved\n",
    "* Physics approximation no longer valid\n",
    "* our samples are not properly sampling posterior\n",
    "\n",
    "The leap frog steps are a numerical approximation, not a smooth simulation\n",
    "\n",
    "* If they are too big or rollercoaster changes violently then the approximation will fail, energy not conserved.\n",
    "\n",
    "**BUT**: We diagnosing it is good. Other MCMC technqiues will also fail in same circumstances but you won't know"
   ]
  },
  {
   "cell_type": "markdown",
   "metadata": {},
   "source": [
    "![](../assets/roller-coaster-clipart-black-and-white-good.jpg?raw=true)<!-- .element height=\"80%\" width=\"80%\" -->"
   ]
  },
  {
   "cell_type": "markdown",
   "metadata": {},
   "source": [
    "![](../assets/roller-coaster-clipart-black-and-white-bad.jpg?raw=true)<!-- .element height=\"80%\" width=\"80%\" -->"
   ]
  },
  {
   "cell_type": "markdown",
   "metadata": {},
   "source": [
    "### Example"
   ]
  },
  {
   "cell_type": "code",
   "execution_count": 75,
   "metadata": {},
   "outputs": [],
   "source": [
    "V=np.random.normal(0,3,10000)\n",
    "x=np.random.normal(0,np.exp(V),10000)"
   ]
  },
  {
   "cell_type": "code",
   "execution_count": 79,
   "metadata": {},
   "outputs": [
    {
     "data": {
      "text/plain": [
       "(-500, 500)"
      ]
     },
     "execution_count": 79,
     "metadata": {},
     "output_type": "execute_result"
    },
    {
     "data": {
      "image/png": "[encoded data removed]",
      "text/plain": [
       "<Figure size 432x288 with 1 Axes>"
      ]
     },
     "metadata": {
      "needs_background": "light"
     },
     "output_type": "display_data"
    }
   ],
   "source": [
    "plt.scatter(V,x)\n",
    "plt.xlabel('V')\n",
    "plt.ylabel('x')\n",
    "plt.xlim(0,10)\n",
    "plt.ylim(-500,500)"
   ]
  },
  {
   "cell_type": "code",
   "execution_count": 81,
   "metadata": {},
   "outputs": [],
   "source": [
    "model=\"\"\"\n",
    "data{\n",
    "real mu_V;\n",
    "real<lower=0.0> sig_V;\n",
    "real mu_x;\n",
    "}\n",
    "parameters {\n",
    "real V;\n",
    "real x;\n",
    "}\n",
    "\n",
    "model {\n",
    "\n",
    "V~normal(mu_V,sig_V);\n",
    "x~normal(0,exp(V));\n",
    "}\n",
    "\"\"\""
   ]
  },
  {
   "cell_type": "code",
   "execution_count": 82,
   "metadata": {},
   "outputs": [
    {
     "name": "stderr",
     "output_type": "stream",
     "text": [
      "INFO:pystan:COMPILING THE C++ CODE FOR MODEL anon_model_a68d63213d4f4514b96ae981dbe942dc NOW.\n"
     ]
    }
   ],
   "source": [
    "sm=pystan.StanModel(model_code=model)"
   ]
  },
  {
   "cell_type": "code",
   "execution_count": 83,
   "metadata": {},
   "outputs": [],
   "source": [
    "data={\n",
    "    'mu_V':0,\n",
    "    'sig_V':3,\n",
    "    'mu_x':0\n",
    "}"
   ]
  },
  {
   "cell_type": "code",
   "execution_count": 84,
   "metadata": {},
   "outputs": [
    {
     "name": "stderr",
     "output_type": "stream",
     "text": [
      "WARNING:pystan:Rhat above 1.1 or below 0.9 indicates that the chains very likely have not mixed\n",
      "WARNING:pystan:627 of 4000 iterations ended with a divergence (15.7 %).\n",
      "WARNING:pystan:Try running with adapt_delta larger than 0.8 to remove the divergences.\n",
      "WARNING:pystan:3 of 4000 iterations saturated the maximum tree depth of 10 (0.075 %)\n",
      "WARNING:pystan:Run again with max_treedepth larger than 10 to avoid saturation\n"
     ]
    }
   ],
   "source": [
    "fit=sm.sampling(data=data)"
   ]
  },
  {
   "cell_type": "code",
   "execution_count": 85,
   "metadata": {},
   "outputs": [
    {
     "data": {
      "text/plain": [
       "Inference for Stan model: anon_model_a68d63213d4f4514b96ae981dbe942dc.\n",
       "4 chains, each with iter=2000; warmup=1000; thin=1; \n",
       "post-warmup draws per chain=1000, total post-warmup draws=4000.\n",
       "\n",
       "       mean se_mean     sd   2.5%    25%    50%    75%  97.5%  n_eff   Rhat\n",
       "V      3.31    0.63   1.94  -0.54   2.29    3.3   4.21   7.71      9   1.21\n",
       "x    123.14  147.28 1555.8 -595.3 -11.14  -0.04  17.38 687.28    112   1.03\n",
       "lp__  -4.57    0.75    2.8 -11.55  -5.71  -4.31  -3.01   0.16     14   1.16\n",
       "\n",
       "Samples were drawn using NUTS at Fri Jul 31 10:38:43 2020.\n",
       "For each parameter, n_eff is a crude measure of effective sample size,\n",
       "and Rhat is the potential scale reduction factor on split chains (at \n",
       "convergence, Rhat=1)."
      ]
     },
     "execution_count": 85,
     "metadata": {},
     "output_type": "execute_result"
    }
   ],
   "source": [
    "fit"
   ]
  },
  {
   "cell_type": "code",
   "execution_count": 86,
   "metadata": {},
   "outputs": [
    {
     "name": "stderr",
     "output_type": "stream",
     "text": [
      "WARNING:pystan:Rhat above 1.1 or below 0.9 indicates that the chains very likely have not mixed\n",
      "WARNING:pystan:627 of 4000 iterations ended with a divergence (15.7 %).\n",
      "WARNING:pystan:Try running with adapt_delta larger than 0.8 to remove the divergences.\n",
      "WARNING:pystan:3 of 4000 iterations saturated the maximum tree depth of 10 (0.075 %)\n",
      "WARNING:pystan:Run again with max_treedepth larger than 10 to avoid saturation\n"
     ]
    },
    {
     "data": {
      "text/plain": [
       "{'n_eff': True,\n",
       " 'Rhat': False,\n",
       " 'divergence': False,\n",
       " 'treedepth': False,\n",
       " 'energy': True}"
      ]
     },
     "execution_count": 86,
     "metadata": {},
     "output_type": "execute_result"
    }
   ],
   "source": [
    "pystan.diagnostics.check_hmc_diagnostics(fit)"
   ]
  },
  {
   "cell_type": "code",
   "execution_count": 87,
   "metadata": {},
   "outputs": [
    {
     "data": {
      "text/plain": [
       "Text(0, 0.5, 'x')"
      ]
     },
     "execution_count": 87,
     "metadata": {},
     "output_type": "execute_result"
    },
    {
     "data": {
      "image/png": "[encoded data removed]",
      "text/plain": [
       "<Figure size 432x288 with 1 Axes>"
      ]
     },
     "metadata": {
      "needs_background": "light"
     },
     "output_type": "display_data"
    }
   ],
   "source": [
    "plt.scatter(fit['V'],fit['x'])\n",
    "plt.xlabel('V')\n",
    "plt.ylabel('x')"
   ]
  },
  {
   "cell_type": "markdown",
   "metadata": {},
   "source": [
    "### Investigating where the divergent transitions are occuring"
   ]
  },
  {
   "cell_type": "code",
   "execution_count": 88,
   "metadata": {},
   "outputs": [],
   "source": [
    "samp_params=fit.get_sampler_params(inc_warmup=False)"
   ]
  },
  {
   "cell_type": "code",
   "execution_count": 89,
   "metadata": {},
   "outputs": [
    {
     "data": {
      "text/plain": [
       "odict_keys(['accept_stat__', 'stepsize__', 'treedepth__', 'n_leapfrog__', 'divergent__', 'energy__'])"
      ]
     },
     "execution_count": 89,
     "metadata": {},
     "output_type": "execute_result"
    }
   ],
   "source": [
    "samp_params[0].keys()"
   ]
  },
  {
   "cell_type": "code",
   "execution_count": 97,
   "metadata": {},
   "outputs": [],
   "source": [
    "div=np.concatenate([samp_params[i]['divergent__'] for i in range(0,len(samp_params))])\n"
   ]
  },
  {
   "cell_type": "code",
   "execution_count": 99,
   "metadata": {},
   "outputs": [
    {
     "data": {
      "text/plain": [
       "(4000,)"
      ]
     },
     "execution_count": 99,
     "metadata": {},
     "output_type": "execute_result"
    }
   ],
   "source": []
  },
  {
   "cell_type": "code",
   "execution_count": 100,
   "metadata": {},
   "outputs": [
    {
     "data": {
      "text/plain": [
       "<matplotlib.collections.PathCollection at 0x7f68b89f8150>"
      ]
     },
     "execution_count": 100,
     "metadata": {},
     "output_type": "execute_result"
    },
    {
     "data": {
      "image/png": "[encoded data removed]",
      "text/plain": [
       "<Figure size 432x288 with 1 Axes>"
      ]
     },
     "metadata": {
      "needs_background": "light"
     },
     "output_type": "display_data"
    }
   ],
   "source": [
    "plt.scatter(fit['V'],fit['x'])\n",
    "plt.xlabel('V')\n",
    "plt.ylabel('x')\n",
    "\n",
    "\n",
    "plt.scatter(fit['V'][div.astype(bool)],fit['x'][div.astype(bool)],c='r')\n"
   ]
  },
  {
   "cell_type": "markdown",
   "metadata": {},
   "source": [
    "### How to solve: Increase `adapt delta`"
   ]
  },
  {
   "cell_type": "code",
   "execution_count": 102,
   "metadata": {},
   "outputs": [
    {
     "name": "stderr",
     "output_type": "stream",
     "text": [
      "WARNING:pystan:Rhat above 1.1 or below 0.9 indicates that the chains very likely have not mixed\n",
      "WARNING:pystan:156 of 4000 iterations ended with a divergence (3.9 %).\n",
      "WARNING:pystan:Try running with adapt_delta larger than 0.95 to remove the divergences.\n",
      "WARNING:pystan:639 of 4000 iterations saturated the maximum tree depth of 10 (16 %)\n",
      "WARNING:pystan:Run again with max_treedepth larger than 10 to avoid saturation\n"
     ]
    }
   ],
   "source": [
    "fit=sm.sampling(data=data,control=dict(adapt_delta=0.95))"
   ]
  },
  {
   "cell_type": "markdown",
   "metadata": {},
   "source": [
    "### How to solve: Non-centred parameterisation"
   ]
  },
  {
   "cell_type": "markdown",
   "metadata": {},
   "source": [
    "This is our problem:\n",
    "$$\n",
    "V \\sim Normal(0,3)\n",
    "$$\n",
    "$$\n",
    "x \\sim Normal(0,exp(V))\n",
    "$$\n",
    "\n",
    "\n",
    "Think about other ways of expressing/rearranging parameters in a Normal distribution:\n",
    "$$ \n",
    "\\alpha \\sim Normal(\\mu, \\sigma)\n",
    "$$"
   ]
  },
  {
   "cell_type": "markdown",
   "metadata": {},
   "source": [
    "$$ \n",
    "\\alpha = \\mu + \\beta\n",
    "$$\n",
    "$$\n",
    "\\beta \\sim Normal(0,sigma)\n",
    "$$"
   ]
  },
  {
   "cell_type": "markdown",
   "metadata": {},
   "source": [
    "$$ \\alpha = \\mu + z\\sigma$$\n",
    "$$z \\sim Normal(0,1)$$\n",
    "This is what we call a non-centred parameterisation"
   ]
  },
  {
   "cell_type": "markdown",
   "metadata": {},
   "source": [
    "**Exercise convince yourself with `numpy`**\n",
    "i.e. \n",
    "* sample from a normal distribution with $\\mu=5$ and $\\sigma=2$\n",
    "* sample from a standard normal, multiply by $\\sigma$ and add $\\mu$\n",
    "* Plot the two distributions against each other\n",
    "\n"
   ]
  },
  {
   "cell_type": "code",
   "execution_count": 103,
   "metadata": {},
   "outputs": [],
   "source": [
    "s1=np.random.normal(5,2,1000)\n",
    "s2=np.random.normal(0,1,1000)\n",
    "s1_nc=5+2*s2"
   ]
  },
  {
   "cell_type": "code",
   "execution_count": 107,
   "metadata": {},
   "outputs": [
    {
     "data": {
      "image/png": "[encoded data removed]",
      "text/plain": [
       "<Figure size 432x288 with 1 Axes>"
      ]
     },
     "metadata": {
      "needs_background": "light"
     },
     "output_type": "display_data"
    }
   ],
   "source": [
    "plt.hist(s1,bins=np.arange(0,10,0.5),alpha=0.5);\n",
    "plt.hist(s1_nc,bins=np.arange(0,10,0.5),alpha=0.5);"
   ]
  },
  {
   "cell_type": "markdown",
   "metadata": {},
   "source": [
    "#### Back to our Stan model\n",
    "Our model becomes:\n",
    "$$ V \\sim Normal(0,3) $$\n",
    "$$ z \\sim Normal(0,1) $$\n",
    "$$x=z\\exp(V)+\\mu$$"
   ]
  },
  {
   "cell_type": "markdown",
   "metadata": {},
   "source": [
    "**Exercise**: Write this new model in Stan and sample from it"
   ]
  },
  {
   "cell_type": "code",
   "execution_count": 108,
   "metadata": {},
   "outputs": [],
   "source": [
    "model=\"\"\"\n",
    "data{\n",
    "real mu_V;\n",
    "real<lower=0.0> sig_V;\n",
    "real mu_x;\n",
    "}\n",
    "parameters {\n",
    "real V;\n",
    "real z;\n",
    "}\n",
    "\n",
    "transformed parameters {\n",
    "real x;\n",
    "x=mu_x+z*exp(V);\n",
    "} \n",
    "model {\n",
    "V~normal(mu_V,sig_V);\n",
    "z~normal(0,1);\n",
    "}\n",
    "\"\"\""
   ]
  },
  {
   "cell_type": "code",
   "execution_count": 109,
   "metadata": {},
   "outputs": [
    {
     "name": "stderr",
     "output_type": "stream",
     "text": [
      "INFO:pystan:COMPILING THE C++ CODE FOR MODEL anon_model_4cbc3ac36f3a1d110fc091be8c133d93 NOW.\n"
     ]
    }
   ],
   "source": [
    "nc_sm=pystan.StanModel(model_code=model)"
   ]
  },
  {
   "cell_type": "code",
   "execution_count": 110,
   "metadata": {},
   "outputs": [],
   "source": [
    "nc_fit=nc_sm.sampling(data=data)"
   ]
  },
  {
   "cell_type": "code",
   "execution_count": 111,
   "metadata": {},
   "outputs": [
    {
     "data": {
      "text/plain": [
       "Inference for Stan model: anon_model_4cbc3ac36f3a1d110fc091be8c133d93.\n",
       "4 chains, each with iter=2000; warmup=1000; thin=1; \n",
       "post-warmup draws per chain=1000, total post-warmup draws=4000.\n",
       "\n",
       "       mean se_mean     sd   2.5%    25%     50%    75%  97.5%  n_eff   Rhat\n",
       "V      0.01    0.05   3.07  -5.96  -1.99  8.2e-3   2.09   6.04   3534    1.0\n",
       "z     -0.03    0.02    1.0  -1.97   -0.7   -0.03   0.66   1.95   3775    1.0\n",
       "x    -58.75   31.54 1952.5 -122.5  -0.66 -1.1e-3    0.5  71.65   3831    1.0\n",
       "lp__  -1.02    0.02   1.01  -3.73   -1.4   -0.73   -0.3  -0.03   1812    1.0\n",
       "\n",
       "Samples were drawn using NUTS at Fri Jul 31 11:07:52 2020.\n",
       "For each parameter, n_eff is a crude measure of effective sample size,\n",
       "and Rhat is the potential scale reduction factor on split chains (at \n",
       "convergence, Rhat=1)."
      ]
     },
     "execution_count": 111,
     "metadata": {},
     "output_type": "execute_result"
    }
   ],
   "source": [
    "nc_fit"
   ]
  },
  {
   "cell_type": "code",
   "execution_count": 112,
   "metadata": {},
   "outputs": [
    {
     "data": {
      "text/plain": [
       "{'n_eff': True,\n",
       " 'Rhat': True,\n",
       " 'divergence': True,\n",
       " 'treedepth': True,\n",
       " 'energy': True}"
      ]
     },
     "execution_count": 112,
     "metadata": {},
     "output_type": "execute_result"
    }
   ],
   "source": [
    "pystan.diagnostics.check_hmc_diagnostics(nc_fit)"
   ]
  },
  {
   "cell_type": "markdown",
   "metadata": {},
   "source": [
    "### Why does this work\n",
    "Think about the parameters Stan is actually sampling (walking around)"
   ]
  },
  {
   "cell_type": "code",
   "execution_count": 113,
   "metadata": {},
   "outputs": [
    {
     "data": {
      "text/plain": [
       "Text(0, 0.5, 'z')"
      ]
     },
     "execution_count": 113,
     "metadata": {},
     "output_type": "execute_result"
    },
    {
     "data": {
      "image/png": "[encoded data removed]",
      "text/plain": [
       "<Figure size 432x288 with 1 Axes>"
      ]
     },
     "metadata": {
      "needs_background": "light"
     },
     "output_type": "display_data"
    }
   ],
   "source": [
    "plt.scatter(nc_fit['V'],nc_fit['z'])\n",
    "plt.xlabel('V')\n",
    "plt.ylabel('z')"
   ]
  },
  {
   "cell_type": "code",
   "execution_count": 114,
   "metadata": {},
   "outputs": [
    {
     "data": {
      "text/plain": [
       "Text(0, 0.5, 'x')"
      ]
     },
     "execution_count": 114,
     "metadata": {},
     "output_type": "execute_result"
    },
    {
     "data": {
      "image/png": "[encoded data removed]",
      "text/plain": [
       "<Figure size 432x288 with 1 Axes>"
      ]
     },
     "metadata": {
      "needs_background": "light"
     },
     "output_type": "display_data"
    }
   ],
   "source": [
    "plt.scatter(nc_fit['V'],nc_fit['x'])\n",
    "plt.xlabel('V')\n",
    "plt.ylabel('x')"
   ]
  },
  {
   "cell_type": "markdown",
   "metadata": {},
   "source": [
    "This trick is particularly useful when dealing with hierarchical models"
   ]
  },
  {
   "cell_type": "markdown",
   "metadata": {},
   "source": [
    "### Maximum Tree Depth\n",
    "* Not as serious\n",
    "* Hitting maximum tree depth will effect efficiency not validity of posterior\n",
    "\n",
    "Think back to NUTs and how it runs forward and backwards until it reaches a point where it is turning around. \n",
    "\n",
    "If the tree depth is reached, it means it hasn't been able to run the simulation long enough before it is turning around.\n",
    "\n",
    "We will see this problem when looking at an example in QR decomposition"
   ]
  },
  {
   "cell_type": "markdown",
   "metadata": {},
   "source": [
    "### BFMI Low\n",
    "Bayesian Fraction of Missing Information (BFMI). \n",
    "\n",
    "It is a measure of how efficiently each chain is exploring the posterior distribution\n",
    "\n",
    "A ratio of: energy distribution induced my momentum resampling over marginal energy distribution\n",
    "\n",
    "Can be betweeen 0 and 1\n",
    "\n",
    "*  greater than 0.2 ok\n",
    "* less than 0.2 bad\n",
    "\n",
    "See [https://arxiv.org/abs/1604.00695](https://arxiv.org/abs/1604.00695) for a detailed explanation."
   ]
  },
  {
   "cell_type": "markdown",
   "metadata": {},
   "source": [
    "Think about BFMI as momentum. If you have a long tailed posterior, you need a lot of momentum for particle to get there. HMC tends to use a Gaussian momentum proposal and it won't be able to provide enough momentum to explore tail."
   ]
  },
  {
   "cell_type": "markdown",
   "metadata": {},
   "source": [
    "[**From Stan website**](https://mc-stan.org/misc/warnings.html#maximum-treedepth-exceeded)\n",
    "> Recommendations:\n",
    "\n",
    "> * Look at the pairs plot to see which primitive parameters are correlated with the energy__ margin. There should be a negative relationship between lp__ and energy__ in the pairs plot, which is not a concern because lp__ is the logarithm of the posterior kernel rather than a primitive parameter.\n",
    "\n",
    "> * Reparameterize your model. The primitive parameters that are correlated with the energy__ margin in the pairs plot are a good place to start thinking about reparameterizations.\n",
    "\n",
    "> * You might try setting a higher value for the iter and / or warmup arguments. By default warmup is half of iter and iter is 2000 by default.\n"
   ]
  },
  {
   "cell_type": "code",
   "execution_count": null,
   "metadata": {},
   "outputs": [],
   "source": []
  }
 ],
 "metadata": {
  "kernelspec": {
   "display_name": "Python 3",
   "language": "python",
   "name": "python3"
  },
  "language_info": {
   "codemirror_mode": {
    "name": "ipython",
    "version": 3
   },
   "file_extension": ".py",
   "mimetype": "text/x-python",
   "name": "python",
   "nbconvert_exporter": "python",
   "pygments_lexer": "ipython3",
   "version": "3.7.6"
  }
 },
 "nbformat": 4,
 "nbformat_minor": 2
}
