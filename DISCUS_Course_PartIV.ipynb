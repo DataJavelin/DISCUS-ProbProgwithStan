{
 "cells": [
  {
   "cell_type": "code",
   "execution_count": 1,
   "metadata": {},
   "outputs": [],
   "source": [
    "from notebook.services.config import ConfigManager\n",
    "cm = ConfigManager()\n",
    "cm.update('livereveal', {\n",
    "        'width': 1024,\n",
    "        'height': 768,\n",
    "        'scroll': True,\n",
    "})\n",
    "import pandas as pd\n",
    "import pylab as plt\n",
    "import pystan\n",
    "import seaborn as sns\n",
    "import numpy as np\n",
    "from matplotlib.transforms import Transform\n",
    "from matplotlib.ticker import (\n",
    "    AutoLocator, AutoMinorLocator)\n",
    "%matplotlib inline"
   ]
  },
  {
   "cell_type": "markdown",
   "metadata": {},
   "source": [
    "![](./assets/DJlogo_alpha.png?raw=true)<!-- .element height=\"80%\" width=\"80%\" -->\n",
    "\n",
    "<http://www.DataJavelin.com>\n",
    "## Dr Peter Hurley "
   ]
  },
  {
   "cell_type": "markdown",
   "metadata": {},
   "source": [
    "## Understanding what Stan is doing\n",
    "\n",
    "Sampling from the Posterior using Hamiltonian Monte Carlo\n"
   ]
  },
  {
   "cell_type": "markdown",
   "metadata": {},
   "source": [
    "### Hamiltonian physics\n",
    "$$ \n",
    "H = T + V \n",
    "$$\n",
    "* $T = \\frac{p^2}{2m}$ kinetic energy\n",
    "* $V=V(q)$ potential energy\n",
    "* $H$ total energy of system (conserved)\n",
    "Hamiltonian mechanics can be used to describe systems where energy changes from kinetic to potential and back again over time\n"
   ]
  },
  {
   "cell_type": "markdown",
   "metadata": {},
   "source": [
    "### Hamiltonian Monte carlo\n",
    "* Potential energy = Posterior probability distribution\n"
   ]
  },
  {
   "cell_type": "markdown",
   "metadata": {},
   "source": [
    "### [HMC simulation](https://chi-feng.github.io/mcmc-demo/app.html?algorithm=HamiltonianMC&target=banana)\n",
    "* Doesn't get stuck as using gradient\n",
    "* BUT extra variables (momentum and energy) which provide useful diagnostics\n",
    "* Requires:\n",
    "    * gradients: curvature of log posterior (uses autodifferentation)\n",
    "    * 'mass' of particle\n",
    "    * Number of leaps \n",
    "    * Size of individual leaps\n",
    "   \n"
   ]
  },
  {
   "cell_type": "markdown",
   "metadata": {},
   "source": [
    "### What gets tuned\n",
    "* Number of leaps\n",
    "* Size of steps\n",
    "\n",
    "Problem: If you choose badly, you get back close to where you were i.e. inefficient"
   ]
  },
  {
   "cell_type": "markdown",
   "metadata": {},
   "source": [
    "### [NUTS](https://chi-feng.github.io/mcmc-demo/app.html?algorithm=NaiveNUTS&target=banana): No U turn sampler\n",
    "* Warm up phase to work out parameters\n",
    "* Runs both backwards and forwards and estimates where it is turning around\n",
    "* Picks parameters that optimise this behaviour"
   ]
  },
  {
   "cell_type": "markdown",
   "metadata": {},
   "source": [
    "![](./assets/HMC.png)"
   ]
  },
  {
   "cell_type": "markdown",
   "metadata": {},
   "source": [
    "## Other things to think about:\n",
    "* How many chains?\n",
    "* How many iterations?"
   ]
  },
  {
   "cell_type": "markdown",
   "metadata": {},
   "source": [
    "## When things go wrong\n"
   ]
  },
  {
   "cell_type": "markdown",
   "metadata": {},
   "source": [
    "### Divergent transitions\n",
    "\n",
    "\n",
    "* Energy hasn't been conserved\n",
    "* Physics approximation no longer valid\n",
    "* our samples are not properly sampling posterior\n",
    "\n",
    "The leap frog steps are a numerical approximation, not a smooth simulation\n",
    "\n",
    "* If they are too big or rollercoaster changes violently then the approximation will fail, energy not conserved.\n",
    "\n",
    "**BUT**: We diagnosing it is good. Other MCMC technqiues will also fail in same circumstances but you won't know"
   ]
  },
  {
   "cell_type": "markdown",
   "metadata": {},
   "source": [
    "### Example"
   ]
  },
  {
   "cell_type": "code",
   "execution_count": 24,
   "metadata": {},
   "outputs": [],
   "source": [
    "V=np.random.normal(0,3,10000)\n",
    "x=np.random.normal(0,np.exp(V),10000)"
   ]
  },
  {
   "cell_type": "code",
   "execution_count": 30,
   "metadata": {},
   "outputs": [
    {
     "data": {
      "text/plain": [
       "Text(0, 0.5, 'x')"
      ]
     },
     "execution_count": 30,
     "metadata": {},
     "output_type": "execute_result"
    },
    {
     "data": {
      "image/png": "[encoded data removed]",
      "text/plain": [
       "<Figure size 432x288 with 1 Axes>"
      ]
     },
     "metadata": {
      "needs_background": "light"
     },
     "output_type": "display_data"
    }
   ],
   "source": [
    "plt.scatter(V,x)\n",
    "plt.xlabel('V')\n",
    "plt.ylabel('x')"
   ]
  },
  {
   "cell_type": "code",
   "execution_count": 31,
   "metadata": {},
   "outputs": [],
   "source": [
    "model=\"\"\"\n",
    "data{\n",
    "real mu_V;\n",
    "real<lower=0.0> sig_V;\n",
    "real mu_x;\n",
    "}\n",
    "parameters {\n",
    "real V;\n",
    "real x;\n",
    "}\n",
    "\n",
    "model {\n",
    "\n",
    "V~normal(mu_V,sig_V);\n",
    "x~normal(0,exp(V));\n",
    "}\n",
    "\"\"\""
   ]
  },
  {
   "cell_type": "code",
   "execution_count": 32,
   "metadata": {},
   "outputs": [
    {
     "name": "stderr",
     "output_type": "stream",
     "text": [
      "INFO:pystan:COMPILING THE C++ CODE FOR MODEL anon_model_a68d63213d4f4514b96ae981dbe942dc NOW.\n"
     ]
    }
   ],
   "source": [
    "sm=pystan.StanModel(model_code=model)"
   ]
  },
  {
   "cell_type": "code",
   "execution_count": 33,
   "metadata": {},
   "outputs": [],
   "source": [
    "data={\n",
    "    'mu_V':0,\n",
    "    'sig_V':3,\n",
    "    'mu_x':0\n",
    "}"
   ]
  },
  {
   "cell_type": "code",
   "execution_count": 34,
   "metadata": {},
   "outputs": [
    {
     "name": "stderr",
     "output_type": "stream",
     "text": [
      "WARNING:pystan:Rhat above 1.1 or below 0.9 indicates that the chains very likely have not mixed\n",
      "WARNING:pystan:905 of 4000 iterations ended with a divergence (22.6 %).\n",
      "WARNING:pystan:Try running with adapt_delta larger than 0.8 to remove the divergences.\n"
     ]
    }
   ],
   "source": [
    "fit=sm.sampling(data=data)"
   ]
  },
  {
   "cell_type": "code",
   "execution_count": 37,
   "metadata": {},
   "outputs": [
    {
     "data": {
      "text/plain": [
       "Inference for Stan model: anon_model_a68d63213d4f4514b96ae981dbe942dc.\n",
       "4 chains, each with iter=2000; warmup=1000; thin=1; \n",
       "post-warmup draws per chain=1000, total post-warmup draws=4000.\n",
       "\n",
       "       mean se_mean     sd   2.5%    25%    50%    75%  97.5%  n_eff   Rhat\n",
       "V      2.67     0.8   1.93  -0.13   1.05   2.57   4.06   6.65      6   1.37\n",
       "x     11.01   10.06 168.95 -205.5  -8.13   0.08   6.29 413.37    282   1.01\n",
       "lp__  -3.65    1.05   2.76  -9.61  -5.55  -3.39  -1.45   0.11      7   1.32\n",
       "\n",
       "Samples were drawn using NUTS at Wed Jul 29 15:42:47 2020.\n",
       "For each parameter, n_eff is a crude measure of effective sample size,\n",
       "and Rhat is the potential scale reduction factor on split chains (at \n",
       "convergence, Rhat=1)."
      ]
     },
     "execution_count": 37,
     "metadata": {},
     "output_type": "execute_result"
    }
   ],
   "source": [
    "fit"
   ]
  },
  {
   "cell_type": "code",
   "execution_count": 36,
   "metadata": {},
   "outputs": [
    {
     "name": "stderr",
     "output_type": "stream",
     "text": [
      "WARNING:pystan:Rhat above 1.1 or below 0.9 indicates that the chains very likely have not mixed\n",
      "WARNING:pystan:905 of 4000 iterations ended with a divergence (22.6 %).\n",
      "WARNING:pystan:Try running with adapt_delta larger than 0.8 to remove the divergences.\n"
     ]
    },
    {
     "data": {
      "text/plain": [
       "{'n_eff': True,\n",
       " 'Rhat': False,\n",
       " 'divergence': False,\n",
       " 'treedepth': True,\n",
       " 'energy': True}"
      ]
     },
     "execution_count": 36,
     "metadata": {},
     "output_type": "execute_result"
    }
   ],
   "source": [
    "pystan.diagnostics.check_hmc_diagnostics(fit)"
   ]
  },
  {
   "cell_type": "code",
   "execution_count": 39,
   "metadata": {},
   "outputs": [
    {
     "data": {
      "text/plain": [
       "Text(0, 0.5, 'x')"
      ]
     },
     "execution_count": 39,
     "metadata": {},
     "output_type": "execute_result"
    },
    {
     "data": {
      "image/png": "[encoded data removed]",
      "text/plain": [
       "<Figure size 432x288 with 1 Axes>"
      ]
     },
     "metadata": {
      "needs_background": "light"
     },
     "output_type": "display_data"
    }
   ],
   "source": [
    "plt.scatter(fit['V'],fit['x'])\n",
    "plt.xlabel('V')\n",
    "plt.ylabel('x')"
   ]
  },
  {
   "cell_type": "markdown",
   "metadata": {},
   "source": [
    "### Investigating where the divergent transitions are occuring"
   ]
  },
  {
   "cell_type": "code",
   "execution_count": 40,
   "metadata": {},
   "outputs": [],
   "source": [
    "samp_params=fit.get_sampler_params(inc_warmup=False)"
   ]
  },
  {
   "cell_type": "code",
   "execution_count": 53,
   "metadata": {},
   "outputs": [
    {
     "data": {
      "text/plain": [
       "odict_keys(['accept_stat__', 'stepsize__', 'treedepth__', 'n_leapfrog__', 'divergent__', 'energy__'])"
      ]
     },
     "execution_count": 53,
     "metadata": {},
     "output_type": "execute_result"
    }
   ],
   "source": [
    "samp_params[0].keys()"
   ]
  },
  {
   "cell_type": "code",
   "execution_count": 47,
   "metadata": {},
   "outputs": [],
   "source": [
    "div=np.concatenate([samp_params[i]['divergent__'] for i in range(0,len(samp_params))])\n"
   ]
  },
  {
   "cell_type": "code",
   "execution_count": 51,
   "metadata": {},
   "outputs": [
    {
     "data": {
      "text/plain": [
       "<matplotlib.collections.PathCollection at 0x7f7e293e2290>"
      ]
     },
     "execution_count": 51,
     "metadata": {},
     "output_type": "execute_result"
    },
    {
     "data": {
      "image/png": "[encoded data removed]",
      "text/plain": [
       "<Figure size 432x288 with 1 Axes>"
      ]
     },
     "metadata": {
      "needs_background": "light"
     },
     "output_type": "display_data"
    }
   ],
   "source": [
    "plt.scatter(fit['V'],fit['x'])\n",
    "plt.xlabel('V')\n",
    "plt.ylabel('x')\n",
    "\n",
    "\n",
    "plt.scatter(fit['V'][div.astype(bool)],fit['x'][div.astype(bool)],c='r')\n"
   ]
  },
  {
   "cell_type": "markdown",
   "metadata": {},
   "source": [
    "### How to solve: Increase `adapt delta`"
   ]
  },
  {
   "cell_type": "code",
   "execution_count": 79,
   "metadata": {},
   "outputs": [
    {
     "name": "stderr",
     "output_type": "stream",
     "text": [
      "WARNING:pystan:382 of 4000 iterations ended with a divergence (9.55 %).\n",
      "WARNING:pystan:Try running with adapt_delta larger than 0.9 to remove the divergences.\n",
      "WARNING:pystan:3 of 4000 iterations saturated the maximum tree depth of 10 (0.075 %)\n",
      "WARNING:pystan:Run again with max_treedepth larger than 10 to avoid saturation\n",
      "WARNING:pystan:Chain 4: E-BFMI = 0.188\n",
      "WARNING:pystan:E-BFMI below 0.2 indicates you may need to reparameterize your model\n"
     ]
    }
   ],
   "source": [
    "fit=sm.sampling(data=data,control=dict(adapt_delta=0.9))"
   ]
  },
  {
   "cell_type": "markdown",
   "metadata": {},
   "source": [
    "### How to solve: Non-centred parameterisation"
   ]
  },
  {
   "cell_type": "markdown",
   "metadata": {},
   "source": [
    "This is our problem:\n",
    "$$\n",
    "V \\sim Normal(0,3)\n",
    "$$\n",
    "$$\n",
    "x \\sim Normal(0,V)\n",
    "$$\n",
    "\n",
    "**Exercise**:\n",
    "\n",
    "Think about other ways of expressing/rearranging parameters in a Normal distribution:\n",
    "$$ \n",
    "\\alpha \\sim Normal(\\mu, \\sigma)\n",
    "$$"
   ]
  },
  {
   "cell_type": "markdown",
   "metadata": {},
   "source": []
  },
  {
   "cell_type": "markdown",
   "metadata": {},
   "source": [
    "$$ \n",
    "\\alpha = \\mu + \\beta\n",
    "$$\n",
    "$$\n",
    "\\beta \\sim Normal(0,sigma)\n",
    "$$"
   ]
  },
  {
   "cell_type": "markdown",
   "metadata": {},
   "source": [
    "$$ \\alpha = \\mu + z\\sigma$$\n",
    "$$z \\sim Normal(0,1)$$\n",
    "This is what we call a non-centred parameterisation"
   ]
  },
  {
   "cell_type": "markdown",
   "metadata": {},
   "source": [
    "Our model becomes:\n",
    "$$ V \\sim Normal(0,3) $$\n",
    "$$ z \\sim Normal(0,1) $$\n",
    "$$x=z\\exp(V)$$"
   ]
  },
  {
   "cell_type": "markdown",
   "metadata": {},
   "source": [
    "**Exercise**: Write this new model in Stan and sample from it"
   ]
  },
  {
   "cell_type": "code",
   "execution_count": 63,
   "metadata": {},
   "outputs": [],
   "source": [
    "model=\"\"\"\n",
    "data{\n",
    "real mu_V;\n",
    "real<lower=0.0> sig_V;\n",
    "real mu_x;\n",
    "}\n",
    "parameters {\n",
    "real V;\n",
    "real z;\n",
    "}\n",
    "\n",
    "transformed parameters {\n",
    "real x;\n",
    "x=mu_x+z*exp(V);\n",
    "} \n",
    "model {\n",
    "V~normal(mu_V,sig_V);\n",
    "z~normal(0,1);\n",
    "}\n",
    "\"\"\""
   ]
  },
  {
   "cell_type": "code",
   "execution_count": 64,
   "metadata": {},
   "outputs": [
    {
     "name": "stderr",
     "output_type": "stream",
     "text": [
      "INFO:pystan:COMPILING THE C++ CODE FOR MODEL anon_model_4cbc3ac36f3a1d110fc091be8c133d93 NOW.\n"
     ]
    }
   ],
   "source": [
    "nc_sm=pystan.StanModel(model_code=model)"
   ]
  },
  {
   "cell_type": "code",
   "execution_count": 67,
   "metadata": {},
   "outputs": [],
   "source": [
    "nc_fit=nc_sm.sampling(data=data)"
   ]
  },
  {
   "cell_type": "code",
   "execution_count": 68,
   "metadata": {},
   "outputs": [
    {
     "data": {
      "text/plain": [
       "Inference for Stan model: anon_model_4cbc3ac36f3a1d110fc091be8c133d93.\n",
       "4 chains, each with iter=2000; warmup=1000; thin=1; \n",
       "post-warmup draws per chain=1000, total post-warmup draws=4000.\n",
       "\n",
       "       mean se_mean     sd   2.5%    25%    50%    75%  97.5%  n_eff   Rhat\n",
       "V     -0.04    0.05   3.04  -6.13  -2.06  -0.01   1.95   5.98   3653    1.0\n",
       "z    2.6e-3    0.02   0.99  -1.86  -0.69 9.0e-3    0.7   1.93   3781    1.0\n",
       "x     -1.55   12.53 778.19 -100.9  -0.57 7.9e-5   0.52  98.98   3856    1.0\n",
       "lp__  -1.01    0.02   0.99  -3.73   -1.4  -0.72   -0.3  -0.02   1942    1.0\n",
       "\n",
       "Samples were drawn using NUTS at Wed Jul 29 16:12:48 2020.\n",
       "For each parameter, n_eff is a crude measure of effective sample size,\n",
       "and Rhat is the potential scale reduction factor on split chains (at \n",
       "convergence, Rhat=1)."
      ]
     },
     "execution_count": 68,
     "metadata": {},
     "output_type": "execute_result"
    }
   ],
   "source": [
    "nc_fit"
   ]
  },
  {
   "cell_type": "code",
   "execution_count": 71,
   "metadata": {},
   "outputs": [
    {
     "data": {
      "text/plain": [
       "{'n_eff': True,\n",
       " 'Rhat': True,\n",
       " 'divergence': True,\n",
       " 'treedepth': True,\n",
       " 'energy': True}"
      ]
     },
     "execution_count": 71,
     "metadata": {},
     "output_type": "execute_result"
    }
   ],
   "source": [
    "pystan.diagnostics.check_hmc_diagnostics(nc_fit)"
   ]
  },
  {
   "cell_type": "markdown",
   "metadata": {},
   "source": [
    "### Why does this work\n",
    "Think about the parameters Stan is actually sampling (walking around)"
   ]
  },
  {
   "cell_type": "code",
   "execution_count": 77,
   "metadata": {},
   "outputs": [
    {
     "data": {
      "text/plain": [
       "Text(0, 0.5, 'z')"
      ]
     },
     "execution_count": 77,
     "metadata": {},
     "output_type": "execute_result"
    },
    {
     "data": {
      "image/png": "[encoded data removed]",
      "text/plain": [
       "<Figure size 432x288 with 1 Axes>"
      ]
     },
     "metadata": {
      "needs_background": "light"
     },
     "output_type": "display_data"
    }
   ],
   "source": [
    "plt.scatter(nc_fit['V'],nc_fit['z'])\n",
    "plt.xlabel('V')\n",
    "plt.ylabel('z')"
   ]
  },
  {
   "cell_type": "code",
   "execution_count": 74,
   "metadata": {},
   "outputs": [
    {
     "data": {
      "text/plain": [
       "Text(0, 0.5, 'x')"
      ]
     },
     "execution_count": 74,
     "metadata": {},
     "output_type": "execute_result"
    },
    {
     "data": {
      "image/png": "[encoded data removed]",
      "text/plain": [
       "<Figure size 432x288 with 1 Axes>"
      ]
     },
     "metadata": {
      "needs_background": "light"
     },
     "output_type": "display_data"
    }
   ],
   "source": [
    "plt.scatter(nc_fit['V'],nc_fit['x'])\n",
    "plt.xlabel('V')\n",
    "plt.ylabel('x')"
   ]
  },
  {
   "cell_type": "markdown",
   "metadata": {},
   "source": [
    "This trick is particularly useful when dealing with hierarchical models"
   ]
  },
  {
   "cell_type": "markdown",
   "metadata": {},
   "source": [
    "### Maximum Tree Depth\n",
    "When deciding how "
   ]
  },
  {
   "cell_type": "code",
   "execution_count": null,
   "metadata": {},
   "outputs": [],
   "source": []
  }
 ],
 "metadata": {
  "kernelspec": {
   "display_name": "Python 3",
   "language": "python",
   "name": "python3"
  },
  "language_info": {
   "codemirror_mode": {
    "name": "ipython",
    "version": 3
   },
   "file_extension": ".py",
   "mimetype": "text/x-python",
   "name": "python",
   "nbconvert_exporter": "python",
   "pygments_lexer": "ipython3",
   "version": "3.7.6"
  }
 },
 "nbformat": 4,
 "nbformat_minor": 2
}
