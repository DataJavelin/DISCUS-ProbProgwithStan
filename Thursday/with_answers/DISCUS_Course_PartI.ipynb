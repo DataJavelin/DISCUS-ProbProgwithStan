{
 "cells": [
  {
   "cell_type": "code",
   "execution_count": 1,
   "metadata": {},
   "outputs": [
    {
     "name": "stderr",
     "output_type": "stream",
     "text": [
      "INFO:matplotlib.font_manager:generated new fontManager\n"
     ]
    }
   ],
   "source": [
    "from IPython.display import display, Math, Latex\n",
    "import pystan\n",
    "import matplotlib.pyplot as plt\n",
    "import numpy as np"
   ]
  },
  {
   "cell_type": "markdown",
   "metadata": {},
   "source": [
    "![](../../assets/DJlogo_alpha.png?raw=true)<!-- .element height=\"80%\" width=\"80%\" -->\n",
    "\n",
    "<http://www.DataJavelin.com>\n",
    "## Dr Peter Hurley"
   ]
  },
  {
   "cell_type": "markdown",
   "metadata": {},
   "source": [
    "<h1> What is Probability? </h1>\n",
    "<br >"
   ]
  },
  {
   "cell_type": "markdown",
   "metadata": {},
   "source": [
    "<h2> Idea: Probability is the Long Run Expected Number of Occurances of an Event </h2>  \n",
    "<br />\n",
    "<br />\n",
    "   \n",
    "<p> When you roll a fair dice once it will come up with only one answer, but after doing this many times each outcome will occur 1/6 of the time. So the probability of an outcome is 1/6. </p>\n",
    "<br />\n",
    "<p> Another way of saying this: The probability of an event A is equal to the number of ways in which A can occur divided by the number of ways in which any event can happen. </p>   \n",
    "<br />  \n",
    "<p> This then helps us answer questions such as, what is the probability of drawing three aces in a row from a shuffled deck of cards? </p> \n",
    "<br />  \n",
    "<p> There are four ways of picking the first ace, out of 52 possible outcomes, three ways of picking the first ace, out of 51 possible outcomes, and two ways of picking the first ace, out of 50 possible outcomes. Therefore:  </p> \n"
   ]
  },
  {
   "cell_type": "markdown",
   "metadata": {},
   "source": [
    "\\begin{equation}\n",
    "P(3\\ Aces) = \\frac{4}{52} * \\frac{3}{51} * \\frac{2}{50} \n",
    "\\end{equation}"
   ]
  },
  {
   "cell_type": "markdown",
   "metadata": {},
   "source": [
    "## ***QUESTION***\n",
    "<p> We can also ask more nuanced questions, such as what is the probability of event A given event B. For example, what is the probability of a card is a King given it is a face card? <p>\n",
    "<br >\n"
   ]
  },
  {
   "cell_type": "markdown",
   "metadata": {},
   "source": [
    "\\begin{equation}\n",
    "P(A\\ |\\ B) =  \\frac{P(A \\cap\tB)}{P(B)}\n",
    "\\end{equation}\n",
    "\n"
   ]
  },
  {
   "cell_type": "markdown",
   "metadata": {},
   "source": [
    "\n",
    "\\begin{equation}\n",
    "P(King\\ |\\ Face\\ Card) =  \\frac{4}{12} =  \\frac{1}{3}\n",
    "\\end{equation}"
   ]
  },
  {
   "cell_type": "markdown",
   "metadata": {},
   "source": [
    "## ***QUESTION***\n",
    "<p> Suppose a family has two children and suppose one of the children is a boy. What is the probability that both children are boys? <p>\n",
    "   "
   ]
  },
  {
   "cell_type": "markdown",
   "metadata": {},
   "source": [
    "<p> Total number of ways in which a family can have two children: </p>\n",
    "    \n",
    "<br > \n",
    "\n",
    "<p> {BB}, {BG}, {GB}, {GG} </p>\n",
    "    \n",
    "<br > \n",
    "\n",
    "<p> Of these three involve at least one boy, and of these only one pairing is two boys so: </p>\n",
    "    \n",
    "<br > \n",
    "\n",
    "\n",
    "\\begin{equation}\n",
    "P(Two\\ Boys\\ |\\ One\\ child\\ definitely\\ a\\ boy) =  \\frac{1}{3}\n",
    "\\end{equation}\n",
    "\n",
    "<br >\n",
    "\n",
    "\n"
   ]
  },
  {
   "cell_type": "markdown",
   "metadata": {},
   "source": [
    "## ***QUESTION***\n",
    "\n",
    "The Monte Hall Problem:\n",
    "    \n",
    "Suppose you're on a game show, and you're given the choice of three doors: Behind one door is a car; behind the others, goats. You pick a door, say No. 1, and the host, who knows what's behind the doors, opens another door, say No. 3, which has a goat. He then says to you, \"Do you want to pick door No. 2?\" Is it to your advantage to switch your choice?\n"
   ]
  },
  {
   "cell_type": "markdown",
   "metadata": {},
   "source": [
    "\\begin{equation}\n",
    "P(Prize\\ behind\\ any\\ random\\ door) =  \\frac{1}{3}\n",
    "\\end{equation}\n",
    "\n",
    "<br >\n",
    "\n",
    "\\begin{equation}\n",
    "P(Keep\\ Door\\ 1\\ and\\ Win) =  \\frac{P(Prize\\ Door\\ 1\\ and\\ Host\\ Opens\\ Door\\ 3)}{Host\\ Opens\\ Door\\ 3} \n",
    "\\end{equation}\n",
    "\n",
    "<br >\n",
    "\n",
    "\\begin{equation}\n",
    "P(Prize\\ Door\\ 1\\ and\\ Host\\ Opens\\ Door\\ 3) =  \\frac{1}{3} * \\frac{1}{2}  =  \\frac{1}{6}\n",
    "\\end{equation}\n",
    "\n",
    "<br >\n",
    "\n",
    "<p> The probability the host opens door 3 depends on which door the prize is behind. </p>\n",
    "\n",
    "\\begin{equation}\n",
    "P(Host\\ Door\\ 3) =  P(Host\\ Door\\ 3\\ |\\ Prize\\ Door\\ 1) * P(Prize\\ Door\\ 1) + P(Host\\ Door\\ 3\\ |\\ Prize\\ Door\\ 2) * P(Prize\\ Door\\ 3)+ P(Host\\ Door\\ 3\\ |\\ Prize\\ Door\\ 3) * P(Prize\\ Door\\ 3) \n",
    "\\end{equation}\n",
    "\n",
    "<br >\n",
    "\n",
    "\\begin{equation}\n",
    "P(Host\\ Door\\ 3) = \\frac{1}{2} * \\frac{1}{3} + 1 * \\frac{1}{3} + 0*\\frac{1}{3} = \\frac{1}{2}\n",
    "\\end{equation}\n",
    "\n",
    "<br >\n",
    "\n",
    "<p> So the probability of winning if we keep our door is: </p>\n",
    "\n",
    "<br >\n",
    "\n",
    "\\begin{equation}\n",
    "P(Keep\\ Door\\ 1\\ and\\ Win) = \\frac{\\frac{1}{6}}{\\frac{1}{2}} = \\frac{1}{3}\n",
    "\\end{equation}\n",
    "\n",
    "<br > \n",
    "\n",
    "And so the probability of winning if we swap is: \n",
    "    \n",
    "\\begin{equation}\n",
    "P(Swap\\ Door\\ 2\\ and\\ Win) = 1 - \\frac{1}{3} =  \\frac{2}{3}\n",
    "\\end{equation}"
   ]
  },
  {
   "cell_type": "markdown",
   "metadata": {},
   "source": [
    "<p> We can manipulate these equations as in other areas of maths as we did above <p>\n",
    "<br >"
   ]
  },
  {
   "cell_type": "markdown",
   "metadata": {},
   "source": [
    "\\begin{equation}\n",
    "P(A\\ |\\ B) =  \\frac{P(A \\cap\tB)}{P(B)}\n",
    "\\end{equation}\n",
    "\n",
    "\\begin{equation}\n",
    "P(A \\cap\tB) = P(A) * P(B | A)\n",
    "\\end{equation}\n",
    "\n",
    "\\begin{equation}\n",
    "P(A \\cap\tB) = P(B) * P(A | B)\n",
    "\\end{equation}\n",
    "\n",
    "\\begin{equation}\n",
    "P(A) * P(B | A) = P(B) * P(A | B)\n",
    "\\end{equation}\n",
    "\n",
    "\\begin{equation}\n",
    "P(B | A) = \\frac{P(B) * P(A | B)}{P(A)}\n",
    "\\end{equation}"
   ]
  },
  {
   "cell_type": "markdown",
   "metadata": {},
   "source": [
    "<p> This last equation is Bayes Theorem, a source of heated debate among statisticians throughout the 20th century. </p>\n",
    "\n",
    "<br >\n",
    "\n",
    "<p> You may wonder what the fuss is as surely everyone accepts the above? </p>\n",
    "\n",
    "<br > \n",
    "\n",
    "<p> The issue comes in when we consider how far we can apply this equation. </p>"
   ]
  },
  {
   "cell_type": "markdown",
   "metadata": {},
   "source": [
    "## Probabilistic models \n",
    "* A model describes data that one could observe from a system\n",
    "* Uses probability theory to express all forms of uncertainty and noise associated with our model\n",
    "* Inverse probability (i.e. Bayes rule) to infer parameters, adapt models, make predictions and learn from data.\n",
    "\n",
    "\n",
    "<br >\n",
    "\n",
    "A good example of how Bayesian probability is more intuitive is to think of a situation such as the probability of rain, given the sky is cloudy, or that there is a sprinkler nearby. We use prior information to decide if it has rained, rather than just looking at the number of times it has rained in past.\n",
    "\n",
    "<br > \n",
    "\n",
    "Alternatively there can also be cases where a frequentist model breaks down. Suppose you are an astronomer looking at Saturn with an old telescope. Combining many measurements of the shape of the planet will not improve your result on resolving the shape. However given a model of how a planet with a ring or without you can test how well each model describes Saturn and infer the correct shape. \n",
    "\n",
    "<br>\n",
    "\n",
    "Other key cases are those in which you can never repeat the experiment, e.g. modelling how the universe grew since the big bang or the diversification of songbirds in the Andes. \n",
    "\n"
   ]
  },
  {
   "cell_type": "markdown",
   "metadata": {},
   "source": [
    "\\begin{equation}\n",
    "P(B | A) = \\frac{P(B) * P(A | B)}{P(A)}\n",
    "\\end{equation}\n",
    "\n",
    "$P(B | A)$ = Posterior\n",
    "\n",
    "$P(B)$ = Prior\n",
    "\n",
    "$P(A | B)$ = Likelihood\n",
    "\n",
    "$P(A)$ = Marginal Likelihood\n",
    "\n",
    "\n",
    "<br> \n",
    "\n",
    "<p> Transparent way of including model prior information <br > \n",
    "Gives full probability distribution\n",
    "</p>\n",
    "<br >\n",
    "\n",
    "<p> As the area under a posterior must equal one the marginal likelihood can be thought of as a normalistion value, and so the equation is often written as: </p>\n",
    "\n",
    "<br >\n",
    "\n",
    "\\begin{equation}\n",
    "P(B | A) \\propto P(B) * P(A | B)\n",
    "\\end{equation}\n",
    "\n",
    "<br >\n",
    "\n",
    "<p> In that case your posterior is your prior state of belief being updated by the new data. </p>\n",
    "\n",
    "<br > \n",
    "\n",
    "P(A) is actually an integral which is often difficult to solve, and must be done numerically,  motivates the need for MCMC type sampling. MCMC-like algorithms will generate points proportionally to the posterior values in each region. A simplistic way of thinking about this is a sampler generates some initial starting parameter values, calculates how well a model with these parameters explains the data and then generates a new set of parameter values nearby. If these new values are an improvement we always accept the new point and move there, otherwise we have a small chance we move there. The exact way in which this works varies by method.\n",
    "\n",
    "\n",
    "\n",
    "<p> So far so good, but there is a lot of debate and discomfort with how you choose an appropriate prior. However disagreements over what prior is used can at least be transparent, and the correct description of the current state of knowledge before new data is an important and necessary part of debate. </p>"
   ]
  },
  {
   "cell_type": "markdown",
   "metadata": {},
   "source": [
    "### Why bother with all this Bayesian probabilistic stuff?\n",
    "* Prior information help us extract more information from data"
   ]
  },
  {
   "cell_type": "markdown",
   "metadata": {},
   "source": [
    "### Prob. model of straight line\n",
    "$\\mathbf{y}=m\\mathbf{x}+c + \\epsilon$\n",
    "\n",
    "likelihood = $p(\\mathbf{y}|m,c,\\mathbf{x}) = \\mathcal{N}(m\\mathbf{x}+c,\\sigma^2)$\n",
    "\n",
    "prior = $p(m,c) = \\mathcal{N}(0,\\Sigma_p)$\n",
    "\n",
    "posterior (after a bit of maths)\n",
    "\n",
    "$p(m,c|\\mathbf{y},\\mathbf{x}) \\propto  \\mathcal{N}(\\sigma^{-2}(\\sigma^{-2}\\mathbf{x}\\mathbf{x}^T + \\Sigma_{p}^{-1})^{-1}\\mathbf{x}\\mathbf{y},$\n",
    "$\\sigma^{-2}\\mathbf{x}\\mathbf{x}^T + \\Sigma_{p}^{-1})$\n",
    "\n",
    "Simple example straight line, error only in y, simple gaussian prior\n",
    "\n",
    "What happens if intercept is positive? gets complicated fast"
   ]
  },
  {
   "cell_type": "markdown",
   "metadata": {},
   "source": [
    "![](../../assets/line_1.png?raw=true)\n"
   ]
  },
  {
   "cell_type": "markdown",
   "metadata": {},
   "source": [
    "![](../../assets/line_2.png?raw=true)\n"
   ]
  },
  {
   "cell_type": "markdown",
   "metadata": {},
   "source": [
    "Have prior information on intercept\n",
    "\n",
    "$c \\sim \\mathcal{N}(0.3,0.1)$"
   ]
  },
  {
   "cell_type": "markdown",
   "metadata": {},
   "source": [
    "![](../../assets/line_3.png?raw=true)\n"
   ]
  },
  {
   "cell_type": "markdown",
   "metadata": {},
   "source": [
    "![](../../assets/line_4.png?raw=true)\n",
    "\n"
   ]
  },
  {
   "cell_type": "markdown",
   "metadata": {},
   "source": [
    "\n",
    "* The uncertainty in our inferred model parameters contains information.\n",
    "\n",
    "* We do not want to just know the best answer, we\n",
    "want to know how uncertain we are.\n",
    "\n"
   ]
  },
  {
   "cell_type": "markdown",
   "metadata": {},
   "source": [
    "<img src=\"../../assets/max_like.png\" alt=\"Drawing\" style=\"width: 600px;\"/>\n",
    "\n",
    "<img src=\"../../assets/max_like_2.png\" alt=\"Drawing\" style=\"width: 600px;\"/>\n",
    "\n",
    "<img src=\"../../assets/curved_posterior.png\" alt=\"Drawing\" style=\"width: 600px;\"/>\n",
    "\n",
    "<img src=\"../../assets/curved_posterior_probx.png\" alt=\"Drawing\" style=\"width: 600px;\"/>\n",
    "\n",
    "<img src=\"../../assets/curved_posterior_proby.png\" alt=\"Drawing\" style=\"width: 600px;\"/>\n",
    "\n"
   ]
  },
  {
   "cell_type": "markdown",
   "metadata": {},
   "source": [
    "### The mode is an inappropriate measure of Probability mass for High D!!!\n",
    "\n",
    "Think about mass $m$ and density $\\rho$"
   ]
  },
  {
   "cell_type": "markdown",
   "metadata": {},
   "source": [
    "$$\n",
    "m=\\int \\rho dV\n",
    "$$\n",
    "\n",
    "Probability works in a similar way:\n",
    "\n",
    "$$\n",
    "\\mathbb{E}_{\\pi}[f]=\\int_{Q}\\pi(q)f(q)dq\n",
    "$$\n",
    "\n",
    "To compute expectations efficiently with MCMC, we want to spend time in areas of the posterior that will contribute most to the expectation.\n",
    "\n",
    "There is a balance between density and volume.. but how does volume change with number of dimensions??"
   ]
  },
  {
   "cell_type": "markdown",
   "metadata": {},
   "source": [
    "### 1D"
   ]
  },
  {
   "cell_type": "code",
   "execution_count": 34,
   "metadata": {},
   "outputs": [
    {
     "name": "stderr",
     "output_type": "stream",
     "text": [
      "/opt/conda/lib/python3.7/site-packages/ipykernel_launcher.py:1: MatplotlibDeprecationWarning: \n",
      "The 'normed' kwarg was deprecated in Matplotlib 2.1 and will be removed in 3.1. Use 'density' instead.\n",
      "  \"\"\"Entry point for launching an IPython kernel.\n"
     ]
    },
    {
     "data": {
      "text/plain": [
       "<matplotlib.lines.Line2D at 0x7fe42b3685d0>"
      ]
     },
     "execution_count": 34,
     "metadata": {},
     "output_type": "execute_result"
    },
    {
     "data": {
      "image/png": "[encoded data removed]",
      "text/plain": [
       "<Figure size 432x288 with 1 Axes>"
      ]
     },
     "metadata": {
      "needs_background": "light"
     },
     "output_type": "display_data"
    }
   ],
   "source": [
    "plt.hist(np.random.normal(0,1,50000),bins=np.arange(-4.25,4.25,0.5),normed=True,alpha=0.5);\n",
    "plt.axvline(x=-0.25,c='r')\n",
    "plt.axvline(x=0.25,c='r')\n",
    "\n",
    "plt.axvline(x=1.25,c='g')\n",
    "plt.axvline(x=1.75,c='g')"
   ]
  },
  {
   "cell_type": "markdown",
   "metadata": {},
   "source": [
    "Where is most of the mass?\n",
    "\n",
    "Centre (red): $0.4 \\times 0.5 = 0.2$\n",
    "\n",
    "Edge (green): $0.13 \\times 0.5 = 0.065$"
   ]
  },
  {
   "cell_type": "code",
   "execution_count": 44,
   "metadata": {},
   "outputs": [
    {
     "name": "stderr",
     "output_type": "stream",
     "text": [
      "/opt/conda/lib/python3.7/site-packages/ipykernel_launcher.py:2: MatplotlibDeprecationWarning: The 'normed' parameter of hist2d() has been renamed 'density' since Matplotlib 3.1; support for the old name will be dropped in 3.3.\n",
      "  \n"
     ]
    },
    {
     "data": {
      "text/plain": [
       "<matplotlib.colorbar.Colorbar at 0x7fe4338595d0>"
      ]
     },
     "execution_count": 44,
     "metadata": {},
     "output_type": "execute_result"
    },
    {
     "data": {
      "image/png": "[encoded data removed]",
      "text/plain": [
       "<Figure size 432x288 with 2 Axes>"
      ]
     },
     "metadata": {
      "needs_background": "light"
     },
     "output_type": "display_data"
    }
   ],
   "source": [
    "points=np.random.multivariate_normal([0,0],[[1,0],[0,1]],50000)\n",
    "plt.hist2d(points[:,0],points[:,1],bins=np.arange(-4.25,4.25,0.5),normed=True);\n",
    "plt.colorbar()"
   ]
  },
  {
   "cell_type": "markdown",
   "metadata": {},
   "source": [
    "Where is most of the mass?\n",
    "\n",
    "Centre (red):  $0.15×0.5^2=0.0375$\n",
    "\n",
    "Edge (green):  $\\approx 0.08 \\times 0.5^2 \\times 16=0.32$"
   ]
  },
  {
   "cell_type": "markdown",
   "metadata": {},
   "source": [
    "To identify the regions of parameter space that dominate expectations we should instead consider the product of density and volume. In high dimensions, the volume behaves very differently from the density, resulting in a tension that pushes the important regions of parameter space away from the mode further out towards the tails of the distribution into a region known as the **typical set**. The move to a thin shell with higher dimensions is called the **concentration of measure**.\n",
    "\n",
    "For more info, see this [blog post](https://mc-stan.org/users/documentation/case-studies/curse-dims.html)"
   ]
  },
  {
   "cell_type": "markdown",
   "metadata": {},
   "source": [
    "### Using Uncertianty in decision making means making better decisions\n",
    "\n",
    "* Business consider risk when making decisions\n",
    "* Uncertianty should be considered when making decisions based on predictions\n",
    "\n",
    "See [Blog post on Bayesian Decision making](https://pdh21.github.io/jekyll/update/2019/06/06/FACYNation_BDT.html)\n",
    "\n"
   ]
  },
  {
   "cell_type": "markdown",
   "metadata": {},
   "source": [
    "## Calculating the Posterior\n",
    "* Analytical approximation (often impossible)\n",
    "* Grid approximation (not efficient)\n",
    "* Quadratic approximation (limited)\n",
    "* Markov chain Monte Carlo (intensive)"
   ]
  },
  {
   "cell_type": "markdown",
   "metadata": {},
   "source": [
    "### [Comparing other MCMC techniques](https://chi-feng.github.io/mcmc-demo/app.html?algorithm=NaiveNUTS&target=banana)\n",
    "e.g. \n",
    "* Metropolis Hastings\n",
    "* Gibbs\n",
    "* Standard NUTS\n",
    "* Nested Sampling\n"
   ]
  },
  {
   "cell_type": "markdown",
   "metadata": {},
   "source": [
    "<br >\n",
    "\n",
    "## Probabilistic Programming\n",
    "*Define probability models & solve automatically*\n",
    "\n",
    "<img src=\"../../assets/probprog.png\" alt=\"Drawing\" style=\"width: 600px;\"/>\n",
    "\n",
    "[Good blog post on philosophy of Probabilistic Programming](https://www.oreilly.com/content/probabilistic-programming/)"
   ]
  },
  {
   "cell_type": "markdown",
   "metadata": {},
   "source": []
  },
  {
   "cell_type": "markdown",
   "metadata": {},
   "source": [
    "# Stan \n",
    "<img src=\"http://mc-stan.org/images/stan_logo.png\" alt=\"Drawing\" style=\"width: 100px;\"/>\n",
    "\n",
    "\n",
    "* Language for building probabilistic models\n",
    "* Algorithms for fitting probabilistic models\n",
    "* Interfaces for using probabilistic models \n",
    "\n"
   ]
  },
  {
   "cell_type": "markdown",
   "metadata": {},
   "source": [
    "### Other PPLs:\n",
    "* [Tensorflow probability](https://www.tensorflow.org/probability), formally Edward\n",
    "* [PyMC3 (soon PyMC4)](https://docs.pymc.io/)\n",
    "* [Pyro](http://docs.pyro.ai/en/stable/)"
   ]
  },
  {
   "cell_type": "markdown",
   "metadata": {},
   "source": [
    "## Language\n",
    "Specify probabilisitic model: the joint probability distribution function,\n",
    "\n",
    "$$p(\\theta,x)$$\n",
    "\n",
    "* $\\theta$ = parameters\n",
    "* $x$ = data\n",
    "* $p$ = model\n",
    "\n",
    "\n",
    "Stan is a language:\n",
    "* Statically typed, imperative\n",
    "* User can define programs using parameters, data and  $\\log p(\\theta,x)$\n",
    "* Any program can be written as long as $\\log p(\\theta,x)$ is differentiable\n",
    "\n",
    "\n",
    "Statically typed like C, C++. i.e. types declared at compile time rather than run time like Python.\n",
    "\n",
    "Imperative, you tell the compiler what you want to happen, step by step\n",
    "\n"
   ]
  },
  {
   "cell_type": "markdown",
   "metadata": {},
   "source": [
    "## Algorithms\n",
    "* Bayesian Inference: No U-Turn Hamiltonian Monte Carlo,\n",
    "    - $p(\\theta|x)$ approximated with $[\\theta^1,\\theta^2,..\\theta^N]$\n",
    "* Approximate Bayesian Inference: Variational Inference,\n",
    "    - $\\hat{p}(\\theta|x) \\approx q(\\hat{\\phi})$, where $\\phi = argmin_{\\phi} D_{KL}(q(\\theta|\\phi)||p(\\theta,x))$\n",
    "* Optimisation: Max \n",
    "    - $\\hat{\\theta} = argmax_{\\theta} p(\\theta,x)$\n",
    "    \n"
   ]
  },
  {
   "cell_type": "markdown",
   "metadata": {},
   "source": [
    "### The advantages of Stan and HMC"
   ]
  },
  {
   "cell_type": "markdown",
   "metadata": {},
   "source": [
    "* Uses gradient to traverse posterior more efficiently\n",
    "* It knows when there is a problem\n",
    "* Stan automatically tunes the parameters of HMC"
   ]
  },
  {
   "cell_type": "markdown",
   "metadata": {},
   "source": [
    "\n",
    "## Interfaces\n",
    "* CmdStan,PyStan,RStan\n",
    "* C++ API\n",
    "* C++ auto-diff library\n",
    "* Software built with Stan: RStanArm, brms, prophet"
   ]
  },
  {
   "cell_type": "markdown",
   "metadata": {},
   "source": [
    "## Writing a model in Stan\n",
    "* A Stan program is organized into a sequence of named blocks\n"
   ]
  },
  {
   "cell_type": "code",
   "execution_count": null,
   "metadata": {},
   "outputs": [],
   "source": [
    "example_model=\"\"\"functions {\n",
    "// ... function declarations and definitions ...\n",
    "}\n",
    "data {\n",
    "// ... declarations ...\n",
    "}\n",
    "transformed data {\n",
    "// ... declarations ... statements ...\n",
    "}\n",
    "parameters {\n",
    "// ... declarations ...\n",
    "} \n",
    "transformed parameters {\n",
    "// ... declarations ... statements ...}\n",
    "model {\n",
    "// ... declarations ... statements ...\n",
    "}\n",
    "generated quantities {\n",
    "// ... declarations ... statements ...\n",
    "}\n",
    "\"\"\""
   ]
  },
  {
   "cell_type": "markdown",
   "metadata": {},
   "source": [
    "### Other things to note:\n",
    "* Add comments with `\\\\`\n",
    "* Sampling statements with `~`\n",
    "* Can print output with `print()`\n",
    "* `;` at end of each line\n",
    "\n",
    "\n",
    "Documentation for Stan: https://mc-stan.org/docs/2_23/stan-users-guide/index.html\n"
   ]
  },
  {
   "cell_type": "markdown",
   "metadata": {},
   "source": [
    "<p> As an example lets consider a question of if a coin is fair or not. We begin with a flat prior and update it as we flip a coin. <p>\n",
    "\n",
    "\n",
    "\n"
   ]
  },
  {
   "cell_type": "code",
   "execution_count": 2,
   "metadata": {},
   "outputs": [
    {
     "name": "stderr",
     "output_type": "stream",
     "text": [
      "INFO:pystan:COMPILING THE C++ CODE FOR MODEL anon_model_83871b9f0690c538517d8bcb1cc4d317 NOW.\n"
     ]
    }
   ],
   "source": [
    "coin_model =\"\"\"// Inferring a Rate\n",
    "data { \n",
    "  int<lower=1> n; \n",
    "  int<lower=0> h;\n",
    "  real<lower=0.0,upper=1.0> mu;\n",
    "  real<lower=0.0,upper=10> sig;\n",
    "} \n",
    "parameters {\n",
    "  real<lower=0,upper=1> theta;\n",
    "} \n",
    "model {\n",
    "  // Prior Distribution for Rate Theta\n",
    "  theta ~ normal(mu, sig);\n",
    "  \n",
    "  // Observed Counts\n",
    "  h ~ binomial(n, theta);\n",
    "}\"\"\"\n",
    "\n",
    "sm=pystan.StanModel(model_code=coin_model)"
   ]
  },
  {
   "cell_type": "code",
   "execution_count": 3,
   "metadata": {},
   "outputs": [],
   "source": [
    "model_data={\n",
    "        'n':100,\n",
    "        'h':50,\n",
    "        'mu':0.5,\n",
    "        'sig':0.5\n",
    "}\n"
   ]
  },
  {
   "cell_type": "code",
   "execution_count": 5,
   "metadata": {},
   "outputs": [],
   "source": [
    "fit=sm.sampling(data=model_data,chains=4,iter=1000,seed=12329)"
   ]
  },
  {
   "cell_type": "code",
   "execution_count": 6,
   "metadata": {},
   "outputs": [
    {
     "data": {
      "text/plain": [
       "Inference for Stan model: anon_model_83871b9f0690c538517d8bcb1cc4d317.\n",
       "4 chains, each with iter=1000; warmup=500; thin=1; \n",
       "post-warmup draws per chain=500, total post-warmup draws=2000.\n",
       "\n",
       "        mean se_mean     sd   2.5%    25%    50%    75%  97.5%  n_eff   Rhat\n",
       "theta    0.5  2.0e-3   0.05   0.41   0.47    0.5   0.53   0.59    566   1.01\n",
       "lp__  -71.17    0.02   0.65 -73.06 -71.35 -70.92 -70.76  -70.7   1017    1.0\n",
       "\n",
       "Samples were drawn using NUTS at Thu Jul 30 10:54:32 2020.\n",
       "For each parameter, n_eff is a crude measure of effective sample size,\n",
       "and Rhat is the potential scale reduction factor on split chains (at \n",
       "convergence, Rhat=1)."
      ]
     },
     "execution_count": 6,
     "metadata": {},
     "output_type": "execute_result"
    }
   ],
   "source": [
    "fit"
   ]
  },
  {
   "cell_type": "code",
   "execution_count": 7,
   "metadata": {},
   "outputs": [
    {
     "data": {
      "image/png": "[encoded data removed]",
      "text/plain": [
       "<Figure size 432x288 with 1 Axes>"
      ]
     },
     "metadata": {
      "needs_background": "light"
     },
     "output_type": "display_data"
    },
    {
     "data": {
      "text/plain": [
       "<function matplotlib.pyplot.show(*args, **kw)>"
      ]
     },
     "execution_count": 7,
     "metadata": {},
     "output_type": "execute_result"
    },
    {
     "data": {
      "image/png": "[encoded data removed]",
      "text/plain": [
       "<Figure size 432x288 with 1 Axes>"
      ]
     },
     "metadata": {
      "needs_background": "light"
     },
     "output_type": "display_data"
    }
   ],
   "source": [
    "\n",
    "plt.plot(np.arange(0, fit['theta'].size), fit['theta'])\n",
    "plt.xlabel('Sample')\n",
    "plt.ylabel('Theta')\n",
    "plt.show()\n",
    "\n",
    "plt.hist(fit['theta'])\n",
    "plt.xlabel('Theta')\n",
    "plt.ylabel('Number of Samples')\n",
    "plt.show"
   ]
  },
  {
   "cell_type": "code",
   "execution_count": 8,
   "metadata": {},
   "outputs": [
    {
     "name": "stdout",
     "output_type": "stream",
     "text": [
      "Inference for Stan model: anon_model_83871b9f0690c538517d8bcb1cc4d317.\n",
      "4 chains, each with iter=1000; warmup=500; thin=1; \n",
      "post-warmup draws per chain=500, total post-warmup draws=2000.\n",
      "\n",
      "        mean se_mean     sd   2.5%    25%    50%    75%  97.5%  n_eff   Rhat\n",
      "theta   0.65  5.0e-3   0.13   0.38   0.57   0.66   0.75   0.88    667    1.0\n",
      "lp__   -8.21    0.03   0.71  -10.2  -8.38  -7.92  -7.75  -7.69    666    1.0\n",
      "\n",
      "Samples were drawn using NUTS at Thu Jul 30 10:58:53 2020.\n",
      "For each parameter, n_eff is a crude measure of effective sample size,\n",
      "and Rhat is the potential scale reduction factor on split chains (at \n",
      "convergence, Rhat=1).\n"
     ]
    },
    {
     "data": {
      "text/plain": [
       "<function matplotlib.pyplot.show(*args, **kw)>"
      ]
     },
     "execution_count": 8,
     "metadata": {},
     "output_type": "execute_result"
    },
    {
     "data": {
      "image/png": "[encoded data removed]",
      "text/plain": [
       "<Figure size 432x288 with 1 Axes>"
      ]
     },
     "metadata": {
      "needs_background": "light"
     },
     "output_type": "display_data"
    }
   ],
   "source": [
    "model_data={\n",
    "        'n':10,\n",
    "        'h':7,\n",
    "        'mu':0.5,\n",
    "        'sig':0.5\n",
    "}\n",
    "\n",
    "fit=sm.sampling(data=model_data,chains=4,iter=1000,seed=12329)\n",
    "\n",
    "print(fit)\n",
    "\n",
    "plt.hist(fit['theta'])\n",
    "plt.xlabel('Theta')\n",
    "plt.ylabel('Number of Samples')\n",
    "plt.show"
   ]
  },
  {
   "cell_type": "markdown",
   "metadata": {},
   "source": [
    "### Exercise:\n",
    "Using Python, generate some fake data for a coin tosses (i.e. ten flips) and fit the Stan model to sequential number of tosses and plot the results to see how the posterior changes as a function of the number of tosses."
   ]
  },
  {
   "cell_type": "code",
   "execution_count": null,
   "metadata": {},
   "outputs": [],
   "source": []
  },
  {
   "cell_type": "markdown",
   "metadata": {},
   "source": [
    "### The double coin toss game\n",
    "\n",
    "<p> Sometimes our data may come in a more complex form. For instance imagine if you have a game that involves coin tosses. You flip a coin until you flip a heads and a tails in a row. Your opponent flips a coin until they flip two heads in a row. All the information you have is who won each game. From this you want to understand if one coin was biased or not. </p>\n",
    "\n",
    "<p> As HT and HH in two coin flips are equally likely we may run the code above and see how close our theta value is to 0.5 <p>\n",
    "    \n",
    "<p> After 2,000 flips your opponent has won 747 times but you have won 1,253. </p>\n",
    "    \n",
    "    "
   ]
  },
  {
   "cell_type": "code",
   "execution_count": 11,
   "metadata": {},
   "outputs": [
    {
     "name": "stdout",
     "output_type": "stream",
     "text": [
      "Inference for Stan model: anon_model_83871b9f0690c538517d8bcb1cc4d317.\n",
      "4 chains, each with iter=1000; warmup=500; thin=1; \n",
      "post-warmup draws per chain=500, total post-warmup draws=2000.\n",
      "\n",
      "        mean se_mean     sd   2.5%    25%    50%    75%  97.5%  n_eff   Rhat\n",
      "theta   0.37  4.6e-4   0.01   0.35   0.37   0.37   0.38   0.39    526   1.01\n",
      "lp__   -1323    0.02   0.67  -1325  -1323  -1323  -1323  -1323    882   1.01\n",
      "\n",
      "Samples were drawn using NUTS at Thu Jul 30 12:10:57 2020.\n",
      "For each parameter, n_eff is a crude measure of effective sample size,\n",
      "and Rhat is the potential scale reduction factor on split chains (at \n",
      "convergence, Rhat=1).\n"
     ]
    },
    {
     "data": {
      "text/plain": [
       "<function matplotlib.pyplot.show(*args, **kw)>"
      ]
     },
     "execution_count": 11,
     "metadata": {},
     "output_type": "execute_result"
    },
    {
     "data": {
      "image/png": "[encoded data removed]",
      "text/plain": [
       "<Figure size 432x288 with 1 Axes>"
      ]
     },
     "metadata": {
      "needs_background": "light"
     },
     "output_type": "display_data"
    }
   ],
   "source": [
    "model_data={\n",
    "        'n':2000,\n",
    "        'h':747,\n",
    "        'mu':0.5,\n",
    "        'sig':0.5}\n",
    "\n",
    "fit=sm.sampling(data=model_data,chains=4,iter=1000,seed=12329)\n",
    "\n",
    "print(fit)\n",
    "\n",
    "plt.hist(fit['theta'])\n",
    "plt.xlabel('Theta')\n",
    "plt.ylabel('Number of Samples')\n",
    "plt.show"
   ]
  },
  {
   "cell_type": "markdown",
   "metadata": {},
   "source": [
    "<p> So can we conclusively say that our coin was biased? <p>\n",
    "    \n",
    "<p> Once again this is a case where we should have questioned our underlying assumptions, i.e. that both opponents had a 50% chance of winning. In future this will be covered in part by prior predictive checks which should give us intuition on how our model behaves. For now let us first generate data in the way described assuming both players have a fair coin </p>"
   ]
  },
  {
   "cell_type": "code",
   "execution_count": 12,
   "metadata": {},
   "outputs": [
    {
     "name": "stdout",
     "output_type": "stream",
     "text": [
      "762\n",
      "1238\n"
     ]
    }
   ],
   "source": [
    "bob_wins = 0\n",
    "alice_wins = 0\n",
    "\n",
    "for i in range(2000):\n",
    "    bob_seq = np.array([])\n",
    "    alice_seq = np.array([])\n",
    "    bob_poss_win = 0\n",
    "    alice_poss_win = 0\n",
    "    while bob_wins + alice_wins < 2000:\n",
    "        bob_seq = np.append(bob_seq, np.random.randint(2,size=1))\n",
    "        alice_seq = np.append(alice_seq, np.random.randint(2,size=1))\n",
    "        if np.prod((bob_seq.size > 1) and (bob_seq[-2:] == [0,0])):\n",
    "            bob_poss_win = 1\n",
    "        if np.prod((alice_seq.size > 1) and (alice_seq[-2:] == [0,1])):\n",
    "            alice_poss_win = 1\n",
    "        if (bob_poss_win == 1) and (alice_poss_win == 1):\n",
    "            bob_seq = np.array([])\n",
    "            alice_seq = np.array([])\n",
    "            bob_poss_win = 0\n",
    "            alice_poss_win = 0\n",
    "        elif bob_poss_win == 1:\n",
    "            bob_wins += 1 \n",
    "            bob_seq = np.array([])\n",
    "            alice_seq = np.array([])\n",
    "            bob_poss_win = 0\n",
    "        elif alice_poss_win == 1:\n",
    "            alice_wins += 1 \n",
    "            bob_seq = np.array([])\n",
    "            alice_seq = np.array([])\n",
    "            alice_poss_win = 0\n",
    "            \n",
    "print(bob_wins)\n",
    "print(alice_wins)\n"
   ]
  },
  {
   "cell_type": "markdown",
   "metadata": {},
   "source": [
    "<p> Understanding a problem deeply is important when building a model. Misunderstanding a model can lead to misinterpretation. In this case there is a subtle difference, if you need to flip HT and first flip a H you will not win if on the next coin toss you flip another H - but you are still only one flip away. If you need to flip HH and after one H toss flip a T, you are again two flips away from winning. </p>\n",
    "\n"
   ]
  },
  {
   "cell_type": "markdown",
   "metadata": {},
   "source": [
    "## Exercise:\n",
    "Create some fake data by sampling from a normal distribution with a known mean and standard deviation.\n",
    "\n",
    "Build a Stan model that fits that data and estimates the mean and standard deviation."
   ]
  },
  {
   "cell_type": "code",
   "execution_count": 22,
   "metadata": {},
   "outputs": [],
   "source": [
    "model=\"\"\"\n",
    "data {\n",
    "int<lower=0> N; //number of datapoints\n",
    "real x[N]; //x values\n",
    "}\n",
    "\n",
    "\n",
    "parameters {\n",
    "real mu; //mean of normal distribution\n",
    "real<lower=0.0> sigma;\n",
    "}\n",
    "\n",
    "model {\n",
    "\n",
    "sigma ~ cauchy(0,1);\n",
    "x ~ normal(mu,sigma);\n",
    "}\n",
    "\"\"\""
   ]
  },
  {
   "cell_type": "code",
   "execution_count": 23,
   "metadata": {},
   "outputs": [
    {
     "name": "stderr",
     "output_type": "stream",
     "text": [
      "INFO:pystan:COMPILING THE C++ CODE FOR MODEL anon_model_23840a14d34f49990979ae476b61c011 NOW.\n"
     ]
    }
   ],
   "source": [
    "sm=pystan.StanModel(model_code=model)"
   ]
  },
  {
   "cell_type": "code",
   "execution_count": 24,
   "metadata": {},
   "outputs": [],
   "source": [
    "x=np.random.normal(10,2,10)"
   ]
  },
  {
   "cell_type": "code",
   "execution_count": 25,
   "metadata": {},
   "outputs": [],
   "source": [
    "data={\n",
    "    'N':10,\n",
    "    'x':x\n",
    "}"
   ]
  },
  {
   "cell_type": "code",
   "execution_count": 26,
   "metadata": {},
   "outputs": [],
   "source": [
    "fit=sm.sampling(data=data,chains=4)"
   ]
  },
  {
   "cell_type": "code",
   "execution_count": 27,
   "metadata": {},
   "outputs": [
    {
     "data": {
      "text/plain": [
       "Inference for Stan model: anon_model_23840a14d34f49990979ae476b61c011.\n",
       "4 chains, each with iter=2000; warmup=1000; thin=1; \n",
       "post-warmup draws per chain=1000, total post-warmup draws=4000.\n",
       "\n",
       "        mean se_mean     sd   2.5%    25%    50%    75%  97.5%  n_eff   Rhat\n",
       "mu     10.16    0.02   0.79   8.57   9.66  10.16  10.67  11.69   2366    1.0\n",
       "sigma   2.45    0.01   0.61    1.6   2.02   2.35   2.75   3.94   2231    1.0\n",
       "lp__  -15.14    0.03   1.04 -17.92 -15.57 -14.81  -14.4 -14.11   1685    1.0\n",
       "\n",
       "Samples were drawn using NUTS at Thu Jul 30 12:31:05 2020.\n",
       "For each parameter, n_eff is a crude measure of effective sample size,\n",
       "and Rhat is the potential scale reduction factor on split chains (at \n",
       "convergence, Rhat=1)."
      ]
     },
     "execution_count": 27,
     "metadata": {},
     "output_type": "execute_result"
    }
   ],
   "source": [
    "fit"
   ]
  },
  {
   "cell_type": "code",
   "execution_count": 28,
   "metadata": {},
   "outputs": [
    {
     "data": {
      "text/plain": [
       "(array([  0.,   0.,   0.,   0.,   0.,   0.,   0.,   0.,   0.,   0.,   0.,\n",
       "          0.,   5.,   9.,  27.,  63., 122., 167., 261., 283., 293., 316.,\n",
       "        315., 298., 292., 224., 229., 188., 129., 136., 105.,  83.,  69.,\n",
       "         77.,  62.,  40.,  37.,  28.,  34.,  17.,  15.,  19.,   7.,   5.,\n",
       "         12.,   5.,   2.,   6.,   6.,   3.,   2.,   3.,   2.,   1.,   0.,\n",
       "          0.,   0.,   1.,   0.]),\n",
       " array([0. , 0.1, 0.2, 0.3, 0.4, 0.5, 0.6, 0.7, 0.8, 0.9, 1. , 1.1, 1.2,\n",
       "        1.3, 1.4, 1.5, 1.6, 1.7, 1.8, 1.9, 2. , 2.1, 2.2, 2.3, 2.4, 2.5,\n",
       "        2.6, 2.7, 2.8, 2.9, 3. , 3.1, 3.2, 3.3, 3.4, 3.5, 3.6, 3.7, 3.8,\n",
       "        3.9, 4. , 4.1, 4.2, 4.3, 4.4, 4.5, 4.6, 4.7, 4.8, 4.9, 5. , 5.1,\n",
       "        5.2, 5.3, 5.4, 5.5, 5.6, 5.7, 5.8, 5.9]),\n",
       " <a list of 59 Patch objects>)"
      ]
     },
     "execution_count": 28,
     "metadata": {},
     "output_type": "execute_result"
    },
    {
     "data": {
      "image/png": "[encoded data removed]",
      "text/plain": [
       "<Figure size 432x288 with 1 Axes>"
      ]
     },
     "metadata": {
      "needs_background": "light"
     },
     "output_type": "display_data"
    }
   ],
   "source": [
    "plt.hist(fit['sigma'],bins=np.arange(0,6,0.1))"
   ]
  },
  {
   "cell_type": "code",
   "execution_count": 30,
   "metadata": {},
   "outputs": [
    {
     "data": {
      "text/plain": [
       "(array([  0.,   0.,   0.,   0.,   0.,   0.,   0.,   1.,   0.,   0.,   0.,\n",
       "          2.,   0.,   2.,   1.,   1.,   4.,   6.,   8.,   2.,  11.,   9.,\n",
       "         10.,   9.,  18.,  24.,  24.,  42.,  42.,  61.,  48.,  69., 100.,\n",
       "        107., 139., 155., 163., 195., 188., 207., 209., 217., 219., 209.,\n",
       "        193., 180., 178., 161., 146., 114., 109.,  76.,  60.,  63.,  49.,\n",
       "         42.,  29.,  29.,  18.,  13.,   9.,   4.,   6.,   7.,   0.,   4.,\n",
       "          0.,   1.,   0.]),\n",
       " array([ 6. ,  6.1,  6.2,  6.3,  6.4,  6.5,  6.6,  6.7,  6.8,  6.9,  7. ,\n",
       "         7.1,  7.2,  7.3,  7.4,  7.5,  7.6,  7.7,  7.8,  7.9,  8. ,  8.1,\n",
       "         8.2,  8.3,  8.4,  8.5,  8.6,  8.7,  8.8,  8.9,  9. ,  9.1,  9.2,\n",
       "         9.3,  9.4,  9.5,  9.6,  9.7,  9.8,  9.9, 10. , 10.1, 10.2, 10.3,\n",
       "        10.4, 10.5, 10.6, 10.7, 10.8, 10.9, 11. , 11.1, 11.2, 11.3, 11.4,\n",
       "        11.5, 11.6, 11.7, 11.8, 11.9, 12. , 12.1, 12.2, 12.3, 12.4, 12.5,\n",
       "        12.6, 12.7, 12.8, 12.9]),\n",
       " <a list of 69 Patch objects>)"
      ]
     },
     "execution_count": 30,
     "metadata": {},
     "output_type": "execute_result"
    },
    {
     "data": {
      "image/png": "[encoded data removed]",
      "text/plain": [
       "<Figure size 432x288 with 1 Axes>"
      ]
     },
     "metadata": {
      "needs_background": "light"
     },
     "output_type": "display_data"
    }
   ],
   "source": [
    "plt.hist(fit['mu'],bins=np.arange(6,13,0.1))"
   ]
  },
  {
   "cell_type": "markdown",
   "metadata": {},
   "source": [
    "* What did you choose as a prior?\n",
    "* How did it affect your posterior?"
   ]
  },
  {
   "cell_type": "markdown",
   "metadata": {},
   "source": [
    "### Exercise:\n",
    "* Create some fake data for a linear regression model (i.e. $y=mx +c$)\n",
    "\n",
    "* Build a Stan model to fit the data\n",
    "\n",
    "* Look at results, compare posterior for slope and intercept"
   ]
  },
  {
   "cell_type": "code",
   "execution_count": 31,
   "metadata": {},
   "outputs": [],
   "source": [
    "m=3\n",
    "c=2\n",
    "x=np.arange(0,10)\n",
    "y=np.random.normal(m*x+c,1)"
   ]
  },
  {
   "cell_type": "code",
   "execution_count": 33,
   "metadata": {},
   "outputs": [
    {
     "data": {
      "text/plain": [
       "Text(0, 0.5, 'y')"
      ]
     },
     "execution_count": 33,
     "metadata": {},
     "output_type": "execute_result"
    },
    {
     "data": {
      "image/png": "[encoded data removed]",
      "text/plain": [
       "<Figure size 432x288 with 1 Axes>"
      ]
     },
     "metadata": {
      "needs_background": "light"
     },
     "output_type": "display_data"
    }
   ],
   "source": [
    "plt.plot(x,y,'o')\n",
    "plt.xlabel('x')\n",
    "plt.ylabel('y')"
   ]
  },
  {
   "cell_type": "code",
   "execution_count": 47,
   "metadata": {},
   "outputs": [],
   "source": [
    "model_code=\"\"\"\n",
    "data {\n",
    "int<lower=0> N;\n",
    "real x[N];\n",
    "real y[N];\n",
    "}\n",
    "\n",
    "parameters {\n",
    "real m;\n",
    "real c;\n",
    "real<lower=0.0> sigma;\n",
    "}\n",
    "\n",
    "model {\n",
    "sigma ~ cauchy(0,1);\n",
    " for( i in 1:N){\n",
    "y[i] ~ normal(m*x[i]+c,sigma);\n",
    "}\n",
    "}\n",
    "\"\"\""
   ]
  },
  {
   "cell_type": "code",
   "execution_count": 48,
   "metadata": {},
   "outputs": [
    {
     "name": "stderr",
     "output_type": "stream",
     "text": [
      "INFO:pystan:COMPILING THE C++ CODE FOR MODEL anon_model_d353f9caa8524d7e59c48efd239f8868 NOW.\n"
     ]
    }
   ],
   "source": [
    "sm=pystan.StanModel(model_code=model_code)"
   ]
  },
  {
   "cell_type": "code",
   "execution_count": 49,
   "metadata": {},
   "outputs": [],
   "source": [
    "data={\n",
    "    'N':x.size,\n",
    "    'x':x,\n",
    "    'y':y\n",
    "}"
   ]
  },
  {
   "cell_type": "code",
   "execution_count": 50,
   "metadata": {},
   "outputs": [],
   "source": [
    "fit=sm.sampling(data=data,chains=4)"
   ]
  },
  {
   "cell_type": "code",
   "execution_count": 51,
   "metadata": {},
   "outputs": [
    {
     "data": {
      "text/plain": [
       "Inference for Stan model: anon_model_d353f9caa8524d7e59c48efd239f8868.\n",
       "4 chains, each with iter=2000; warmup=1000; thin=1; \n",
       "post-warmup draws per chain=1000, total post-warmup draws=4000.\n",
       "\n",
       "        mean se_mean     sd   2.5%    25%    50%    75%  97.5%  n_eff   Rhat\n",
       "m       3.12  3.0e-3   0.11    2.9   3.06   3.12   3.19   3.34   1380    1.0\n",
       "c       1.67    0.02    0.6   0.47   1.31   1.66   2.03   2.87   1316    1.0\n",
       "sigma   0.98  7.0e-3   0.28   0.61   0.79   0.93   1.11   1.63   1558    1.0\n",
       "lp__   -5.12    0.04   1.44  -8.71  -5.74  -4.79  -4.08  -3.51   1126   1.01\n",
       "\n",
       "Samples were drawn using NUTS at Thu Jul 30 12:56:23 2020.\n",
       "For each parameter, n_eff is a crude measure of effective sample size,\n",
       "and Rhat is the potential scale reduction factor on split chains (at \n",
       "convergence, Rhat=1)."
      ]
     },
     "execution_count": 51,
     "metadata": {},
     "output_type": "execute_result"
    }
   ],
   "source": [
    "fit"
   ]
  },
  {
   "cell_type": "code",
   "execution_count": 52,
   "metadata": {},
   "outputs": [
    {
     "data": {
      "image/png": "[encoded data removed]",
      "text/plain": [
       "<Figure size 432x288 with 1 Axes>"
      ]
     },
     "metadata": {
      "needs_background": "light"
     },
     "output_type": "display_data"
    }
   ],
   "source": [
    "plt.hist(fit['m']);"
   ]
  },
  {
   "cell_type": "code",
   "execution_count": 53,
   "metadata": {},
   "outputs": [
    {
     "data": {
      "text/plain": [
       "(array([  10.,   31.,  231., 1012., 1756.,  783.,  143.,   25.,    6.,\n",
       "           3.]),\n",
       " array([-1.03229999, -0.41730846,  0.19768306,  0.81267459,  1.42766612,\n",
       "         2.04265765,  2.65764917,  3.2726407 ,  3.88763223,  4.50262375,\n",
       "         5.11761528]),\n",
       " <a list of 10 Patch objects>)"
      ]
     },
     "execution_count": 53,
     "metadata": {},
     "output_type": "execute_result"
    },
    {
     "data": {
      "image/png": "[encoded data removed]",
      "text/plain": [
       "<Figure size 432x288 with 1 Axes>"
      ]
     },
     "metadata": {
      "needs_background": "light"
     },
     "output_type": "display_data"
    }
   ],
   "source": [
    "plt.hist(fit['c'])"
   ]
  },
  {
   "cell_type": "code",
   "execution_count": 54,
   "metadata": {},
   "outputs": [
    {
     "data": {
      "text/plain": [
       "(array([6.180e+02, 2.064e+03, 9.930e+02, 2.330e+02, 5.900e+01, 1.800e+01,\n",
       "        1.000e+01, 2.000e+00, 1.000e+00, 2.000e+00]),\n",
       " array([0.42436697, 0.73397258, 1.04357818, 1.35318379, 1.66278939,\n",
       "        1.97239499, 2.2820006 , 2.5916062 , 2.9012118 , 3.21081741,\n",
       "        3.52042301]),\n",
       " <a list of 10 Patch objects>)"
      ]
     },
     "execution_count": 54,
     "metadata": {},
     "output_type": "execute_result"
    },
    {
     "data": {
      "image/png": "[encoded data removed]",
      "text/plain": [
       "<Figure size 432x288 with 1 Axes>"
      ]
     },
     "metadata": {
      "needs_background": "light"
     },
     "output_type": "display_data"
    }
   ],
   "source": [
    "plt.hist(fit['sigma'])"
   ]
  },
  {
   "cell_type": "code",
   "execution_count": 56,
   "metadata": {},
   "outputs": [
    {
     "data": {
      "text/plain": [
       "Text(0, 0.5, 'c')"
      ]
     },
     "execution_count": 56,
     "metadata": {},
     "output_type": "execute_result"
    },
    {
     "data": {
      "image/png": "[encoded data removed]",
      "text/plain": [
       "<Figure size 432x288 with 1 Axes>"
      ]
     },
     "metadata": {
      "needs_background": "light"
     },
     "output_type": "display_data"
    }
   ],
   "source": [
    "plt.scatter(fit['m'],fit['c'])\n",
    "plt.xlabel('m')\n",
    "plt.ylabel('c')"
   ]
  },
  {
   "cell_type": "code",
   "execution_count": 57,
   "metadata": {},
   "outputs": [
    {
     "data": {
      "text/plain": [
       "[<matplotlib.lines.Line2D at 0x7f5d4bc70f90>]"
      ]
     },
     "execution_count": 57,
     "metadata": {},
     "output_type": "execute_result"
    },
    {
     "data": {
      "image/png": "[encoded data removed]",
      "text/plain": [
       "<Figure size 432x288 with 1 Axes>"
      ]
     },
     "metadata": {
      "needs_background": "light"
     },
     "output_type": "display_data"
    }
   ],
   "source": [
    "plt.plot(fit['m'])"
   ]
  },
  {
   "cell_type": "markdown",
   "metadata": {},
   "source": [
    "### So far:\n",
    "* Introduced Probability theory\n",
    "* Provided motivation as to we want to use for science and machine learning\n",
    "* Stan is a PPL that we can use to build probabilisitic models\n",
    "* Can build some simple Stan models"
   ]
  },
  {
   "cell_type": "code",
   "execution_count": null,
   "metadata": {},
   "outputs": [],
   "source": []
  },
  {
   "cell_type": "code",
   "execution_count": null,
   "metadata": {},
   "outputs": [],
   "source": []
  },
  {
   "cell_type": "code",
   "execution_count": null,
   "metadata": {},
   "outputs": [],
   "source": []
  }
 ],
 "metadata": {
  "kernelspec": {
   "display_name": "Python 3",
   "language": "python",
   "name": "python3"
  },
  "language_info": {
   "codemirror_mode": {
    "name": "ipython",
    "version": 3
   },
   "file_extension": ".py",
   "mimetype": "text/x-python",
   "name": "python",
   "nbconvert_exporter": "python",
   "pygments_lexer": "ipython3",
   "version": "3.7.6"
  }
 },
 "nbformat": 4,
 "nbformat_minor": 2
}
