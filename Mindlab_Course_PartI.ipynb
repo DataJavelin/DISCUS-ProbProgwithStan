{
 "cells": [
  {
   "cell_type": "code",
   "execution_count": 2,
   "metadata": {},
   "outputs": [],
   "source": [
    "from IPython.display import display, Math, Latex\n",
    "import pystan\n",
    "import matplotlib.pyplot as plt\n",
    "import numpy as np"
   ]
  },
  {
   "cell_type": "markdown",
   "metadata": {},
   "source": [
    "![](./assets/DJlogo_alpha.png?raw=true)<!-- .element height=\"80%\" width=\"80%\" -->\n",
    "\n",
    "<http://www.DataJavelin.com>\n",
    "## Dr Peter Hurley & Dr Phil Rooney"
   ]
  },
  {
   "cell_type": "markdown",
   "metadata": {},
   "source": [
    "## Data Science\n",
    "\n",
    "$$Data + Model = Prediction$$\n",
    "* *Extracting information from Data*<!-- .element: class=\"fragment\" -->\n",
    "* *Using information to make predictions, decisions etc*<!-- .element: class=\"fragment\" -->"
   ]
  },
  {
   "cell_type": "markdown",
   "metadata": {},
   "source": [
    "<h1> What is Probability? </h1>\n",
    "<br >"
   ]
  },
  {
   "cell_type": "markdown",
   "metadata": {},
   "source": [
    "<h2> Idea: Probability is the Long Run Expected Number of Occurances of an Event </h2>  \n",
    "<br />\n",
    "<br />\n",
    "   \n",
    "<p> When you roll a fair dice once it will come up with only one answer, but after doing this many times each outcome will occur 1/6 of the time. So the probability of an outcome is 1/6. </p>\n",
    "<br />\n",
    "<p> Another way of saying this: The probability of an event A is equal to the number of ways in which A can occur divided by the number of ways in which any event can happen. </p>   \n",
    "<br />  \n",
    "<p> This then helps us answer questions such as, what is the probability of drawing three aces in a row from a shuffled deck of cards? </p> \n",
    "<br />  \n",
    "<p> There are four ways of picking the first ace, out of 52 possible outcomes, three ways of picking the first ace, out of 51 possible outcomes, and two ways of picking the first ace, out of 50 possible outcomes. Therefore:  </p> \n"
   ]
  },
  {
   "cell_type": "markdown",
   "metadata": {},
   "source": [
    "\\begin{equation}\n",
    "P(3\\ Aces) = \\frac{4}{52} * \\frac{3}{51} * \\frac{2}{50} \n",
    "\\end{equation}"
   ]
  },
  {
   "cell_type": "markdown",
   "metadata": {},
   "source": [
    "<p> We can also ask more nuanced questions, such as what is the probability of event A given event B. For example, what is the probability of a card is a King given it is a face card? <p>\n",
    "<br >\n"
   ]
  },
  {
   "cell_type": "markdown",
   "metadata": {},
   "source": [
    "\\begin{equation}\n",
    "P(A\\ |\\ B) =  \\frac{P(A \\cap\tB)}{P(B)}\n",
    "\\end{equation}\n",
    "\n",
    "\\begin{equation}\n",
    "P(King\\ |\\ Face\\ Card) =  \\frac{4}{12} =  \\frac{1}{3}\n",
    "\\end{equation}\n"
   ]
  },
  {
   "cell_type": "markdown",
   "metadata": {},
   "source": [
    "<p> Suppose a family has two children and suppose one of the children is a boy. What is the probability that both children are boys? <p>\n",
    "   "
   ]
  },
  {
   "cell_type": "markdown",
   "metadata": {},
   "source": [
    "<p> Total number of ways in which a family can have two children: </p>\n",
    "    \n",
    "<br > \n",
    "\n",
    "<p> {BB}, {BG}, {GB}, {GG} </p>\n",
    "    \n",
    "<br > \n",
    "\n",
    "<p> Of these three involve at least one boy, and of these only one pairing is two boys so: </p>\n",
    "    \n",
    "<br > \n",
    "\n",
    "\n",
    "\\begin{equation}\n",
    "P(Two\\ Boys\\ |\\ One\\ child\\ definitely\\ a\\ boy) =  \\frac{1}{3}\n",
    "\\end{equation}\n",
    "\n",
    "<br >\n",
    "\n",
    "<p> A nice extension to this problem is: Suppose a family has two children and suppose one of the children is a boy born on a Tuesday. What is the probability that both children are boys? <p>\n"
   ]
  },
  {
   "cell_type": "markdown",
   "metadata": {},
   "source": [
    "<p> The Monte Hall Problem:Suppose you're on a game show, and you're given the choice of three doors: Behind one door is a car; behind the others, goats. You pick a door, say No. 1, and the host, who knows what's behind the doors, opens another door, say No. 3, which has a goat. He then says to you, \"Do you want to pick door No. 2?\" Is it to your advantage to switch your choice? <p>\n",
    "<br >"
   ]
  },
  {
   "cell_type": "markdown",
   "metadata": {},
   "source": [
    "\\begin{equation}\n",
    "P(Prize\\ behind\\ any\\ random\\ door) =  \\frac{1}{3}\n",
    "\\end{equation}\n",
    "\n",
    "<br >\n",
    "\n",
    "\\begin{equation}\n",
    "P(Keep\\ Door\\ 1\\ and\\ Win) =  \\frac{P(Prize\\ Door\\ 1\\ and\\ Host\\ Opens\\ Door\\ 3)}{Host\\ Opens\\ Door\\ 3} \n",
    "\\end{equation}\n",
    "\n",
    "<br >\n",
    "\n",
    "\\begin{equation}\n",
    "P(Prize\\ Door\\ 1\\ and\\ Host\\ Opens\\ Door\\ 3) =  \\frac{1}{3} * \\frac{1}{2}  =  \\frac{1}{6}\n",
    "\\end{equation}\n",
    "\n",
    "<br >\n",
    "\n",
    "<p> The probability the host opens door 3 depends on which door the prize is behind. </p>\n",
    "\n",
    "\\begin{equation}\n",
    "P(Host\\ Door\\ 3) =  P(Host\\ Door\\ 3\\ |\\ Prize\\ Door\\ 1) * P(Prize\\ Door\\ 1) + P(Host\\ Door\\ 3\\ |\\ Prize\\ Door\\ 2) * P(Prize\\ Door\\ 3)+ P(Host\\ Door\\ 3\\ |\\ Prize\\ Door\\ 2) * P(Prize\\ Door\\ 3) \n",
    "\\end{equation}\n",
    "\n",
    "<br >\n",
    "\n",
    "\\begin{equation}\n",
    "P(Host\\ Door\\ 3) = \\frac{1}{2} * \\frac{1}{3} + 1 * \\frac{1}{3} + 0*\\frac{1}{3} = \\frac{1}{2}\n",
    "\\end{equation}\n",
    "\n",
    "<br >\n",
    "\n",
    "<p> So the probability of winning if we keep our door is: </p>\n",
    "\n",
    "<br >\n",
    "\n",
    "\\begin{equation}\n",
    "P(Keep\\ Door\\ 1\\ and\\ Win) = \\frac{\\frac{1}{6}}{\\frac{1}{2}} = \\frac{1}{3}\n",
    "\\end{equation}\n",
    "\n",
    "<br > \n",
    "\n",
    "<p> And so the probability of winning if we swap is: <\\p>\n",
    "    \n",
    "\\begin{equation}\n",
    "P(Swap\\ Door\\ 2\\ and\\ Win) = 1 - \\frac{1}{3} =  \\frac{2}{3}\n",
    "\\end{equation}"
   ]
  },
  {
   "cell_type": "markdown",
   "metadata": {},
   "source": [
    "<p> We can manipulate these equations as in other areas of maths as we did above <p>\n",
    "<br >"
   ]
  },
  {
   "cell_type": "markdown",
   "metadata": {},
   "source": [
    "\\begin{equation}\n",
    "P(A\\ |\\ B) =  \\frac{P(A \\cap\tB)}{P(B)}\n",
    "\\end{equation}\n",
    "\n",
    "\\begin{equation}\n",
    "P(A \\cap\tB) = P(A) * P(B | A)\n",
    "\\end{equation}\n",
    "\n",
    "\\begin{equation}\n",
    "P(A \\cap\tB) = P(B) * P(A | B)\n",
    "\\end{equation}\n",
    "\n",
    "\\begin{equation}\n",
    "P(A) * P(B | A) = P(B) * P(A | B)\n",
    "\\end{equation}\n",
    "\n",
    "\\begin{equation}\n",
    "P(B | A) = \\frac{P(B) * P(A | B)}{P(A)}\n",
    "\\end{equation}"
   ]
  },
  {
   "cell_type": "markdown",
   "metadata": {},
   "source": [
    "<p> This last equation is Bayes Theorem, a source of heated debate among statisticians throughout the 20th century. </p>\n",
    "\n",
    "<br >\n",
    "\n",
    "<p> You may wonder what the fuss is as surely everyone accepts the above? </p>\n",
    "\n",
    "<br > \n",
    "\n",
    "<p> The issue comes in when we consider how far we can apply this equation. </p>"
   ]
  },
  {
   "cell_type": "markdown",
   "metadata": {},
   "source": [
    "## Probabilistic models \n",
    "* A model describes data that one could observe from a system\n",
    "* Uses probability theory to express all forms of uncertainty and noise associated with our model\n",
    "* Inverse probability (i.e. Bayes rule) to infer parameters, adapt models, make predictions and learn from data.\n",
    "\n",
    "\n",
    "<br >\n",
    "\n",
    "A good example of how Bayesian probability is more intuitive is to think of a situation such as the probability of rain, given the sky is cloudy, or that there is a sprinkler nearby. We use prior information to decide if it has rained, rather than just looking at the number of times it has rained in past.\n",
    "\n",
    "<br > \n",
    "\n",
    "Alternatively there can also be cases where a frequentist model breaks down. Suppose you are an astronomer looking at Saturn with an old telescope. Combining many measurements of the shape of the planet will not improve your result on resolving the shape. However given a model of how a planet with a ring or without you can test how well each model describes Saturn and infer the correct shape. \n",
    "\n",
    "<br>\n",
    "\n",
    "Other key cases are those in which you can never repeat the experiment, e.g. modelling how the universe grew since the big bang or the diversification of songbirds in the Andes. \n",
    "\n"
   ]
  },
  {
   "cell_type": "markdown",
   "metadata": {},
   "source": [
    "\\begin{equation}\n",
    "P(B | A) = \\frac{P(B) * P(A | B)}{P(A)}\n",
    "\\end{equation}\n",
    "\n",
    "<p> P(B | A) = Posterior <br >\n",
    "    P(B) = Prior <br >\n",
    "    P(A | B) = Likelihood <br >\n",
    "    P(A) = Marginal Likelihood <br >\n",
    "</p>\n",
    "\n",
    "<br> \n",
    "\n",
    "<p> Transparent way of including model prior information <br > \n",
    "Gives full probability distribution\n",
    "</p>\n",
    "<br >\n",
    "\n",
    "<p> As the area under a posterior must equal one the marginal likelihood can be thought of as a normalistion value, and so the equation is often written as: </p>\n",
    "\n",
    "<br >\n",
    "\n",
    "\\begin{equation}\n",
    "P(B | A) \\propto P(B) * P(A | B)\n",
    "\\end{equation}\n",
    "\n",
    "<br >\n",
    "\n",
    "<p> In that case your posterior is your prior state of belief being updated by the new data. </p>\n",
    "\n",
    "<br > \n",
    "\n",
    "<p> More precisely however you P(A) is actually an integral which is often difficult to solve, and must be done numerically,  motivates the need for MCMC type sampling. MCMC-like algorithms will generate points proportionally to the posterior values in each region. A simplistic way of thinking about this is a sampler generates some initial starting parameter values, calculates how well a model with these parameters explains the data and then generates a new set of parameter values nearby. If these new values are an improvement we always accept the new point and move there, otherwise we have a small chance we move there. The exact way in which this works varies by method. <p>\n",
    "\n",
    "<br > \n",
    "\n",
    "<p> So far so good, but there is a lot of debate and discomfort with how you choose an appropriate prior. However disagreements over what prior is used can at least be transparent, and the correct description of the current state of knowledge before new data is an important and necessary part of debate. </p>"
   ]
  },
  {
   "cell_type": "markdown",
   "metadata": {},
   "source": [
    "### Why bother with all this Bayesian probabilistic stuff?\n",
    "* Prior information help us extract more information from data"
   ]
  },
  {
   "cell_type": "markdown",
   "metadata": {},
   "source": [
    "### Prob. model of straight line\n",
    "$\\mathbf{y}=m\\mathbf{x}+c + \\epsilon$\n",
    "\n",
    "likelihood = $p(\\mathbf{y}|m,c,\\mathbf{x}) = \\mathcal{N}(m\\mathbf{x}+c,\\sigma^2)$\n",
    "\n",
    "prior = $p(m,c) = \\mathcal{N}(0,\\Sigma_p)$\n",
    "\n",
    "posterior (after a bit of maths)\n",
    "\n",
    "$p(m,c|\\mathbf{y},\\mathbf{x}) \\propto  \\mathcal{N}(\\sigma^{-2}(\\sigma^{-2}\\mathbf{x}\\mathbf{x}^T + \\Sigma_{p}^{-1})^{-1}\\mathbf{x}\\mathbf{y},$\n",
    "$\\sigma^{-2}\\mathbf{x}\\mathbf{x}^T + \\Sigma_{p}^{-1})$\n",
    "\n",
    "Simple example straight line, error only in y, simple gaussian prior\n",
    "\n",
    "What happens if intercept is positive? gets complicated fast"
   ]
  },
  {
   "cell_type": "markdown",
   "metadata": {},
   "source": [
    "![](./assets/line_1.png?raw=true)\n"
   ]
  },
  {
   "cell_type": "markdown",
   "metadata": {},
   "source": [
    "![](./assets/line_2.png?raw=true)\n"
   ]
  },
  {
   "cell_type": "markdown",
   "metadata": {},
   "source": [
    "Have prior information on intercept\n",
    "\n",
    "$c \\sim \\mathcal{N}(0.3,0.1)$"
   ]
  },
  {
   "cell_type": "markdown",
   "metadata": {},
   "source": [
    "![](./assets/line_3.png?raw=true)\n"
   ]
  },
  {
   "cell_type": "markdown",
   "metadata": {},
   "source": [
    "![](./assets/line_4.png?raw=true)\n",
    "\n"
   ]
  },
  {
   "cell_type": "markdown",
   "metadata": {},
   "source": [
    "\n",
    "* The uncertainty in our inferred model parameters contains information.\n",
    "\n",
    "* We do not want to just know the best answer, we\n",
    "want to know how uncertain we are.\n",
    "\n"
   ]
  },
  {
   "cell_type": "markdown",
   "metadata": {},
   "source": [
    "<img src=\"./assets/max_like.png\" alt=\"Drawing\" style=\"width: 600px;\"/>\n",
    "\n",
    "<img src=\"./assets/max_like_2.png\" alt=\"Drawing\" style=\"width: 600px;\"/>\n",
    "\n",
    "<img src=\"./assets/curved_posterior.png\" alt=\"Drawing\" style=\"width: 600px;\"/>\n",
    "\n",
    "<img src=\"./assets/curved_posterior_probx.png\" alt=\"Drawing\" style=\"width: 600px;\"/>\n",
    "\n",
    "<img src=\"./assets/curved_posterior_proby.png\" alt=\"Drawing\" style=\"width: 600px;\"/>\n",
    "\n"
   ]
  },
  {
   "cell_type": "markdown",
   "metadata": {},
   "source": [
    "### Using Uncertianty in decision making means making better decisions\n",
    "\n",
    "* Business consider risk when making decisions\n",
    "* Uncertianty should be considered when making decisions based on predictions\n",
    "\n",
    "See [Blog post on Bayesian Decision making](https://pdh21.github.io/jekyll/update/2019/06/06/FACYNation_BDT.html)\n",
    "\n"
   ]
  },
  {
   "cell_type": "markdown",
   "metadata": {},
   "source": []
  },
  {
   "cell_type": "markdown",
   "metadata": {},
   "source": [
    "# Stan \n",
    "<img src=\"http://mc-stan.org/images/stan_logo.png\" alt=\"Drawing\" style=\"width: 100px;\"/>\n",
    "\n",
    "* Language for building probabilistic models\n",
    "* Algorithms for fitting probabilistic models\n",
    "* Interfaces for using probabilistic models \n",
    "\n"
   ]
  },
  {
   "cell_type": "markdown",
   "metadata": {},
   "source": [
    "## Language\n",
    "Specify probabilisitic model: the joint probability distribution function,\n",
    "\n",
    "$$p(\\theta,x)$$\n",
    "\n",
    "* $\\theta$ = parameters\n",
    "* $x$ = data\n",
    "* $p$ = model\n",
    "\n",
    "\n",
    "Stan is a language:\n",
    "* Statically typed, imperative\n",
    "* User can define programs using parameters, data and  $\\log p(\\theta,x)$\n",
    "* Any program can be written as long as $\\log p(\\theta,x)$ is differentiable\n",
    "\n",
    "\n",
    "Statically typed like C, C++. i.e. types declared at compile time rather than run time like Python.\n",
    "\n",
    "Imperative, you tell the compiler what you want to happen, step by step\n",
    "\n"
   ]
  },
  {
   "cell_type": "markdown",
   "metadata": {},
   "source": [
    "## Algorithms\n",
    "* Bayesian Inference: No U-Turn Hamiltonian Monte Carlo,\n",
    "    - $p(\\theta|x)$ approximated with $[\\theta^1,\\theta^2,..\\theta^N]$\n",
    "* Approximate Bayesian Inference: Variational Inference,\n",
    "    - $\\hat{p}(\\theta|x) \\approx q(\\hat{\\phi})$, where $\\phi = argmin_{\\phi} D_{KL}(q(\\theta|\\phi)||p(\\theta,x))$\n",
    "* Optimisation: Max \n",
    "    - $\\hat{\\theta} = argmax_{\\theta} p(\\theta,x)$\n",
    "    \n"
   ]
  },
  {
   "cell_type": "markdown",
   "metadata": {},
   "source": [
    "\n",
    "## Interfaces\n",
    "* CmdStan,PyStan,RStan\n",
    "* C++ API\n",
    "* C++ auto-diff library\n",
    "* Software built with Stan: RStanArm, brms, prophet"
   ]
  },
  {
   "cell_type": "markdown",
   "metadata": {},
   "source": [
    "<p> As an example lets consider a question of if a coin is fair or not. We begin with a flat prior and update it as we flip a coin. <p>\n",
    "\n",
    "\n",
    "\n"
   ]
  },
  {
   "cell_type": "code",
   "execution_count": 29,
   "metadata": {},
   "outputs": [
    {
     "name": "stderr",
     "output_type": "stream",
     "text": [
      "INFO:pystan:COMPILING THE C++ CODE FOR MODEL anon_model_f5e1c19b675a739c99f9dc1c95646755 NOW.\n"
     ]
    }
   ],
   "source": [
    "coin_model =\"\"\"// Inferring a Rate\n",
    "data { \n",
    "  int<lower=1> n; \n",
    "  int<lower=0> h;\n",
    "} \n",
    "parameters {\n",
    "  real<lower=0,upper=1> theta;\n",
    "} \n",
    "model {\n",
    "  // Prior Distribution for Rate Theta\n",
    "  theta ~ normal(3, 0.5);\n",
    "  \n",
    "  // Observed Counts\n",
    "  h ~ binomial(n, theta);\n",
    "}\"\"\"\n",
    "\n",
    "sm=pystan.StanModel(model_code=coin_model)"
   ]
  },
  {
   "cell_type": "code",
   "execution_count": 30,
   "metadata": {},
   "outputs": [],
   "source": [
    "model_data={\n",
    "        'n':100,\n",
    "        'h':55,\n",
    "}\n"
   ]
  },
  {
   "cell_type": "code",
   "execution_count": 31,
   "metadata": {},
   "outputs": [],
   "source": [
    "fit=sm.sampling(data=model_data,chains=4,iter=1000,seed=12329)"
   ]
  },
  {
   "cell_type": "code",
   "execution_count": 32,
   "metadata": {},
   "outputs": [
    {
     "name": "stdout",
     "output_type": "stream",
     "text": [
      "Inference for Stan model: anon_model_f5e1c19b675a739c99f9dc1c95646755.\n",
      "4 chains, each with iter=1000; warmup=500; thin=1; \n",
      "post-warmup draws per chain=500, total post-warmup draws=2000.\n",
      "\n",
      "        mean se_mean     sd   2.5%    25%    50%    75%  97.5%  n_eff   Rhat\n",
      "theta   0.57  1.7e-3   0.05   0.47   0.54   0.58   0.61   0.66    816    1.0\n",
      "lp__  -82.61    0.02   0.72  -84.7 -82.73 -82.33 -82.15 -82.11    989   1.01\n",
      "\n",
      "Samples were drawn using NUTS at Tue Feb 25 12:02:48 2020.\n",
      "For each parameter, n_eff is a crude measure of effective sample size,\n",
      "and Rhat is the potential scale reduction factor on split chains (at \n",
      "convergence, Rhat=1).\n"
     ]
    },
    {
     "data": {
      "image/png": "[encoded data removed]",
      "text/plain": [
       "<Figure size 432x288 with 1 Axes>"
      ]
     },
     "metadata": {
      "needs_background": "light"
     },
     "output_type": "display_data"
    },
    {
     "data": {
      "text/plain": [
       "<function matplotlib.pyplot.show(*args, **kw)>"
      ]
     },
     "execution_count": 32,
     "metadata": {},
     "output_type": "execute_result"
    },
    {
     "data": {
      "image/png": "[encoded data removed]",
      "text/plain": [
       "<Figure size 432x288 with 1 Axes>"
      ]
     },
     "metadata": {
      "needs_background": "light"
     },
     "output_type": "display_data"
    }
   ],
   "source": [
    "print(fit)\n",
    "\n",
    "plt.plot(np.arange(0, fit['theta'].size), fit['theta'])\n",
    "plt.xlabel('Sample')\n",
    "plt.ylabel('Theta')\n",
    "plt.show()\n",
    "\n",
    "plt.hist(fit['theta'])\n",
    "plt.xlabel('Theta')\n",
    "plt.ylabel('Number of Samples')\n",
    "plt.show"
   ]
  },
  {
   "cell_type": "code",
   "execution_count": 13,
   "metadata": {},
   "outputs": [
    {
     "name": "stdout",
     "output_type": "stream",
     "text": [
      "Inference for Stan model: anon_model_b8b89c3550faa3c1ec5a2fff83579316.\n",
      "4 chains, each with iter=1000; warmup=500; thin=1; \n",
      "post-warmup draws per chain=500, total post-warmup draws=2000.\n",
      "\n",
      "        mean se_mean     sd   2.5%    25%    50%    75%  97.5%  n_eff   Rhat\n",
      "theta   0.67  4.5e-3   0.13   0.39   0.58   0.67   0.76   0.89    820    1.0\n",
      "lp__   -8.15    0.03   0.73 -10.06  -8.31  -7.88  -7.69  -7.64    528   1.01\n",
      "\n",
      "Samples were drawn using NUTS at Tue Feb 25 10:35:00 2020.\n",
      "For each parameter, n_eff is a crude measure of effective sample size,\n",
      "and Rhat is the potential scale reduction factor on split chains (at \n",
      "convergence, Rhat=1).\n"
     ]
    },
    {
     "data": {
      "text/plain": [
       "<function matplotlib.pyplot.show(*args, **kw)>"
      ]
     },
     "execution_count": 13,
     "metadata": {},
     "output_type": "execute_result"
    },
    {
     "data": {
      "image/png": "[encoded data removed]",
      "text/plain": [
       "<Figure size 432x288 with 1 Axes>"
      ]
     },
     "metadata": {
      "needs_background": "light"
     },
     "output_type": "display_data"
    }
   ],
   "source": [
    "model_data={\n",
    "        'n':10,\n",
    "        'h':7,\n",
    "}\n",
    "\n",
    "fit=sm.sampling(data=model_data,chains=4,iter=1000,seed=12329)\n",
    "\n",
    "print(fit)\n",
    "\n",
    "plt.hist(fit['theta'])\n",
    "plt.xlabel('Theta')\n",
    "plt.ylabel('Number of Samples')\n",
    "plt.show"
   ]
  },
  {
   "cell_type": "code",
   "execution_count": 7,
   "metadata": {},
   "outputs": [
    {
     "name": "stdout",
     "output_type": "stream",
     "text": [
      "Inference for Stan model: anon_model_b8b89c3550faa3c1ec5a2fff83579316.\n",
      "4 chains, each with iter=1000; warmup=500; thin=1; \n",
      "post-warmup draws per chain=500, total post-warmup draws=2000.\n",
      "\n",
      "        mean se_mean     sd   2.5%    25%    50%    75%  97.5%  n_eff   Rhat\n",
      "theta   0.54  2.0e-3   0.05   0.44   0.51   0.54   0.57   0.64    612   1.01\n",
      "lp__  -70.89    0.02   0.69  -72.9 -71.07 -70.61 -70.44 -70.39    823   1.01\n",
      "\n",
      "Samples were drawn using NUTS at Mon Feb 24 23:20:38 2020.\n",
      "For each parameter, n_eff is a crude measure of effective sample size,\n",
      "and Rhat is the potential scale reduction factor on split chains (at \n",
      "convergence, Rhat=1).\n"
     ]
    },
    {
     "data": {
      "text/plain": [
       "<function matplotlib.pyplot.show(*args, **kw)>"
      ]
     },
     "execution_count": 7,
     "metadata": {},
     "output_type": "execute_result"
    },
    {
     "data": {
      "image/png": "[encoded data removed]",
      "text/plain": [
       "<Figure size 432x288 with 1 Axes>"
      ]
     },
     "metadata": {
      "needs_background": "light"
     },
     "output_type": "display_data"
    }
   ],
   "source": [
    "model_data={\n",
    "        'n':100,\n",
    "        'h':54,\n",
    "}\n",
    "\n",
    "fit=sm.sampling(data=model_data,chains=4,iter=1000,seed=12329)\n",
    "\n",
    "print(fit)\n",
    "\n",
    "plt.hist(fit['theta'])\n",
    "plt.xlabel('Theta')\n",
    "plt.ylabel('Number of Samples')\n",
    "plt.show"
   ]
  },
  {
   "cell_type": "markdown",
   "metadata": {},
   "source": [
    "<p> Sometimes our data may come in a more complex form. For instance imagine if you have a game that involves coin tosses. You filp a coin until you flip a heads and a tails in a row. Your opponent flips a coin until they flip two heads in a row. All the information you have is who won each game. From this you want to understand if one coin was biased or not. </p>\n",
    "\n",
    "<p> As HT and HH in two coin flips are equally likely we may run the code above and see how close our theta value is to 0.5 <p>\n",
    "    \n",
    "<p> After 2,000 flips your opponent has won 747 times but you have won 1,253. </p>\n",
    "    \n",
    "    "
   ]
  },
  {
   "cell_type": "code",
   "execution_count": 8,
   "metadata": {},
   "outputs": [
    {
     "name": "stdout",
     "output_type": "stream",
     "text": [
      "Inference for Stan model: anon_model_b8b89c3550faa3c1ec5a2fff83579316.\n",
      "4 chains, each with iter=1000; warmup=500; thin=1; \n",
      "post-warmup draws per chain=500, total post-warmup draws=2000.\n",
      "\n",
      "        mean se_mean     sd   2.5%    25%    50%    75%  97.5%  n_eff   Rhat\n",
      "theta   0.37  4.1e-4   0.01   0.35   0.37   0.37   0.38   0.39    688   1.01\n",
      "lp__   -1323    0.02   0.71  -1325  -1323  -1323  -1323  -1323    977    1.0\n",
      "\n",
      "Samples were drawn using NUTS at Mon Feb 24 23:20:50 2020.\n",
      "For each parameter, n_eff is a crude measure of effective sample size,\n",
      "and Rhat is the potential scale reduction factor on split chains (at \n",
      "convergence, Rhat=1).\n"
     ]
    },
    {
     "data": {
      "text/plain": [
       "<function matplotlib.pyplot.show(*args, **kw)>"
      ]
     },
     "execution_count": 8,
     "metadata": {},
     "output_type": "execute_result"
    },
    {
     "data": {
      "image/png": "[encoded data removed]",
      "text/plain": [
       "<Figure size 432x288 with 1 Axes>"
      ]
     },
     "metadata": {
      "needs_background": "light"
     },
     "output_type": "display_data"
    }
   ],
   "source": [
    "model_data={\n",
    "        'n':2000,\n",
    "        'h':747,\n",
    "}\n",
    "\n",
    "fit=sm.sampling(data=model_data,chains=4,iter=1000,seed=12329)\n",
    "\n",
    "print(fit)\n",
    "\n",
    "plt.hist(fit['theta'])\n",
    "plt.xlabel('Theta')\n",
    "plt.ylabel('Number of Samples')\n",
    "plt.show"
   ]
  },
  {
   "cell_type": "markdown",
   "metadata": {},
   "source": [
    "<p> So can we conclusively say that our coin was biased? <p>\n",
    "    \n",
    "<p> Once again this is a case where we should have questioned our underlying assumptions, i.e. that both opponents had a 50% chance of winning. In future this will be covered in part by prior predictive checks which should give us intuition on how our model behaves. For now let us first generate data in the way described assuming both players have a fair coin </p>"
   ]
  },
  {
   "cell_type": "code",
   "execution_count": 14,
   "metadata": {},
   "outputs": [
    {
     "name": "stdout",
     "output_type": "stream",
     "text": [
      "752\n",
      "1248\n"
     ]
    }
   ],
   "source": [
    "bob_wins = 0\n",
    "alice_wins = 0\n",
    "\n",
    "for i in range(2000):\n",
    "    bob_seq = np.array([])\n",
    "    alice_seq = np.array([])\n",
    "    bob_poss_win = 0\n",
    "    alice_poss_win = 0\n",
    "    while bob_wins + alice_wins < 2000:\n",
    "        bob_seq = np.append(bob_seq, np.random.randint(2,size=1))\n",
    "        alice_seq = np.append(alice_seq, np.random.randint(2,size=1))\n",
    "        if np.prod((bob_seq.size > 1) and (bob_seq[-2:] == [0,0])):\n",
    "            bob_poss_win = 1\n",
    "        if np.prod((alice_seq.size > 1) and (alice_seq[-2:] == [0,1])):\n",
    "            alice_poss_win = 1\n",
    "        if (bob_poss_win == 1) and (alice_poss_win == 1):\n",
    "            bob_seq = np.array([])\n",
    "            alice_seq = np.array([])\n",
    "            bob_poss_win = 0\n",
    "            alice_poss_win = 0\n",
    "        elif bob_poss_win == 1:\n",
    "            bob_wins += 1 \n",
    "            bob_seq = np.array([])\n",
    "            alice_seq = np.array([])\n",
    "            bob_poss_win = 0\n",
    "        elif alice_poss_win == 1:\n",
    "            alice_wins += 1 \n",
    "            bob_seq = np.array([])\n",
    "            alice_seq = np.array([])\n",
    "            alice_poss_win = 0\n",
    "            \n",
    "print(bob_wins)\n",
    "print(alice_wins)\n"
   ]
  },
  {
   "cell_type": "markdown",
   "metadata": {},
   "source": [
    "<p> Understanding a problem deeply is important when building a model. Misunderstanding a model can lead to misinterpretation. In this case there is a subtle difference, if you need to flip HT and first flip a H you will not win if on the next coin toss you flip another H - but you are still only one flip away. If you need to flip HH and after one H toss flip a T, you are again two flips away from winning. </p>\n",
    "\n",
    "<br >\n",
    "\n",
    "## Probabilistic Programming\n",
    "*Define probability models & solve automatically*\n",
    "\n",
    "<img src=\"./assets/probprog.png\" alt=\"Drawing\" style=\"width: 600px;\"/>\n",
    "\n"
   ]
  },
  {
   "cell_type": "code",
   "execution_count": 15,
   "metadata": {},
   "outputs": [
    {
     "name": "stderr",
     "output_type": "stream",
     "text": [
      "INFO:pystan:COMPILING THE C++ CODE FOR MODEL anon_model_b712d3d58d6ce64ce339b400e820a652 NOW.\n"
     ]
    }
   ],
   "source": [
    "rate_diff = \"\"\"// Difference Between Two Rates\n",
    "data { \n",
    "  int<lower=1> n1; \n",
    "  int<lower=1> n2; \n",
    "  int<lower=0> k1;\n",
    "  int<lower=0> k2;\n",
    "} \n",
    "parameters {\n",
    "  real<lower=0,upper=1> theta1;\n",
    "  real<lower=0,upper=1> theta2;\n",
    "} \n",
    "transformed parameters {\n",
    "  real<lower=-1,upper=1> delta;\n",
    "  delta <- theta1 - theta2;\n",
    "}\n",
    "model {\n",
    "  // Prior Distribution for Rate Theta\n",
    "  theta1 ~ beta(1, 1);\n",
    "  theta2 ~ beta(1, 1);\n",
    "  // Observed Counts\n",
    "  k1 ~ binomial(n1, theta1);\n",
    "  k2 ~ binomial(n2, theta2);\n",
    "}\"\"\"\n",
    "\n",
    "sm=pystan.StanModel(model_code=rate_diff)"
   ]
  },
  {
   "cell_type": "code",
   "execution_count": 17,
   "metadata": {},
   "outputs": [
    {
     "data": {
      "image/png": "[encoded data removed]",
      "text/plain": [
       "<Figure size 432x288 with 1 Axes>"
      ]
     },
     "metadata": {
      "needs_background": "light"
     },
     "output_type": "display_data"
    }
   ],
   "source": [
    "model_data = {\n",
    "    'k1': 50,\n",
    "    'k2': 62,\n",
    "    'n1': 100,\n",
    "    'n2': 100,\n",
    "}\n",
    "\n",
    "fit=sm.sampling(data=model_data,chains=4,iter=1000,seed=12329)\n",
    "\n",
    "plt.hist(fit['delta'])\n",
    "plt.show()"
   ]
  },
  {
   "cell_type": "markdown",
   "metadata": {},
   "source": [
    "\n",
    "<p> So let us now consider a model where there are more than one unknown and interacting parameters. In this case of five sets of eager volunteers distributed an equal number of surveys to randomly selected houses. Unfortunately nobody recorded the number of surveys in each bundle and now we need to estimate the rate of return. Assuming there was no more than 500 surveys in a bundle we can attempt to calculate this. But first let us discuss how we think the posterior will look. </p>\n",
    "<br >\n",
    "    \n",
    "    "
   ]
  },
  {
   "cell_type": "code",
   "execution_count": 18,
   "metadata": {},
   "outputs": [
    {
     "name": "stderr",
     "output_type": "stream",
     "text": [
      "/opt/conda/lib/python3.7/site-packages/ipykernel_launcher.py:1: RuntimeWarning: divide by zero encountered in true_divide\n",
      "  \"\"\"Entry point for launching an IPython kernel.\n"
     ]
    },
    {
     "data": {
      "text/plain": [
       "[<matplotlib.lines.Line2D at 0x7f0dc39e8990>]"
      ]
     },
     "execution_count": 18,
     "metadata": {},
     "output_type": "execute_result"
    },
    {
     "data": {
      "image/png": "[encoded data removed]",
      "text/plain": [
       "<Figure size 432x288 with 1 Axes>"
      ]
     },
     "metadata": {
      "needs_background": "light"
     },
     "output_type": "display_data"
    }
   ],
   "source": [
    "plt.plot(np.arange(0, 20), 1./np.arange(0, 20))"
   ]
  },
  {
   "cell_type": "markdown",
   "metadata": {},
   "source": [
    "\n",
    "<p> # Inferring Return Rate and Numbers of Surveys from Observed Returns\n",
    "<br >\n",
    "# Observed Returns\n",
    "<br >\n",
    "\n",
    "for (i in 1:m){\n",
    "<br >\n",
    "\n",
    "k[i] ~ dbin(theta,n)\n",
    "<br >\n",
    "\n",
    "}\n",
    "<br >\n",
    "\n",
    "\\# Priors on Rate Theta and Number n\n",
    "<br >\n",
    "\n",
    "theta ~ dbeta(1,1)\n",
    "<br >\n",
    "n ~ dcat(p[])\n",
    "<br >\n",
    "for (i in 1:nmax){\n",
    "<br >\n",
    "p[i] <- 1/nmax\n",
    "<br >\n",
    "}<p>\n",
    "<br >\n"
   ]
  },
  {
   "cell_type": "code",
   "execution_count": 19,
   "metadata": {},
   "outputs": [
    {
     "name": "stderr",
     "output_type": "stream",
     "text": [
      "INFO:pystan:COMPILING THE C++ CODE FOR MODEL anon_model_78f7cfc1daf3a7ccdfbee88500ff4157 NOW.\n"
     ]
    }
   ],
   "source": [
    "survey_model = \"\"\"data { \n",
    "  int<lower=0> nmax;\n",
    "  int<lower=0> m;\n",
    "  int<lower=0,upper=nmax> k[m];\n",
    "}\n",
    "transformed data {\n",
    "  int<lower=0> nmin;  // Minimal possible n\n",
    "  \n",
    "  nmin <- max(k);\n",
    "}\n",
    "parameters {\n",
    "  real<lower=0,upper=1> theta;\n",
    "}\n",
    "transformed parameters {\n",
    "  vector[nmax] lp_parts;  // Log probability for each n\n",
    "\n",
    "  // First part of the trick for mixture model\n",
    "  for (n in 1:nmax)\n",
    "    if (n < nmin)\n",
    "      lp_parts[n] <- log(1.0 / nmax) + negative_infinity();  // Zero probability\n",
    "    else\n",
    "      lp_parts[n] <- log(1.0 / nmax) + binomial_log(k, n, theta); \n",
    "}\n",
    "model {\n",
    "  // Second part of the trick for mixture model\n",
    "  increment_log_prob(log_sum_exp(lp_parts));\n",
    "}\n",
    "generated quantities {\n",
    "  int<lower=1,upper=nmax> n;\n",
    "  simplex[nmax] prob_n;\n",
    "  \n",
    "  // Transforming lp_parts to probabilities of each n\n",
    "  prob_n <- softmax(lp_parts);\n",
    "  n <- categorical_rng(prob_n);\n",
    "}\"\"\"\n",
    "\n",
    "sm=pystan.StanModel(model_code=survey_model)"
   ]
  },
  {
   "cell_type": "markdown",
   "metadata": {},
   "source": [
    "!!! DISCLAIMER !!!\n",
    "<br >\n",
    "Stan is not the correct tool to use if you are working with discrete parameters - in this case n. Expect errors and do this using a more suitable tool for real world applications. \n",
    "\n",
    "<br >"
   ]
  },
  {
   "cell_type": "code",
   "execution_count": 20,
   "metadata": {},
   "outputs": [
    {
     "name": "stderr",
     "output_type": "stream",
     "text": [
      "WARNING:pystan:Maximum (flat) parameter count (1000) exceeded: skipping diagnostic tests for n_eff and Rhat.\n",
      "To run all diagnostics call pystan.check_hmc_diagnostics(fit)\n",
      "WARNING:pystan:2 of 2000 iterations ended with a divergence (0.1 %).\n",
      "WARNING:pystan:Try running with adapt_delta larger than 0.8 to remove the divergences.\n",
      "/opt/conda/lib/python3.7/site-packages/numpy/core/_methods.py:117: RuntimeWarning: invalid value encountered in subtract\n",
      "  x = asanyarray(arr - arrmean)\n"
     ]
    },
    {
     "name": "stdout",
     "output_type": "stream",
     "text": [
      "Inference for Stan model: anon_model_78f7cfc1daf3a7ccdfbee88500ff4157.\n",
      "4 chains, each with iter=1000; warmup=500; thin=1; \n",
      "post-warmup draws per chain=500, total post-warmup draws=2000.\n",
      "\n",
      "                 mean se_mean      sd     2.5%      25%     50%      75%   97.5%  n_eff   Rhat\n",
      "theta            0.19  6.7e-3    0.14     0.05     0.08    0.15     0.26    0.55    429    1.0\n",
      "lp_parts[1]      -inf     nan     nan     -inf     -inf    -inf     -inf    -inf    nan    nan\n",
      "lp_parts[2]      -inf     nan     nan     -inf     -inf    -inf     -inf    -inf    nan    nan\n",
      "lp_parts[3]      -inf     nan     nan     -inf     -inf    -inf     -inf    -inf    nan    nan\n",
      "lp_parts[4]      -inf     nan     nan     -inf     -inf    -inf     -inf    -inf    nan    nan\n",
      "lp_parts[5]      -inf     nan     nan     -inf     -inf    -inf     -inf    -inf    nan    nan\n",
      "lp_parts[6]      -inf     nan     nan     -inf     -inf    -inf     -inf    -inf    nan    nan\n",
      "lp_parts[7]      -inf     nan     nan     -inf     -inf    -inf     -inf    -inf    nan    nan\n",
      "lp_parts[8]      -inf     nan     nan     -inf     -inf    -inf     -inf    -inf    nan    nan\n",
      "lp_parts[9]      -inf     nan     nan     -inf     -inf    -inf     -inf    -inf    nan    nan\n",
      "lp_parts[10]     -inf     nan     nan     -inf     -inf    -inf     -inf    -inf    nan    nan\n",
      "lp_parts[11]     -inf     nan     nan     -inf     -inf    -inf     -inf    -inf    nan    nan\n",
      "lp_parts[12]     -inf     nan     nan     -inf     -inf    -inf     -inf    -inf    nan    nan\n",
      "lp_parts[13]     -inf     nan     nan     -inf     -inf    -inf     -inf    -inf    nan    nan\n",
      "lp_parts[14]     -inf     nan     nan     -inf     -inf    -inf     -inf    -inf    nan    nan\n",
      "lp_parts[15]     -inf     nan     nan     -inf     -inf    -inf     -inf    -inf    nan    nan\n",
      "lp_parts[16]     -inf     nan     nan     -inf     -inf    -inf     -inf    -inf    nan    nan\n",
      "lp_parts[17]     -inf     nan     nan     -inf     -inf    -inf     -inf    -inf    nan    nan\n",
      "lp_parts[18]     -inf     nan     nan     -inf     -inf    -inf     -inf    -inf    nan    nan\n",
      "lp_parts[19]     -inf     nan     nan     -inf     -inf    -inf     -inf    -inf    nan    nan\n",
      "lp_parts[20]     -inf     nan     nan     -inf     -inf    -inf     -inf    -inf    nan    nan\n",
      "lp_parts[21]     -inf     nan     nan     -inf     -inf    -inf     -inf    -inf    nan    nan\n",
      "lp_parts[22]     -inf     nan     nan     -inf     -inf    -inf     -inf    -inf    nan    nan\n",
      "lp_parts[23]     -inf     nan     nan     -inf     -inf    -inf     -inf    -inf    nan    nan\n",
      "lp_parts[24]     -inf     nan     nan     -inf     -inf    -inf     -inf    -inf    nan    nan\n",
      "lp_parts[25]     -inf     nan     nan     -inf     -inf    -inf     -inf    -inf    nan    nan\n",
      "lp_parts[26]     -inf     nan     nan     -inf     -inf    -inf     -inf    -inf    nan    nan\n",
      "lp_parts[27]   -170.3    3.79   73.24   -291.3   -232.4  -168.5   -109.9   -44.1    373    1.0\n",
      "lp_parts[28]   -162.5    3.75   72.36   -282.5   -223.9  -160.3   -102.4  -39.05    372    1.0\n",
      "lp_parts[29]   -155.8    3.71   71.48   -274.9   -216.4  -153.3   -96.12  -35.15    372    1.0\n",
      "lp_parts[30]   -149.9    3.66    70.6   -268.1   -209.8  -147.0   -90.55  -31.99    371    1.0\n",
      "lp_parts[31]   -144.5    3.62   69.73   -261.8   -203.6  -141.2   -85.55  -29.41    371    1.0\n",
      "lp_parts[32]   -139.6    3.58   68.86   -255.9   -198.0  -136.0   -81.01  -27.62    370    1.0\n",
      "lp_parts[33]   -135.1    3.54    68.0   -250.5   -192.7  -131.1   -76.86  -26.13    370    1.0\n",
      "lp_parts[34]   -130.9    3.49   67.14   -245.4   -187.8  -126.6   -73.05  -25.08    369    1.0\n",
      "lp_parts[35]   -127.0    3.45   66.28   -240.6   -183.2  -122.3   -69.52  -23.99    369    1.0\n",
      "lp_parts[36]   -123.3    3.41   65.43   -236.0   -178.8  -118.3   -66.25   -23.6    368    1.0\n",
      "lp_parts[37]   -119.9    3.37   64.59   -231.7   -174.7  -114.5    -63.2  -22.69    368    1.0\n",
      "lp_parts[38]   -116.7    3.33   63.75   -227.6   -170.7  -111.0   -60.36  -22.16    367    1.0\n",
      "lp_parts[39]   -113.6    3.28   62.92   -223.6   -166.9  -107.6    -57.7  -21.81    367    1.0\n",
      "lp_parts[40]   -110.8    3.24   62.09   -219.8   -163.3  -104.4   -55.21  -21.62    366    1.0\n",
      "lp_parts[41]   -108.1     3.2   61.27   -216.2   -159.9  -101.3   -52.92  -21.56    366    1.0\n",
      "lp_parts[42]   -105.5    3.16   60.45   -212.7   -156.6  -98.42    -50.8  -21.37    365    1.0\n",
      "lp_parts[43]   -103.0    3.12   59.65   -209.4   -153.4  -95.63   -48.84   -21.3    365    1.0\n",
      "lp_parts[44]   -100.7    3.08   58.85   -206.2   -150.4  -92.96   -47.07  -21.19    365    1.0\n",
      "lp_parts[45]   -98.57    3.04   58.05   -203.0   -147.5  -90.41    -45.4  -21.05    364    1.0\n",
      "lp_parts[46]   -96.48     3.0   57.27   -200.0   -144.6  -87.97   -43.88  -20.95    364    1.0\n",
      "lp_parts[47]   -94.48    2.96   56.49   -197.1   -141.9  -85.62   -42.46  -20.91    363    1.0\n",
      "lp_parts[48]   -92.58    2.92   55.72   -194.3   -139.3   -83.4   -41.04  -20.88    363    1.0\n",
      "lp_parts[49]   -90.76    2.89   54.96   -191.6   -136.7  -81.29   -39.67  -20.84    363    1.0\n",
      "lp_parts[50]   -89.03    2.85    54.2   -188.9   -134.3  -79.32   -38.37  -20.77    363    1.0\n",
      "lp_parts[51]   -87.37    2.81   53.46   -186.4   -131.9  -77.31   -37.44  -20.71    362    1.0\n",
      "lp_parts[52]   -85.79    2.77   52.73   -183.9   -129.6  -75.45    -36.6  -20.65    362    1.0\n",
      "lp_parts[53]   -84.27    2.73    52.0   -181.4   -127.3  -73.66   -36.17  -20.62    362    1.0\n",
      "lp_parts[54]   -82.83     2.7   51.29   -179.1   -125.1  -71.94   -35.14  -20.57    362    1.0\n",
      "lp_parts[55]   -81.44    2.66   50.59   -176.8   -123.1  -70.35   -34.18  -20.59    361    1.0\n",
      "lp_parts[56]   -80.11    2.63   49.89   -174.6   -121.0  -68.75   -33.51  -20.56    361    1.0\n",
      "lp_parts[57]   -78.85    2.59   49.21   -172.4   -119.1  -67.18   -32.85  -20.55    361    1.0\n",
      "lp_parts[58]   -77.63    2.56   48.55   -170.2   -117.6  -65.94   -32.38  -20.55    361    1.0\n",
      "lp_parts[59]   -76.47    2.52   47.89   -168.2   -115.7  -64.78    -31.8  -20.54    361   1.01\n",
      "lp_parts[60]   -75.35    2.49   47.25   -166.1   -114.1  -63.41    -31.5  -20.52    361   1.01\n",
      "lp_parts[61]   -74.29    2.46   46.63   -164.2   -112.3  -61.97   -30.96  -20.52    361   1.01\n",
      "lp_parts[62]   -73.27    2.42   46.01   -162.5   -110.8  -60.84   -30.65  -20.53    361   1.01\n",
      "lp_parts[63]   -72.29    2.39   45.42   -160.6   -109.0  -59.86   -30.15  -20.55    361   1.01\n",
      "lp_parts[64]   -71.36    2.36   44.83   -158.7   -107.5   -59.2   -29.98  -20.57    361   1.01\n",
      "lp_parts[65]   -70.46    2.33   44.27   -157.2   -106.0   -58.1   -29.62  -20.55    361   1.01\n",
      "lp_parts[66]    -69.6     2.3   43.72   -155.7   -104.7  -57.73   -29.31  -20.53    361   1.01\n",
      "lp_parts[67]   -68.78    2.27   43.19   -153.9   -103.2  -56.63   -28.88  -20.54    362   1.01\n",
      "lp_parts[68]    -68.0    2.24   42.68   -152.3   -101.7  -55.75   -28.91  -20.52    362   1.01\n",
      "lp_parts[69]   -67.25    2.21   42.18   -150.6   -100.4  -54.86   -28.67  -20.49    363   1.01\n",
      "lp_parts[70]   -66.53    2.19   41.71   -149.1   -99.17  -54.42   -28.41  -20.51    363   1.01\n",
      "lp_parts[71]   -65.85    2.16   41.25   -147.5   -97.94  -53.46   -28.47   -20.5    364   1.01\n",
      "lp_parts[72]    -65.2    2.14   40.82   -146.0   -96.55  -53.29   -28.36  -20.49    365   1.01\n",
      "lp_parts[73]   -64.57    2.11   40.41   -144.5   -95.18  -52.82   -28.29  -20.49    366   1.01\n",
      "lp_parts[74]   -63.98    2.09   40.02   -143.3   -94.38  -52.27   -28.13  -20.49    367   1.01\n",
      "lp_parts[75]   -63.41    2.07   39.66   -143.0   -93.31   -51.7    -28.0  -20.49    368   1.01\n",
      "lp_parts[76]   -62.87    2.04   39.31   -141.5   -92.29  -50.98   -27.97  -20.49    370   1.01\n",
      "lp_parts[77]   -62.36    2.02   38.99   -140.1   -91.91  -50.76   -27.93  -20.49    371   1.01\n",
      "lp_parts[78]   -61.87     2.0    38.7   -139.2   -90.97  -49.86   -27.83  -20.47    373   1.01\n",
      "lp_parts[79]   -61.41    1.99   38.43   -138.1    -90.0  -49.65    -27.7  -20.46    374   1.01\n",
      "lp_parts[80]   -60.97    1.97   38.19   -136.9   -89.07  -49.07   -27.52  -20.46    376   1.01\n",
      "lp_parts[81]   -60.56    1.95   37.97   -135.7   -88.03   -49.1   -27.44  -20.46    378   1.01\n",
      "lp_parts[82]   -60.16    1.94   37.78   -134.8   -87.37  -49.07   -27.49  -20.46    380   1.01\n",
      "lp_parts[83]   -59.79    1.92   37.62   -133.7   -86.91  -49.03    -27.3  -20.48    382   1.01\n",
      "lp_parts[84]   -59.44    1.91   37.49   -132.4   -85.94  -48.53   -27.11  -20.46    385   1.01\n",
      "lp_parts[85]   -59.11     1.9   37.38   -131.1   -85.16  -48.08   -27.13  -20.46    387   1.01\n",
      "lp_parts[86]    -58.8    1.89    37.3   -130.3   -84.14  -47.72   -26.94  -20.46    390   1.01\n",
      "lp_parts[87]   -58.51    1.88   37.25   -129.3   -83.41  -47.13   -26.94  -20.46    393   1.01\n",
      "lp_parts[88]   -58.24    1.87   37.23   -129.7   -82.52  -46.89   -26.67  -20.45    395   1.01\n",
      "lp_parts[89]   -57.99    1.87   37.24   -128.6   -82.42  -47.01    -26.8  -20.46    398   1.01\n",
      "lp_parts[90]   -57.76    1.86   37.27   -128.7   -82.41  -46.67   -26.72  -20.47    401   1.01\n",
      "lp_parts[91]   -57.54    1.86   37.34   -129.9   -82.05  -46.67   -26.42  -20.48    404   1.01\n",
      "lp_parts[92]   -57.34    1.86   37.43   -130.5   -81.14   -46.3   -26.39  -20.46    407   1.01\n",
      "lp_parts[93]   -57.16    1.85   37.55   -130.9   -80.64  -46.11   -26.57  -20.45    410   1.01\n",
      "lp_parts[94]   -56.99    1.85    37.7   -133.8   -80.36  -46.03   -26.51  -20.46    413   1.01\n",
      "lp_parts[95]   -56.84    1.86   37.87   -136.7   -79.59  -45.79   -26.41  -20.47    416   1.01\n",
      "lp_parts[96]    -56.7    1.86   38.07   -138.3   -78.93  -45.78   -26.42  -20.47    419   1.01\n",
      "lp_parts[97]   -56.58    1.87    38.3   -137.2   -78.75  -45.77   -26.45  -20.45    422   1.01\n",
      "lp_parts[98]   -56.48    1.87   38.56   -136.1   -78.36   -45.5   -26.48  -20.47    425   1.01\n",
      "lp_parts[99]   -56.39    1.88   38.84   -135.1   -78.23  -45.28   -26.27  -20.47    427   1.01\n",
      "lp_parts[100]  -56.31    1.89   39.14   -134.9   -77.88  -45.14   -26.29  -20.47    430   1.01\n",
      "lp_parts[101]  -56.25     1.9   39.47   -136.6   -77.86  -45.19   -26.21  -20.45    433   1.01\n",
      "lp_parts[102]   -56.2    1.91   39.83   -139.3   -77.35  -45.09   -26.08  -20.45    436   1.01\n",
      "lp_parts[103]  -56.16    1.92    40.2   -142.1    -76.9   -45.3   -26.08  -20.45    438   1.01\n",
      "lp_parts[104]  -56.14    1.93    40.6   -144.8   -77.38   -45.2   -26.08  -20.45    441   1.01\n",
      "lp_parts[105]  -56.13    1.95   41.03   -147.6   -76.63  -44.94   -26.15  -20.45    443   1.01\n",
      "lp_parts[106]  -56.13    1.96   41.47   -150.4   -76.56  -44.48   -26.29  -20.45    446   1.01\n",
      "lp_parts[107]  -56.14    1.98   41.93   -153.2   -75.81  -44.24   -26.12  -20.45    448   1.01\n",
      "lp_parts[108]  -56.17     2.0   42.42   -156.0   -75.52  -44.26   -26.01  -20.45    450   1.01\n",
      "lp_parts[109]  -56.21    2.02   42.92   -158.9   -75.28   -44.0   -25.87  -20.45    451   1.01\n",
      "lp_parts[110]  -56.26    2.04   43.44   -161.7   -75.69  -43.74   -25.94  -20.44    453   1.01\n",
      "lp_parts[111]  -56.32    2.06   43.98   -164.6   -75.17  -43.55   -25.89  -20.44    454   1.01\n",
      "lp_parts[112]  -56.39    2.09   44.54   -167.4   -75.05  -43.67   -25.84  -20.44    456   1.01\n",
      "lp_parts[113]  -56.47    2.11   45.11   -170.3   -74.64  -43.73   -25.92  -20.44    457   1.01\n",
      "lp_parts[114]  -56.56    2.14    45.7   -173.2   -74.64  -43.56   -25.96  -20.44    458   1.01\n",
      "lp_parts[115]  -56.66    2.16    46.3   -176.1   -74.43  -43.22   -26.08  -20.45    459   1.01\n",
      "lp_parts[116]  -56.77    2.19   46.92   -179.0   -74.32   -43.1   -25.93  -20.45    460   1.01\n",
      "lp_parts[117]  -56.89    2.22   47.56   -181.9   -73.87   -43.1   -26.08  -20.45    460   1.01\n",
      "lp_parts[118]  -57.03    2.25    48.2   -184.8   -73.91  -43.14   -26.04  -20.45    461   1.01\n",
      "lp_parts[119]  -57.17    2.28   48.86   -187.8   -74.02  -43.16   -26.03  -20.45    461   1.01\n",
      "lp_parts[120]  -57.32    2.31   49.54   -190.7    -73.7  -43.07   -26.05  -20.46    462   1.01\n",
      "lp_parts[121]  -57.48    2.34   50.22   -193.6   -73.26  -43.33   -26.02  -20.45    462   1.01\n",
      "lp_parts[122]  -57.65    2.37   50.92   -196.6   -73.13  -43.19   -25.98  -20.45    463   1.01\n",
      "lp_parts[123]  -57.82     2.4   51.63   -199.6   -73.09   -43.3   -25.88  -20.45    463   1.01\n",
      "lp_parts[124]  -58.01    2.43   52.35   -202.6    -73.1  -43.22   -25.95  -20.46    463   1.01\n",
      "lp_parts[125]   -58.2    2.47   53.08   -205.5   -72.88  -43.05   -26.11  -20.46    463   1.01\n",
      "lp_parts[126]  -58.41     2.5   53.81   -208.5   -73.02   -42.9   -26.22  -20.46    464   1.01\n",
      "lp_parts[127]  -58.62    2.53   54.56   -211.5   -72.65  -42.83   -26.37  -20.46    464   1.01\n",
      "lp_parts[128]  -58.84    2.57   55.32   -214.6   -72.46  -42.77   -26.34  -20.46    464   1.01\n",
      "lp_parts[129]  -59.06     2.6   56.08   -217.6    -72.2  -42.64   -26.11  -20.47    464   1.01\n",
      "lp_parts[130]   -59.3    2.64   56.86   -220.6    -72.3  -42.42   -26.04  -20.48    464   1.01\n",
      "lp_parts[131]  -59.54    2.68   57.64   -223.6   -72.39  -42.22   -26.01  -20.47    464   1.01\n",
      "lp_parts[132]  -59.79    2.71   58.43   -226.7   -71.95  -42.07   -26.09  -20.45    464   1.01\n",
      "lp_parts[133]  -60.05    2.75   59.23   -229.7   -71.53  -42.17   -26.03  -20.46    464   1.01\n",
      "lp_parts[134]  -60.31    2.79   60.03   -232.8   -71.38   -42.5   -25.97  -20.46    464   1.01\n",
      "lp_parts[135]  -60.59    2.83   60.84   -235.9   -71.09  -42.76    -25.9  -20.46    464   1.01\n",
      "lp_parts[136]  -60.86    2.86   61.66   -238.9   -71.15   -42.9   -25.89  -20.45    464   1.01\n",
      "lp_parts[137]  -61.15     2.9   62.48   -242.0   -71.14  -42.63   -25.92  -20.45    464   1.01\n",
      "lp_parts[138]  -61.44    2.94   63.31   -245.1   -70.82  -42.63   -25.92  -20.44    463   1.01\n",
      "lp_parts[139]  -61.74    2.98   64.15   -248.2   -70.33  -42.66   -25.93  -20.45    463   1.01\n",
      "lp_parts[140]  -62.05    3.02   64.99   -251.3   -70.33  -42.58   -25.92  -20.46    463   1.01\n",
      "lp_parts[141]  -62.36    3.06   65.84   -254.4   -70.09  -42.61   -25.86  -20.46    463   1.01\n",
      "lp_parts[142]  -62.68     3.1   66.69   -257.5   -69.69  -42.65   -25.83  -20.46    463   1.01\n",
      "lp_parts[143]  -63.01    3.14   67.55   -260.6   -69.49  -42.48   -25.78  -20.45    463   1.01\n",
      "lp_parts[144]  -63.34    3.18   68.41   -263.7    -69.4  -42.32   -25.89  -20.45    462   1.01\n",
      "lp_parts[145]  -63.68    3.22   69.27   -266.9   -69.04  -42.46   -25.84  -20.46    462   1.01\n",
      "lp_parts[146]  -64.02    3.26   70.14   -270.0    -69.3   -42.6   -25.84  -20.45    462   1.01\n",
      "lp_parts[147]  -64.37     3.3   71.02   -273.2   -69.47  -42.73   -25.84  -20.45    462   1.01\n",
      "lp_parts[148]  -64.72    3.35    71.9   -276.3   -69.08   -42.7   -25.91  -20.45    462   1.01\n",
      "lp_parts[149]  -65.09    3.39   72.78   -279.5   -68.93  -42.48   -26.06  -20.45    461   1.01\n",
      "lp_parts[150]  -65.45    3.43   73.67   -282.6   -68.59   -42.3   -25.93  -20.45    461   1.01\n",
      "lp_parts[151]  -65.83    3.47   74.56   -285.8   -68.62  -42.45   -26.12  -20.46    461   1.01\n",
      "lp_parts[152]   -66.2    3.51   75.45   -288.9   -68.93  -42.51   -26.07  -20.47    461   1.01\n",
      "lp_parts[153]  -66.59    3.56   76.35   -292.1   -68.75  -42.72   -26.01  -20.47    461   1.01\n",
      "lp_parts[154]  -66.98     3.6   77.25   -295.3    -68.7  -42.71    -26.0  -20.47    460   1.01\n",
      "lp_parts[155]  -67.37    3.64   78.15   -298.5   -68.53   -42.8   -25.96  -20.48    460   1.01\n",
      "lp_parts[156]  -67.77    3.69   79.06   -301.7   -68.56   -42.6   -25.85  -20.49    460   1.01\n",
      "lp_parts[157]  -68.17    3.73   79.97   -304.9   -68.31  -42.49    -25.9  -20.48    460   1.01\n",
      "lp_parts[158]  -68.58    3.77   80.88   -308.1    -68.6  -42.43   -25.91  -20.48    459   1.01\n",
      "lp_parts[159]   -69.0    3.82    81.8   -311.3   -68.45  -42.59   -25.83  -20.47    459   1.01\n",
      "lp_parts[160]  -69.42    3.86   82.71   -314.5    -68.9  -42.65   -25.84  -20.48    459   1.01\n",
      "lp_parts[161]  -69.84    3.91   83.64   -317.7   -68.86  -42.76   -25.91  -20.48    459   1.01\n",
      "lp_parts[162]  -70.27    3.95   84.56   -320.9    -68.7  -42.86   -25.91  -20.48    458   1.01\n",
      "lp_parts[163]  -70.71    3.99   85.48   -324.2   -68.69  -43.01   -25.94  -20.47    458   1.01\n",
      "lp_parts[164]  -71.15    4.04   86.41   -327.4   -69.13  -43.01   -25.89  -20.48    458   1.01\n",
      "lp_parts[165]  -71.59    4.08   87.34   -330.6   -69.09  -43.03   -25.95  -20.47    458   1.01\n",
      "lp_parts[166]  -72.04    4.13   88.28   -333.9   -69.45  -43.09   -25.86  -20.47    458   1.01\n",
      "lp_parts[167]  -72.49    4.17   89.21   -337.1   -69.38  -42.77   -25.92  -20.48    457   1.01\n",
      "lp_parts[168]  -72.95    4.22   90.15   -340.4    -70.1  -42.94   -25.93  -20.49    457   1.01\n",
      "lp_parts[169]  -73.41    4.26   91.08   -343.6   -70.25  -42.92   -25.82   -20.5    457   1.01\n",
      "lp_parts[170]  -73.87    4.31   92.03   -346.9   -70.78   -42.9   -25.86   -20.5    457   1.01\n",
      "lp_parts[171]  -74.34    4.35   92.97   -350.1   -71.56  -43.03   -25.82  -20.49    456   1.01\n",
      "lp_parts[172]  -74.82     4.4   93.91   -353.4   -72.35  -42.96   -25.89  -20.49    456   1.01\n",
      "lp_parts[173]   -75.3    4.44   94.86   -356.7   -73.24  -42.83   -26.03  -20.48    456   1.01\n",
      "lp_parts[174]  -75.78    4.49   95.81   -360.0   -74.02  -42.73    -26.0  -20.49    456   1.01\n",
      "lp_parts[175]  -76.26    4.53   96.76   -363.2   -74.91  -42.66   -26.03  -20.49    456   1.01\n",
      "lp_parts[176]  -76.76    4.58   97.71   -366.5   -75.74  -42.57   -25.99  -20.48    455   1.01\n",
      "lp_parts[177]  -77.25    4.62   98.66   -369.8   -76.63  -42.43   -25.96  -20.48    455   1.01\n",
      "lp_parts[178]  -77.75    4.67   99.61   -373.1   -77.54  -42.64   -25.93  -20.46    455   1.01\n",
      "lp_parts[179]  -78.25    4.72  100.57   -376.4   -78.46  -42.63   -25.93  -20.45    455   1.01\n",
      "lp_parts[180]  -78.76    4.76  101.53   -379.7   -79.22  -42.71   -25.94  -20.45    454   1.01\n",
      "lp_parts[181]  -79.27    4.81  102.49   -383.0   -78.76  -42.64   -25.97  -20.45    454   1.01\n",
      "lp_parts[182]  -79.78    4.85  103.45   -386.3   -78.31  -42.49   -25.97  -20.46    454   1.01\n",
      "lp_parts[183]   -80.3     4.9  104.41   -389.6    -78.6  -42.55   -25.91  -20.46    454    1.0\n",
      "lp_parts[184]  -80.82    4.95  105.37   -392.9    -79.5  -42.61   -25.99  -20.46    454    1.0\n",
      "lp_parts[185]  -81.34    4.99  106.33   -396.2    -80.4  -42.51   -25.94  -20.46    453    1.0\n",
      "lp_parts[186]  -81.87    5.04   107.3   -399.6   -81.31  -42.47   -25.82  -20.45    453    1.0\n",
      "lp_parts[187]   -82.4    5.09  108.26   -402.9   -82.22  -42.34   -25.77  -20.45    453    1.0\n",
      "lp_parts[188]  -82.94    5.13  109.23   -406.2   -83.13  -42.21   -25.76  -20.45    453    1.0\n",
      "lp_parts[189]  -83.48    5.18   110.2   -409.6   -84.04  -42.31   -25.72  -20.46    453    1.0\n",
      "lp_parts[190]  -84.02    5.23  111.17   -412.9   -84.96   -42.5   -25.87  -20.46    453    1.0\n",
      "lp_parts[191]  -84.57    5.27  112.14   -416.2   -85.89  -42.55   -25.89  -20.46    452    1.0\n",
      "lp_parts[192]  -85.11    5.32  113.11   -419.6   -86.81  -42.65   -26.02  -20.46    452    1.0\n",
      "lp_parts[193]  -85.67    5.37  114.08   -422.9   -87.74  -42.75   -25.94  -20.46    452    1.0\n",
      "lp_parts[194]  -86.22    5.41  115.06   -426.3   -88.67  -42.52   -25.95  -20.46    452    1.0\n",
      "lp_parts[195]  -86.78    5.46  116.03   -429.6   -89.61  -42.44   -26.03  -20.46    452    1.0\n",
      "lp_parts[196]  -87.34    5.51  117.01   -433.0   -90.55  -42.35   -26.09  -20.46    451    1.0\n",
      "lp_parts[197]  -87.91    5.55  117.99   -436.3   -91.49  -42.35   -26.18  -20.46    451    1.0\n",
      "lp_parts[198]  -88.47     5.6  118.96   -439.7   -92.43  -42.45   -26.21  -20.47    451    1.0\n",
      "lp_parts[199]  -89.05    5.65  119.94   -443.0   -93.38  -42.75   -26.12  -20.47    451    1.0\n",
      "lp_parts[200]  -89.62     5.7  120.92   -446.4   -94.33   -42.7   -26.13  -20.46    451    1.0\n",
      "lp_parts[201]   -90.2    5.74   121.9   -449.8   -95.29  -42.45   -26.19  -20.47    451    1.0\n",
      "lp_parts[202]  -90.78    5.79  122.88   -453.2   -96.25  -42.42   -26.15  -20.48    450    1.0\n",
      "lp_parts[203]  -91.36    5.84  123.86   -456.5   -97.21  -42.34   -26.13  -20.47    450    1.0\n",
      "lp_parts[204]  -91.95    5.88  124.84   -459.9   -98.17  -42.42   -26.24  -20.47    450    1.0\n",
      "lp_parts[205]  -92.54    5.93  125.83   -463.3   -99.13  -42.51   -26.16  -20.47    450    1.0\n",
      "lp_parts[206]  -93.13    5.98  126.81   -466.7   -100.1   -42.6   -26.08  -20.47    450    1.0\n",
      "lp_parts[207]  -93.72    6.03   127.8   -470.1   -101.0  -42.52   -26.09  -20.47    450    1.0\n",
      "lp_parts[208]  -94.32    6.07  128.78   -473.5   -102.0  -42.26   -26.18  -20.46    450    1.0\n",
      "lp_parts[209]  -94.92    6.12  129.77   -476.8   -103.0  -42.29    -26.2  -20.47    449    1.0\n",
      "lp_parts[210]  -95.52    6.17  130.75   -480.2   -104.0  -42.14   -26.09  -20.47    449    1.0\n",
      "lp_parts[211]  -96.13    6.22  131.74   -483.6   -104.9  -42.16   -26.11  -20.46    449    1.0\n",
      "lp_parts[212]  -96.74    6.26  132.73   -487.0   -105.9  -41.99   -26.02  -20.46    449    1.0\n",
      "lp_parts[213]  -97.35    6.31  133.72   -490.4   -106.9  -42.15   -25.92  -20.45    449    1.0\n",
      "lp_parts[214]  -97.96    6.36  134.71   -493.9   -107.9  -42.03   -25.97  -20.45    449    1.0\n",
      "lp_parts[215]  -98.58    6.41   135.7   -497.3   -108.9  -41.86   -25.96  -20.46    449    1.0\n",
      "lp_parts[216]   -99.2    6.46  136.69   -500.7   -109.9  -41.73   -25.99  -20.46    448    1.0\n",
      "lp_parts[217]  -99.82     6.5  137.68   -504.1   -110.9  -41.72   -26.11  -20.46    448    1.0\n",
      "lp_parts[218]  -100.4    6.55  138.67   -507.5   -111.9   -41.8   -26.14  -20.47    448    1.0\n",
      "lp_parts[219]  -101.0     6.6  139.66   -510.9   -112.9  -41.93   -26.11  -20.48    448    1.0\n",
      "lp_parts[220]  -101.7    6.65  140.65   -514.3   -113.9  -41.77   -26.06  -20.48    448    1.0\n",
      "lp_parts[221]  -102.3    6.69  141.65   -517.8   -114.9  -41.74   -26.18  -20.47    448    1.0\n",
      "lp_parts[222]  -102.9    6.74  142.64   -521.2   -115.9  -41.73   -26.13  -20.46    448    1.0\n",
      "lp_parts[223]  -103.6    6.79  143.64   -524.6   -116.9  -41.68   -26.08  -20.47    447    1.0\n",
      "lp_parts[224]  -104.2    6.84  144.63   -528.1   -118.0  -41.62   -26.11  -20.47    447    1.0\n",
      "lp_parts[225]  -104.8    6.89  145.63   -531.5   -119.0  -41.59   -26.19  -20.48    447    1.0\n",
      "lp_parts[226]  -105.5    6.93  146.62   -534.9   -120.0  -41.75   -26.16  -20.49    447    1.0\n",
      "lp_parts[227]  -106.1    6.98  147.62   -538.4   -121.0  -41.68    -26.1  -20.48    447    1.0\n",
      "lp_parts[228]  -106.8    7.03  148.61   -541.8   -122.0  -41.64   -26.15  -20.47    447    1.0\n",
      "lp_parts[229]  -107.4    7.08  149.61   -545.3   -123.1  -41.53   -26.12  -20.47    447    1.0\n",
      "lp_parts[230]  -108.1    7.13  150.61   -548.7   -124.1   -41.6   -26.04  -20.48    447    1.0\n",
      "lp_parts[231]  -108.7    7.17  151.61   -552.1   -125.1  -41.78   -26.03  -20.49    446    1.0\n",
      "lp_parts[232]  -109.4    7.22   152.6   -555.6   -126.2  -41.72   -25.97  -20.49    446    1.0\n",
      "lp_parts[233]  -110.1    7.27   153.6   -559.1   -127.2  -41.58   -25.98  -20.49    446    1.0\n",
      "lp_parts[234]  -110.7    7.32   154.6   -562.5   -128.2  -41.82   -25.96   -20.5    446    1.0\n",
      "lp_parts[235]  -111.4    7.37   155.6   -566.0   -129.3  -41.88   -25.97   -20.5    446    1.0\n",
      "lp_parts[236]  -112.0    7.42   156.6   -569.4   -130.3  -42.15   -25.94   -20.5    446    1.0\n",
      "lp_parts[237]  -112.7    7.46   157.6   -572.9   -131.4  -42.22   -26.09  -20.51    446    1.0\n",
      "lp_parts[238]  -113.4    7.51   158.6   -576.3   -132.4  -42.31   -26.17   -20.5    446    1.0\n",
      "lp_parts[239]  -114.1    7.56   159.6   -579.8   -133.5  -42.23   -26.19  -20.49    446    1.0\n",
      "lp_parts[240]  -114.7    7.61   160.6   -583.3   -134.5  -42.35    -26.2  -20.49    445    1.0\n",
      "lp_parts[241]  -115.4    7.66  161.61   -586.7   -135.6  -42.26   -26.25  -20.49    445    1.0\n",
      "lp_parts[242]  -116.1    7.71  162.61   -590.2   -136.6   -42.6   -26.17  -20.49    445    1.0\n",
      "lp_parts[243]  -116.8    7.75  163.61   -593.7   -137.7  -42.71   -26.16  -20.49    445    1.0\n",
      "lp_parts[244]  -117.4     7.8  164.61   -597.2   -138.7  -42.91   -26.19  -20.48    445    1.0\n",
      "lp_parts[245]  -118.1    7.85  165.62   -600.6   -139.8  -42.85    -26.3  -20.48    445    1.0\n",
      "lp_parts[246]  -118.8     7.9  166.62   -604.1   -140.9  -42.94   -26.25  -20.47    445    1.0\n",
      "lp_parts[247]  -119.5    7.95  167.62   -607.6   -141.9  -43.13   -26.22  -20.47    445    1.0\n",
      "lp_parts[248]  -120.2     8.0  168.63   -611.1   -143.0  -43.13   -26.24  -20.46    445    1.0\n",
      "lp_parts[249]  -120.9    8.04  169.63   -614.6   -144.1  -43.14   -26.25  -20.46    445    1.0\n",
      "lp_parts[250]  -121.6    8.09  170.64   -618.1   -145.1  -43.28   -26.16  -20.46    445    1.0\n",
      "lp_parts[251]  -122.3    8.14  171.64   -621.5   -146.2  -43.46   -26.17  -20.45    444    1.0\n",
      "lp_parts[252]  -123.0    8.19  172.65   -625.0   -147.3  -43.78   -26.06  -20.45    444    1.0\n",
      "lp_parts[253]  -123.7    8.24  173.65   -628.5   -148.4  -44.14   -26.15  -20.46    444    1.0\n",
      "lp_parts[254]  -124.4    8.29  174.66   -632.0   -149.5  -44.34   -26.22  -20.47    444    1.0\n",
      "lp_parts[255]  -125.1    8.34  175.66   -635.5   -150.5  -44.71   -26.24  -20.47    444    1.0\n",
      "lp_parts[256]  -125.8    8.38  176.67   -639.0   -151.6  -45.07   -26.25  -20.47    444    1.0\n",
      "lp_parts[257]  -126.5    8.43  177.68   -642.5   -152.7  -45.41   -26.19  -20.48    444    1.0\n",
      "lp_parts[258]  -127.2    8.48  178.68   -646.0   -153.8  -45.45   -26.16  -20.48    444    1.0\n",
      "lp_parts[259]  -127.9    8.53  179.69   -649.5   -154.9  -45.48   -26.19  -20.48    444    1.0\n",
      "lp_parts[260]  -128.6    8.58   180.7   -653.0   -156.0   -45.8   -26.25  -20.49    444    1.0\n",
      "lp_parts[261]  -129.3    8.63  181.71   -656.5   -157.1  -46.17   -26.24  -20.49    444    1.0\n",
      "lp_parts[262]  -130.1    8.68  182.71   -660.0   -158.1  -46.54   -26.24  -20.49    443    1.0\n",
      "lp_parts[263]  -130.8    8.73  183.72   -663.6   -159.2  -46.83    -26.3   -20.5    443    1.0\n",
      "lp_parts[264]  -131.5    8.77  184.73   -667.1   -160.3  -47.16   -26.21   -20.5    443    1.0\n",
      "lp_parts[265]  -132.2    8.82  185.74   -670.6   -161.4  -47.53   -26.11  -20.51    443    1.0\n",
      "lp_parts[266]  -132.9    8.87  186.75   -674.1   -162.5  -47.91   -26.09  -20.51    443    1.0\n",
      "lp_parts[267]  -133.7    8.92  187.76   -677.6   -163.6  -48.29   -26.04  -20.52    443    1.0\n",
      "lp_parts[268]  -134.4    8.97  188.77   -681.1   -164.7  -48.67   -26.12  -20.52    443    1.0\n",
      "lp_parts[269]  -135.1    9.02  189.78   -684.7   -165.8  -49.05   -26.17  -20.52    443    1.0\n",
      "lp_parts[270]  -135.9    9.07  190.79   -688.2   -166.9  -49.41   -26.21  -20.51    443    1.0\n",
      "lp_parts[271]  -136.6    9.12   191.8   -691.7   -168.1  -49.18   -26.24   -20.5    443    1.0\n",
      "lp_parts[272]  -137.3    9.16  192.81   -695.2   -169.2  -49.52   -26.18   -20.5    443    1.0\n",
      "lp_parts[273]  -138.1    9.21  193.82   -698.8   -170.3  -49.91   -26.18  -20.51    443    1.0\n",
      "lp_parts[274]  -138.8    9.26  194.83   -702.3   -171.4  -50.29   -26.12  -20.51    442    1.0\n",
      "lp_parts[275]  -139.5    9.31  195.84   -705.8   -172.5  -50.68   -26.08  -20.49    442    1.0\n",
      "lp_parts[276]  -140.3    9.36  196.85   -709.3   -173.6  -51.07   -26.17  -20.49    442    1.0\n",
      "lp_parts[277]  -141.0    9.41  197.86   -712.9   -174.7  -51.46   -26.14  -20.48    442    1.0\n",
      "lp_parts[278]  -141.7    9.46  198.87   -716.4   -175.9  -51.85   -26.04  -20.48    442    1.0\n",
      "lp_parts[279]  -142.5    9.51  199.88   -719.9   -177.0  -52.24   -25.97  -20.49    442    1.0\n",
      "lp_parts[280]  -143.2    9.55  200.89   -723.5   -178.1  -52.63   -25.97  -20.49    442    1.0\n",
      "lp_parts[281]  -144.0     9.6  201.91   -727.0   -179.2  -53.03   -25.94  -20.49    442    1.0\n",
      "lp_parts[282]  -144.7    9.65  202.92   -730.6   -180.3  -53.43   -25.95  -20.49    442    1.0\n",
      "lp_parts[283]  -145.5     9.7  203.93   -734.1   -181.5  -53.82   -25.98  -20.49    442    1.0\n",
      "lp_parts[284]  -146.2    9.75  204.94   -737.7   -182.6  -54.22   -26.13  -20.48    442    1.0\n",
      "lp_parts[285]  -147.0     9.8  205.95   -741.2   -183.7  -54.62   -26.19  -20.48    442    1.0\n",
      "lp_parts[286]  -147.7    9.85  206.97   -744.7   -184.9  -55.03   -26.15  -20.47    442    1.0\n",
      "lp_parts[287]  -148.5     9.9  207.98   -748.3   -186.0  -55.43   -26.18  -20.48    442    1.0\n",
      "lp_parts[288]  -149.2    9.95  208.99   -751.8   -187.1  -55.84   -26.16  -20.48    442    1.0\n",
      "lp_parts[289]  -150.0    10.0  210.01   -755.4   -188.3  -56.24   -26.08  -20.48    441    1.0\n",
      "lp_parts[290]  -150.8   10.04  211.02   -758.9   -189.4  -56.65   -26.04  -20.49    441    1.0\n",
      "lp_parts[291]  -151.5   10.09  212.03   -762.5   -190.5  -57.06    -26.1   -20.5    441    1.0\n",
      "lp_parts[292]  -152.3   10.14  213.05   -766.1   -191.7  -57.47   -26.13   -20.5    441    1.0\n",
      "lp_parts[293]  -153.0   10.19  214.06   -769.6   -192.8  -57.89   -26.24  -20.49    441    1.0\n",
      "lp_parts[294]  -153.8   10.24  215.07   -773.2   -194.0   -58.3   -26.27  -20.49    441    1.0\n",
      "lp_parts[295]  -154.6   10.29  216.09   -776.7   -195.1  -58.72   -26.18  -20.49    441    1.0\n",
      "lp_parts[296]  -155.3   10.34   217.1   -780.3   -196.2  -59.13   -26.08  -20.51    441    1.0\n",
      "lp_parts[297]  -156.1   10.39  218.12   -783.8   -197.4  -59.55    -26.0   -20.5    441    1.0\n",
      "lp_parts[298]  -156.9   10.44  219.13   -787.4   -198.5  -59.97   -26.03   -20.5    441    1.0\n",
      "lp_parts[299]  -157.7   10.49  220.15   -791.0   -199.7  -60.39    -26.0  -20.49    441    1.0\n",
      "lp_parts[300]  -158.4   10.53  221.16   -794.5   -200.8  -60.81   -25.97  -20.49    441    1.0\n",
      "lp_parts[301]  -159.2   10.58  222.18   -798.1   -202.0  -61.24   -25.95  -20.49    441    1.0\n",
      "lp_parts[302]  -160.0   10.63  223.19   -801.7   -203.1  -61.66    -25.9   -20.5    441    1.0\n",
      "lp_parts[303]  -160.8   10.68  224.21   -805.2   -204.3  -62.09   -25.93  -20.51    441    1.0\n",
      "lp_parts[304]  -161.5   10.73  225.22   -808.8   -205.4  -62.51   -25.93  -20.51    441    1.0\n",
      "lp_parts[305]  -162.3   10.78  226.24   -812.4   -206.6  -62.94   -25.95  -20.52    440    1.0\n",
      "lp_parts[306]  -163.1   10.83  227.25   -816.0   -207.8  -63.37   -25.85  -20.52    440    1.0\n",
      "lp_parts[307]  -163.9   10.88  228.27   -819.5   -208.9   -63.8   -25.81  -20.51    440    1.0\n",
      "lp_parts[308]  -164.7   10.93  229.28   -823.1   -210.1  -64.23    -25.8  -20.51    440    1.0\n",
      "lp_parts[309]  -165.4   10.98   230.3   -826.7   -211.2  -64.67   -25.84  -20.51    440    1.0\n",
      "lp_parts[310]  -166.2   11.02  231.32   -830.3   -212.4   -65.1   -25.88  -20.51    440    1.0\n",
      "lp_parts[311]  -167.0   11.07  232.33   -833.8   -213.6  -65.54    -25.9  -20.51    440    1.0\n",
      "lp_parts[312]  -167.8   11.12  233.35   -837.4   -214.7  -65.97   -25.92   -20.5    440    1.0\n",
      "lp_parts[313]  -168.6   11.17  234.37   -841.0   -215.9  -66.41   -25.86   -20.5    440    1.0\n",
      "lp_parts[314]  -169.4   11.22  235.38   -844.6   -217.1  -66.85   -25.83   -20.5    440    1.0\n",
      "lp_parts[315]  -170.2   11.27   236.4   -848.2   -218.2  -67.29   -25.78   -20.5    440    1.0\n",
      "lp_parts[316]  -171.0   11.32  237.42   -851.8   -219.4  -67.73   -25.75  -20.51    440    1.0\n",
      "lp_parts[317]  -171.8   11.37  238.43   -855.3   -220.6  -68.17   -25.67  -20.52    440    1.0\n",
      "lp_parts[318]  -172.6   11.42  239.45   -858.9   -221.7  -68.62   -25.63  -20.53    440    1.0\n",
      "lp_parts[319]  -173.4   11.47  240.47   -862.5   -222.9  -69.06   -25.62  -20.52    440    1.0\n",
      "lp_parts[320]  -174.1   11.52  241.48   -866.1   -224.1  -69.51    -25.6  -20.52    440    1.0\n",
      "lp_parts[321]  -174.9   11.57   242.5   -869.7   -225.3  -69.96   -25.57  -20.53    440    1.0\n",
      "lp_parts[322]  -175.7   11.61  243.52   -873.3   -226.4  -70.41   -25.61  -20.52    440    1.0\n",
      "lp_parts[323]  -176.5   11.66  244.54   -876.9   -227.6  -70.85    -25.7  -20.52    440    1.0\n",
      "lp_parts[324]  -177.3   11.71  245.55   -880.5   -228.8  -71.31   -25.68  -20.52    439    1.0\n",
      "lp_parts[325]  -178.2   11.76  246.57   -884.1   -230.0  -71.76   -25.67  -20.51    439    1.0\n",
      "lp_parts[326]  -179.0   11.81  247.59   -887.7   -231.2  -72.21   -25.63  -20.51    439    1.0\n",
      "lp_parts[327]  -179.8   11.86  248.61   -891.3   -232.3  -72.66   -25.66  -20.51    439    1.0\n",
      "lp_parts[328]  -180.6   11.91  249.63   -894.9   -233.5  -73.12   -25.69  -20.51    439    1.0\n",
      "lp_parts[329]  -181.4   11.96  250.64   -898.5   -234.7  -73.57   -25.75  -20.52    439    1.0\n",
      "lp_parts[330]  -182.2   12.01  251.66   -902.1   -235.9  -74.03   -25.74  -20.52    439    1.0\n",
      "lp_parts[331]  -183.0   12.06  252.68   -905.7   -237.1  -74.49   -25.71  -20.51    439    1.0\n",
      "lp_parts[332]  -183.8   12.11   253.7   -909.3   -238.3  -74.95   -25.67   -20.5    439    1.0\n",
      "lp_parts[333]  -184.6   12.16  254.72   -912.9   -239.5  -75.41    -25.7   -20.5    439    1.0\n",
      "lp_parts[334]  -185.4   12.21  255.74   -916.5   -240.6  -75.87   -25.74  -20.49    439    1.0\n",
      "lp_parts[335]  -186.2   12.25  256.75   -920.1   -241.8  -76.33   -25.74   -20.5    439    1.0\n",
      "lp_parts[336]  -187.1    12.3  257.77   -923.7   -243.0   -76.8   -25.84   -20.5    439    1.0\n",
      "lp_parts[337]  -187.9   12.35  258.79   -927.3   -244.2  -77.26   -25.95  -20.49    439    1.0\n",
      "lp_parts[338]  -188.7    12.4  259.81   -930.9   -245.4  -77.73   -25.93  -20.48    439    1.0\n",
      "lp_parts[339]  -189.5   12.45  260.83   -934.5   -246.6  -78.19   -25.93  -20.48    439    1.0\n",
      "lp_parts[340]  -190.3    12.5  261.85   -938.1   -247.8  -78.66   -25.96  -20.47    439    1.0\n",
      "lp_parts[341]  -191.1   12.55  262.87   -941.7   -249.0  -79.13   -26.01  -20.47    439    1.0\n",
      "lp_parts[342]  -192.0    12.6  263.89   -945.4   -250.2   -79.6   -26.02  -20.46    439    1.0\n",
      "lp_parts[343]  -192.8   12.65  264.91   -949.0   -251.4  -80.07   -26.12  -20.47    439    1.0\n",
      "lp_parts[344]  -193.6    12.7  265.93   -952.6   -252.6  -80.54   -26.22  -20.48    439    1.0\n",
      "lp_parts[345]  -194.4   12.75  266.95   -956.2   -253.8  -81.01   -26.34  -20.48    439    1.0\n",
      "lp_parts[346]  -195.3    12.8  267.97   -959.8   -255.0  -81.49   -26.35  -20.48    439    1.0\n",
      "lp_parts[347]  -196.1   12.85  268.99   -963.4   -256.2  -81.96   -26.43  -20.48    438    1.0\n",
      "lp_parts[348]  -196.9   12.89   270.0   -967.1   -257.4  -82.44    -26.5  -20.48    438    1.0\n",
      "lp_parts[349]  -197.7   12.94  271.02   -970.7   -258.6  -82.91    -26.5  -20.48    438    1.0\n",
      "lp_parts[350]  -198.6   12.99  272.04   -974.3   -259.8  -83.39   -26.52  -20.47    438    1.0\n",
      "lp_parts[351]  -199.4   13.04  273.06   -977.9   -261.0  -83.87   -26.63  -20.47    438    1.0\n",
      "lp_parts[352]  -200.2   13.09  274.08   -981.5   -262.2  -84.35   -26.67  -20.47    438    1.0\n",
      "lp_parts[353]  -201.0   13.14   275.1   -985.2   -263.4  -84.83   -26.75  -20.47    438    1.0\n",
      "lp_parts[354]  -201.9   13.19  276.12   -988.8   -264.6  -85.31   -26.68  -20.48    438    1.0\n",
      "lp_parts[355]  -202.7   13.24  277.14   -992.4   -265.8  -85.79   -26.58  -20.48    438    1.0\n",
      "lp_parts[356]  -203.5   13.29  278.17   -996.0   -267.1  -86.27   -26.56  -20.48    438    1.0\n",
      "lp_parts[357]  -204.4   13.34  279.19   -999.7   -268.3  -86.75   -26.56  -20.48    438    1.0\n",
      "lp_parts[358]  -205.2   13.39  280.21    -1003   -269.5  -87.24    -26.6  -20.48    438    1.0\n",
      "lp_parts[359]  -206.1   13.44  281.23    -1006   -270.7  -87.72   -26.69  -20.48    438    1.0\n",
      "lp_parts[360]  -206.9   13.49  282.25    -1010   -271.9  -88.21   -26.73  -20.48    438    1.0\n",
      "lp_parts[361]  -207.7   13.54  283.27    -1014   -273.1   -88.7   -26.85  -20.48    438    1.0\n",
      "lp_parts[362]  -208.6   13.59  284.29    -1017   -274.3  -89.19   -26.97  -20.47    438    1.0\n",
      "lp_parts[363]  -209.4   13.63  285.31    -1021   -275.6  -89.67   -27.04  -20.47    438    1.0\n",
      "lp_parts[364]  -210.2   13.68  286.33    -1025   -276.8  -90.16   -26.95  -20.47    438    1.0\n",
      "lp_parts[365]  -211.1   13.73  287.35    -1028   -278.0  -90.66    -27.0  -20.47    438    1.0\n",
      "lp_parts[366]  -211.9   13.78  288.37    -1032   -279.2  -91.15   -27.12  -20.47    438    1.0\n",
      "lp_parts[367]  -212.8   13.83  289.39    -1036   -280.4  -91.64   -27.24  -20.47    438    1.0\n",
      "lp_parts[368]  -213.6   13.88  290.41    -1039   -281.7  -92.13   -27.36  -20.48    438    1.0\n",
      "lp_parts[369]  -214.5   13.93  291.44    -1043   -282.9  -92.63   -27.49  -20.48    438    1.0\n",
      "lp_parts[370]  -215.3   13.98  292.46    -1046   -284.1  -93.12   -27.61  -20.48    438    1.0\n",
      "lp_parts[371]  -216.2   14.03  293.48    -1050   -285.3  -93.62   -27.66  -20.48    438    1.0\n",
      "lp_parts[372]  -217.0   14.08   294.5    -1054   -286.5  -94.11   -27.73  -20.49    438    1.0\n",
      "lp_parts[373]  -217.9   14.13  295.52    -1057   -287.8  -94.61   -27.79  -20.49    438    1.0\n",
      "lp_parts[374]  -218.7   14.18  296.54    -1061   -289.0  -95.11   -27.92  -20.48    437    1.0\n",
      "lp_parts[375]  -219.6   14.23  297.56    -1065   -290.2  -95.61   -28.04  -20.48    437    1.0\n",
      "lp_parts[376]  -220.4   14.28  298.58    -1068   -291.5  -96.11   -28.17  -20.48    437    1.0\n",
      "lp_parts[377]  -221.3   14.33  299.61    -1072   -292.7  -96.61    -28.3  -20.47    437    1.0\n",
      "lp_parts[378]  -222.1   14.38  300.63    -1076   -293.9  -97.11   -28.42  -20.47    437    1.0\n",
      "lp_parts[379]  -223.0   14.42  301.65    -1079   -295.1  -97.61    -28.5  -20.48    437    1.0\n",
      "lp_parts[380]  -223.8   14.47  302.67    -1083   -296.4  -98.12   -28.58  -20.48    437    1.0\n",
      "lp_parts[381]  -224.7   14.52  303.69    -1087   -297.6  -98.62   -28.71  -20.48    437    1.0\n",
      "lp_parts[382]  -225.5   14.57  304.71    -1090   -298.8  -99.12   -28.84  -20.48    437    1.0\n",
      "lp_parts[383]  -226.4   14.62  305.74    -1094   -300.1  -99.63   -28.97  -20.49    437    1.0\n",
      "lp_parts[384]  -227.2   14.67  306.76    -1097   -301.3  -100.1    -29.1   -20.5    437    1.0\n",
      "lp_parts[385]  -228.1   14.72  307.78    -1101   -302.5  -100.6   -29.23   -20.5    437    1.0\n",
      "lp_parts[386]  -229.0   14.77   308.8    -1105   -303.8  -101.1   -29.37   -20.5    437    1.0\n",
      "lp_parts[387]  -229.8   14.82  309.82    -1108   -305.0  -101.6    -29.5  -20.49    437    1.0\n",
      "lp_parts[388]  -230.7   14.87  310.85    -1112   -306.2  -102.1   -29.64  -20.48    437    1.0\n",
      "lp_parts[389]  -231.5   14.92  311.87    -1116   -307.5  -102.6   -29.77  -20.48    437    1.0\n",
      "lp_parts[390]  -232.4   14.97  312.89    -1119   -308.7  -103.1   -29.91  -20.48    437    1.0\n",
      "lp_parts[391]  -233.3   15.02  313.91    -1123   -310.0  -103.7   -29.94  -20.48    437    1.0\n",
      "lp_parts[392]  -234.1   15.07  314.94    -1127   -311.2  -104.2   -29.83  -20.48    437    1.0\n",
      "lp_parts[393]  -235.0   15.12  315.96    -1130   -312.4  -104.7   -29.74  -20.48    437    1.0\n",
      "lp_parts[394]  -235.9   15.17  316.98    -1134   -313.7  -105.2   -29.83  -20.47    437    1.0\n",
      "lp_parts[395]  -236.7   15.22   318.0    -1138   -314.9  -105.7   -29.96  -20.48    437    1.0\n",
      "lp_parts[396]  -237.6   15.26  319.03    -1141   -316.2  -106.2    -30.1  -20.48    437    1.0\n",
      "lp_parts[397]  -238.5   15.31  320.05    -1145   -317.4  -106.7   -30.23  -20.49    437    1.0\n",
      "lp_parts[398]  -239.3   15.36  321.07    -1149   -318.7  -107.3   -30.37  -20.49    437    1.0\n",
      "lp_parts[399]  -240.2   15.41  322.09    -1152   -319.9  -107.8   -30.51   -20.5    437    1.0\n",
      "lp_parts[400]  -241.1   15.46  323.12    -1156   -321.2  -108.3   -30.65  -20.49    437    1.0\n",
      "lp_parts[401]  -241.9   15.51  324.14    -1160   -322.4  -108.8   -30.79  -20.48    437    1.0\n",
      "lp_parts[402]  -242.8   15.56  325.16    -1163   -323.6  -109.3   -30.93  -20.48    437    1.0\n",
      "lp_parts[403]  -243.7   15.61  326.19    -1167   -324.9  -109.9   -31.07  -20.49    437    1.0\n",
      "lp_parts[404]  -244.5   15.66  327.21    -1171   -326.1  -110.4   -31.21  -20.48    437    1.0\n",
      "lp_parts[405]  -245.4   15.71  328.23    -1174   -327.4  -110.9   -31.35  -20.48    436    1.0\n",
      "lp_parts[406]  -246.3   15.76  329.25    -1178   -328.6  -111.4   -31.49  -20.47    436    1.0\n",
      "lp_parts[407]  -247.2   15.81  330.28    -1182   -329.9  -111.9   -31.64  -20.47    436    1.0\n",
      "lp_parts[408]  -248.0   15.86   331.3    -1185   -331.1  -112.5   -31.78  -20.47    436    1.0\n",
      "lp_parts[409]  -248.9   15.91  332.32    -1189   -332.4  -113.0   -31.92  -20.47    436    1.0\n",
      "lp_parts[410]  -249.8   15.96  333.35    -1193   -333.7  -113.5   -32.07  -20.48    436    1.0\n",
      "lp_parts[411]  -250.7   16.01  334.37    -1196   -334.9  -114.0   -32.22  -20.47    436    1.0\n",
      "lp_parts[412]  -251.5   16.06  335.39    -1200   -336.2  -114.6   -32.36  -20.47    436    1.0\n",
      "lp_parts[413]  -252.4   16.11  336.42    -1204   -337.4  -115.1   -32.51  -20.47    436    1.0\n",
      "lp_parts[414]  -253.3   16.16  337.44    -1207   -338.7  -115.6   -32.66  -20.47    436    1.0\n",
      "lp_parts[415]  -254.2   16.21  338.46    -1211   -339.9  -116.2   -32.81  -20.46    436    1.0\n",
      "lp_parts[416]  -255.1   16.26  339.49    -1215   -341.2  -116.7   -32.96  -20.46    436    1.0\n",
      "lp_parts[417]  -255.9   16.31  340.51    -1218   -342.4  -117.2   -33.11  -20.46    436    1.0\n",
      "lp_parts[418]  -256.8   16.36  341.53    -1222   -343.7  -117.7   -33.26  -20.46    436    1.0\n",
      "lp_parts[419]  -257.7    16.4  342.56    -1226   -345.0  -118.3   -33.41  -20.46    436    1.0\n",
      "lp_parts[420]  -258.6   16.45  343.58    -1229   -346.2  -118.8   -33.56  -20.47    436    1.0\n",
      "lp_parts[421]  -259.5    16.5   344.6    -1233   -347.5  -119.3   -33.71  -20.47    436    1.0\n",
      "lp_parts[422]  -260.4   16.55  345.63    -1237   -348.7  -119.9   -33.87  -20.47    436    1.0\n",
      "lp_parts[423]  -261.2    16.6  346.65    -1240   -350.0  -120.4   -34.02  -20.48    436    1.0\n",
      "lp_parts[424]  -262.1   16.65  347.67    -1244   -351.3  -120.9   -34.18  -20.47    436    1.0\n",
      "lp_parts[425]  -263.0    16.7   348.7    -1248   -352.5  -121.5   -34.33  -20.47    436    1.0\n",
      "lp_parts[426]  -263.9   16.75  349.72    -1251   -353.8  -122.0   -34.49  -20.47    436    1.0\n",
      "lp_parts[427]  -264.8    16.8  350.75    -1255   -355.1  -122.5   -34.64  -20.47    436    1.0\n",
      "lp_parts[428]  -265.7   16.85  351.77    -1259   -356.3  -123.1    -34.8  -20.47    436    1.0\n",
      "lp_parts[429]  -266.6    16.9  352.79    -1262   -357.6  -123.6   -34.96  -20.48    436    1.0\n",
      "lp_parts[430]  -267.4   16.95  353.82    -1266   -358.9  -124.2   -35.12  -20.48    436    1.0\n",
      "lp_parts[431]  -268.3    17.0  354.84    -1270   -360.1  -124.7   -35.28  -20.49    436    1.0\n",
      "lp_parts[432]  -269.2   17.05  355.86    -1274   -361.4  -125.2   -35.44  -20.49    436    1.0\n",
      "lp_parts[433]  -270.1    17.1  356.89    -1277   -362.7  -125.8    -35.6  -20.48    436    1.0\n",
      "lp_parts[434]  -271.0   17.15  357.91    -1281   -363.9  -126.3   -35.76  -20.49    436    1.0\n",
      "lp_parts[435]  -271.9    17.2  358.94    -1285   -365.2  -126.9   -35.92  -20.49    436    1.0\n",
      "lp_parts[436]  -272.8   17.25  359.96    -1288   -366.5  -127.4   -36.08  -20.49    436    1.0\n",
      "lp_parts[437]  -273.7    17.3  360.98    -1292   -367.7  -127.9   -36.24   -20.5    436    1.0\n",
      "lp_parts[438]  -274.6   17.35  362.01    -1296   -369.0  -128.5   -36.41   -20.5    435    1.0\n",
      "lp_parts[439]  -275.5    17.4  363.03    -1299   -370.3  -129.0   -36.57   -20.5    435    1.0\n",
      "lp_parts[440]  -276.4   17.45  364.06    -1303   -371.5  -129.6   -36.74   -20.5    435    1.0\n",
      "lp_parts[441]  -277.3    17.5  365.08    -1307   -372.8  -130.1    -36.9  -20.49    435    1.0\n",
      "lp_parts[442]  -278.2   17.55  366.11    -1310   -374.1  -130.7   -37.07  -20.49    435    1.0\n",
      "lp_parts[443]  -279.1    17.6  367.13    -1314   -375.4  -131.2   -37.23  -20.48    435    1.0\n",
      "lp_parts[444]  -280.0   17.65  368.15    -1318   -376.6  -131.8    -37.4  -20.48    435    1.0\n",
      "lp_parts[445]  -280.9   17.69  369.18    -1321   -377.9  -132.3   -37.57  -20.48    435    1.0\n",
      "lp_parts[446]  -281.8   17.74   370.2    -1325   -379.2  -132.8   -37.73  -20.49    435    1.0\n",
      "lp_parts[447]  -282.7   17.79  371.23    -1329   -380.5  -133.4    -37.9   -20.5    435    1.0\n",
      "lp_parts[448]  -283.6   17.84  372.25    -1333   -381.7  -133.9   -38.07  -20.49    435    1.0\n",
      "lp_parts[449]  -284.5   17.89  373.28    -1336   -383.0  -134.5   -38.24   -20.5    435    1.0\n",
      "lp_parts[450]  -285.4   17.94   374.3    -1340   -384.3  -135.0   -38.41  -20.51    435    1.0\n",
      "lp_parts[451]  -286.3   17.99  375.32    -1344   -385.6  -135.6   -38.58  -20.52    435    1.0\n",
      "lp_parts[452]  -287.2   18.04  376.35    -1347   -386.9  -136.1   -38.75  -20.52    435    1.0\n",
      "lp_parts[453]  -288.1   18.09  377.37    -1351   -388.1  -136.7   -38.93  -20.52    435    1.0\n",
      "lp_parts[454]  -289.0   18.14   378.4    -1355   -389.4  -137.2    -39.1  -20.53    435    1.0\n",
      "lp_parts[455]  -289.9   18.19  379.42    -1358   -390.7  -137.8   -39.27  -20.53    435    1.0\n",
      "lp_parts[456]  -290.8   18.24  380.45    -1362   -392.0  -138.4   -39.44  -20.53    435    1.0\n",
      "lp_parts[457]  -291.7   18.29  381.47    -1366   -393.3  -138.9   -39.62  -20.52    435    1.0\n",
      "lp_parts[458]  -292.6   18.34   382.5    -1369   -394.5  -139.5   -39.79  -20.53    435    1.0\n",
      "lp_parts[459]  -293.5   18.39  383.52    -1373   -395.8  -140.0   -39.97  -20.54    435    1.0\n",
      "lp_parts[460]  -294.4   18.44  384.55    -1377   -397.1  -140.6   -40.14  -20.53    435    1.0\n",
      "lp_parts[461]  -295.3   18.49  385.57    -1381   -398.4  -141.1   -40.32  -20.52    435    1.0\n",
      "lp_parts[462]  -296.2   18.54   386.6    -1384   -399.7  -141.7    -40.5  -20.52    435    1.0\n",
      "lp_parts[463]  -297.1   18.59  387.62    -1388   -401.0  -142.2   -40.67  -20.53    435    1.0\n",
      "lp_parts[464]  -298.0   18.64  388.65    -1392   -402.2  -142.8   -40.85  -20.54    435    1.0\n",
      "lp_parts[465]  -298.9   18.69  389.67    -1395   -403.5  -143.4   -41.03  -20.55    435    1.0\n",
      "lp_parts[466]  -299.8   18.74   390.7    -1399   -404.8  -143.9   -41.21  -20.55    435    1.0\n",
      "lp_parts[467]  -300.8   18.79  391.72    -1403   -406.1  -144.5   -41.39  -20.55    435    1.0\n",
      "lp_parts[468]  -301.7   18.84  392.75    -1406   -407.4  -145.0   -41.57  -20.55    435    1.0\n",
      "lp_parts[469]  -302.6   18.89  393.77    -1410   -408.7  -145.6   -41.75  -20.56    435    1.0\n",
      "lp_parts[470]  -303.5   18.94   394.8    -1414   -410.0  -146.2   -41.93  -20.57    435    1.0\n",
      "lp_parts[471]  -304.4   18.99  395.82    -1418   -411.3  -146.7   -42.11  -20.56    435    1.0\n",
      "lp_parts[472]  -305.3   19.04  396.85    -1421   -412.5  -147.3   -42.29  -20.57    435    1.0\n",
      "lp_parts[473]  -306.2   19.09  397.87    -1425   -413.8  -147.8   -42.48  -20.58    435    1.0\n",
      "lp_parts[474]  -307.1   19.14   398.9    -1429   -415.1  -148.4   -42.66  -20.58    435    1.0\n",
      "lp_parts[475]  -308.1   19.18  399.92    -1432   -416.4  -149.0   -42.84  -20.59    435    1.0\n",
      "lp_parts[476]  -309.0   19.23  400.95    -1436   -417.7  -149.5   -43.03   -20.6    435    1.0\n",
      "lp_parts[477]  -309.9   19.28  401.97    -1440   -419.0  -150.1   -43.21   -20.6    435    1.0\n",
      "lp_parts[478]  -310.8   19.33   403.0    -1444   -420.3  -150.7   -43.39  -20.59    434    1.0\n",
      "lp_parts[479]  -311.7   19.38  404.02    -1447   -421.6  -151.2   -43.58  -20.59    434    1.0\n",
      "lp_parts[480]  -312.6   19.43  405.05    -1451   -422.9  -151.8   -43.77   -20.6    434    1.0\n",
      "lp_parts[481]  -313.5   19.48  406.07    -1455   -424.2  -152.4   -43.95  -20.61    434    1.0\n",
      "lp_parts[482]  -314.5   19.53   407.1    -1458   -425.5  -152.9   -44.14  -20.62    434    1.0\n",
      "lp_parts[483]  -315.4   19.58  408.12    -1462   -426.8  -153.5   -44.33  -20.62    434    1.0\n",
      "lp_parts[484]  -316.3   19.63  409.15    -1466   -428.1  -154.1   -44.52  -20.64    434    1.0\n",
      "lp_parts[485]  -317.2   19.68  410.17    -1470   -429.4  -154.6    -44.7  -20.65    434    1.0\n",
      "lp_parts[486]  -318.1   19.73   411.2    -1473   -430.7  -155.2   -44.89  -20.67    434    1.0\n",
      "lp_parts[487]  -319.1   19.78  412.22    -1477   -431.9  -155.8   -45.08  -20.68    434    1.0\n",
      "lp_parts[488]  -320.0   19.83  413.25    -1481   -433.2  -156.3   -45.27  -20.69    434    1.0\n",
      "lp_parts[489]  -320.9   19.88  414.27    -1484   -434.5  -156.9   -45.46  -20.71    434    1.0\n",
      "lp_parts[490]  -321.8   19.93   415.3    -1488   -435.8  -157.5   -45.65  -20.73    434    1.0\n",
      "lp_parts[491]  -322.7   19.98  416.33    -1492   -437.1  -158.0   -45.84  -20.74    434    1.0\n",
      "lp_parts[492]  -323.7   20.03  417.35    -1496   -438.4  -158.6   -46.04  -20.76    434    1.0\n",
      "lp_parts[493]  -324.6   20.08  418.38    -1499   -439.7  -159.2   -46.23  -20.78    434    1.0\n",
      "lp_parts[494]  -325.5   20.13   419.4    -1503   -441.0  -159.8   -46.42   -20.8    434    1.0\n",
      "lp_parts[495]  -326.4   20.18  420.43    -1507   -442.3  -160.3   -46.61  -20.82    434    1.0\n",
      "lp_parts[496]  -327.4   20.23  421.45    -1510   -443.6  -160.9   -46.81  -20.84    434    1.0\n",
      "lp_parts[497]  -328.3   20.28  422.48    -1514   -444.9  -161.5    -47.0  -20.85    434    1.0\n",
      "lp_parts[498]  -329.2   20.33   423.5    -1518   -446.2  -162.1    -47.2  -20.85    434    1.0\n",
      "lp_parts[499]  -330.1   20.38  424.53    -1522   -447.5  -162.6   -47.39  -20.86    434    1.0\n",
      "lp_parts[500]  -331.1   20.43  425.56    -1525   -448.9  -163.2   -47.59  -20.86    434    1.0\n",
      "n              186.53    6.66  125.54     39.0     83.0   147.0   267.55   463.6    356    1.0\n",
      "prob_n[1]         0.0     nan     0.0      0.0      0.0     0.0      0.0     0.0    nan    nan\n",
      "prob_n[2]         0.0     nan     0.0      0.0      0.0     0.0      0.0     0.0    nan    nan\n",
      "prob_n[3]         0.0     nan     0.0      0.0      0.0     0.0      0.0     0.0    nan    nan\n",
      "prob_n[4]         0.0     nan     0.0      0.0      0.0     0.0      0.0     0.0    nan    nan\n",
      "prob_n[5]         0.0     nan     0.0      0.0      0.0     0.0      0.0     0.0    nan    nan\n",
      "prob_n[6]         0.0     nan     0.0      0.0      0.0     0.0      0.0     0.0    nan    nan\n",
      "prob_n[7]         0.0     nan     0.0      0.0      0.0     0.0      0.0     0.0    nan    nan\n",
      "prob_n[8]         0.0     nan     0.0      0.0      0.0     0.0      0.0     0.0    nan    nan\n",
      "prob_n[9]         0.0     nan     0.0      0.0      0.0     0.0      0.0     0.0    nan    nan\n",
      "prob_n[10]        0.0     nan     0.0      0.0      0.0     0.0      0.0     0.0    nan    nan\n",
      "prob_n[11]        0.0     nan     0.0      0.0      0.0     0.0      0.0     0.0    nan    nan\n",
      "prob_n[12]        0.0     nan     0.0      0.0      0.0     0.0      0.0     0.0    nan    nan\n",
      "prob_n[13]        0.0     nan     0.0      0.0      0.0     0.0      0.0     0.0    nan    nan\n",
      "prob_n[14]        0.0     nan     0.0      0.0      0.0     0.0      0.0     0.0    nan    nan\n",
      "prob_n[15]        0.0     nan     0.0      0.0      0.0     0.0      0.0     0.0    nan    nan\n",
      "prob_n[16]        0.0     nan     0.0      0.0      0.0     0.0      0.0     0.0    nan    nan\n",
      "prob_n[17]        0.0     nan     0.0      0.0      0.0     0.0      0.0     0.0    nan    nan\n",
      "prob_n[18]        0.0     nan     0.0      0.0      0.0     0.0      0.0     0.0    nan    nan\n",
      "prob_n[19]        0.0     nan     0.0      0.0      0.0     0.0      0.0     0.0    nan    nan\n",
      "prob_n[20]        0.0     nan     0.0      0.0      0.0     0.0      0.0     0.0    nan    nan\n",
      "prob_n[21]        0.0     nan     0.0      0.0      0.0     0.0      0.0     0.0    nan    nan\n",
      "prob_n[22]        0.0     nan     0.0      0.0      0.0     0.0      0.0     0.0    nan    nan\n",
      "prob_n[23]        0.0     nan     0.0      0.0      0.0     0.0      0.0     0.0    nan    nan\n",
      "prob_n[24]        0.0     nan     0.0      0.0      0.0     0.0      0.0     0.0    nan    nan\n",
      "prob_n[25]        0.0     nan     0.0      0.0      0.0     0.0      0.0     0.0    nan    nan\n",
      "prob_n[26]        0.0     nan     0.0      0.0      0.0     0.0      0.0     0.0    nan    nan\n",
      "prob_n[27]     1.2e-4  1.1e-4  3.2e-3 2.8e-120  1.3e-94 1.4e-66  7.9e-41 1.3e-11    844    1.0\n",
      "prob_n[28]     5.6e-4  4.7e-4    0.01 1.8e-116  6.8e-91 5.1e-63  1.4e-37  2.0e-9    529   1.01\n",
      "prob_n[29]     1.1e-3  8.4e-4    0.02 3.6e-113  1.2e-87 5.8e-60  7.7e-35 10.0e-8    387   1.01\n",
      "prob_n[30]     1.4e-3  9.4e-4    0.02 3.4e-110  9.2e-85 3.2e-57  2.0e-32  2.3e-6    354   1.01\n",
      "prob_n[31]     1.4e-3  8.1e-4    0.02 1.9e-107  4.1e-82 9.7e-55  3.0e-30  3.0e-5    414   1.01\n",
      "prob_n[32]     1.4e-3  6.2e-4    0.02 6.3e-105  1.2e-79 1.9e-52  2.8e-28  2.5e-4    630   1.01\n",
      "prob_n[33]     1.5e-3  4.9e-4    0.01 1.4e-102  2.2e-77 2.5e-50  1.8e-26  1.0e-3    909    1.0\n",
      "prob_n[34]     1.8e-3  5.1e-4    0.01 2.4e-100  3.1e-75 2.3e-48  8.0e-25  2.5e-3    833    1.0\n",
      "prob_n[35]     2.2e-3  6.3e-4    0.02  2.9e-98  3.2e-73 1.6e-46  2.7e-23  6.6e-3    678    1.0\n",
      "prob_n[36]     2.6e-3  7.6e-4    0.02  2.8e-96  2.5e-71 8.9e-45  7.2e-22    0.02    604    1.0\n",
      "prob_n[37]     3.1e-3  8.3e-4    0.02  2.1e-94  1.6e-69 3.9e-43  1.5e-20    0.02    593    1.0\n",
      "prob_n[38]     3.3e-3  8.3e-4    0.02  1.3e-92  8.3e-68 1.4e-41  2.6e-19    0.04    617    1.0\n",
      "prob_n[39]     3.5e-3  7.5e-4    0.02  6.9e-91  3.6e-66 4.1e-40  3.7e-18    0.06    698    1.0\n",
      "prob_n[40]     3.6e-3  6.5e-4    0.02  3.0e-89  1.3e-64 1.0e-38  4.5e-17    0.07    862    1.0\n",
      "prob_n[41]     3.7e-3  5.9e-4    0.02  1.1e-87  4.1e-63 2.2e-37  4.6e-16    0.07   1036    1.0\n",
      "prob_n[42]     3.9e-3  5.8e-4    0.02  3.7e-86  1.1e-61 4.0e-36  4.0e-15    0.07   1105    1.0\n",
      "prob_n[43]     4.0e-3  5.9e-4    0.02  1.0e-84  2.6e-60 6.5e-35  2.8e-14    0.07   1102    1.0\n",
      "prob_n[44]     4.2e-3  5.9e-4    0.02  2.6e-83  5.5e-59 9.4e-34  1.7e-13    0.08   1086    1.0\n",
      "prob_n[45]     4.4e-3  5.9e-4    0.02  5.9e-82  1.0e-57 1.2e-32  8.1e-13    0.09   1089    1.0\n",
      "prob_n[46]     4.6e-3  5.8e-4    0.02  1.2e-80  1.8e-56 1.4e-31  4.3e-12    0.09   1114    1.0\n",
      "prob_n[47]     4.7e-3  5.7e-4    0.02  2.2e-79  2.7e-55 1.5e-30  1.5e-11    0.08   1146    1.0\n",
      "prob_n[48]     4.9e-3  5.7e-4    0.02  3.7e-78  3.7e-54 1.3e-29  7.2e-11    0.09   1170    1.0\n",
      "prob_n[49]     5.2e-3  5.7e-4    0.02  5.6e-77  4.8e-53 1.2e-28  2.6e-10    0.09   1155    1.0\n",
      "prob_n[50]     5.4e-3  5.7e-4    0.02  7.9e-76  5.6e-52 8.9e-28  9.0e-10    0.08   1175    1.0\n",
      "prob_n[51]     5.6e-3  5.8e-4    0.02  1.0e-74  6.1e-51 5.9e-27   3.3e-9    0.09   1151    1.0\n",
      "prob_n[52]     5.9e-3  6.0e-4    0.02  1.3e-73  6.2e-50 3.9e-26   7.6e-9    0.09   1124    1.0\n",
      "prob_n[53]     6.1e-3  6.3e-4    0.02  1.4e-72  5.8e-49 2.4e-25   1.4e-8    0.09   1025    1.0\n",
      "prob_n[54]     6.2e-3  6.6e-4    0.02  1.5e-71  5.2e-48 1.4e-24   2.4e-8    0.09    950    1.0\n",
      "prob_n[55]     6.4e-3  6.8e-4    0.02  1.5e-70  4.3e-47 7.2e-24   6.0e-8    0.09    892    1.0\n",
      "prob_n[56]     6.4e-3  6.9e-4    0.02  1.4e-69  3.1e-46 3.1e-23   1.4e-7    0.09    867    1.0\n",
      "prob_n[57]     6.4e-3  6.6e-4    0.02  1.2e-68  2.3e-45 1.6e-22   2.9e-7    0.08    905    1.0\n",
      "prob_n[58]     6.4e-3  6.3e-4    0.02  1.0e-67  1.5e-44 7.1e-22   4.4e-7    0.08    960    1.0\n",
      "prob_n[59]     6.3e-3  6.0e-4    0.02  8.3e-67  6.2e-44 2.2e-21   7.3e-7    0.08   1019    1.0\n",
      "prob_n[60]     6.1e-3  5.8e-4    0.02  6.3e-66  3.3e-43 6.4e-21   1.0e-6    0.08   1026    1.0\n",
      "prob_n[61]     6.0e-3  5.6e-4    0.02  4.5e-65  1.8e-42 2.7e-20   1.6e-6    0.08   1043    1.0\n",
      "prob_n[62]     5.9e-3  5.4e-4    0.02  3.1e-64  1.0e-41 1.0e-19   2.8e-6    0.08   1067    1.0\n",
      "prob_n[63]     5.7e-3  5.2e-4    0.02  1.6e-63  5.0e-41 2.9e-19   3.8e-6    0.07   1095    1.0\n",
      "prob_n[64]     5.6e-3  5.0e-4    0.02  1.0e-62  2.2e-40 7.4e-19   5.1e-6    0.07   1123    1.0\n",
      "prob_n[65]     5.5e-3  4.9e-4    0.02  6.4e-62  1.1e-39 1.3e-18   5.8e-6    0.07   1111    1.0\n",
      "prob_n[66]     5.4e-3  4.8e-4    0.02  2.8e-61  3.7e-39 2.7e-18   8.9e-6    0.07   1091    1.0\n",
      "prob_n[67]     5.3e-3  4.8e-4    0.02  1.3e-60  1.7e-38 5.9e-18   1.2e-5    0.07   1060    1.0\n",
      "prob_n[68]     5.3e-3  4.9e-4    0.02  6.6e-60  8.0e-38 1.8e-17   1.4e-5    0.07   1019    1.0\n",
      "prob_n[69]     5.2e-3  4.9e-4    0.02  3.5e-59  3.3e-37 3.4e-17   1.5e-5    0.07    975    1.0\n",
      "prob_n[70]     5.2e-3  5.0e-4    0.02  1.8e-58  1.1e-36 7.9e-17   2.1e-5    0.07    942    1.0\n",
      "prob_n[71]     5.2e-3  5.0e-4    0.02  7.9e-58  4.1e-36 1.3e-16   2.2e-5    0.06    910    1.0\n",
      "prob_n[72]     5.2e-3  5.0e-4    0.02  3.8e-57  1.4e-35 2.4e-16   2.2e-5    0.06    894    1.0\n",
      "prob_n[73]     5.2e-3  5.0e-4    0.01  1.6e-56  5.3e-35 3.6e-16   2.1e-5    0.06    885    1.0\n",
      "prob_n[74]     5.2e-3  5.0e-4    0.01  7.2e-56  2.0e-34 4.6e-16   2.6e-5    0.06    886    1.0\n",
      "prob_n[75]     5.2e-3  4.9e-4    0.01  1.8e-55  4.4e-34 9.3e-16   2.8e-5    0.06    891    1.0\n",
      "prob_n[76]     5.1e-3  4.8e-4    0.01  4.0e-55  1.0e-33 1.8e-15   3.4e-5    0.06    899    1.0\n",
      "prob_n[77]     5.1e-3  4.7e-4    0.01  1.7e-54  3.3e-33 2.8e-15   3.2e-5    0.06    919    1.0\n",
      "prob_n[78]     5.1e-3  4.6e-4    0.01  6.8e-54  3.9e-33 4.5e-15   3.4e-5    0.06    952    1.0\n",
      "prob_n[79]     5.1e-3  4.5e-4    0.01  1.4e-53  1.2e-32 9.2e-15   3.4e-5    0.06    995    1.0\n",
      "prob_n[80]     5.1e-3  4.3e-4    0.01  4.5e-53  2.8e-32 1.3e-14   4.1e-5    0.06   1047    1.0\n",
      "prob_n[81]     5.0e-3  4.2e-4    0.01  1.4e-52  7.5e-32 1.4e-14   4.7e-5    0.06   1104    1.0\n",
      "prob_n[82]     5.0e-3  4.0e-4    0.01  4.7e-52  2.1e-31 1.8e-14   5.1e-5    0.06   1157    1.0\n",
      "prob_n[83]     5.0e-3  3.9e-4    0.01  1.0e-51  4.0e-31 1.4e-14   4.8e-5    0.05   1192    1.0\n",
      "prob_n[84]     4.9e-3  3.8e-4    0.01  3.6e-51  6.0e-31 2.0e-14   5.7e-5    0.05   1222    1.0\n",
      "prob_n[85]     4.9e-3  3.7e-4    0.01  1.2e-50  1.5e-30 2.7e-14   6.4e-5    0.05   1246    1.0\n",
      "prob_n[86]     4.8e-3  3.7e-4    0.01  3.6e-50  3.3e-30 4.9e-14   6.2e-5    0.05   1265    1.0\n",
      "prob_n[87]     4.8e-3  3.6e-4    0.01  1.0e-49  8.6e-30 7.6e-14   8.0e-5    0.05   1280    1.0\n",
      "prob_n[88]     4.7e-3  3.5e-4    0.01  1.2e-49  1.6e-29 1.3e-13   8.2e-5    0.05   1293    1.0\n",
      "prob_n[89]     4.7e-3  3.5e-4    0.01  2.1e-49  3.3e-29 1.2e-13   9.1e-5    0.05   1306    1.0\n",
      "prob_n[90]     4.6e-3  3.4e-4    0.01  3.7e-49  3.9e-29 1.3e-13   8.7e-5    0.05   1321    1.0\n",
      "prob_n[91]     4.6e-3  3.3e-4    0.01  3.1e-49  3.9e-29 1.8e-13   9.4e-5    0.05   1339    1.0\n",
      "prob_n[92]     4.5e-3  3.3e-4    0.01  1.4e-49  6.5e-29 1.9e-13   1.2e-4    0.05   1360    1.0\n",
      "prob_n[93]     4.5e-3  3.2e-4    0.01  1.3e-49  1.4e-28 2.3e-13   1.2e-4    0.05   1384    1.0\n",
      "prob_n[94]     4.5e-3  3.1e-4    0.01  1.5e-50  2.1e-28 2.6e-13   9.8e-5    0.05   1408    1.0\n",
      "prob_n[95]     4.4e-3  3.0e-4    0.01  8.9e-52  3.3e-28 3.2e-13   1.1e-4    0.05   1451    1.0\n",
      "prob_n[96]     4.4e-3  2.9e-4    0.01  2.3e-52  7.1e-28 4.1e-13   1.1e-4    0.05   1507    1.0\n",
      "prob_n[97]     4.3e-3  2.9e-4    0.01  6.7e-52  1.4e-27 4.1e-13   1.1e-4    0.05   1554    1.0\n",
      "prob_n[98]     4.3e-3  2.8e-4    0.01  2.0e-51  1.6e-27 4.2e-13   1.1e-4    0.05   1557    1.0\n",
      "prob_n[99]     4.3e-3  2.8e-4    0.01  5.6e-51  1.9e-27 4.5e-13   1.1e-4    0.04   1559    1.0\n",
      "prob_n[100]    4.3e-3  2.8e-4    0.01  7.9e-51  2.4e-27 6.4e-13   1.3e-4    0.04   1560    1.0\n",
      "prob_n[101]    4.2e-3  2.8e-4    0.01  3.8e-51  3.2e-27 7.6e-13   1.2e-4    0.04   1561    1.0\n",
      "prob_n[102]    4.2e-3  2.8e-4    0.01  2.6e-52  3.5e-27 6.4e-13   1.4e-4    0.04   1560    1.0\n",
      "prob_n[103]    4.2e-3  2.7e-4    0.01  1.7e-53  5.9e-27 7.5e-13   1.5e-4    0.04   1559    1.0\n",
      "prob_n[104]    4.2e-3  2.7e-4    0.01  1.1e-54  8.0e-27 5.8e-13   1.5e-4    0.04   1557    1.0\n",
      "prob_n[105]    4.2e-3  2.7e-4    0.01  7.1e-56  5.4e-27 6.5e-13   1.5e-4    0.04   1555    1.0\n",
      "prob_n[106]    4.1e-3  2.7e-4    0.01  4.5e-57  1.1e-26 8.2e-13   1.3e-4    0.04   1552    1.0\n",
      "prob_n[107]    4.1e-3  2.7e-4    0.01  2.8e-58  1.2e-26 1.3e-12   1.1e-4    0.04   1550    1.0\n",
      "prob_n[108]    4.1e-3  2.7e-4    0.01  1.8e-59  2.3e-26 1.6e-12   1.4e-4    0.04   1548    1.0\n",
      "prob_n[109]    4.1e-3  2.7e-4    0.01  1.1e-60  3.3e-26 1.6e-12   1.5e-4    0.04   1546    1.0\n",
      "prob_n[110]    4.1e-3  2.6e-4    0.01  6.6e-62  3.9e-26 2.0e-12   1.7e-4    0.04   1544    1.0\n",
      "prob_n[111]    4.0e-3  2.6e-4    0.01  3.9e-63  2.7e-26 2.6e-12   1.6e-4    0.04   1544    1.0\n",
      "prob_n[112]    4.0e-3  2.6e-4    0.01  2.3e-64  4.0e-26 3.1e-12   1.7e-4    0.04   1543    1.0\n",
      "prob_n[113]    4.0e-3  2.6e-4    0.01  1.4e-65  4.6e-26 2.7e-12   1.7e-4    0.04   1520    1.0\n",
      "prob_n[114]    3.9e-3  2.6e-4 10.0e-3  8.0e-67  7.3e-26 2.5e-12   1.5e-4    0.04   1455    1.0\n",
      "prob_n[115]    3.9e-3  2.6e-4  9.9e-3  4.6e-68  7.1e-26 2.9e-12   1.5e-4    0.04   1394    1.0\n",
      "prob_n[116]    3.8e-3  2.7e-4  9.8e-3  2.6e-69  8.7e-26 4.1e-12   1.3e-4    0.04   1338    1.0\n",
      "prob_n[117]    3.8e-3  2.7e-4  9.6e-3  1.5e-70  9.6e-26 4.6e-12   1.5e-4    0.04   1286    1.0\n",
      "prob_n[118]    3.8e-3  2.7e-4  9.5e-3  8.2e-72  1.5e-25 4.5e-12   1.3e-4    0.04   1239    1.0\n",
      "prob_n[119]    3.7e-3  2.7e-4  9.4e-3  4.6e-73  1.4e-25 4.2e-12   1.3e-4    0.04   1199    1.0\n",
      "prob_n[120]    3.7e-3  2.7e-4  9.3e-3  2.5e-74  1.3e-25 4.1e-12   1.3e-4    0.04   1172    1.0\n",
      "prob_n[121]    3.6e-3  2.7e-4  9.2e-3  1.4e-75  1.7e-25 4.5e-12   1.3e-4    0.04   1149    1.0\n",
      "prob_n[122]    3.6e-3  2.7e-4  9.1e-3  7.3e-77  2.6e-25 3.4e-12   1.3e-4    0.04   1136    1.0\n",
      "prob_n[123]    3.6e-3  2.7e-4  9.0e-3  3.9e-78  3.0e-25 3.9e-12   1.3e-4    0.04   1137    1.0\n",
      "prob_n[124]    3.5e-3  2.6e-4  8.9e-3  2.1e-79  3.2e-25 3.5e-12   1.5e-4    0.04   1142    1.0\n",
      "prob_n[125]    3.5e-3  2.6e-4  8.8e-3  1.1e-80  3.0e-25 3.6e-12   1.4e-4    0.03   1149    1.0\n",
      "prob_n[126]    3.4e-3  2.5e-4  8.7e-3  5.7e-82  3.6e-25 4.4e-12   1.2e-4    0.03   1159    1.0\n",
      "prob_n[127]    3.4e-3  2.5e-4  8.6e-3  2.9e-83  3.2e-25 4.9e-12   1.0e-4    0.03   1176    1.0\n",
      "prob_n[128]    3.4e-3  2.5e-4  8.5e-3  1.5e-84  4.4e-25 5.2e-12   8.8e-5    0.03   1195    1.0\n",
      "prob_n[129]    3.3e-3  2.4e-4  8.4e-3  7.6e-86  5.7e-25 5.6e-12   8.7e-5    0.03   1214    1.0\n",
      "prob_n[130]    3.3e-3  2.4e-4  8.4e-3  3.8e-87  6.9e-25 6.3e-12   1.1e-4    0.03   1234    1.0\n",
      "prob_n[131]    3.3e-3  2.3e-4  8.3e-3  1.9e-88  7.4e-25 7.6e-12   1.2e-4    0.03   1253    1.0\n",
      "prob_n[132]    3.2e-3  2.3e-4  8.2e-3  9.5e-90  5.9e-25 9.2e-12   1.2e-4    0.03   1271    1.0\n",
      "prob_n[133]    3.2e-3  2.3e-4  8.2e-3  4.7e-91  8.5e-25 1.1e-11   1.1e-4    0.03   1288    1.0\n",
      "prob_n[134]    3.2e-3  2.3e-4  8.1e-3  2.3e-92  1.3e-24 1.0e-11   1.2e-4    0.03   1302    1.0\n",
      "prob_n[135]    3.2e-3  2.2e-4  8.1e-3  1.1e-93  1.5e-24 7.2e-12   1.2e-4    0.03   1314    1.0\n",
      "prob_n[136]    3.1e-3  2.2e-4  8.0e-3  5.4e-95  2.0e-24 5.4e-12   1.3e-4    0.03   1326    1.0\n",
      "prob_n[137]    3.1e-3  2.2e-4  8.0e-3  2.6e-96  1.9e-24 4.7e-12   1.3e-4    0.03   1337    1.0\n",
      "prob_n[138]    3.1e-3  2.2e-4  7.9e-3  1.2e-97  1.8e-24 5.8e-12   1.3e-4    0.03   1347    1.0\n",
      "prob_n[139]    3.1e-3  2.1e-4  7.9e-3  5.8e-99  2.6e-24 6.3e-12   1.2e-4    0.03   1357    1.0\n",
      "prob_n[140]    3.0e-3  2.1e-4  7.8e-3 2.7e-100  4.2e-24 6.0e-12   1.2e-4    0.03   1367    1.0\n",
      "prob_n[141]    3.0e-3  2.1e-4  7.8e-3 1.3e-101  4.2e-24 5.7e-12   1.2e-4    0.03   1377    1.0\n",
      "prob_n[142]    3.0e-3  2.1e-4  7.7e-3 5.9e-103  5.0e-24 5.7e-12   1.2e-4    0.03   1387    1.0\n",
      "prob_n[143]    2.9e-3  2.0e-4  7.7e-3 2.7e-104  7.4e-24 5.9e-12   1.3e-4    0.03   1397    1.0\n",
      "prob_n[144]    2.9e-3  2.0e-4  7.6e-3 1.2e-105  1.1e-23 6.7e-12   1.4e-4    0.03   1408    1.0\n",
      "prob_n[145]    2.9e-3  2.0e-4  7.5e-3 5.6e-107  1.1e-23 7.3e-12   1.3e-4    0.03   1418    1.0\n",
      "prob_n[146]    2.9e-3  2.0e-4  7.5e-3 2.5e-108  1.6e-23 6.7e-12   1.2e-4    0.03   1427    1.0\n",
      "prob_n[147]    2.8e-3  1.9e-4  7.4e-3 1.1e-109  1.4e-23 5.9e-12   1.2e-4    0.03   1437    1.0\n",
      "prob_n[148]    2.8e-3  1.9e-4  7.3e-3 5.1e-111  9.3e-24 5.2e-12   1.3e-4    0.03   1446    1.0\n",
      "prob_n[149]    2.8e-3  1.9e-4  7.2e-3 2.3e-112  1.5e-23 4.9e-12   1.2e-4    0.03   1457    1.0\n",
      "prob_n[150]    2.7e-3  1.9e-4  7.2e-3 1.0e-113  1.8e-23 6.1e-12   1.0e-4    0.03   1467    1.0\n",
      "prob_n[151]    2.7e-3  1.8e-4  7.1e-3 4.4e-115  2.2e-23 7.1e-12   1.1e-4    0.03   1478    1.0\n",
      "prob_n[152]    2.7e-3  1.8e-4  7.0e-3 1.9e-116  2.3e-23 5.9e-12  10.0e-5    0.03   1507    1.0\n",
      "prob_n[153]    2.7e-3  1.8e-4  6.9e-3 8.4e-118  1.9e-23 6.8e-12   9.6e-5    0.03   1542    1.0\n",
      "prob_n[154]    2.6e-3  1.7e-4  6.9e-3 3.6e-119  2.0e-23 5.1e-12   9.9e-5    0.03   1572    1.0\n",
      "prob_n[155]    2.6e-3  1.7e-4  6.8e-3 1.6e-120  2.4e-23 5.2e-12   9.9e-5    0.03   1597    1.0\n",
      "prob_n[156]    2.6e-3  1.7e-4  6.7e-3 6.6e-122  2.6e-23 4.3e-12   1.1e-4    0.03   1616    1.0\n",
      "prob_n[157]    2.6e-3  1.6e-4  6.7e-3 2.8e-123  2.8e-23 5.0e-12   1.2e-4    0.03   1638    1.0\n",
      "prob_n[158]    2.5e-3  1.6e-4  6.6e-3 1.2e-124  3.2e-23 5.9e-12   1.1e-4    0.03   1658    1.0\n",
      "prob_n[159]    2.5e-3  1.6e-4  6.5e-3 5.0e-126  2.8e-23 5.8e-12   1.1e-4    0.03   1675    1.0\n",
      "prob_n[160]    2.5e-3  1.6e-4  6.5e-3 2.1e-127  3.2e-23 6.0e-12   1.1e-4    0.03   1681    1.0\n",
      "prob_n[161]    2.5e-3  1.6e-4  6.4e-3 8.8e-129  2.0e-23 5.6e-12   1.1e-4    0.03   1672    1.0\n",
      "prob_n[162]    2.5e-3  1.6e-4  6.3e-3 3.7e-130  2.1e-23 4.3e-12   1.1e-4    0.03   1660    1.0\n",
      "prob_n[163]    2.4e-3  1.6e-4  6.3e-3 1.5e-131  2.5e-23 4.2e-12   1.1e-4    0.03   1644    1.0\n",
      "prob_n[164]    2.4e-3  1.5e-4  6.2e-3 6.2e-133  2.7e-23 3.5e-12   1.1e-4    0.03   1633    1.0\n",
      "prob_n[165]    2.4e-3  1.5e-4  6.2e-3 2.5e-134  1.8e-23 3.3e-12   1.1e-4    0.03   1625    1.0\n",
      "prob_n[166]    2.4e-3  1.5e-4  6.2e-3 1.0e-135  1.8e-23 3.5e-12   1.1e-4    0.03   1614    1.0\n",
      "prob_n[167]    2.4e-3  1.5e-4  6.1e-3 4.2e-137  1.3e-23 2.7e-12   1.1e-4    0.03   1603    1.0\n",
      "prob_n[168]    2.4e-3  1.5e-4  6.1e-3 1.7e-138  1.4e-23 3.7e-12   1.0e-4    0.02   1590    1.0\n",
      "prob_n[169]    2.4e-3  1.5e-4  6.1e-3 6.8e-140  7.2e-24 3.7e-12  10.0e-5    0.02   1576    1.0\n",
      "prob_n[170]    2.3e-3  1.5e-4  6.0e-3 2.7e-141  6.5e-24 3.8e-12   1.1e-4    0.02   1561    1.0\n",
      "prob_n[171]    2.3e-3  1.5e-4  6.0e-3 1.1e-142  3.3e-24 4.0e-12   1.2e-4    0.02   1546    1.0\n",
      "prob_n[172]    2.3e-3  1.5e-4  6.0e-3 4.3e-144  1.7e-24 3.9e-12   1.1e-4    0.02   1530    1.0\n",
      "prob_n[173]    2.3e-3  1.5e-4  6.0e-3 1.7e-145  6.8e-25 3.1e-12   1.0e-4    0.02   1515    1.0\n",
      "prob_n[174]    2.3e-3  1.5e-4  6.0e-3 6.7e-147  3.1e-25 3.6e-12   9.7e-5    0.02   1499    1.0\n",
      "prob_n[175]    2.3e-3  1.5e-4  5.9e-3 2.6e-148  1.3e-25 4.3e-12   8.8e-5    0.02   1484    1.0\n",
      "prob_n[176]    2.3e-3  1.5e-4  5.9e-3 1.0e-149  5.7e-26 4.7e-12   8.5e-5    0.02   1470    1.0\n",
      "prob_n[177]    2.3e-3  1.6e-4  5.9e-3 4.0e-151  2.3e-26 4.8e-12   8.6e-5    0.02   1457    1.0\n",
      "prob_n[178]    2.3e-3  1.6e-4  5.9e-3 1.5e-152  9.2e-27 5.0e-12   8.8e-5    0.02   1444    1.0\n",
      "prob_n[179]    2.3e-3  1.6e-4  5.9e-3 6.0e-154  6.6e-27 5.4e-12   9.6e-5    0.02   1433    1.0\n",
      "prob_n[180]    2.3e-3  1.6e-4  5.9e-3 2.3e-155  1.0e-26 4.4e-12   9.5e-5    0.02   1422    1.0\n",
      "prob_n[181]    2.3e-3  1.6e-4  5.9e-3 8.8e-157  1.6e-26 4.4e-12   9.4e-5    0.02   1413    1.0\n",
      "prob_n[182]    2.3e-3  1.6e-4  5.9e-3 3.4e-158  7.6e-27 4.3e-12   8.6e-5    0.02   1405    1.0\n",
      "prob_n[183]    2.3e-3  1.6e-4  5.9e-3 1.3e-159  3.1e-27 4.7e-12   9.2e-5    0.02   1398    1.0\n",
      "prob_n[184]    2.3e-3  1.6e-4  5.9e-3 4.8e-161  1.3e-27 5.1e-12   8.9e-5    0.02   1393    1.0\n",
      "prob_n[185]    2.3e-3  1.6e-4  5.8e-3 1.8e-162  5.1e-28 5.2e-12   8.9e-5    0.02   1388    1.0\n",
      "prob_n[186]    2.3e-3  1.6e-4  5.8e-3 6.9e-164  2.1e-28 4.5e-12   9.2e-5    0.02   1386    1.0\n",
      "prob_n[187]    2.3e-3  1.6e-4  5.8e-3 2.6e-165  8.4e-29 5.1e-12   9.5e-5    0.02   1384    1.0\n",
      "prob_n[188]    2.3e-3  1.6e-4  5.8e-3 9.6e-167  3.4e-29 5.6e-12   1.0e-4    0.02   1384    1.0\n",
      "prob_n[189]    2.3e-3  1.6e-4  5.8e-3 3.6e-168  1.3e-29 6.2e-12   1.1e-4    0.02   1385    1.0\n",
      "prob_n[190]    2.3e-3  1.5e-4  5.7e-3 1.3e-169  5.4e-30 6.4e-12   1.1e-4    0.02   1387    1.0\n",
      "prob_n[191]    2.2e-3  1.5e-4  5.7e-3 4.9e-171  2.1e-30 5.6e-12   1.0e-4    0.02   1390    1.0\n",
      "prob_n[192]    2.2e-3  1.5e-4  5.7e-3 1.8e-172  8.5e-31 4.8e-12   9.5e-5    0.02   1394    1.0\n",
      "prob_n[193]    2.2e-3  1.5e-4  5.7e-3 6.6e-174  3.3e-31 4.6e-12   8.9e-5    0.02   1400    1.0\n",
      "prob_n[194]    2.2e-3  1.5e-4  5.6e-3 2.4e-175  1.3e-31 4.0e-12   8.2e-5    0.02   1406    1.0\n",
      "prob_n[195]    2.2e-3  1.5e-4  5.6e-3 8.8e-177  5.2e-32 4.0e-12   8.6e-5    0.02   1413    1.0\n",
      "prob_n[196]    2.2e-3  1.5e-4  5.6e-3 3.2e-178  2.0e-32 4.5e-12   8.0e-5    0.02   1420    1.0\n",
      "prob_n[197]    2.2e-3  1.5e-4  5.5e-3 1.2e-179  7.9e-33 5.2e-12   7.7e-5    0.02   1428    1.0\n",
      "prob_n[198]    2.2e-3  1.5e-4  5.5e-3 4.2e-181  3.1e-33 5.4e-12   6.9e-5    0.02   1437    1.0\n",
      "prob_n[199]    2.2e-3  1.4e-4  5.5e-3 1.5e-182  1.2e-33 5.4e-12   6.6e-5    0.02   1445    1.0\n",
      "prob_n[200]    2.2e-3  1.4e-4  5.4e-3 5.4e-184  4.6e-34 4.2e-12   6.6e-5    0.02   1454    1.0\n",
      "prob_n[201]    2.2e-3  1.4e-4  5.4e-3 1.9e-185  1.8e-34 3.7e-12   6.9e-5    0.02   1463    1.0\n",
      "prob_n[202]    2.1e-3  1.4e-4  5.4e-3 6.9e-187  6.8e-35 4.1e-12   6.6e-5    0.02   1471    1.0\n",
      "prob_n[203]    2.1e-3  1.4e-4  5.4e-3 2.5e-188  2.6e-35 5.0e-12   6.6e-5    0.02   1479    1.0\n",
      "prob_n[204]    2.1e-3  1.4e-4  5.3e-3 8.8e-190  9.9e-36 5.0e-12   6.7e-5    0.02   1486    1.0\n",
      "prob_n[205]    2.1e-3  1.4e-4  5.3e-3 3.1e-191  3.8e-36 5.5e-12   6.6e-5    0.02   1492    1.0\n",
      "prob_n[206]    2.1e-3  1.4e-4  5.3e-3 1.1e-192  1.4e-36 4.7e-12   6.1e-5    0.02   1498    1.0\n",
      "prob_n[207]    2.1e-3  1.3e-4  5.2e-3 3.9e-194  5.4e-37 4.1e-12   6.7e-5    0.02   1503    1.0\n",
      "prob_n[208]    2.1e-3  1.3e-4  5.2e-3 1.4e-195  2.0e-37 4.4e-12   6.8e-5    0.02   1506    1.0\n",
      "prob_n[209]    2.1e-3  1.3e-4  5.2e-3 4.7e-197  7.7e-38 4.7e-12   7.0e-5    0.02   1509    1.0\n",
      "prob_n[210]    2.0e-3  1.3e-4  5.1e-3 1.6e-198  2.9e-38 5.9e-12   6.4e-5    0.02   1510    1.0\n",
      "prob_n[211]    2.0e-3  1.3e-4  5.1e-3 5.7e-200  1.1e-38 5.6e-12   6.1e-5    0.02   1510    1.0\n",
      "prob_n[212]    2.0e-3  1.3e-4  5.1e-3 2.0e-201  4.0e-39 6.5e-12   6.6e-5    0.02   1508    1.0\n",
      "prob_n[213]    2.0e-3  1.3e-4  5.0e-3 6.9e-203  1.5e-39 6.6e-12   6.6e-5    0.02   1506    1.0\n",
      "prob_n[214]    2.0e-3  1.3e-4  5.0e-3 2.4e-204  5.6e-40 6.9e-12   7.4e-5    0.02   1502    1.0\n",
      "prob_n[215]    2.0e-3  1.3e-4  5.0e-3 8.2e-206  2.1e-40 6.6e-12   8.1e-5    0.02   1497    1.0\n",
      "prob_n[216]    2.0e-3  1.3e-4  4.9e-3 2.8e-207  7.6e-41 7.1e-12   7.2e-5    0.02   1491    1.0\n",
      "prob_n[217]    1.9e-3  1.3e-4  4.9e-3 9.6e-209  2.8e-41 8.1e-12   7.7e-5    0.02   1484    1.0\n",
      "prob_n[218]    1.9e-3  1.3e-4  4.9e-3 3.3e-210  1.0e-41 9.4e-12   7.0e-5    0.02   1476    1.0\n",
      "prob_n[219]    1.9e-3  1.3e-4  4.9e-3 1.1e-211  3.8e-42 9.5e-12   6.3e-5    0.02   1467    1.0\n",
      "prob_n[220]    1.9e-3  1.3e-4  4.8e-3 3.8e-213  1.4e-42 9.4e-12   6.2e-5    0.02   1458    1.0\n",
      "prob_n[221]    1.9e-3  1.3e-4  4.8e-3 1.3e-214  5.0e-43 7.8e-12   6.4e-5    0.02   1447    1.0\n",
      "prob_n[222]    1.9e-3  1.3e-4  4.8e-3 4.4e-216  1.8e-43 8.7e-12   6.6e-5    0.02   1437    1.0\n",
      "prob_n[223]    1.9e-3  1.3e-4  4.7e-3 1.5e-217  6.7e-44 9.0e-12   5.9e-5    0.02   1425    1.0\n",
      "prob_n[224]    1.9e-3  1.3e-4  4.7e-3 5.0e-219  2.4e-44 9.9e-12   6.1e-5    0.02   1412    1.0\n",
      "prob_n[225]    1.8e-3  1.3e-4  4.7e-3 1.7e-220  8.7e-45 9.4e-12   6.5e-5    0.02   1398    1.0\n",
      "prob_n[226]    1.8e-3  1.3e-4  4.7e-3 5.6e-222  3.1e-45 1.1e-11   6.2e-5    0.02   1384    1.0\n",
      "prob_n[227]    1.8e-3  1.2e-4  4.6e-3 1.9e-223  1.1e-45 1.0e-11   5.7e-5    0.02   1370    1.0\n",
      "prob_n[228]    1.8e-3  1.2e-4  4.6e-3 6.2e-225  4.0e-46 9.3e-12   5.8e-5    0.02   1356    1.0\n",
      "prob_n[229]    1.8e-3  1.2e-4  4.6e-3 2.1e-226  1.4e-46 1.0e-11   6.2e-5    0.02   1343    1.0\n",
      "prob_n[230]    1.8e-3  1.2e-4  4.5e-3 6.9e-228  5.2e-47 1.1e-11   5.8e-5    0.02   1330    1.0\n",
      "prob_n[231]    1.8e-3  1.2e-4  4.5e-3 2.3e-229  1.8e-47 1.1e-11   6.0e-5    0.02   1317    1.0\n",
      "prob_n[232]    1.8e-3  1.2e-4  4.5e-3 7.5e-231  6.5e-48 1.0e-11   6.5e-5    0.02   1305    1.0\n",
      "prob_n[233]    1.8e-3  1.2e-4  4.5e-3 2.5e-232  2.3e-48 9.8e-12   6.6e-5    0.02   1293    1.0\n",
      "prob_n[234]    1.7e-3  1.2e-4  4.4e-3 8.1e-234  8.2e-49 1.0e-11   6.9e-5    0.02   1282    1.0\n",
      "prob_n[235]    1.7e-3  1.2e-4  4.4e-3 2.7e-235  2.9e-49 1.0e-11   6.8e-5    0.02   1272    1.0\n",
      "prob_n[236]    1.7e-3  1.2e-4  4.4e-3 8.8e-237  1.0e-49 9.3e-12   6.9e-5    0.02   1263    1.0\n",
      "prob_n[237]    1.7e-3  1.2e-4  4.4e-3 2.9e-238  3.6e-50 7.6e-12   6.9e-5    0.02   1254    1.0\n",
      "prob_n[238]    1.7e-3  1.2e-4  4.4e-3 9.3e-240  1.3e-50 6.9e-12   7.0e-5    0.02   1246    1.0\n",
      "prob_n[239]    1.7e-3  1.2e-4  4.3e-3 3.0e-241  4.4e-51 5.4e-12   6.0e-5    0.02   1240    1.0\n",
      "prob_n[240]    1.7e-3  1.2e-4  4.3e-3 9.9e-243  1.5e-51 6.1e-12   5.5e-5    0.02   1234    1.0\n",
      "prob_n[241]    1.7e-3  1.2e-4  4.3e-3 3.2e-244  5.4e-52 5.8e-12   5.4e-5    0.02   1228    1.0\n",
      "prob_n[242]    1.7e-3  1.2e-4  4.3e-3 1.0e-245  1.9e-52 5.9e-12   5.2e-5    0.02   1224    1.0\n",
      "prob_n[243]    1.7e-3  1.2e-4  4.3e-3 3.3e-247  6.5e-53 5.1e-12   5.0e-5    0.02   1221    1.0\n",
      "prob_n[244]    1.6e-3  1.2e-4  4.2e-3 1.1e-248  2.3e-53 4.3e-12   5.4e-5    0.02   1218    1.0\n",
      "prob_n[245]    1.6e-3  1.2e-4  4.2e-3 3.5e-250  7.8e-54 3.6e-12   5.4e-5    0.02   1217    1.0\n",
      "prob_n[246]    1.6e-3  1.2e-4  4.2e-3 1.1e-251  2.7e-54 3.8e-12   5.4e-5    0.02   1216    1.0\n",
      "prob_n[247]    1.6e-3  1.2e-4  4.2e-3 3.6e-253  9.3e-55 3.5e-12   4.8e-5    0.02   1216    1.0\n",
      "prob_n[248]    1.6e-3  1.2e-4  4.2e-3 1.1e-254  3.2e-55 3.0e-12   5.0e-5    0.02   1217    1.0\n",
      "prob_n[249]    1.6e-3  1.2e-4  4.2e-3 3.6e-256  1.1e-55 3.0e-12   5.0e-5    0.02   1218    1.0\n",
      "prob_n[250]    1.6e-3  1.2e-4  4.1e-3 1.2e-257  3.8e-56 3.1e-12   5.0e-5    0.02   1220    1.0\n",
      "prob_n[251]    1.6e-3  1.2e-4  4.1e-3 3.7e-259  1.3e-56 2.7e-12   4.9e-5    0.02   1223    1.0\n",
      "prob_n[252]    1.6e-3  1.2e-4  4.1e-3 1.2e-260  4.4e-57 2.2e-12   5.3e-5    0.02   1226    1.0\n",
      "prob_n[253]    1.6e-3  1.2e-4  4.1e-3 3.7e-262  1.5e-57 1.5e-12   5.2e-5    0.02   1229    1.0\n",
      "prob_n[254]    1.6e-3  1.2e-4  4.1e-3 1.2e-263  5.1e-58 1.3e-12   5.7e-5    0.02   1234    1.0\n",
      "prob_n[255]    1.5e-3  1.2e-4  4.0e-3 3.7e-265  1.7e-58 8.7e-13   5.3e-5    0.02   1233    1.0\n",
      "prob_n[256]    1.5e-3  1.1e-4  4.0e-3 1.2e-266  5.8e-59 6.0e-13   4.9e-5    0.02   1241    1.0\n",
      "prob_n[257]    1.5e-3  1.1e-4  4.0e-3 3.6e-268  2.0e-59 5.1e-13   4.8e-5    0.02   1248    1.0\n",
      "prob_n[258]    1.5e-3  1.1e-4  4.0e-3 1.1e-269  6.7e-60 5.3e-13   4.7e-5    0.02   1251    1.0\n",
      "prob_n[259]    1.5e-3  1.1e-4  4.0e-3 3.6e-271  2.2e-60 4.2e-13   5.0e-5    0.02   1255    1.0\n",
      "prob_n[260]    1.5e-3  1.1e-4  4.0e-3 1.1e-272  7.5e-61 2.9e-13   5.0e-5    0.02   1259    1.0\n",
      "prob_n[261]    1.5e-3  1.1e-4  3.9e-3 3.5e-274  2.5e-61 2.0e-13   5.0e-5    0.02   1263    1.0\n",
      "prob_n[262]    1.5e-3  1.1e-4  3.9e-3 1.1e-275  8.5e-62 1.6e-13   4.5e-5    0.02   1267    1.0\n",
      "prob_n[263]    1.5e-3  1.1e-4  3.9e-3 3.4e-277  2.8e-62 1.1e-13   4.7e-5    0.02   1271    1.0\n",
      "prob_n[264]    1.5e-3  1.1e-4  3.9e-3 1.1e-278  9.5e-63 7.4e-14   4.6e-5    0.02   1275    1.0\n",
      "prob_n[265]    1.5e-3  1.1e-4  3.9e-3 3.3e-280  3.2e-63 5.1e-14   4.5e-5    0.02   1278    1.0\n",
      "prob_n[266]    1.5e-3  1.1e-4  3.8e-3 1.0e-281  1.1e-63 3.5e-14   4.6e-5    0.02   1281    1.0\n",
      "prob_n[267]    1.4e-3  1.1e-4  3.8e-3 3.1e-283  3.5e-64 4.5e-14   5.1e-5    0.01   1283    1.0\n",
      "prob_n[268]    1.4e-3  1.1e-4  3.8e-3 9.6e-285  1.2e-64 3.1e-14   5.2e-5    0.01   1285    1.0\n",
      "prob_n[269]    1.4e-3  1.1e-4  3.8e-3 3.0e-286  3.9e-65 2.2e-14   5.7e-5    0.01   1287    1.0\n",
      "prob_n[270]    1.4e-3  1.0e-4  3.8e-3 9.1e-288  1.3e-65 1.5e-14   5.2e-5    0.01   1288    1.0\n",
      "prob_n[271]    1.4e-3  1.0e-4  3.7e-3 2.8e-289  4.2e-66 1.0e-14   5.0e-5    0.01   1289    1.0\n",
      "prob_n[272]    1.4e-3  1.0e-4  3.7e-3 8.6e-291  1.4e-66 6.9e-15   4.6e-5    0.01   1289    1.0\n",
      "prob_n[273]    1.4e-3  1.0e-4  3.7e-3 2.6e-292  4.6e-67 4.7e-15   4.6e-5    0.01   1289    1.0\n",
      "prob_n[274]    1.4e-3  1.0e-4  3.7e-3 8.0e-294  1.5e-67 3.2e-15   4.7e-5    0.01   1288    1.0\n",
      "prob_n[275]    1.4e-3  1.0e-4  3.7e-3 2.4e-295  4.9e-68 2.2e-15   4.6e-5    0.01   1286    1.0\n",
      "prob_n[276]    1.4e-3  1.0e-4  3.6e-3 7.5e-297  1.6e-68 1.5e-15   5.1e-5    0.01   1284    1.0\n",
      "prob_n[277]    1.4e-3  1.0e-4  3.6e-3 2.3e-298  5.3e-69 1.0e-15   5.2e-5    0.01   1281    1.0\n",
      "prob_n[278]    1.4e-3  1.0e-4  3.6e-3 6.9e-300  1.7e-69 6.8e-16   4.8e-5    0.01   1278    1.0\n",
      "prob_n[279]    1.4e-3  1.0e-4  3.6e-3 2.1e-301  5.6e-70 4.6e-16   4.7e-5    0.01   1275    1.0\n",
      "prob_n[280]    1.3e-3  1.0e-4  3.6e-3 6.3e-303  1.8e-70 3.1e-16   5.1e-5    0.01   1271    1.0\n",
      "prob_n[281]    1.3e-3  1.0e-4  3.6e-3 1.9e-304  6.0e-71 2.1e-16   5.7e-5    0.01   1266    1.0\n",
      "prob_n[282]    1.3e-3  1.0e-4  3.6e-3 5.8e-306  1.9e-71 1.4e-16   6.0e-5    0.01   1261    1.0\n",
      "prob_n[283]    1.3e-3 10.0e-5  3.5e-3 1.7e-307  6.3e-72 9.4e-17   5.9e-5    0.01   1256    1.0\n",
      "prob_n[284]    1.3e-3 10.0e-5  3.5e-3 5.2e-309  2.0e-72 6.3e-17   5.6e-5    0.01   1250    1.0\n",
      "prob_n[285]    1.3e-3  9.9e-5  3.5e-3      0.0  6.6e-73 4.2e-17   5.7e-5    0.01   1244    1.0\n",
      "prob_n[286]    1.3e-3  9.9e-5  3.5e-3      0.0  2.1e-73 2.8e-17   5.1e-5    0.01   1238    1.0\n",
      "prob_n[287]    1.3e-3  9.9e-5  3.5e-3      0.0  6.8e-74 1.9e-17   4.6e-5    0.01   1231    1.0\n",
      "prob_n[288]    1.3e-3  9.9e-5  3.5e-3      0.0  2.2e-74 1.3e-17   4.5e-5    0.01   1225    1.0\n",
      "prob_n[289]    1.3e-3  9.9e-5  3.4e-3      0.0  7.1e-75 8.3e-18   4.7e-5    0.01   1217    1.0\n",
      "prob_n[290]    1.3e-3  9.9e-5  3.4e-3      0.0  2.3e-75 5.5e-18   4.6e-5    0.01   1209    1.0\n",
      "prob_n[291]    1.3e-3  9.9e-5  3.4e-3      0.0  7.3e-76 3.7e-18   4.8e-5    0.01   1200    1.0\n",
      "prob_n[292]    1.3e-3  9.9e-5  3.4e-3      0.0  2.3e-76 2.4e-18   5.1e-5    0.01   1192    1.0\n",
      "prob_n[293]    1.3e-3  9.9e-5  3.4e-3      0.0  7.4e-77 1.6e-18   5.0e-5    0.01   1184    1.0\n",
      "prob_n[294]    1.3e-3  9.8e-5  3.4e-3      0.0  2.4e-77 1.1e-18   4.5e-5    0.01   1176    1.0\n",
      "prob_n[295]    1.3e-3  9.8e-5  3.4e-3      0.0  7.6e-78 7.0e-19   4.4e-5    0.01   1167    1.0\n",
      "prob_n[296]    1.3e-3  9.8e-5  3.3e-3      0.0  2.4e-78 4.6e-19   4.2e-5    0.01   1159    1.0\n",
      "prob_n[297]    1.3e-3  9.8e-5  3.3e-3      0.0  7.7e-79 3.1e-19   4.2e-5    0.01   1152    1.0\n",
      "prob_n[298]    1.2e-3  9.8e-5  3.3e-3      0.0  2.4e-79 2.0e-19   4.7e-5    0.01   1144    1.0\n",
      "prob_n[299]    1.2e-3  9.8e-5  3.3e-3      0.0  7.7e-80 1.3e-19   5.1e-5    0.01   1136    1.0\n",
      "prob_n[300]    1.2e-3  9.8e-5  3.3e-3      0.0  2.4e-80 8.6e-20   5.2e-5    0.01   1129    1.0\n",
      "prob_n[301]    1.2e-3  9.8e-5  3.3e-3      0.0  7.7e-81 5.7e-20   5.1e-5    0.01   1121    1.0\n",
      "prob_n[302]    1.2e-3  9.8e-5  3.3e-3      0.0  2.4e-81 3.7e-20   5.5e-5    0.01   1114    1.0\n",
      "prob_n[303]    1.2e-3  9.8e-5  3.3e-3      0.0  7.7e-82 2.4e-20   5.2e-5    0.01   1106    1.0\n",
      "prob_n[304]    1.2e-3  9.8e-5  3.2e-3      0.0  2.4e-82 1.6e-20   5.7e-5    0.01   1097    1.0\n",
      "prob_n[305]    1.2e-3  9.8e-5  3.2e-3      0.0  7.7e-83 1.0e-20   5.6e-5    0.01   1088    1.0\n",
      "prob_n[306]    1.2e-3  9.8e-5  3.2e-3      0.0  2.4e-83 6.7e-21   5.4e-5    0.01   1079    1.0\n",
      "prob_n[307]    1.2e-3  9.8e-5  3.2e-3      0.0  7.6e-84 4.4e-21   5.4e-5    0.01   1070    1.0\n",
      "prob_n[308]    1.2e-3  9.8e-5  3.2e-3      0.0  2.4e-84 2.8e-21   5.7e-5    0.01   1060    1.0\n",
      "prob_n[309]    1.2e-3  9.8e-5  3.2e-3      0.0  7.4e-85 1.8e-21   6.1e-5    0.01   1051    1.0\n",
      "prob_n[310]    1.2e-3  9.8e-5  3.2e-3      0.0  2.3e-85 1.2e-21   6.6e-5    0.01   1041    1.0\n",
      "prob_n[311]    1.2e-3  9.8e-5  3.2e-3      0.0  7.2e-86 7.7e-22   6.1e-5    0.01   1031    1.0\n",
      "prob_n[312]    1.2e-3  9.8e-5  3.1e-3      0.0  2.3e-86 5.0e-22   5.8e-5    0.01   1022    1.0\n",
      "prob_n[313]    1.2e-3  9.9e-5  3.1e-3      0.0  7.0e-87 3.2e-22   5.8e-5    0.01   1012    1.0\n",
      "prob_n[314]    1.2e-3  9.9e-5  3.1e-3      0.0  2.2e-87 2.1e-22   5.7e-5    0.01   1002    1.0\n",
      "prob_n[315]    1.2e-3  9.9e-5  3.1e-3      0.0  6.8e-88 1.3e-22   5.9e-5    0.01    992    1.0\n",
      "prob_n[316]    1.2e-3  9.9e-5  3.1e-3      0.0  2.1e-88 8.5e-23   5.9e-5    0.01    982    1.0\n",
      "prob_n[317]    1.2e-3  9.9e-5  3.1e-3      0.0  6.6e-89 5.5e-23   6.2e-5    0.01    972    1.0\n",
      "prob_n[318]    1.2e-3 10.0e-5  3.1e-3      0.0  2.0e-89 3.5e-23   6.4e-5    0.01    962    1.0\n",
      "prob_n[319]    1.2e-3  1.0e-4  3.1e-3      0.0  6.3e-90 2.3e-23   6.9e-5    0.01    952    1.0\n",
      "prob_n[320]    1.2e-3  1.0e-4  3.1e-3      0.0  1.9e-90 1.4e-23   7.5e-5    0.01    943    1.0\n",
      "prob_n[321]    1.2e-3  1.0e-4  3.1e-3      0.0  6.0e-91 9.2e-24   7.4e-5    0.01    933    1.0\n",
      "prob_n[322]    1.2e-3  1.0e-4  3.1e-3      0.0  1.9e-91 5.9e-24   7.5e-5    0.01    924    1.0\n",
      "prob_n[323]    1.2e-3  1.0e-4  3.1e-3      0.0  5.7e-92 3.8e-24   7.8e-5    0.01    913    1.0\n",
      "prob_n[324]    1.2e-3  1.0e-4  3.1e-3      0.0  1.8e-92 2.4e-24   7.9e-5    0.01    902    1.0\n",
      "prob_n[325]    1.2e-3  1.0e-4  3.1e-3      0.0  5.4e-93 1.5e-24   7.0e-5    0.01    890   1.01\n",
      "prob_n[326]    1.2e-3  1.0e-4  3.0e-3      0.0  1.7e-93 9.7e-25   7.2e-5    0.01    880   1.01\n",
      "prob_n[327]    1.2e-3  1.0e-4  3.0e-3      0.0  5.1e-94 6.2e-25   7.1e-5    0.01    869   1.01\n",
      "prob_n[328]    1.2e-3  1.0e-4  3.0e-3      0.0  1.6e-94 3.9e-25   7.3e-5    0.01    858   1.01\n",
      "prob_n[329]    1.2e-3  1.0e-4  3.0e-3      0.0  4.8e-95 2.5e-25   7.2e-5    0.01    848   1.01\n",
      "prob_n[330]    1.2e-3  1.0e-4  3.0e-3      0.0  1.5e-95 1.6e-25   7.1e-5    0.01    839   1.01\n",
      "prob_n[331]    1.2e-3  1.1e-4  3.0e-3      0.0  4.5e-96 9.9e-26   6.7e-5    0.01    826   1.01\n",
      "prob_n[332]    1.2e-3  1.1e-4  3.0e-3      0.0  1.4e-96 6.3e-26   6.8e-5    0.01    813   1.01\n",
      "prob_n[333]    1.2e-3  1.1e-4  3.0e-3      0.0  4.1e-97 4.0e-26   7.0e-5    0.01    802   1.01\n",
      "prob_n[334]    1.2e-3  1.1e-4  3.0e-3      0.0  1.3e-97 2.5e-26   7.3e-5    0.01    790   1.01\n",
      "prob_n[335]    1.2e-3  1.1e-4  3.0e-3      0.0  3.8e-98 1.6e-26   7.1e-5    0.01    780   1.01\n",
      "prob_n[336]    1.2e-3  1.1e-4  3.0e-3      0.0  1.2e-98 9.9e-27   6.8e-5    0.01    770   1.01\n",
      "prob_n[337]    1.2e-3  1.1e-4  3.0e-3      0.0  3.5e-99 6.2e-27   6.7e-5    0.01    760   1.01\n",
      "prob_n[338]    1.2e-3  1.1e-4  3.0e-3      0.0  1.1e-99 3.9e-27   6.1e-5    0.01    751   1.01\n",
      "prob_n[339]    1.2e-3  1.1e-4  3.0e-3      0.0 3.3e-100 2.4e-27   5.8e-5    0.01    743   1.01\n",
      "prob_n[340]    1.2e-3  1.1e-4  3.0e-3      0.0 9.8e-101 1.5e-27   5.8e-5    0.01    735   1.01\n",
      "prob_n[341]    1.2e-3  1.1e-4  3.0e-3      0.0 3.0e-101 9.6e-28   5.8e-5    0.01    727   1.01\n",
      "prob_n[342]    1.2e-3  1.1e-4  3.0e-3      0.0 9.0e-102 6.0e-28   5.4e-5    0.01    720   1.01\n",
      "prob_n[343]    1.2e-3  1.1e-4  3.0e-3      0.0 2.7e-102 3.7e-28   5.6e-5    0.01    714   1.01\n",
      "prob_n[344]    1.2e-3  1.1e-4  3.0e-3      0.0 8.2e-103 2.3e-28   5.1e-5    0.01    708   1.01\n",
      "prob_n[345]    1.2e-3  1.1e-4  3.0e-3      0.0 2.5e-103 1.5e-28   4.6e-5    0.01    702   1.01\n",
      "prob_n[346]    1.2e-3  1.1e-4  3.0e-3      0.0 7.4e-104 9.1e-29   4.2e-5    0.01    697   1.01\n",
      "prob_n[347]    1.2e-3  1.1e-4  3.0e-3      0.0 2.2e-104 5.7e-29   4.1e-5    0.01    692   1.01\n",
      "prob_n[348]    1.2e-3  1.1e-4  3.0e-3      0.0 6.7e-105 3.5e-29   3.8e-5    0.01    687   1.01\n",
      "prob_n[349]    1.2e-3  1.1e-4  3.0e-3      0.0 2.0e-105 2.2e-29   3.7e-5    0.01    683   1.01\n",
      "prob_n[350]    1.2e-3  1.2e-4  3.0e-3      0.0 6.0e-106 1.4e-29   3.8e-5    0.01    679   1.01\n",
      "prob_n[351]    1.2e-3  1.2e-4  3.0e-3      0.0 1.8e-106 8.4e-30   3.4e-5    0.01    676   1.01\n",
      "prob_n[352]    1.2e-3  1.2e-4  3.0e-3      0.0 5.4e-107 5.2e-30   3.3e-5    0.01    673   1.01\n",
      "prob_n[353]    1.2e-3  1.2e-4  3.0e-3      0.0 1.6e-107 3.2e-30   3.3e-5    0.01    669   1.01\n",
      "prob_n[354]    1.2e-3  1.2e-4  3.0e-3      0.0 4.8e-108 2.0e-30   3.6e-5    0.01    666   1.01\n",
      "prob_n[355]    1.2e-3  1.2e-4  3.0e-3      0.0 1.4e-108 1.2e-30   3.9e-5    0.01    664   1.01\n",
      "prob_n[356]    1.2e-3  1.2e-4  3.0e-3      0.0 4.3e-109 7.6e-31   4.0e-5    0.01    661   1.01\n",
      "prob_n[357]    1.2e-3  1.2e-4  3.0e-3      0.0 1.3e-109 4.7e-31   3.8e-5    0.01    658   1.01\n",
      "prob_n[358]    1.2e-3  1.2e-4  3.0e-3      0.0 3.8e-110 2.9e-31   3.7e-5    0.01    656   1.01\n",
      "prob_n[359]    1.2e-3  1.2e-4  3.0e-3      0.0 1.1e-110 1.8e-31   3.4e-5    0.01    654   1.01\n",
      "prob_n[360]    1.2e-3  1.2e-4  3.0e-3      0.0 3.3e-111 1.1e-31   3.0e-5    0.01    652   1.01\n",
      "prob_n[361]    1.2e-3  1.2e-4  3.0e-3      0.0 9.9e-112 6.7e-32   2.9e-5    0.01    650   1.01\n",
      "prob_n[362]    1.2e-3  1.2e-4  3.0e-3      0.0 2.9e-112 4.1e-32   3.2e-5    0.01    649   1.01\n",
      "prob_n[363]    1.2e-3  1.2e-4  3.0e-3      0.0 8.7e-113 2.5e-32   2.9e-5    0.01    648   1.01\n",
      "prob_n[364]    1.2e-3  1.2e-4  3.0e-3      0.0 2.6e-113 1.5e-32   2.6e-5    0.01    647   1.01\n",
      "prob_n[365]    1.2e-3  1.2e-4  2.9e-3      0.0 7.6e-114 9.5e-33   2.3e-5    0.01    646   1.01\n",
      "prob_n[366]    1.2e-3  1.2e-4  2.9e-3      0.0 2.2e-114 5.8e-33   2.0e-5    0.01    646   1.01\n",
      "prob_n[367]    1.2e-3  1.2e-4  2.9e-3      0.0 6.6e-115 3.5e-33   2.0e-5    0.01    646   1.01\n",
      "prob_n[368]    1.2e-3  1.2e-4  2.9e-3      0.0 2.0e-115 2.2e-33   1.9e-5    0.01    645   1.01\n",
      "prob_n[369]    1.2e-3  1.2e-4  2.9e-3      0.0 5.8e-116 1.3e-33   1.7e-5    0.01    644   1.01\n",
      "prob_n[370]    1.2e-3  1.2e-4  2.9e-3      0.0 1.7e-116 8.0e-34   1.5e-5    0.01    642   1.01\n",
      "prob_n[371]    1.2e-3  1.2e-4  2.9e-3      0.0 5.0e-117 4.9e-34   1.3e-5    0.01    640    1.0\n",
      "prob_n[372]    1.2e-3  1.2e-4  2.9e-3      0.0 1.5e-117 3.0e-34   1.3e-5    0.01    638    1.0\n",
      "prob_n[373]    1.2e-3  1.2e-4  2.9e-3      0.0 4.3e-118 1.8e-34   1.1e-5    0.01    636    1.0\n",
      "prob_n[374]    1.2e-3  1.2e-4  2.9e-3      0.0 1.3e-118 1.1e-34  10.0e-6    0.01    633    1.0\n",
      "prob_n[375]    1.2e-3  1.2e-4  2.9e-3      0.0 3.7e-119 6.7e-35   8.8e-6    0.01    631    1.0\n",
      "prob_n[376]    1.2e-3  1.2e-4  2.9e-3      0.0 1.1e-119 4.1e-35   7.8e-6    0.01    629    1.0\n",
      "prob_n[377]    1.2e-3  1.2e-4  2.9e-3      0.0 3.2e-120 2.5e-35   6.8e-6    0.01    627    1.0\n",
      "prob_n[378]    1.2e-3  1.2e-4  2.9e-3      0.0 9.3e-121 1.5e-35   6.5e-6    0.01    624    1.0\n",
      "prob_n[379]    1.2e-3  1.2e-4  2.9e-3      0.0 2.7e-121 9.0e-36   7.2e-6    0.01    622    1.0\n",
      "prob_n[380]    1.2e-3  1.2e-4  2.9e-3      0.0 7.9e-122 5.4e-36   7.9e-6    0.01    620    1.0\n",
      "prob_n[381]    1.2e-3  1.2e-4  2.9e-3      0.0 2.3e-122 3.3e-36   7.1e-6    0.01    618    1.0\n",
      "prob_n[382]    1.2e-3  1.2e-4  2.9e-3      0.0 6.8e-123 2.0e-36   6.3e-6    0.01    616    1.0\n",
      "prob_n[383]    1.2e-3  1.2e-4  2.9e-3      0.0 2.0e-123 1.2e-36   5.6e-6    0.01    614    1.0\n",
      "prob_n[384]    1.2e-3  1.2e-4  2.8e-3      0.0 5.7e-124 7.2e-37   4.9e-6    0.01    612    1.0\n",
      "prob_n[385]    1.2e-3  1.2e-4  2.8e-3      0.0 1.7e-124 4.4e-37   4.3e-6    0.01    610    1.0\n",
      "prob_n[386]    1.2e-3  1.2e-4  2.8e-3      0.0 4.8e-125 2.6e-37   3.8e-6    0.01    607    1.0\n",
      "prob_n[387]    1.2e-3  1.2e-4  2.8e-3      0.0 1.4e-125 1.6e-37   3.3e-6    0.01    605    1.0\n",
      "prob_n[388]    1.2e-3  1.2e-4  2.8e-3      0.0 4.1e-126 9.5e-38   2.9e-6    0.01    603    1.0\n",
      "prob_n[389]    1.2e-3  1.2e-4  2.8e-3      0.0 1.2e-126 5.7e-38   2.6e-6    0.01    602    1.0\n",
      "prob_n[390]    1.2e-3  1.2e-4  2.8e-3      0.0 3.4e-127 3.4e-38   2.3e-6    0.01    600    1.0\n",
      "prob_n[391]    1.2e-3  1.2e-4  2.8e-3      0.0 9.9e-128 2.0e-38   2.0e-6    0.01    598    1.0\n",
      "prob_n[392]    1.2e-3  1.2e-4  2.8e-3      0.0 2.9e-128 1.2e-38   1.7e-6    0.01    596    1.0\n",
      "prob_n[393]    1.2e-3  1.2e-4  2.8e-3      0.0 8.3e-129 7.3e-39   1.5e-6    0.01    594    1.0\n",
      "prob_n[394]    1.2e-3  1.2e-4  2.8e-3      0.0 2.4e-129 4.4e-39   1.3e-6    0.01    592    1.0\n",
      "prob_n[395]    1.2e-3  1.2e-4  2.8e-3      0.0 6.9e-130 2.6e-39   1.2e-6    0.01    591    1.0\n",
      "prob_n[396]    1.1e-3  1.2e-4  2.8e-3      0.0 2.0e-130 1.6e-39   1.0e-6    0.01    589    1.0\n",
      "prob_n[397]    1.1e-3  1.2e-4  2.8e-3      0.0 5.8e-131 9.3e-40   8.8e-7    0.01    587    1.0\n",
      "prob_n[398]    1.1e-3  1.2e-4  2.8e-3      0.0 1.7e-131 5.6e-40   7.7e-7    0.01    586    1.0\n",
      "prob_n[399]    1.1e-3  1.2e-4  2.8e-3      0.0 4.8e-132 3.3e-40   6.7e-7    0.01    584    1.0\n",
      "prob_n[400]    1.1e-3  1.2e-4  2.8e-3      0.0 1.4e-132 2.0e-40   5.8e-7    0.01    583    1.0\n",
      "prob_n[401]    1.1e-3  1.2e-4  2.8e-3      0.0 4.0e-133 1.2e-40   5.1e-7    0.01    581    1.0\n",
      "prob_n[402]    1.1e-3  1.2e-4  2.8e-3      0.0 1.1e-133 7.0e-41   4.4e-7    0.01    580    1.0\n",
      "prob_n[403]    1.1e-3  1.2e-4  2.8e-3      0.0 3.3e-134 4.2e-41   3.8e-7    0.01    579    1.0\n",
      "prob_n[404]    1.1e-3  1.2e-4  2.8e-3      0.0 9.3e-135 2.5e-41   3.3e-7    0.01    577    1.0\n",
      "prob_n[405]    1.1e-3  1.2e-4  2.8e-3      0.0 2.7e-135 1.5e-41   2.9e-7    0.01    576    1.0\n",
      "prob_n[406]    1.1e-3  1.2e-4  2.8e-3      0.0 7.7e-136 8.7e-42   2.5e-7    0.01    575    1.0\n",
      "prob_n[407]    1.1e-3  1.2e-4  2.8e-3      0.0 2.2e-136 5.2e-42   2.2e-7    0.01    573    1.0\n",
      "prob_n[408]    1.1e-3  1.2e-4  2.8e-3      0.0 6.3e-137 3.1e-42   1.9e-7    0.01    572    1.0\n",
      "prob_n[409]    1.1e-3  1.2e-4  2.8e-3      0.0 1.8e-137 1.8e-42   1.6e-7    0.01    571    1.0\n",
      "prob_n[410]    1.1e-3  1.2e-4  2.8e-3      0.0 5.1e-138 1.1e-42   1.4e-7    0.01    570    1.0\n",
      "prob_n[411]    1.1e-3  1.2e-4  2.7e-3      0.0 1.5e-138 6.3e-43   1.2e-7    0.01    569    1.0\n",
      "prob_n[412]    1.1e-3  1.2e-4  2.7e-3      0.0 4.2e-139 3.7e-43   1.0e-7    0.01    568    1.0\n",
      "prob_n[413]    1.1e-3  1.2e-4  2.7e-3      0.0 1.2e-139 2.2e-43   9.0e-8    0.01    567    1.0\n",
      "prob_n[414]    1.1e-3  1.2e-4  2.7e-3      0.0 3.4e-140 1.3e-43   7.8e-8    0.01    566    1.0\n",
      "prob_n[415]    1.1e-3  1.2e-4  2.7e-3      0.0 9.7e-141 7.7e-44   6.7e-8    0.01    565    1.0\n",
      "prob_n[416]    1.1e-3  1.2e-4  2.7e-3      0.0 2.7e-141 4.5e-44   5.8e-8    0.01    564    1.0\n",
      "prob_n[417]    1.1e-3  1.2e-4  2.7e-3      0.0 7.8e-142 2.7e-44   5.0e-8    0.01    563    1.0\n",
      "prob_n[418]    1.1e-3  1.2e-4  2.7e-3      0.0 2.2e-142 1.6e-44   4.3e-8    0.01    562    1.0\n",
      "prob_n[419]    1.1e-3  1.2e-4  2.7e-3      0.0 6.3e-143 9.2e-45   3.7e-8    0.01    561    1.0\n",
      "prob_n[420]    1.1e-3  1.2e-4  2.7e-3      0.0 1.8e-143 5.4e-45   3.2e-8    0.01    560    1.0\n",
      "prob_n[421]    1.1e-3  1.2e-4  2.7e-3      0.0 5.1e-144 3.2e-45   2.7e-8    0.01    559    1.0\n",
      "prob_n[422]    1.1e-3  1.2e-4  2.7e-3      0.0 1.4e-144 1.9e-45   2.3e-8    0.01    558    1.0\n",
      "prob_n[423]    1.1e-3  1.1e-4  2.7e-3      0.0 4.1e-145 1.1e-45   2.0e-8    0.01    557    1.0\n",
      "prob_n[424]    1.1e-3  1.1e-4  2.7e-3      0.0 1.2e-145 6.4e-46   1.7e-8    0.01    556    1.0\n",
      "prob_n[425]    1.0e-3  1.1e-4  2.7e-3      0.0 3.3e-146 3.7e-46   1.5e-8    0.01    555    1.0\n",
      "prob_n[426]    1.0e-3  1.1e-4  2.7e-3      0.0 9.2e-147 2.2e-46   1.3e-8    0.01    554    1.0\n",
      "prob_n[427]    1.0e-3  1.1e-4  2.7e-3      0.0 2.6e-147 1.3e-46   1.1e-8    0.01    553    1.0\n",
      "prob_n[428]    1.0e-3  1.1e-4  2.7e-3      0.0 7.3e-148 7.5e-47   9.1e-9    0.01    552    1.0\n",
      "prob_n[429]    1.0e-3  1.1e-4  2.7e-3      0.0 2.1e-148 4.4e-47   7.8e-9    0.01    551    1.0\n",
      "prob_n[430]    1.0e-3  1.1e-4  2.7e-3      0.0 5.8e-149 2.6e-47   6.7e-9    0.01    550    1.0\n",
      "prob_n[431]    1.0e-3  1.1e-4  2.7e-3      0.0 1.6e-149 1.5e-47   5.7e-9    0.01    549    1.0\n",
      "prob_n[432]    1.0e-3  1.1e-4  2.7e-3      0.0 4.6e-150 8.7e-48   4.8e-9    0.01    548    1.0\n",
      "prob_n[433]    1.0e-3  1.1e-4  2.7e-3      0.0 1.3e-150 5.1e-48   4.1e-9    0.01    547    1.0\n",
      "prob_n[434]    1.0e-3  1.1e-4  2.7e-3      0.0 3.7e-151 3.0e-48   3.5e-9    0.01    546    1.0\n",
      "prob_n[435]   10.0e-4  1.1e-4  2.7e-3      0.0 1.0e-151 1.7e-48   3.0e-9    0.01    545    1.0\n",
      "prob_n[436]    9.9e-4  1.1e-4  2.7e-3      0.0 2.9e-152 1.0e-48   2.5e-9    0.01    544    1.0\n",
      "prob_n[437]    9.9e-4  1.1e-4  2.7e-3      0.0 8.1e-153 5.8e-49   2.2e-9    0.01    543    1.0\n",
      "prob_n[438]    9.8e-4  1.1e-4  2.7e-3      0.0 2.3e-153 3.4e-49   1.8e-9    0.01    542    1.0\n",
      "prob_n[439]    9.8e-4  1.1e-4  2.7e-3      0.0 6.4e-154 2.0e-49   1.6e-9    0.01    541    1.0\n",
      "prob_n[440]    9.7e-4  1.1e-4  2.7e-3      0.0 1.8e-154 1.1e-49   1.3e-9    0.01    540    1.0\n",
      "prob_n[441]    9.7e-4  1.1e-4  2.7e-3      0.0 5.0e-155 6.6e-50   1.1e-9    0.01    539    1.0\n",
      "prob_n[442]    9.6e-4  1.1e-4  2.7e-3      0.0 1.4e-155 3.8e-50  9.5e-10    0.01    538    1.0\n",
      "prob_n[443]    9.6e-4  1.1e-4  2.7e-3      0.0 3.9e-156 2.2e-50  8.0e-10    0.01    537    1.0\n",
      "prob_n[444]    9.5e-4  1.1e-4  2.7e-3      0.0 1.1e-156 1.3e-50  6.8e-10    0.01    536    1.0\n",
      "prob_n[445]    9.5e-4  1.1e-4  2.7e-3      0.0 3.1e-157 7.4e-51  5.8e-10    0.01    535    1.0\n",
      "prob_n[446]    9.4e-4  1.1e-4  2.7e-3      0.0 8.6e-158 4.3e-51  4.9e-10    0.01    534    1.0\n",
      "prob_n[447]    9.4e-4  1.1e-4  2.6e-3      0.0 2.4e-158 2.5e-51  4.1e-10    0.01    533    1.0\n",
      "prob_n[448]    9.3e-4  1.1e-4  2.6e-3      0.0 6.7e-159 1.4e-51  3.5e-10    0.01    532    1.0\n",
      "prob_n[449]    9.3e-4  1.1e-4  2.6e-3      0.0 1.9e-159 8.3e-52  2.9e-10    0.01    531    1.0\n",
      "prob_n[450]    9.2e-4  1.1e-4  2.6e-3      0.0 5.2e-160 4.8e-52  2.5e-10    0.01    530    1.0\n",
      "prob_n[451]    9.2e-4  1.1e-4  2.6e-3      0.0 1.5e-160 2.8e-52  2.1e-10    0.01    529    1.0\n",
      "prob_n[452]    9.1e-4  1.2e-4  2.6e-3      0.0 4.0e-161 1.6e-52  1.8e-10    0.01    528    1.0\n",
      "prob_n[453]    9.1e-4  1.2e-4  2.6e-3      0.0 1.1e-161 9.2e-53  1.5e-10    0.01    527    1.0\n",
      "prob_n[454]    9.0e-4  1.2e-4  2.6e-3      0.0 3.1e-162 5.3e-53  1.2e-10    0.01    525    1.0\n",
      "prob_n[455]    9.0e-4  1.2e-4  2.6e-3      0.0 8.7e-163 3.0e-53  1.0e-10    0.01    522    1.0\n",
      "prob_n[456]    8.9e-4  1.2e-4  2.6e-3      0.0 2.4e-163 1.7e-53  8.8e-11    0.01    518    1.0\n",
      "prob_n[457]    8.9e-4  1.2e-4  2.6e-3      0.0 6.7e-164 1.0e-53  7.4e-11    0.01    515    1.0\n",
      "prob_n[458]    8.8e-4  1.2e-4  2.6e-3      0.0 1.9e-164 5.8e-54  6.2e-11    0.01    512    1.0\n",
      "prob_n[459]    8.8e-4  1.2e-4  2.7e-3      0.0 5.2e-165 3.3e-54  5.2e-11    0.01    508    1.0\n",
      "prob_n[460]    8.7e-4  1.2e-4  2.7e-3      0.0 1.4e-165 1.9e-54  4.4e-11    0.01    505    1.0\n",
      "prob_n[461]    8.7e-4  1.2e-4  2.7e-3      0.0 4.0e-166 1.1e-54  3.7e-11    0.01    501    1.0\n",
      "prob_n[462]    8.6e-4  1.2e-4  2.7e-3      0.0 1.1e-166 6.2e-55  3.1e-11    0.01    497    1.0\n",
      "prob_n[463]    8.6e-4  1.2e-4  2.7e-3      0.0 3.0e-167 3.6e-55  2.6e-11    0.01    493    1.0\n",
      "prob_n[464]    8.5e-4  1.2e-4  2.7e-3      0.0 8.4e-168 2.1e-55  2.2e-11    0.01    488    1.0\n",
      "prob_n[465]    8.5e-4  1.2e-4  2.7e-3      0.0 2.3e-168 1.2e-55  1.8e-11    0.01    484    1.0\n",
      "prob_n[466]    8.4e-4  1.2e-4  2.7e-3      0.0 6.4e-169 6.7e-56  1.5e-11    0.01    479    1.0\n",
      "prob_n[467]    8.4e-4  1.2e-4  2.7e-3      0.0 1.8e-169 3.8e-56  1.3e-11    0.01    474    1.0\n",
      "prob_n[468]    8.3e-4  1.2e-4  2.7e-3      0.0 4.9e-170 2.2e-56  1.1e-11    0.01    469    1.0\n",
      "prob_n[469]    8.3e-4  1.3e-4  2.7e-3      0.0 1.3e-170 1.3e-56  8.8e-12    0.01    464    1.0\n",
      "prob_n[470]    8.3e-4  1.3e-4  2.7e-3      0.0 3.7e-171 7.2e-57  7.3e-12    0.01    458    1.0\n",
      "prob_n[471]    8.2e-4  1.3e-4  2.7e-3      0.0 1.0e-171 4.1e-57  6.1e-12    0.01    453    1.0\n",
      "prob_n[472]    8.2e-4  1.3e-4  2.8e-3      0.0 2.8e-172 2.3e-57  5.1e-12    0.01    447    1.0\n",
      "prob_n[473]    8.2e-4  1.3e-4  2.8e-3      0.0 7.7e-173 1.3e-57  4.3e-12    0.01    441    1.0\n",
      "prob_n[474]    8.1e-4  1.3e-4  2.8e-3      0.0 2.1e-173 7.6e-58  3.5e-12    0.01    436   1.01\n",
      "prob_n[475]    8.1e-4  1.4e-4  2.8e-3      0.0 5.9e-174 4.3e-58  2.9e-12    0.01    430   1.01\n",
      "prob_n[476]    8.0e-4  1.4e-4  2.8e-3      0.0 1.6e-174 2.4e-58  2.5e-12    0.01    424   1.01\n",
      "prob_n[477]    8.0e-4  1.4e-4  2.8e-3      0.0 4.4e-175 1.4e-58  2.0e-12    0.01    417   1.01\n",
      "prob_n[478]    8.0e-4  1.4e-4  2.9e-3      0.0 1.2e-175 7.9e-59  1.7e-12    0.01    411   1.01\n",
      "prob_n[479]    8.0e-4  1.4e-4  2.9e-3      0.0 3.3e-176 4.5e-59  1.4e-12    0.01    405   1.01\n",
      "prob_n[480]    7.9e-4  1.5e-4  2.9e-3      0.0 9.2e-177 2.6e-59  1.2e-12    0.01    399   1.01\n",
      "prob_n[481]    7.9e-4  1.5e-4  2.9e-3      0.0 2.5e-177 1.5e-59  9.7e-13    0.01    392   1.01\n",
      "prob_n[482]    7.9e-4  1.5e-4  3.0e-3      0.0 6.9e-178 8.2e-60  8.1e-13    0.01    386   1.01\n",
      "prob_n[483]    7.9e-4  1.5e-4  3.0e-3      0.0 1.9e-178 4.7e-60  6.7e-13    0.01    380   1.01\n",
      "prob_n[484]    7.8e-4  1.6e-4  3.1e-3      0.0 5.2e-179 2.6e-60  5.5e-13    0.01    373   1.01\n",
      "prob_n[485]    7.8e-4  1.6e-4  3.1e-3      0.0 1.4e-179 1.5e-60  4.6e-13    0.01    367   1.01\n",
      "prob_n[486]    7.8e-4  1.7e-4  3.1e-3      0.0 3.9e-180 8.5e-61  3.8e-13    0.01    361   1.01\n",
      "prob_n[487]    7.8e-4  1.7e-4  3.2e-3      0.0 1.1e-180 4.8e-61  3.1e-13    0.01    355   1.01\n",
      "prob_n[488]    7.8e-4  1.7e-4  3.2e-3      0.0 2.9e-181 2.7e-61  2.6e-13    0.01    349   1.01\n",
      "prob_n[489]    7.8e-4  1.8e-4  3.3e-3      0.0 7.9e-182 1.5e-61  2.1e-13    0.01    343   1.01\n",
      "prob_n[490]    7.8e-4  1.8e-4  3.3e-3      0.0 2.2e-182 8.7e-62  1.8e-13    0.01    338   1.01\n",
      "prob_n[491]    7.8e-4  1.9e-4  3.4e-3      0.0 5.9e-183 4.9e-62  1.5e-13    0.01    332   1.01\n",
      "prob_n[492]    7.8e-4  1.9e-4  3.5e-3      0.0 1.6e-183 2.8e-62  1.2e-13    0.01    327   1.01\n",
      "prob_n[493]    7.8e-4  2.0e-4  3.5e-3      0.0 4.4e-184 1.6e-62 10.0e-14    0.01    322   1.01\n",
      "prob_n[494]    7.8e-4  2.0e-4  3.6e-3      0.0 1.2e-184 8.8e-63  8.2e-14    0.01    317   1.01\n",
      "prob_n[495]    7.8e-4  2.1e-4  3.7e-3      0.0 3.2e-185 5.0e-63  6.8e-14    0.01    312   1.01\n",
      "prob_n[496]    7.8e-4  2.1e-4  3.8e-3      0.0 8.8e-186 2.8e-63  5.6e-14    0.01    307   1.01\n",
      "prob_n[497]    7.8e-4  2.2e-4  3.8e-3      0.0 2.4e-186 1.6e-63  4.6e-14    0.01    303   1.01\n",
      "prob_n[498]    7.8e-4  2.3e-4  3.9e-3      0.0 6.5e-187 8.9e-64  3.8e-14    0.01    299   1.01\n",
      "prob_n[499]    7.8e-4  2.3e-4  4.0e-3      0.0 1.8e-187 5.0e-64  3.1e-14    0.01    294   1.01\n",
      "prob_n[500]    7.8e-4  2.4e-4  4.1e-3      0.0 4.8e-188 2.8e-64  2.6e-14 10.0e-3    291   1.01\n",
      "lp__           -19.19    0.03    0.53   -20.55   -19.24  -19.01   -18.92  -18.87    369   1.01\n",
      "\n",
      "Samples were drawn using NUTS at Tue Feb 25 10:53:16 2020.\n",
      "For each parameter, n_eff is a crude measure of effective sample size,\n",
      "and Rhat is the potential scale reduction factor on split chains (at \n",
      "convergence, Rhat=1).\n"
     ]
    }
   ],
   "source": [
    "model_data={\n",
    "    'k': np.array([16, 18, 22, 25, 27]),\n",
    "    'm': 5,\n",
    "    'nmax': 500\n",
    "}\n",
    "\n",
    "fit=sm.sampling(data=model_data,chains=4,iter=1000,seed=12329)\n",
    "\n",
    "print(fit)\n"
   ]
  },
  {
   "cell_type": "code",
   "execution_count": 21,
   "metadata": {},
   "outputs": [
    {
     "data": {
      "text/plain": [
       "<function matplotlib.pyplot.show(*args, **kw)>"
      ]
     },
     "execution_count": 21,
     "metadata": {},
     "output_type": "execute_result"
    },
    {
     "data": {
      "image/png": "[encoded data removed]",
      "text/plain": [
       "<Figure size 432x288 with 1 Axes>"
      ]
     },
     "metadata": {
      "needs_background": "light"
     },
     "output_type": "display_data"
    }
   ],
   "source": [
    "\n",
    "plt.hist(fit['theta'])\n",
    "plt.xlabel('Theta')\n",
    "plt.ylabel('Number of Samples')\n",
    "plt.show\n",
    "\n"
   ]
  },
  {
   "cell_type": "code",
   "execution_count": 20,
   "metadata": {},
   "outputs": [
    {
     "data": {
      "text/plain": [
       "<function matplotlib.pyplot.show(*args, **kw)>"
      ]
     },
     "execution_count": 20,
     "metadata": {},
     "output_type": "execute_result"
    },
    {
     "data": {
      "image/png": "[encoded data removed]",
      "text/plain": [
       "<Figure size 432x288 with 1 Axes>"
      ]
     },
     "metadata": {
      "needs_background": "light"
     },
     "output_type": "display_data"
    }
   ],
   "source": [
    "\n",
    "plt.plot(fit['theta'], fit['n'], '.')\n",
    "plt.xlabel('Theta')\n",
    "plt.ylabel('Number of Samples')\n",
    "plt.show"
   ]
  },
  {
   "cell_type": "markdown",
   "metadata": {},
   "source": [
    "<p> Finally let us consider a coin tossing example from earlier, but in this case we will have run the experiment twice. We will then use data from both experiments to fit our head rates. <p>\n",
    "    \n",
    "<br >"
   ]
  },
  {
   "cell_type": "code",
   "execution_count": 22,
   "metadata": {},
   "outputs": [
    {
     "name": "stderr",
     "output_type": "stream",
     "text": [
      "INFO:pystan:COMPILING THE C++ CODE FOR MODEL anon_model_bd8f6a5f874a46897ced59e716bf395f NOW.\n"
     ]
    }
   ],
   "source": [
    "two_exp_rate = \"\"\"// Inferring a Common Rate, With Posterior Predictive\n",
    "data { \n",
    "  int<lower=1> n1; \n",
    "  int<lower=1> n2; \n",
    "  int<lower=0> k1;\n",
    "  int<lower=0> k2;\n",
    "}\n",
    "parameters {\n",
    "  real<lower=0,upper=1> theta;\n",
    "} \n",
    "model {\n",
    "  // Prior on Single Rate Theta\n",
    "  theta ~ beta(1, 1);\n",
    "  \n",
    "  // Observed Counts\n",
    "  k1 ~ binomial(n1, theta);\n",
    "  k2 ~ binomial(n2, theta);\n",
    "}\"\"\"\n",
    "\n",
    "sm=pystan.StanModel(model_code=two_exp_rate)"
   ]
  },
  {
   "cell_type": "code",
   "execution_count": 23,
   "metadata": {},
   "outputs": [],
   "source": [
    "data_1 = {\n",
    "'k1': 4,\n",
    "'k2': 6,\n",
    "'n1': 10,\n",
    "'n2': 10}\n",
    "\n",
    "data_2 = {\n",
    "'k1': 0,\n",
    "'k2': 10,\n",
    "'n1': 10,\n",
    "'n2': 10}"
   ]
  },
  {
   "cell_type": "code",
   "execution_count": 24,
   "metadata": {},
   "outputs": [
    {
     "data": {
      "image/png": "[encoded data removed]",
      "text/plain": [
       "<Figure size 432x288 with 1 Axes>"
      ]
     },
     "metadata": {
      "needs_background": "light"
     },
     "output_type": "display_data"
    },
    {
     "data": {
      "image/png": "[encoded data removed]",
      "text/plain": [
       "<Figure size 432x288 with 1 Axes>"
      ]
     },
     "metadata": {
      "needs_background": "light"
     },
     "output_type": "display_data"
    }
   ],
   "source": [
    "fit1=sm.sampling(data=data_1,chains=4,iter=10000,seed=12329)\n",
    "\n",
    "\n",
    "plt.hist(fit1['theta'])\n",
    "plt.show()\n",
    "\n",
    "fit2=sm.sampling(data=data_2,chains=4,iter=10000,seed=12329)\n",
    "\n",
    "\n",
    "plt.hist(fit2['theta'])\n",
    "plt.show()\n",
    "\n",
    "\n"
   ]
  },
  {
   "cell_type": "code",
   "execution_count": 33,
   "metadata": {},
   "outputs": [
    {
     "name": "stderr",
     "output_type": "stream",
     "text": [
      "INFO:pystan:COMPILING THE C++ CODE FOR MODEL anon_model_1070d695aa6003acbae0397bae8b9e8b NOW.\n"
     ]
    }
   ],
   "source": [
    "two_exp_rate_gen = \"\"\"// Inferring a Common Rate, With Posterior Predictive\n",
    "data { \n",
    "  int<lower=1> n1; \n",
    "  int<lower=1> n2; \n",
    "  int<lower=0> k1;\n",
    "  int<lower=0> k2;\n",
    "}\n",
    "parameters {\n",
    "  real<lower=0,upper=1> theta;\n",
    "} \n",
    "model {\n",
    "  // Prior on Single Rate Theta\n",
    "  theta ~ beta(1, 1);\n",
    "  \n",
    "  // Observed Counts\n",
    "  k1 ~ binomial(n1, theta);\n",
    "  k2 ~ binomial(n2, theta);\n",
    "}\n",
    "generated quantities {\n",
    "  int<lower=0,upper=n1> postpredk1;\n",
    "  int<lower=0,upper=n2> postpredk2;\n",
    "    \n",
    "  // Posterior Predictive\n",
    "  postpredk1 <- binomial_rng(n1, theta);\n",
    "  postpredk2 <- binomial_rng(n2, theta);\n",
    "}\"\"\"\n",
    "\n",
    "sm=pystan.StanModel(model_code=two_exp_rate_gen)"
   ]
  },
  {
   "cell_type": "code",
   "execution_count": 34,
   "metadata": {},
   "outputs": [
    {
     "data": {
      "image/png": "[encoded data removed]",
      "text/plain": [
       "<Figure size 432x288 with 1 Axes>"
      ]
     },
     "metadata": {
      "needs_background": "light"
     },
     "output_type": "display_data"
    },
    {
     "data": {
      "image/png": "[encoded data removed]",
      "text/plain": [
       "<Figure size 432x288 with 1 Axes>"
      ]
     },
     "metadata": {
      "needs_background": "light"
     },
     "output_type": "display_data"
    }
   ],
   "source": [
    "fit1=sm.sampling(data=data_1,chains=4,iter=10000,seed=12329)\n",
    "\n",
    "\n",
    "plt.hist(fit1['theta'])\n",
    "plt.show()\n",
    "\n",
    "fit2=sm.sampling(data=data_2,chains=4,iter=10000,seed=12329)\n",
    "\n",
    "\n",
    "plt.hist(fit2['theta'])\n",
    "plt.show()\n"
   ]
  },
  {
   "cell_type": "code",
   "execution_count": 38,
   "metadata": {},
   "outputs": [
    {
     "data": {
      "text/plain": [
       "(array([  91.,  466., 1331., 2533., 3606., 3940., 3643., 2474., 1336.,\n",
       "         580.]),\n",
       " array([ 0.,  1.,  2.,  3.,  4.,  5.,  6.,  7.,  8.,  9., 10.]),\n",
       " <a list of 10 Patch objects>)"
      ]
     },
     "execution_count": 38,
     "metadata": {},
     "output_type": "execute_result"
    },
    {
     "data": {
      "image/png": "[encoded data removed]",
      "text/plain": [
       "<Figure size 432x288 with 1 Axes>"
      ]
     },
     "metadata": {
      "needs_background": "light"
     },
     "output_type": "display_data"
    }
   ],
   "source": [
    "plt.hist(fit1['postpredk1'])"
   ]
  },
  {
   "cell_type": "code",
   "execution_count": 27,
   "metadata": {},
   "outputs": [],
   "source": [
    "heatmap = np.zeros([11,11])\n",
    "\n",
    "for x in np.arange(2000):\n",
    "    heatmap[int(fit2['postpredk1'][x]), int(fit2['postpredk2'][x])] += 1"
   ]
  },
  {
   "cell_type": "code",
   "execution_count": 28,
   "metadata": {},
   "outputs": [
    {
     "data": {
      "image/png": "[encoded data removed]",
      "text/plain": [
       "<Figure size 432x288 with 1 Axes>"
      ]
     },
     "metadata": {
      "needs_background": "light"
     },
     "output_type": "display_data"
    }
   ],
   "source": [
    "plt.imshow(heatmap, cmap='hot', interpolation='nearest')\n",
    "plt.show()"
   ]
  },
  {
   "cell_type": "markdown",
   "metadata": {},
   "source": [
    "<p> Not only is it useful to understand your model before you fit it, but to understand how well your data is explained by your model. Part of this process is creative but there are also tools that exist that can help. </p>"
   ]
  },
  {
   "cell_type": "code",
   "execution_count": null,
   "metadata": {},
   "outputs": [],
   "source": []
  },
  {
   "cell_type": "code",
   "execution_count": 39,
   "metadata": {},
   "outputs": [],
   "source": [
    "x=np.random.normal(3,1,10)"
   ]
  },
  {
   "cell_type": "code",
   "execution_count": 40,
   "metadata": {},
   "outputs": [
    {
     "data": {
      "text/plain": [
       "array([4.48581462, 3.935212  , 2.13096659, 2.43710064, 5.40903363,\n",
       "       2.33496308, 1.64093622, 2.86598126, 3.23251945, 2.31631115])"
      ]
     },
     "execution_count": 40,
     "metadata": {},
     "output_type": "execute_result"
    }
   ],
   "source": [
    "x"
   ]
  },
  {
   "cell_type": "code",
   "execution_count": 47,
   "metadata": {},
   "outputs": [],
   "source": [
    "model=\"\"\"\n",
    "data {\n",
    "int<lower=0> N; //number of datapoints\n",
    "real x[N]; //x values\n",
    "}\n",
    "\n",
    "\n",
    "parameters {\n",
    "real mu; //mean of normal distribution\n",
    "real<lower=0.0> sigma;\n",
    "}\n",
    "\n",
    "model {\n",
    "\n",
    "sigma ~ cauchy(0,1);\n",
    "x ~ normal(mu,sigma);\n",
    "}\n",
    "\"\"\""
   ]
  },
  {
   "cell_type": "code",
   "execution_count": 48,
   "metadata": {},
   "outputs": [
    {
     "name": "stderr",
     "output_type": "stream",
     "text": [
      "INFO:pystan:COMPILING THE C++ CODE FOR MODEL anon_model_23840a14d34f49990979ae476b61c011 NOW.\n"
     ]
    }
   ],
   "source": [
    "sm=pystan.StanModel(model_code=model)"
   ]
  },
  {
   "cell_type": "code",
   "execution_count": 49,
   "metadata": {},
   "outputs": [],
   "source": [
    "data={\n",
    "    'N':10,\n",
    "    'x':x\n",
    "}"
   ]
  },
  {
   "cell_type": "code",
   "execution_count": 50,
   "metadata": {},
   "outputs": [
    {
     "name": "stderr",
     "output_type": "stream",
     "text": [
      "WARNING:pystan:1 of 4000 iterations saturated the maximum tree depth of 10 (0.025 %)\n",
      "WARNING:pystan:Run again with max_treedepth larger than 10 to avoid saturation\n"
     ]
    }
   ],
   "source": [
    "fit=sm.sampling(data=data,chains=4)"
   ]
  },
  {
   "cell_type": "code",
   "execution_count": 51,
   "metadata": {},
   "outputs": [
    {
     "data": {
      "text/plain": [
       "Inference for Stan model: anon_model_23840a14d34f49990979ae476b61c011.\n",
       "4 chains, each with iter=2000; warmup=1000; thin=1; \n",
       "post-warmup draws per chain=1000, total post-warmup draws=4000.\n",
       "\n",
       "        mean se_mean     sd   2.5%    25%    50%    75%  97.5%  n_eff   Rhat\n",
       "mu      3.07  9.2e-3   0.42   2.24   2.79   3.07   3.34   3.93   2136    1.0\n",
       "sigma   1.29  7.5e-3   0.34   0.82   1.06   1.22   1.45   2.13   1993    1.0\n",
       "lp__   -8.02    0.03    1.1 -11.03  -8.45   -7.7  -7.23  -6.93   1308    1.0\n",
       "\n",
       "Samples were drawn using NUTS at Tue Feb 25 12:30:50 2020.\n",
       "For each parameter, n_eff is a crude measure of effective sample size,\n",
       "and Rhat is the potential scale reduction factor on split chains (at \n",
       "convergence, Rhat=1)."
      ]
     },
     "execution_count": 51,
     "metadata": {},
     "output_type": "execute_result"
    }
   ],
   "source": [
    "fit"
   ]
  },
  {
   "cell_type": "code",
   "execution_count": 53,
   "metadata": {},
   "outputs": [
    {
     "data": {
      "text/plain": [
       "(array([6.190e+02, 1.867e+03, 1.022e+03, 3.320e+02, 1.130e+02, 2.700e+01,\n",
       "        1.400e+01, 1.000e+00, 4.000e+00, 1.000e+00]),\n",
       " array([0.65402845, 0.98410074, 1.31417303, 1.64424531, 1.9743176 ,\n",
       "        2.30438988, 2.63446217, 2.96453446, 3.29460674, 3.62467903,\n",
       "        3.95475131]),\n",
       " <a list of 10 Patch objects>)"
      ]
     },
     "execution_count": 53,
     "metadata": {},
     "output_type": "execute_result"
    },
    {
     "data": {
      "image/png": "[encoded data removed]",
      "text/plain": [
       "<Figure size 432x288 with 1 Axes>"
      ]
     },
     "metadata": {
      "needs_background": "light"
     },
     "output_type": "display_data"
    }
   ],
   "source": [
    "plt.hist(fit['sigma'])"
   ]
  },
  {
   "cell_type": "code",
   "execution_count": 54,
   "metadata": {},
   "outputs": [
    {
     "data": {
      "text/plain": [
       "<matplotlib.collections.PathCollection at 0x7f0dd3bd58d0>"
      ]
     },
     "execution_count": 54,
     "metadata": {},
     "output_type": "execute_result"
    },
    {
     "data": {
      "image/png": "[encoded data removed]",
      "text/plain": [
       "<Figure size 432x288 with 1 Axes>"
      ]
     },
     "metadata": {
      "needs_background": "light"
     },
     "output_type": "display_data"
    }
   ],
   "source": [
    "plt.scatter(fit['mu'],fit['sigma'])"
   ]
  },
  {
   "cell_type": "code",
   "execution_count": 56,
   "metadata": {},
   "outputs": [],
   "source": [
    "import seaborn as sns\n",
    "import pandas as pd"
   ]
  },
  {
   "cell_type": "code",
   "execution_count": 62,
   "metadata": {},
   "outputs": [],
   "source": [
    "df=pd.DataFrame(np.vstack((fit['mu'],fit['sigma'])).T,columns=[r'$\\mu$',r'$\\sigma$'])\n"
   ]
  },
  {
   "cell_type": "code",
   "execution_count": 64,
   "metadata": {},
   "outputs": [
    {
     "data": {
      "text/html": [
       "<div>\n",
       "<style scoped>\n",
       "    .dataframe tbody tr th:only-of-type {\n",
       "        vertical-align: middle;\n",
       "    }\n",
       "\n",
       "    .dataframe tbody tr th {\n",
       "        vertical-align: top;\n",
       "    }\n",
       "\n",
       "    .dataframe thead th {\n",
       "        text-align: right;\n",
       "    }\n",
       "</style>\n",
       "<table border=\"1\" class=\"dataframe\">\n",
       "  <thead>\n",
       "    <tr style=\"text-align: right;\">\n",
       "      <th></th>\n",
       "      <th>$\\mu$</th>\n",
       "      <th>$\\sigma$</th>\n",
       "    </tr>\n",
       "  </thead>\n",
       "  <tbody>\n",
       "    <tr>\n",
       "      <th>0</th>\n",
       "      <td>2.721063</td>\n",
       "      <td>1.731366</td>\n",
       "    </tr>\n",
       "    <tr>\n",
       "      <th>1</th>\n",
       "      <td>2.950122</td>\n",
       "      <td>1.320691</td>\n",
       "    </tr>\n",
       "    <tr>\n",
       "      <th>2</th>\n",
       "      <td>3.210656</td>\n",
       "      <td>1.188615</td>\n",
       "    </tr>\n",
       "    <tr>\n",
       "      <th>3</th>\n",
       "      <td>3.230699</td>\n",
       "      <td>1.271445</td>\n",
       "    </tr>\n",
       "    <tr>\n",
       "      <th>4</th>\n",
       "      <td>3.594663</td>\n",
       "      <td>1.501862</td>\n",
       "    </tr>\n",
       "  </tbody>\n",
       "</table>\n",
       "</div>"
      ],
      "text/plain": [
       "      $\\mu$  $\\sigma$\n",
       "0  2.721063  1.731366\n",
       "1  2.950122  1.320691\n",
       "2  3.210656  1.188615\n",
       "3  3.230699  1.271445\n",
       "4  3.594663  1.501862"
      ]
     },
     "execution_count": 64,
     "metadata": {},
     "output_type": "execute_result"
    }
   ],
   "source": [
    "df[0:5]"
   ]
  },
  {
   "cell_type": "code",
   "execution_count": 65,
   "metadata": {},
   "outputs": [
    {
     "data": {
      "text/plain": [
       "<seaborn.axisgrid.PairGrid at 0x7f0dc18b8b90>"
      ]
     },
     "execution_count": 65,
     "metadata": {},
     "output_type": "execute_result"
    },
    {
     "data": {
      "image/png": "[encoded data removed]",
      "text/plain": [
       "<Figure size 360x360 with 6 Axes>"
      ]
     },
     "metadata": {
      "needs_background": "light"
     },
     "output_type": "display_data"
    }
   ],
   "source": [
    "g=sns.PairGrid(df)\n",
    "g.map_diag(plt.hist)\n",
    "g.map_lower(sns.kdeplot)"
   ]
  },
  {
   "cell_type": "code",
   "execution_count": null,
   "metadata": {},
   "outputs": [],
   "source": []
  }
 ],
 "metadata": {
  "kernelspec": {
   "display_name": "Python 3",
   "language": "python",
   "name": "python3"
  },
  "language_info": {
   "codemirror_mode": {
    "name": "ipython",
    "version": 3
   },
   "file_extension": ".py",
   "mimetype": "text/x-python",
   "name": "python",
   "nbconvert_exporter": "python",
   "pygments_lexer": "ipython3",
   "version": "3.7.6"
  }
 },
 "nbformat": 4,
 "nbformat_minor": 2
}
