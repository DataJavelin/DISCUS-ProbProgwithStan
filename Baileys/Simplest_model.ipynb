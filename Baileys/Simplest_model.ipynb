{
 "cells": [
  {
   "cell_type": "code",
   "execution_count": 1,
   "metadata": {},
   "outputs": [],
   "source": [
    "import pystan\n",
    "import pylab as plt\n",
    "import seaborn as sns\n",
    "import numpy as np\n",
    "%matplotlib inline\n",
    "import pandas as pd\n",
    "import seaborn as sns\n",
    "from matplotlib.transforms import Transform\n",
    "from matplotlib.ticker import (\n",
    "    AutoLocator, AutoMinorLocator)\n",
    "%matplotlib inline"
   ]
  },
  {
   "cell_type": "markdown",
   "metadata": {},
   "source": [
    "# MindLab Model for shelving\n",
    "There are three variables that could effect whether an item is selected, `product_index`, `product` and `price`. \n",
    "\n",
    "$$y_{\\alpha,\\gamma,\\beta}\\sim\\mbox{binomial}\\left( n_{\\alpha,\\gamma, \\beta},p_{\\alpha,\\gamma,\\beta}\\right),\\mbox{ for } j=1,\\dots, J.$$\n",
    "\n",
    "* $y_{\\alpha,\\gamma}$ are the responses to a particular product ($\\alpha$) at a particular price ($\\beta$)and location on shelf ($\\gamma$) i.e. `fit`=1 or `does not fit`=0"
   ]
  },
  {
   "cell_type": "code",
   "execution_count": 5,
   "metadata": {},
   "outputs": [
    {
     "data": {
      "image/png": "[encoded data removed]",
      "text/plain": [
       "<Figure size 590.551x472.441 with 1 Axes>"
      ]
     },
     "metadata": {},
     "output_type": "display_data"
    }
   ],
   "source": [
    "import daft\n",
    "pgm = daft.PGM(shape=(5,4),observed_style=\"inner\",dpi=150)\n",
    "\n",
    "pgm.add_node('p',r'$p_{i,j}$',1.8,2)\n",
    "pgm.add_node('n',r'$n_{i,j}$',2.4,2.5,fixed=True)\n",
    "\n",
    "pgm.add_node('y',r'$y_{i,j}$',2,1.3,observed=True)\n",
    "pgm.add_edge('p','y')\n",
    "pgm.add_edge('n','y')\n",
    "\n",
    "\n",
    "\n",
    "\n",
    "pgm.add_plate([1.5, 0.7, 1, 2.5], label=r\"$i = 1, \\ldots, I$\", shift=-0.1)\n",
    "pgm.add_plate([1.0, 0.2, 1.7, 3.0], label=r\"$j = 1, \\ldots, J$\", shift=-0.1)\n",
    "# Render and save.\n",
    "pgm.render()\n",
    "pgm.show()"
   ]
  },
  {
   "cell_type": "code",
   "execution_count": 6,
   "metadata": {},
   "outputs": [],
   "source": [
    "model=\"\"\"\n",
    "data{\n",
    "int N;\n",
    "int n_abg[N];\n",
    "int y[N];\n",
    "int fit;\n",
    "}\n",
    "\n",
    "parameters {\n",
    "real<lower=0,upper=1.0> p[N];\n",
    "\n",
    "}\n",
    "\n",
    "model{\n",
    "  if (fit > 0){\n",
    "\n",
    "y~binomial(n_abg,p);\n",
    "}\n",
    "}\n",
    "\n",
    "generated quantities {\n",
    "int y_pred[N];\n",
    "for (i in 1:N){\n",
    "y_pred[i]=binomial_rng(n_abg[i], p[i]);\n",
    "}\n",
    "}\n",
    "\"\"\""
   ]
  },
  {
   "cell_type": "code",
   "execution_count": 7,
   "metadata": {},
   "outputs": [
    {
     "name": "stderr",
     "output_type": "stream",
     "text": [
      "INFO:pystan:COMPILING THE C++ CODE FOR MODEL anon_model_d88c6dcafb11f1ba23a30f5f07ef7c23 NOW.\n"
     ]
    }
   ],
   "source": [
    "sm=pystan.StanModel(model_code=model)"
   ]
  },
  {
   "cell_type": "code",
   "execution_count": 8,
   "metadata": {},
   "outputs": [],
   "source": [
    "data={\n",
    "    'N':10,\n",
    "    'n_abg':np.full(10,(100)),\n",
    "    'y':np.full(10,(0)),\n",
    "    'fit':0\n",
    "}"
   ]
  },
  {
   "cell_type": "code",
   "execution_count": 9,
   "metadata": {},
   "outputs": [],
   "source": [
    "fit=sm.sampling(data=data,chains=1,iter=500)"
   ]
  },
  {
   "cell_type": "code",
   "execution_count": 10,
   "metadata": {},
   "outputs": [
    {
     "name": "stderr",
     "output_type": "stream",
     "text": [
      "INFO:pystan:n_eff / iter looks reasonable for all parameters\n",
      "INFO:pystan:Rhat looks reasonable for all parameters\n",
      "INFO:pystan:No divergent transitions found.\n",
      "INFO:pystan:No transitions that ended prematurely due to maximum tree depth limit\n",
      "INFO:pystan:Chain 1: E-BFMI (= 0.865) equals or exceeds threshold of 0.2.\n",
      "INFO:pystan:E-BFMI indicated no pathological behavior\n"
     ]
    },
    {
     "data": {
      "text/plain": [
       "{'n_eff': True,\n",
       " 'Rhat': True,\n",
       " 'divergence': True,\n",
       " 'treedepth': True,\n",
       " 'energy': True}"
      ]
     },
     "execution_count": 10,
     "metadata": {},
     "output_type": "execute_result"
    }
   ],
   "source": [
    "pystan.diagnostics.check_hmc_diagnostics(fit,verbose=3)"
   ]
  },
  {
   "cell_type": "code",
   "execution_count": 11,
   "metadata": {},
   "outputs": [],
   "source": [
    "s=0\n",
    "data={\n",
    "    'N':10,\n",
    "    'n_abg':fit.data['n_abg'],\n",
    "    'y':fit['y_pred'][s,:].astype(int),\n",
    "    'fit':1\n",
    "}"
   ]
  },
  {
   "cell_type": "code",
   "execution_count": 12,
   "metadata": {},
   "outputs": [],
   "source": [
    "fit_prior=sm.sampling(data=data,chains=1,iter=500)"
   ]
  },
  {
   "cell_type": "code",
   "execution_count": 13,
   "metadata": {},
   "outputs": [
    {
     "data": {
      "text/plain": [
       "Inference for Stan model: anon_model_d88c6dcafb11f1ba23a30f5f07ef7c23.\n",
       "1 chains, each with iter=500; warmup=250; thin=1; \n",
       "post-warmup draws per chain=250, total post-warmup draws=250.\n",
       "\n",
       "             mean se_mean     sd   2.5%    25%    50%    75%  97.5%  n_eff   Rhat\n",
       "p[1]         0.02  6.8e-4   0.01 2.5e-3   0.01   0.02   0.03   0.05    407    1.0\n",
       "p[2]         0.37  2.3e-3   0.05   0.28   0.33   0.37   0.41   0.47    452    1.0\n",
       "p[3]         0.02  7.0e-4   0.01 3.5e-3   0.01   0.02   0.03   0.06    360    1.0\n",
       "p[4]         0.58  2.1e-3   0.05   0.49   0.55   0.58   0.61   0.67    491    1.0\n",
       "p[5]         0.98  6.8e-4   0.01   0.95   0.97   0.98   0.99    1.0    319    1.0\n",
       "p[6]       8.9e-3  5.7e-4 9.9e-3 9.9e-5 2.5e-3 5.3e-3   0.01   0.03    297    1.0\n",
       "p[7]         0.52  2.7e-3   0.05   0.42   0.49   0.52   0.55   0.61    352    1.0\n",
       "p[8]         0.19  1.8e-3   0.04   0.12   0.15   0.18   0.21   0.27    518    1.0\n",
       "p[9]         0.37  2.5e-3   0.05   0.26   0.33   0.37    0.4   0.46    426    1.0\n",
       "p[10]        0.22  1.9e-3   0.04   0.15   0.19   0.22   0.25   0.31    501    1.0\n",
       "y_pred[1]    1.85    0.09   1.88    0.0    0.0    1.0    3.0    6.0    413    1.0\n",
       "y_pred[2]   37.15    0.35   7.29   24.0   32.0   37.0   42.0   51.0    436    1.0\n",
       "y_pred[3]    1.97    0.11   2.03    0.0    0.0    2.0    3.0   7.34    341    1.0\n",
       "y_pred[4]   58.28    0.39    7.2   42.0   53.0   59.0   64.0  71.34    335    1.0\n",
       "y_pred[5]   98.06    0.14   1.95   94.0   97.0   99.0  100.0  100.0    209    1.0\n",
       "y_pred[6]    0.82    0.07   1.24    0.0    0.0    0.0    1.0    4.0    280    1.0\n",
       "y_pred[7]   51.76    0.45   7.75   35.0   47.0   52.0   57.0   66.0    302   1.01\n",
       "y_pred[8]    18.8    0.32   5.45   10.0   15.0   18.0   22.0   31.0    284    1.0\n",
       "y_pred[9]   36.81     0.4   6.91   23.0   32.0   37.0   42.0  50.34    300    1.0\n",
       "y_pred[10]  22.24    0.35   5.84   12.0   19.0   22.0   26.0   34.0    274   1.01\n",
       "lp__       -418.2    0.24    2.5 -423.9 -419.7 -417.9 -416.4 -414.5    106   1.03\n",
       "\n",
       "Samples were drawn using NUTS at Wed Feb 26 10:28:27 2020.\n",
       "For each parameter, n_eff is a crude measure of effective sample size,\n",
       "and Rhat is the potential scale reduction factor on split chains (at \n",
       "convergence, Rhat=1)."
      ]
     },
     "execution_count": 13,
     "metadata": {},
     "output_type": "execute_result"
    }
   ],
   "source": [
    "fit_prior"
   ]
  },
  {
   "cell_type": "code",
   "execution_count": 14,
   "metadata": {},
   "outputs": [],
   "source": [
    "p=fit_prior.data['y']/fit.data['n_abg']\n",
    "error=np.sqrt(p*(1-p)/fit.data['n_abg'])"
   ]
  },
  {
   "cell_type": "code",
   "execution_count": 15,
   "metadata": {},
   "outputs": [
    {
     "data": {
      "text/plain": [
       "[<matplotlib.lines.Line2D at 0x7f0ba9818950>]"
      ]
     },
     "execution_count": 15,
     "metadata": {},
     "output_type": "execute_result"
    },
    {
     "data": {
      "image/png": "[encoded data removed]",
      "text/plain": [
       "<Figure size 432x288 with 1 Axes>"
      ]
     },
     "metadata": {
      "needs_background": "light"
     },
     "output_type": "display_data"
    }
   ],
   "source": [
    "plt.errorbar(np.arange(0,10),p,yerr=error,fmt='o')\n",
    "plt.violinplot(fit_prior['p'],positions=np.arange(0,10),showextrema=False);\n",
    "plt.plot(np.arange(0,10),fit['p'][s,:],'o')"
   ]
  },
  {
   "cell_type": "code",
   "execution_count": 16,
   "metadata": {},
   "outputs": [
    {
     "data": {
      "text/plain": [
       "[<matplotlib.lines.Line2D at 0x7f0ba8721790>]"
      ]
     },
     "execution_count": 16,
     "metadata": {},
     "output_type": "execute_result"
    },
    {
     "data": {
      "image/png": "[encoded data removed]",
      "text/plain": [
       "<Figure size 432x288 with 1 Axes>"
      ]
     },
     "metadata": {
      "needs_background": "light"
     },
     "output_type": "display_data"
    }
   ],
   "source": [
    "plt.plot(np.std(fit_prior['p'],axis=0),error,'o')"
   ]
  },
  {
   "cell_type": "code",
   "execution_count": null,
   "metadata": {},
   "outputs": [],
   "source": []
  }
 ],
 "metadata": {
  "kernelspec": {
   "display_name": "Python 3",
   "language": "python",
   "name": "python3"
  },
  "language_info": {
   "codemirror_mode": {
    "name": "ipython",
    "version": 3
   },
   "file_extension": ".py",
   "mimetype": "text/x-python",
   "name": "python",
   "nbconvert_exporter": "python",
   "pygments_lexer": "ipython3",
   "version": "3.7.6"
  }
 },
 "nbformat": 4,
 "nbformat_minor": 2
}
